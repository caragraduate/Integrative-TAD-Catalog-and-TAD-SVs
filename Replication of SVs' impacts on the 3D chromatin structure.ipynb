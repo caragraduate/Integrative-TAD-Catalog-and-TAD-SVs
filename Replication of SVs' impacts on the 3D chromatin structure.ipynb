{
 "cells": [
  {
   "cell_type": "code",
   "execution_count": 1,
   "id": "assumed-opinion",
   "metadata": {},
   "outputs": [],
   "source": [
    "import pandas as pd\n",
    "import numpy as np\n",
    "from scipy.stats import chi2_contingency\n",
    "import matplotlib.pyplot as plt\n",
    "import io\n",
    "import os\n",
    "from scipy.stats import mannwhitneyu\n",
    "from statsmodels.stats.multitest import multipletests"
   ]
  },
  {
   "cell_type": "code",
   "execution_count": 2,
   "id": "advanced-winner",
   "metadata": {},
   "outputs": [],
   "source": [
    "def read_vcf(path):\n",
    "    with open(path, 'r') as f:\n",
    "        lines = [l for l in f if not l.startswith('##')]\n",
    "    return pd.read_csv(\n",
    "        io.StringIO(''.join(lines)),\n",
    "        dtype={'#CHROM': str, 'POS': int, 'ID': str, 'REF': str, 'ALT': str,\n",
    "               'QUAL': str, 'FILTER': str, 'INFO': str},\n",
    "        sep='\\t'\n",
    "    ).rename(columns={'#CHROM': 'CHROM'})"
   ]
  },
  {
   "cell_type": "markdown",
   "id": "outstanding-moore",
   "metadata": {},
   "source": [
    "## hgsvc 9 add 4DN 8 samples "
   ]
  },
  {
   "cell_type": "code",
   "execution_count": 3,
   "id": "pediatric-superior",
   "metadata": {},
   "outputs": [],
   "source": [
    "pangenie_hgsvc_17sample = read_vcf(\"/data/home/tun53987/Hi-C/pangenie_merged_bi_nosnvs_hgsvc_9add8sample.vcf\")"
   ]
  },
  {
   "cell_type": "code",
   "execution_count": 4,
   "id": "inclusive-cooler",
   "metadata": {},
   "outputs": [
    {
     "data": {
      "text/plain": [
       "(1129810, 26)"
      ]
     },
     "execution_count": 4,
     "metadata": {},
     "output_type": "execute_result"
    }
   ],
   "source": [
    "pangenie_hgsvc_17sample.shape"
   ]
  },
  {
   "cell_type": "code",
   "execution_count": 5,
   "id": "direct-segment",
   "metadata": {},
   "outputs": [],
   "source": [
    "pangenie_hgsvc_17sample[['INFO_ID']] = pangenie_hgsvc_17sample['INFO'].str.split(';', expand=True)[2]\n",
    "pangenie_hgsvc_17sample['INFO_ID'] = pangenie_hgsvc_17sample['INFO_ID'].str.lstrip('ID=')"
   ]
  },
  {
   "cell_type": "code",
   "execution_count": 6,
   "id": "miniature-tower",
   "metadata": {},
   "outputs": [],
   "source": [
    "pangenie_DEL_hgsvc17sample = pangenie_hgsvc_17sample[pangenie_hgsvc_17sample['INFO_ID'].str.contains('DEL')]\n",
    "pangenie_INS_hgsvc17sample = pangenie_hgsvc_17sample[pangenie_hgsvc_17sample['INFO_ID'].str.contains('INS')]"
   ]
  },
  {
   "cell_type": "code",
   "execution_count": 7,
   "id": "promotional-comedy",
   "metadata": {},
   "outputs": [],
   "source": [
    "pangenie_hgsvc_17sample[['type']] = pangenie_hgsvc_17sample['INFO_ID'].str.split('-', expand=True)[2]"
   ]
  },
  {
   "cell_type": "code",
   "execution_count": 8,
   "id": "former-genetics",
   "metadata": {},
   "outputs": [
    {
     "data": {
      "text/plain": [
       "DEL    672432\n",
       "INS    457378\n",
       "dtype: int64"
      ]
     },
     "execution_count": 8,
     "metadata": {},
     "output_type": "execute_result"
    }
   ],
   "source": [
    "col_list = pangenie_hgsvc_17sample['type'].values.tolist()\n",
    "pd.Series(col_list).value_counts()"
   ]
  },
  {
   "cell_type": "markdown",
   "id": "caring-toddler",
   "metadata": {},
   "source": [
    "#### deletions"
   ]
  },
  {
   "cell_type": "code",
   "execution_count": 9,
   "id": "turned-unknown",
   "metadata": {},
   "outputs": [],
   "source": [
    "pangenie_DEL_hgsvc17sample_new = pangenie_DEL_hgsvc17sample[[\n",
    " 'CHROM','FILTER', 'INFO_ID', 'FORMAT', 'HG00512','HG00513','HG00514','HG00731','HG00732','HG00733','NA19238','NA19239','NA19240','NA18507','NA18505','NA18508','NA18486','NA19099','NA19141','NA18516','NA18522'\n",
    "     ]]"
   ]
  },
  {
   "cell_type": "code",
   "execution_count": 10,
   "id": "finished-shame",
   "metadata": {},
   "outputs": [
    {
     "name": "stderr",
     "output_type": "stream",
     "text": [
      "/home/tun53987/.local/lib/python3.7/site-packages/ipykernel_launcher.py:2: SettingWithCopyWarning: \n",
      "A value is trying to be set on a copy of a slice from a DataFrame.\n",
      "Try using .loc[row_indexer,col_indexer] = value instead\n",
      "\n",
      "See the caveats in the documentation: https://pandas.pydata.org/pandas-docs/stable/user_guide/indexing.html#returning-a-view-versus-a-copy\n",
      "  \n"
     ]
    }
   ],
   "source": [
    "for col in pangenie_DEL_hgsvc17sample_new.iloc[:, 4:]:\n",
    "    pangenie_DEL_hgsvc17sample_new[col] = pangenie_DEL_hgsvc17sample_new[col].str[:3]"
   ]
  },
  {
   "cell_type": "code",
   "execution_count": 11,
   "id": "restricted-calcium",
   "metadata": {},
   "outputs": [
    {
     "name": "stderr",
     "output_type": "stream",
     "text": [
      "/home/tun53987/.local/lib/python3.7/site-packages/pandas/core/indexing.py:1637: SettingWithCopyWarning: \n",
      "A value is trying to be set on a copy of a slice from a DataFrame\n",
      "\n",
      "See the caveats in the documentation: https://pandas.pydata.org/pandas-docs/stable/user_guide/indexing.html#returning-a-view-versus-a-copy\n",
      "  self._setitem_single_block(indexer, value, name)\n",
      "/home/tun53987/.local/lib/python3.7/site-packages/pandas/core/indexing.py:692: SettingWithCopyWarning: \n",
      "A value is trying to be set on a copy of a slice from a DataFrame\n",
      "\n",
      "See the caveats in the documentation: https://pandas.pydata.org/pandas-docs/stable/user_guide/indexing.html#returning-a-view-versus-a-copy\n",
      "  iloc._setitem_with_indexer(indexer, value, self.name)\n"
     ]
    }
   ],
   "source": [
    "for col in pangenie_DEL_hgsvc17sample_new.columns:\n",
    "    pangenie_DEL_hgsvc17sample_new.loc[pangenie_DEL_hgsvc17sample_new[col].astype(str).str.startswith('0/0'), col] = '0'\n",
    "    pangenie_DEL_hgsvc17sample_new.loc[pangenie_DEL_hgsvc17sample_new[col].astype(str).str.startswith('.:.'), col] = '0'\n",
    "    pangenie_DEL_hgsvc17sample_new.loc[pangenie_DEL_hgsvc17sample_new[col].astype(str).str.startswith('0/1'), col] = '1'\n",
    "    pangenie_DEL_hgsvc17sample_new.loc[pangenie_DEL_hgsvc17sample_new[col].astype(str).str.startswith('1/0'), col] = '1'\n",
    "    pangenie_DEL_hgsvc17sample_new.loc[pangenie_DEL_hgsvc17sample_new[col].astype(str).str.startswith('1/1'), col] = '1'"
   ]
  },
  {
   "cell_type": "code",
   "execution_count": 12,
   "id": "seasonal-ethics",
   "metadata": {},
   "outputs": [
    {
     "data": {
      "text/plain": [
       "(672432, 21)"
      ]
     },
     "execution_count": 12,
     "metadata": {},
     "output_type": "execute_result"
    }
   ],
   "source": [
    "pangenie_DEL_hgsvc17sample_new.shape"
   ]
  },
  {
   "cell_type": "code",
   "execution_count": 13,
   "id": "executed-twelve",
   "metadata": {},
   "outputs": [
    {
     "name": "stderr",
     "output_type": "stream",
     "text": [
      "/home/tun53987/.local/lib/python3.7/site-packages/ipykernel_launcher.py:2: SettingWithCopyWarning: \n",
      "A value is trying to be set on a copy of a slice from a DataFrame.\n",
      "Try using .loc[row_indexer,col_indexer] = value instead\n",
      "\n",
      "See the caveats in the documentation: https://pandas.pydata.org/pandas-docs/stable/user_guide/indexing.html#returning-a-view-versus-a-copy\n",
      "  \n",
      "/home/tun53987/.local/lib/python3.7/site-packages/ipykernel_launcher.py:5: SettingWithCopyWarning: \n",
      "A value is trying to be set on a copy of a slice from a DataFrame.\n",
      "Try using .loc[row_indexer,col_indexer] = value instead\n",
      "\n",
      "See the caveats in the documentation: https://pandas.pydata.org/pandas-docs/stable/user_guide/indexing.html#returning-a-view-versus-a-copy\n",
      "  \"\"\"\n",
      "/home/tun53987/.local/lib/python3.7/site-packages/ipykernel_launcher.py:6: SettingWithCopyWarning: \n",
      "A value is trying to be set on a copy of a slice from a DataFrame.\n",
      "Try using .loc[row_indexer,col_indexer] = value instead\n",
      "\n",
      "See the caveats in the documentation: https://pandas.pydata.org/pandas-docs/stable/user_guide/indexing.html#returning-a-view-versus-a-copy\n",
      "  \n",
      "/home/tun53987/.local/lib/python3.7/site-packages/ipykernel_launcher.py:7: SettingWithCopyWarning: \n",
      "A value is trying to be set on a copy of a slice from a DataFrame.\n",
      "Try using .loc[row_indexer,col_indexer] = value instead\n",
      "\n",
      "See the caveats in the documentation: https://pandas.pydata.org/pandas-docs/stable/user_guide/indexing.html#returning-a-view-versus-a-copy\n",
      "  import sys\n"
     ]
    }
   ],
   "source": [
    "pangenie_DEL_hgsvc17sample_new.iloc[:,4: ] = pangenie_DEL_hgsvc17sample_new.iloc[:,4: ].astype(str).astype(int)\n",
    "pangenie_DEL_hgsvc17sample_new['Sum']=pangenie_DEL_hgsvc17sample_new.iloc[:,4: ].sum(axis=1)\n",
    "#pangenie_DEL_hgsvc17sample_new_atleast1 = pangenie_DEL_hgsvc17sample_new[pangenie_DEL_hgsvc17sample_new['Sum'].astype(int) >= 3]\n",
    "pangenie_DEL_hgsvc17sample_new_atleast1 = pangenie_DEL_hgsvc17sample_new[pangenie_DEL_hgsvc17sample_new['Sum'].astype(int) >= 5]\n",
    "pangenie_DEL_hgsvc17sample_new_atleast1['START_POS'] = pangenie_DEL_hgsvc17sample_new_atleast1['INFO_ID'].str.split('-', expand=True)[1]\n",
    "pangenie_DEL_hgsvc17sample_new_atleast1['TYPE'] = pangenie_DEL_hgsvc17sample_new_atleast1['INFO_ID'].str.split('-', expand=True)[2]\n",
    "pangenie_DEL_hgsvc17sample_new_atleast1['LEN'] = pangenie_DEL_hgsvc17sample_new_atleast1['INFO_ID'].str.split('-', expand=True)[3]"
   ]
  },
  {
   "cell_type": "code",
   "execution_count": 14,
   "id": "hispanic-niagara",
   "metadata": {},
   "outputs": [
    {
     "data": {
      "text/plain": [
       "(227073, 25)"
      ]
     },
     "execution_count": 14,
     "metadata": {},
     "output_type": "execute_result"
    }
   ],
   "source": [
    "pangenie_DEL_hgsvc17sample_new_atleast1.shape"
   ]
  },
  {
   "cell_type": "code",
   "execution_count": 15,
   "id": "acquired-allah",
   "metadata": {},
   "outputs": [
    {
     "name": "stderr",
     "output_type": "stream",
     "text": [
      "/home/tun53987/.local/lib/python3.7/site-packages/pandas/core/indexing.py:1754: SettingWithCopyWarning: \n",
      "A value is trying to be set on a copy of a slice from a DataFrame.\n",
      "Try using .loc[row_indexer,col_indexer] = value instead\n",
      "\n",
      "See the caveats in the documentation: https://pandas.pydata.org/pandas-docs/stable/user_guide/indexing.html#returning-a-view-versus-a-copy\n",
      "  self._setitem_single_column(loc, val, pi)\n",
      "/home/tun53987/.local/lib/python3.7/site-packages/ipykernel_launcher.py:3: SettingWithCopyWarning: \n",
      "A value is trying to be set on a copy of a slice from a DataFrame.\n",
      "Try using .loc[row_indexer,col_indexer] = value instead\n",
      "\n",
      "See the caveats in the documentation: https://pandas.pydata.org/pandas-docs/stable/user_guide/indexing.html#returning-a-view-versus-a-copy\n",
      "  This is separate from the ipykernel package so we can avoid doing imports until\n"
     ]
    }
   ],
   "source": [
    "pangenie_DEL_hgsvc17sample_new_atleast1.iloc[:,[22,24]] = pangenie_DEL_hgsvc17sample_new_atleast1.iloc[:,[22,24]].astype(str).astype(int)\n",
    "# VCF files in fact are providing a single 1-based position for a variant, end = start + len -1\n",
    "pangenie_DEL_hgsvc17sample_new_atleast1['END_POS'] = pangenie_DEL_hgsvc17sample_new_atleast1['START_POS'] + pangenie_DEL_hgsvc17sample_new_atleast1['LEN']-1\n",
    "pangenie_DEL_hgsvc17sample_new_atleast1 = pangenie_DEL_hgsvc17sample_new_atleast1[[\n",
    "'CHROM', 'START_POS','END_POS', 'TYPE','LEN', 'FILTER', 'INFO_ID', 'FORMAT', 'HG00512','HG00513','HG00514','HG00731','HG00732','HG00733','NA19238','NA19239','NA19240','NA18507','NA18505','NA18508','NA18486','NA19099','NA19141','NA18516','NA18522', 'Sum'\n",
    "    ]]"
   ]
  },
  {
   "cell_type": "code",
   "execution_count": 16,
   "id": "random-reproduction",
   "metadata": {},
   "outputs": [
    {
     "data": {
      "text/plain": [
       "(12132, 26)"
      ]
     },
     "execution_count": 16,
     "metadata": {},
     "output_type": "execute_result"
    }
   ],
   "source": [
    "pangenie_DEL_hgsvc17sample_new_atleast1_50 = pangenie_DEL_hgsvc17sample_new_atleast1[pangenie_DEL_hgsvc17sample_new_atleast1['LEN'] >= 50]\n",
    "pangenie_DEL_hgsvc17sample_new_atleast1_50.shape"
   ]
  },
  {
   "cell_type": "code",
   "execution_count": 17,
   "id": "freelance-caribbean",
   "metadata": {},
   "outputs": [
    {
     "data": {
      "text/plain": [
       "(10573, 26)"
      ]
     },
     "execution_count": 17,
     "metadata": {},
     "output_type": "execute_result"
    }
   ],
   "source": [
    "pangenie_DEL_hgsvc17sample_new_atleast1_50_zero = pangenie_DEL_hgsvc17sample_new_atleast1_50[pangenie_DEL_hgsvc17sample_new_atleast1_50.iloc[:, 8:].eq(0).any(1)]\n",
    "pangenie_DEL_hgsvc17sample_new_atleast1_50_zero.shape"
   ]
  },
  {
   "cell_type": "code",
   "execution_count": 18,
   "id": "removed-sword",
   "metadata": {},
   "outputs": [
    {
     "data": {
      "text/plain": [
       "(10573, 4)"
      ]
     },
     "execution_count": 18,
     "metadata": {},
     "output_type": "execute_result"
    }
   ],
   "source": [
    "pangenie_DEL_hgsvc17sample_new_atleast1_50_start_end = pangenie_DEL_hgsvc17sample_new_atleast1_50_zero[['CHROM', 'START_POS', 'END_POS', 'INFO_ID']]\n",
    "pangenie_DEL_hgsvc17sample_new_atleast1_50_start_end.shape"
   ]
  },
  {
   "cell_type": "markdown",
   "id": "western-threshold",
   "metadata": {},
   "source": [
    "#### insertions"
   ]
  },
  {
   "cell_type": "code",
   "execution_count": 19,
   "id": "signal-concentrate",
   "metadata": {},
   "outputs": [],
   "source": [
    "pangenie_INS_hgsvc17sample_new = pangenie_INS_hgsvc17sample[[\n",
    " 'CHROM','FILTER', 'INFO_ID', 'FORMAT', 'HG00512','HG00513','HG00514','HG00731','HG00732','HG00733','NA19238','NA19239','NA19240','NA18507','NA18505','NA18508','NA18486','NA19099','NA19141','NA18516','NA18522'\n",
    "     ]]"
   ]
  },
  {
   "cell_type": "code",
   "execution_count": 20,
   "id": "powered-marshall",
   "metadata": {},
   "outputs": [
    {
     "name": "stderr",
     "output_type": "stream",
     "text": [
      "/home/tun53987/.local/lib/python3.7/site-packages/ipykernel_launcher.py:2: SettingWithCopyWarning: \n",
      "A value is trying to be set on a copy of a slice from a DataFrame.\n",
      "Try using .loc[row_indexer,col_indexer] = value instead\n",
      "\n",
      "See the caveats in the documentation: https://pandas.pydata.org/pandas-docs/stable/user_guide/indexing.html#returning-a-view-versus-a-copy\n",
      "  \n"
     ]
    }
   ],
   "source": [
    "for col in pangenie_INS_hgsvc17sample_new.iloc[:, 4:]:\n",
    "    pangenie_INS_hgsvc17sample_new[col] = pangenie_INS_hgsvc17sample_new[col].str[:3]"
   ]
  },
  {
   "cell_type": "code",
   "execution_count": 21,
   "id": "general-housing",
   "metadata": {},
   "outputs": [
    {
     "name": "stderr",
     "output_type": "stream",
     "text": [
      "/home/tun53987/.local/lib/python3.7/site-packages/pandas/core/indexing.py:1637: SettingWithCopyWarning: \n",
      "A value is trying to be set on a copy of a slice from a DataFrame\n",
      "\n",
      "See the caveats in the documentation: https://pandas.pydata.org/pandas-docs/stable/user_guide/indexing.html#returning-a-view-versus-a-copy\n",
      "  self._setitem_single_block(indexer, value, name)\n",
      "/home/tun53987/.local/lib/python3.7/site-packages/pandas/core/indexing.py:692: SettingWithCopyWarning: \n",
      "A value is trying to be set on a copy of a slice from a DataFrame\n",
      "\n",
      "See the caveats in the documentation: https://pandas.pydata.org/pandas-docs/stable/user_guide/indexing.html#returning-a-view-versus-a-copy\n",
      "  iloc._setitem_with_indexer(indexer, value, self.name)\n"
     ]
    }
   ],
   "source": [
    "for col in pangenie_INS_hgsvc17sample_new.columns:\n",
    "    pangenie_INS_hgsvc17sample_new.loc[pangenie_INS_hgsvc17sample_new[col].astype(str).str.startswith('0/0'), col] = '0'\n",
    "    pangenie_INS_hgsvc17sample_new.loc[pangenie_INS_hgsvc17sample_new[col].astype(str).str.startswith('.:.'), col] = '0'\n",
    "    pangenie_INS_hgsvc17sample_new.loc[pangenie_INS_hgsvc17sample_new[col].astype(str).str.startswith('0/1'), col] = '1'\n",
    "    pangenie_INS_hgsvc17sample_new.loc[pangenie_INS_hgsvc17sample_new[col].astype(str).str.startswith('1/0'), col] = '1'\n",
    "    pangenie_INS_hgsvc17sample_new.loc[pangenie_INS_hgsvc17sample_new[col].astype(str).str.startswith('1/1'), col] = '1'"
   ]
  },
  {
   "cell_type": "code",
   "execution_count": 22,
   "id": "recognized-belief",
   "metadata": {},
   "outputs": [
    {
     "name": "stderr",
     "output_type": "stream",
     "text": [
      "/home/tun53987/.local/lib/python3.7/site-packages/ipykernel_launcher.py:2: SettingWithCopyWarning: \n",
      "A value is trying to be set on a copy of a slice from a DataFrame.\n",
      "Try using .loc[row_indexer,col_indexer] = value instead\n",
      "\n",
      "See the caveats in the documentation: https://pandas.pydata.org/pandas-docs/stable/user_guide/indexing.html#returning-a-view-versus-a-copy\n",
      "  \n",
      "/home/tun53987/.local/lib/python3.7/site-packages/ipykernel_launcher.py:5: SettingWithCopyWarning: \n",
      "A value is trying to be set on a copy of a slice from a DataFrame.\n",
      "Try using .loc[row_indexer,col_indexer] = value instead\n",
      "\n",
      "See the caveats in the documentation: https://pandas.pydata.org/pandas-docs/stable/user_guide/indexing.html#returning-a-view-versus-a-copy\n",
      "  \"\"\"\n",
      "/home/tun53987/.local/lib/python3.7/site-packages/ipykernel_launcher.py:6: SettingWithCopyWarning: \n",
      "A value is trying to be set on a copy of a slice from a DataFrame.\n",
      "Try using .loc[row_indexer,col_indexer] = value instead\n",
      "\n",
      "See the caveats in the documentation: https://pandas.pydata.org/pandas-docs/stable/user_guide/indexing.html#returning-a-view-versus-a-copy\n",
      "  \n",
      "/home/tun53987/.local/lib/python3.7/site-packages/ipykernel_launcher.py:7: SettingWithCopyWarning: \n",
      "A value is trying to be set on a copy of a slice from a DataFrame.\n",
      "Try using .loc[row_indexer,col_indexer] = value instead\n",
      "\n",
      "See the caveats in the documentation: https://pandas.pydata.org/pandas-docs/stable/user_guide/indexing.html#returning-a-view-versus-a-copy\n",
      "  import sys\n"
     ]
    }
   ],
   "source": [
    "pangenie_INS_hgsvc17sample_new.iloc[:,4: ] = pangenie_INS_hgsvc17sample_new.iloc[:,4: ].astype(str).astype(int)\n",
    "pangenie_INS_hgsvc17sample_new['Sum']=pangenie_INS_hgsvc17sample_new.iloc[:,4: ].sum(axis=1)\n",
    "#pangenie_INS_hgsvc17sample_new_atleast1 = pangenie_INS_hgsvc17sample_new[pangenie_INS_hgsvc17sample_new['Sum'].astype(int) >= 3]\n",
    "pangenie_INS_hgsvc17sample_new_atleast1 = pangenie_INS_hgsvc17sample_new[pangenie_INS_hgsvc17sample_new['Sum'].astype(int) >= 5]\n",
    "pangenie_INS_hgsvc17sample_new_atleast1['START_POS'] = pangenie_INS_hgsvc17sample_new_atleast1['INFO_ID'].str.split('-', expand=True)[1]\n",
    "pangenie_INS_hgsvc17sample_new_atleast1['TYPE'] = pangenie_INS_hgsvc17sample_new_atleast1['INFO_ID'].str.split('-', expand=True)[2]\n",
    "pangenie_INS_hgsvc17sample_new_atleast1['LEN'] = pangenie_INS_hgsvc17sample_new_atleast1['INFO_ID'].str.split('-', expand=True)[3]"
   ]
  },
  {
   "cell_type": "code",
   "execution_count": 23,
   "id": "suburban-cooperation",
   "metadata": {},
   "outputs": [
    {
     "name": "stderr",
     "output_type": "stream",
     "text": [
      "/home/tun53987/.local/lib/python3.7/site-packages/pandas/core/indexing.py:1754: SettingWithCopyWarning: \n",
      "A value is trying to be set on a copy of a slice from a DataFrame.\n",
      "Try using .loc[row_indexer,col_indexer] = value instead\n",
      "\n",
      "See the caveats in the documentation: https://pandas.pydata.org/pandas-docs/stable/user_guide/indexing.html#returning-a-view-versus-a-copy\n",
      "  self._setitem_single_column(loc, val, pi)\n",
      "/home/tun53987/.local/lib/python3.7/site-packages/ipykernel_launcher.py:2: SettingWithCopyWarning: \n",
      "A value is trying to be set on a copy of a slice from a DataFrame.\n",
      "Try using .loc[row_indexer,col_indexer] = value instead\n",
      "\n",
      "See the caveats in the documentation: https://pandas.pydata.org/pandas-docs/stable/user_guide/indexing.html#returning-a-view-versus-a-copy\n",
      "  \n"
     ]
    }
   ],
   "source": [
    "pangenie_INS_hgsvc17sample_new_atleast1.iloc[:,[22,24]] = pangenie_INS_hgsvc17sample_new_atleast1.iloc[:,[22,24]].astype(str).astype(int)\n",
    "pangenie_INS_hgsvc17sample_new_atleast1['END_POS'] = pangenie_INS_hgsvc17sample_new_atleast1['START_POS']\n",
    "pangenie_INS_hgsvc17sample_new_atleast1_new = pangenie_INS_hgsvc17sample_new_atleast1[[\n",
    "'CHROM', 'START_POS','END_POS', 'TYPE','LEN', 'FILTER', 'INFO_ID', 'FORMAT', 'HG00512','HG00513','HG00514','HG00731','HG00732','HG00733','NA19238','NA19239','NA19240','NA18507','NA18505','NA18508','NA18486','NA19099','NA19141','NA18516','NA18522', 'Sum'\n",
    "    ]]"
   ]
  },
  {
   "cell_type": "code",
   "execution_count": 24,
   "id": "ideal-receiver",
   "metadata": {},
   "outputs": [
    {
     "data": {
      "text/plain": [
       "(17056, 26)"
      ]
     },
     "execution_count": 24,
     "metadata": {},
     "output_type": "execute_result"
    }
   ],
   "source": [
    "pangenie_INS_hgsvc17sample_new_atleast1_50 = pangenie_INS_hgsvc17sample_new_atleast1_new[pangenie_INS_hgsvc17sample_new_atleast1_new['LEN'] >= 50]\n",
    "pangenie_INS_hgsvc17sample_new_atleast1_50.shape"
   ]
  },
  {
   "cell_type": "code",
   "execution_count": 25,
   "id": "super-nashville",
   "metadata": {},
   "outputs": [
    {
     "data": {
      "text/plain": [
       "(14030, 26)"
      ]
     },
     "execution_count": 25,
     "metadata": {},
     "output_type": "execute_result"
    }
   ],
   "source": [
    "pangenie_INS_hgsvc17sample_new_atleast1_50_zero = pangenie_INS_hgsvc17sample_new_atleast1_50[pangenie_INS_hgsvc17sample_new_atleast1_50.iloc[:, 8:].eq(0).any(1)]\n",
    "pangenie_INS_hgsvc17sample_new_atleast1_50_zero.shape"
   ]
  },
  {
   "cell_type": "code",
   "execution_count": 26,
   "id": "original-pollution",
   "metadata": {},
   "outputs": [
    {
     "data": {
      "text/plain": [
       "(14030, 4)"
      ]
     },
     "execution_count": 26,
     "metadata": {},
     "output_type": "execute_result"
    }
   ],
   "source": [
    "pangenie_INS_hgsvc17sample_new_atleast1_50_start_end = pangenie_INS_hgsvc17sample_new_atleast1_50_zero[['CHROM', 'START_POS', 'END_POS', 'INFO_ID']]\n",
    "pangenie_INS_hgsvc17sample_new_atleast1_50_start_end.shape"
   ]
  },
  {
   "cell_type": "markdown",
   "id": "worthy-bubble",
   "metadata": {},
   "source": [
    "## SVs' impact on boundary strength"
   ]
  },
  {
   "cell_type": "code",
   "execution_count": 27,
   "id": "personalized-somerset",
   "metadata": {},
   "outputs": [],
   "source": [
    "#all_DEL_merged = pd.read_csv('/home/tun53987/Hi-C/experiment_mergeall_new/mega/aligned/fanc_insulation_SCALE/all_DEL_hgsvc17merged_cutoff_flank_inter30_5kb_boundaries_100kb_only01_atleast3_new10kb.bed', sep='\\t', header=None)\n",
    "all_DEL_merged = pd.read_csv('/home/tun53987/Hi-C/experiment_mergeall_new/mega/aligned/fanc_insulation_SCALE/all_DEL_hgsvc17merged_cutoff_flank_inter30_5kb_boundaries_100kb_only01_atleast5_new10kb.bed', sep='\\t', header=None)\n",
    "all_DEL_merged.columns =['CHROM', 'START_POS', 'END_POS', 'INFO_ID', 'BOUND_CHR', 'FLANK_START', 'FLANK_END', 'BOUND_SCORE']"
   ]
  },
  {
   "cell_type": "code",
   "execution_count": 28,
   "id": "reliable-fifth",
   "metadata": {},
   "outputs": [
    {
     "data": {
      "text/plain": [
       "(10615, 8)"
      ]
     },
     "execution_count": 28,
     "metadata": {},
     "output_type": "execute_result"
    }
   ],
   "source": [
    "all_DEL_merged.shape"
   ]
  },
  {
   "cell_type": "code",
   "execution_count": 29,
   "id": "sixth-provision",
   "metadata": {},
   "outputs": [],
   "source": [
    "#all_INS_merged = pd.read_csv('/home/tun53987/Hi-C/experiment_mergeall_new/mega/aligned/fanc_insulation_SCALE/all_INS_hgsvc17merged_cutoff_flank_inter30_5kb_boundaries_100kb_only01_atleast3_new10kb.bed', sep='\\t', header=None)\n",
    "all_INS_merged = pd.read_csv('/home/tun53987/Hi-C/experiment_mergeall_new/mega/aligned/fanc_insulation_SCALE/all_INS_hgsvc17merged_cutoff_flank_inter30_5kb_boundaries_100kb_only01_atleast5_new10kb.bed', sep='\\t', header=None)\n",
    "all_INS_merged.columns =['CHROM', 'START_POS', 'END_POS', 'INFO_ID', 'BOUND_CHR', 'FLANK_START', 'FLANK_END', 'BOUND_SCORE']"
   ]
  },
  {
   "cell_type": "code",
   "execution_count": 30,
   "id": "conventional-museum",
   "metadata": {},
   "outputs": [
    {
     "data": {
      "text/plain": [
       "(14067, 8)"
      ]
     },
     "execution_count": 30,
     "metadata": {},
     "output_type": "execute_result"
    }
   ],
   "source": [
    "all_INS_merged.shape"
   ]
  },
  {
   "cell_type": "code",
   "execution_count": 31,
   "id": "stainless-variable",
   "metadata": {},
   "outputs": [
    {
     "data": {
      "text/plain": [
       "(1519, 8)"
      ]
     },
     "execution_count": 31,
     "metadata": {},
     "output_type": "execute_result"
    }
   ],
   "source": [
    "all_DEL_boundary_1 = all_DEL_merged.loc[all_DEL_merged.iloc[:, 4] != '.']\n",
    "all_DEL_boundary_2 = all_DEL_boundary_1.reset_index(drop=True)\n",
    "all_DEL_boundary_2.shape"
   ]
  },
  {
   "cell_type": "code",
   "execution_count": 32,
   "id": "prescription-smell",
   "metadata": {},
   "outputs": [
    {
     "data": {
      "text/plain": [
       "(2123, 8)"
      ]
     },
     "execution_count": 32,
     "metadata": {},
     "output_type": "execute_result"
    }
   ],
   "source": [
    "all_INS_boundary_1 = all_INS_merged.loc[all_INS_merged.iloc[:, 4] != '.']\n",
    "all_INS_boundary_2 = all_INS_boundary_1.reset_index(drop=True)\n",
    "all_INS_boundary_2.shape"
   ]
  },
  {
   "cell_type": "code",
   "execution_count": 33,
   "id": "southwest-summer",
   "metadata": {},
   "outputs": [],
   "source": [
    "sample_ids = ['HG00512','HG00513','HG00514_1','HG00731','HG00732','HG00733_1','NA19238','NA19239','NA19240_1',\n",
    "              'GM18507','GM18505','GM18508','GM18486','GM19099','GM19141','GM18516','GM18522']\n",
    "file_directory = '/home/tun53987/Hi-C'\n",
    "import glob\n",
    "for i in sample_ids:\n",
    "    file_pattern = os.path.join(file_directory, f\"*_{i}/aligned/fanc_insulation_SCALE_new/BS_cutoff_inter30_10kb.boundaries_100kb_new10kb.bed\")\n",
    "    sample_file = glob.glob(file_pattern)\n",
    "    sample_merged_BS = pd.read_csv(sample_file[0], sep='\\t', header=None)\n",
    "    sample_merged_BS =sample_merged_BS[[0, 1, 2, 3, 4, 5, 6, 8]]\n",
    "    sample_merged_BS.columns =['BOUND_CHR', 'FLANK_START', 'FLANK_END', 'BOUND_SCORE','BOUND_CHR_samp', 'BOUND_START_samp', 'BOUND_END_samp', 'BOUND_SCORE_samp']\n",
    "    sample_merged_BS_1 = sample_merged_BS.groupby(['BOUND_CHR', 'FLANK_START', 'FLANK_END'], as_index=False)['BOUND_SCORE_samp'].median()\n",
    "    all_DEL_boundary_2[i] = all_DEL_boundary_2.merge(sample_merged_BS_1, how=\"left\", left_on=[\"BOUND_CHR\", \"FLANK_START\", \"FLANK_END\"], right_on=[\"BOUND_CHR\", \"FLANK_START\", \"FLANK_END\"])['BOUND_SCORE_samp']\n",
    "    all_INS_boundary_2[i] = all_INS_boundary_2.merge(sample_merged_BS_1, how=\"left\", left_on=[\"BOUND_CHR\", \"FLANK_START\", \"FLANK_END\"], right_on=[\"BOUND_CHR\", \"FLANK_START\", \"FLANK_END\"])['BOUND_SCORE_samp']"
   ]
  },
  {
   "cell_type": "code",
   "execution_count": 34,
   "id": "fresh-platinum",
   "metadata": {},
   "outputs": [
    {
     "data": {
      "text/plain": [
       "(1519, 25)"
      ]
     },
     "execution_count": 34,
     "metadata": {},
     "output_type": "execute_result"
    }
   ],
   "source": [
    "all_DEL_boundary_2.shape"
   ]
  },
  {
   "cell_type": "code",
   "execution_count": 35,
   "id": "significant-academy",
   "metadata": {},
   "outputs": [
    {
     "data": {
      "text/plain": [
       "(2123, 25)"
      ]
     },
     "execution_count": 35,
     "metadata": {},
     "output_type": "execute_result"
    }
   ],
   "source": [
    "all_INS_boundary_2.shape"
   ]
  },
  {
   "cell_type": "markdown",
   "id": "removed-lingerie",
   "metadata": {},
   "source": [
    "#### Mann-Whitney U test for genotypes and boundary BS"
   ]
  },
  {
   "cell_type": "code",
   "execution_count": 36,
   "id": "romance-thriller",
   "metadata": {},
   "outputs": [],
   "source": [
    "all_DEL_boundary_2['num_NaNs'] = all_DEL_boundary_2.iloc[:, 8:].astype(float).isna().sum(1)\n",
    "all_INS_boundary_2['num_NaNs'] = all_INS_boundary_2.iloc[:, 8:].astype(float).isna().sum(1)"
   ]
  },
  {
   "cell_type": "code",
   "execution_count": 37,
   "id": "bigger-script",
   "metadata": {},
   "outputs": [
    {
     "data": {
      "text/plain": [
       "17"
      ]
     },
     "execution_count": 37,
     "metadata": {},
     "output_type": "execute_result"
    }
   ],
   "source": [
    "all_DEL_boundary_2['num_NaNs'].max()"
   ]
  },
  {
   "cell_type": "code",
   "execution_count": 38,
   "id": "confirmed-islam",
   "metadata": {},
   "outputs": [
    {
     "data": {
      "text/plain": [
       "17"
      ]
     },
     "execution_count": 38,
     "metadata": {},
     "output_type": "execute_result"
    }
   ],
   "source": [
    "all_INS_boundary_2['num_NaNs'].max()"
   ]
  },
  {
   "cell_type": "code",
   "execution_count": 39,
   "id": "buried-contents",
   "metadata": {},
   "outputs": [],
   "source": [
    "# all_DEL_boundary_2_noNA = all_DEL_boundary_2[all_DEL_boundary_2.num_NaNs <= 12]\n",
    "# all_INS_boundary_2_noNA = all_INS_boundary_2[all_INS_boundary_2.num_NaNs <= 12]\n",
    "all_DEL_boundary_2_noNA = all_DEL_boundary_2[all_DEL_boundary_2.num_NaNs < 17]\n",
    "all_INS_boundary_2_noNA = all_INS_boundary_2[all_INS_boundary_2.num_NaNs < 17]"
   ]
  },
  {
   "cell_type": "code",
   "execution_count": 40,
   "id": "lovely-chambers",
   "metadata": {},
   "outputs": [
    {
     "data": {
      "text/plain": [
       "(1292, 26)"
      ]
     },
     "execution_count": 40,
     "metadata": {},
     "output_type": "execute_result"
    }
   ],
   "source": [
    "# Replace NaN Values with Zeros, because those NA boundary scores mean there is no boundary, so we can changed them to zero\n",
    "all_DEL_boundary_3 = all_DEL_boundary_2_noNA.fillna(0).drop_duplicates()\n",
    "all_DEL_boundary_3.shape"
   ]
  },
  {
   "cell_type": "code",
   "execution_count": 41,
   "id": "suspected-version",
   "metadata": {},
   "outputs": [
    {
     "data": {
      "text/plain": [
       "(1809, 26)"
      ]
     },
     "execution_count": 41,
     "metadata": {},
     "output_type": "execute_result"
    }
   ],
   "source": [
    "# Replace NaN Values with Zeros\n",
    "all_INS_boundary_3 = all_INS_boundary_2_noNA.fillna(0).drop_duplicates()\n",
    "all_INS_boundary_3.shape"
   ]
  },
  {
   "cell_type": "code",
   "execution_count": 42,
   "id": "obvious-oriental",
   "metadata": {},
   "outputs": [
    {
     "data": {
      "text/plain": [
       "(1292, 26)"
      ]
     },
     "execution_count": 42,
     "metadata": {},
     "output_type": "execute_result"
    }
   ],
   "source": [
    "all_DEL_boundary_3 = all_DEL_boundary_3.reset_index(drop=True)\n",
    "all_DEL_boundary_3.shape"
   ]
  },
  {
   "cell_type": "code",
   "execution_count": 43,
   "id": "incident-vertical",
   "metadata": {},
   "outputs": [
    {
     "data": {
      "text/plain": [
       "(1809, 26)"
      ]
     },
     "execution_count": 43,
     "metadata": {},
     "output_type": "execute_result"
    }
   ],
   "source": [
    "all_INS_boundary_3 = all_INS_boundary_3.reset_index(drop=True)\n",
    "all_INS_boundary_3.shape"
   ]
  },
  {
   "cell_type": "code",
   "execution_count": 44,
   "id": "mighty-diameter",
   "metadata": {},
   "outputs": [
    {
     "data": {
      "text/plain": [
       "1269"
      ]
     },
     "execution_count": 44,
     "metadata": {},
     "output_type": "execute_result"
    }
   ],
   "source": [
    "all_DEL_boundary_id = list(all_DEL_boundary_3['INFO_ID'])\n",
    "DEL_list = list(set(all_DEL_boundary_id))\n",
    "len(DEL_list)"
   ]
  },
  {
   "cell_type": "code",
   "execution_count": 45,
   "id": "acquired-brown",
   "metadata": {},
   "outputs": [
    {
     "data": {
      "text/plain": [
       "1790"
      ]
     },
     "execution_count": 45,
     "metadata": {},
     "output_type": "execute_result"
    }
   ],
   "source": [
    "all_INS_boundary_id = list(all_INS_boundary_3['INFO_ID'])\n",
    "INS_list = list(set(all_INS_boundary_id))\n",
    "len(INS_list)"
   ]
  },
  {
   "cell_type": "code",
   "execution_count": 46,
   "id": "liable-finance",
   "metadata": {},
   "outputs": [],
   "source": [
    "INS_genotype = pd.read_csv('/data/home/tun53987/Hi-C/TAD_SV_qtl/pangenie_INS_hgsvc17sample_ALL_INS_atleast5_50_genotype_only01.bed', sep='\\t', header=0)\n",
    "DEL_genotype = pd.read_csv('/data/home/tun53987/Hi-C/TAD_SV_qtl/pangenie_DEL_hgsvc17sample_new_atleast5_50_genotype_only01.bed', sep='\\t', header=0)"
   ]
  },
  {
   "cell_type": "code",
   "execution_count": 47,
   "id": "vietnamese-translator",
   "metadata": {},
   "outputs": [],
   "source": [
    "DEL_genotype_1 = DEL_genotype.iloc[:, :-1]\n",
    "INS_genotype_1 = INS_genotype.iloc[:, :-1]\n",
    "DEL_boundary_genotype = DEL_genotype_1[DEL_genotype_1['INFO_ID'].isin(all_DEL_boundary_id)]\n",
    "INS_boundary_genotype = INS_genotype_1[INS_genotype_1['INFO_ID'].isin(all_INS_boundary_id)]"
   ]
  },
  {
   "cell_type": "code",
   "execution_count": 48,
   "id": "flying-complex",
   "metadata": {},
   "outputs": [],
   "source": [
    "DEL_boundary_genotype = DEL_boundary_genotype[[\n",
    "'CHROM', 'START_POS','END_POS', 'TYPE','LEN', 'FILTER', 'INFO_ID', 'FORMAT', 'HG00512','HG00513','HG00514','HG00731','HG00732','HG00733','NA19238','NA19239','NA19240','NA18507','NA18505','NA18508','NA18486','NA19099','NA19141','NA18516','NA18522'\n",
    "    ]]\n",
    "INS_boundary_genotype = INS_boundary_genotype[[\n",
    "'CHROM', 'START_POS','END_POS', 'TYPE','LEN', 'FILTER', 'INFO_ID', 'FORMAT', 'HG00512','HG00513','HG00514','HG00731','HG00732','HG00733','NA19238','NA19239','NA19240','NA18507','NA18505','NA18508','NA18486','NA19099','NA19141','NA18516','NA18522'\n",
    "    ]]"
   ]
  },
  {
   "cell_type": "code",
   "execution_count": 49,
   "id": "cardiac-danish",
   "metadata": {},
   "outputs": [
    {
     "data": {
      "text/plain": [
       "(1269, 25)"
      ]
     },
     "execution_count": 49,
     "metadata": {},
     "output_type": "execute_result"
    }
   ],
   "source": [
    "DEL_boundary_genotype_1 = DEL_boundary_genotype.reset_index(drop=True)\n",
    "DEL_boundary_genotype_1.shape"
   ]
  },
  {
   "cell_type": "code",
   "execution_count": 50,
   "id": "declared-tulsa",
   "metadata": {},
   "outputs": [
    {
     "data": {
      "text/plain": [
       "(1790, 25)"
      ]
     },
     "execution_count": 50,
     "metadata": {},
     "output_type": "execute_result"
    }
   ],
   "source": [
    "INS_boundary_genotype_1 = INS_boundary_genotype.reset_index(drop=True)\n",
    "INS_boundary_genotype_1.shape"
   ]
  },
  {
   "cell_type": "code",
   "execution_count": 51,
   "id": "attractive-measure",
   "metadata": {},
   "outputs": [],
   "source": [
    "### test for genotypes 0 and 1 (binary genotypes, only 0/0 and others)\n",
    "pvalue= []\n",
    "\n",
    "for i in range(0, len(all_DEL_boundary_3)):\n",
    "    DEL_boundary_genotype_all = DEL_boundary_genotype_1[DEL_boundary_genotype_1.loc[:,'INFO_ID'] == all_DEL_boundary_3.loc[i,'INFO_ID']].iloc[:,8:]\n",
    "    genotypes_list = DEL_boundary_genotype_all.iloc[0].values.tolist()\n",
    "    boundary_score_list = all_DEL_boundary_3.iloc[i,8:25].values.tolist()\n",
    "\n",
    "    df = pd.DataFrame({'genotypes' : genotypes_list,\n",
    "                   'boundary_score' : boundary_score_list})\n",
    "    \n",
    "    df_new = df.assign(BS=df.groupby('genotypes').cumcount()).pivot('BS','genotypes','boundary_score')\n",
    "      \n",
    "    try:\n",
    "        U, p = mannwhitneyu(x=df_new[0].dropna().tolist(), y=df_new[1].dropna().tolist(), method=\"exact\", alternative = 'two-sided')\n",
    "        #print (p)\n",
    "        \n",
    "    except ValueError:\n",
    "        p = 'NA'\n",
    "        #print (p)\n",
    "    \n",
    "    pvalue.append(p)\n",
    "    \n",
    "all_DEL_boundary_3['pvalue_0_1'] = pvalue"
   ]
  },
  {
   "cell_type": "code",
   "execution_count": 52,
   "id": "original-potter",
   "metadata": {},
   "outputs": [
    {
     "data": {
      "text/plain": [
       "(1292, 27)"
      ]
     },
     "execution_count": 52,
     "metadata": {},
     "output_type": "execute_result"
    }
   ],
   "source": [
    "all_DEL_boundary_3.shape"
   ]
  },
  {
   "cell_type": "code",
   "execution_count": 53,
   "id": "vocational-virginia",
   "metadata": {},
   "outputs": [],
   "source": [
    "### test for genotypes 0 and 1 (binary genotypes, only 0/0 and others)\n",
    "pvalue= []\n",
    "\n",
    "for i in range(0, len(all_INS_boundary_3)):\n",
    "    INS_boundary_genotype_all = INS_boundary_genotype_1[INS_boundary_genotype_1.loc[:,'INFO_ID'] == all_INS_boundary_3.loc[i,'INFO_ID']].iloc[:,8:]\n",
    "    genotypes_list = INS_boundary_genotype_all.iloc[0].values.tolist()\n",
    "    boundary_score_list = all_INS_boundary_3.iloc[i,8:25].values.tolist()\n",
    "\n",
    "    df = pd.DataFrame({'genotypes' : genotypes_list,\n",
    "                   'boundary_score' : boundary_score_list})\n",
    "    \n",
    "    df_new = df.assign(BS=df.groupby('genotypes').cumcount()).pivot('BS','genotypes','boundary_score')\n",
    "      \n",
    "    try:\n",
    "        U, p = mannwhitneyu(x=df_new[0].dropna().tolist(), y=df_new[1].dropna().tolist(), method=\"exact\", alternative = 'two-sided')\n",
    "        #print (p)\n",
    "        \n",
    "    except ValueError:\n",
    "        p = 'NA'\n",
    "        #print (p)\n",
    "    \n",
    "    pvalue.append(p)\n",
    "    \n",
    "all_INS_boundary_3['pvalue_0_1'] = pvalue"
   ]
  },
  {
   "cell_type": "code",
   "execution_count": 54,
   "id": "transsexual-pittsburgh",
   "metadata": {},
   "outputs": [
    {
     "data": {
      "text/plain": [
       "(1809, 27)"
      ]
     },
     "execution_count": 54,
     "metadata": {},
     "output_type": "execute_result"
    }
   ],
   "source": [
    "all_INS_boundary_3.shape"
   ]
  },
  {
   "cell_type": "code",
   "execution_count": 55,
   "id": "psychological-pontiac",
   "metadata": {},
   "outputs": [],
   "source": [
    "### apply fdr correction\n",
    "def fdr_correction(group):\n",
    "    _, corrected_pvalues, _, _ = multipletests(group['pvalue_0_1'], method='fdr_bh')\n",
    "    group['qvalue'] = corrected_pvalues\n",
    "    return group"
   ]
  },
  {
   "cell_type": "code",
   "execution_count": 56,
   "id": "industrial-plate",
   "metadata": {},
   "outputs": [
    {
     "data": {
      "text/plain": [
       "(1292, 28)"
      ]
     },
     "execution_count": 56,
     "metadata": {},
     "output_type": "execute_result"
    }
   ],
   "source": [
    "corrected_del = all_DEL_boundary_3.groupby('INFO_ID').apply(fdr_correction)\n",
    "corrected_del.shape"
   ]
  },
  {
   "cell_type": "code",
   "execution_count": 57,
   "id": "romance-henry",
   "metadata": {},
   "outputs": [
    {
     "data": {
      "text/plain": [
       "(35, 28)"
      ]
     },
     "execution_count": 57,
     "metadata": {},
     "output_type": "execute_result"
    }
   ],
   "source": [
    "all_DEL_boundary_3_sig = corrected_del[corrected_del['qvalue'] < 0.05]\n",
    "all_DEL_boundary_3_sig.shape"
   ]
  },
  {
   "cell_type": "code",
   "execution_count": 58,
   "id": "bibliographic-publicity",
   "metadata": {},
   "outputs": [
    {
     "data": {
      "text/plain": [
       "(1809, 28)"
      ]
     },
     "execution_count": 58,
     "metadata": {},
     "output_type": "execute_result"
    }
   ],
   "source": [
    "corrected_ins = all_INS_boundary_3.groupby('INFO_ID').apply(fdr_correction)\n",
    "corrected_ins.shape"
   ]
  },
  {
   "cell_type": "code",
   "execution_count": 59,
   "id": "romantic-portland",
   "metadata": {},
   "outputs": [
    {
     "data": {
      "text/plain": [
       "(57, 28)"
      ]
     },
     "execution_count": 59,
     "metadata": {},
     "output_type": "execute_result"
    }
   ],
   "source": [
    "all_INS_boundary_3_sig = corrected_ins[corrected_ins['qvalue'] < 0.05]\n",
    "all_INS_boundary_3_sig.shape"
   ]
  },
  {
   "cell_type": "code",
   "execution_count": 60,
   "id": "fossil-laundry",
   "metadata": {},
   "outputs": [
    {
     "data": {
      "text/plain": [
       "34"
      ]
     },
     "execution_count": 60,
     "metadata": {},
     "output_type": "execute_result"
    }
   ],
   "source": [
    "len(all_DEL_boundary_3_sig['INFO_ID'].drop_duplicates())"
   ]
  },
  {
   "cell_type": "code",
   "execution_count": 61,
   "id": "handled-lawrence",
   "metadata": {},
   "outputs": [
    {
     "data": {
      "text/plain": [
       "57"
      ]
     },
     "execution_count": 61,
     "metadata": {},
     "output_type": "execute_result"
    }
   ],
   "source": [
    "len(all_INS_boundary_3_sig)"
   ]
  },
  {
   "cell_type": "code",
   "execution_count": 62,
   "id": "important-montreal",
   "metadata": {},
   "outputs": [
    {
     "data": {
      "text/plain": [
       "57"
      ]
     },
     "execution_count": 62,
     "metadata": {},
     "output_type": "execute_result"
    }
   ],
   "source": [
    "len(all_INS_boundary_3_sig['INFO_ID'].drop_duplicates())"
   ]
  },
  {
   "cell_type": "markdown",
   "id": "social-portable",
   "metadata": {},
   "source": [
    "#### load significant discovery set"
   ]
  },
  {
   "cell_type": "code",
   "execution_count": 63,
   "id": "private-chart",
   "metadata": {},
   "outputs": [],
   "source": [
    "all_DEL_boundary_dis  = pd.read_csv('/home/tun53987/Hi-C/experiment_mergeall_new/mega/aligned/fanc_insulation_SCALE/final_ALL_DEL_merged_BS_flank_26sample_pvalue_only01_fillna_new10kb.bed', sep='\\t', header=0)"
   ]
  },
  {
   "cell_type": "code",
   "execution_count": 64,
   "id": "asian-facility",
   "metadata": {},
   "outputs": [
    {
     "data": {
      "text/plain": [
       "(1795, 36)"
      ]
     },
     "execution_count": 64,
     "metadata": {},
     "output_type": "execute_result"
    }
   ],
   "source": [
    "all_DEL_boundary_dis.shape"
   ]
  },
  {
   "cell_type": "code",
   "execution_count": 65,
   "id": "prospective-comparative",
   "metadata": {},
   "outputs": [
    {
     "data": {
      "text/plain": [
       "1741"
      ]
     },
     "execution_count": 65,
     "metadata": {},
     "output_type": "execute_result"
    }
   ],
   "source": [
    "len(all_DEL_boundary_dis['INFO_ID'].drop_duplicates())"
   ]
  },
  {
   "cell_type": "code",
   "execution_count": 66,
   "id": "boolean-economics",
   "metadata": {},
   "outputs": [],
   "source": [
    "all_DEL_boundary_dis_sig = pd.read_csv('/home/tun53987/Hi-C/experiment_mergeall_new/mega/aligned/fanc_insulation_SCALE/all_DEL_boundary_3_sig_nodup_10kbflank.bed', sep='\\t', header=0)"
   ]
  },
  {
   "cell_type": "code",
   "execution_count": 67,
   "id": "adaptive-dover",
   "metadata": {},
   "outputs": [
    {
     "data": {
      "text/plain": [
       "66"
      ]
     },
     "execution_count": 67,
     "metadata": {},
     "output_type": "execute_result"
    }
   ],
   "source": [
    "len(all_DEL_boundary_dis_sig['INFO_ID'].drop_duplicates())"
   ]
  },
  {
   "cell_type": "code",
   "execution_count": 68,
   "id": "central-geometry",
   "metadata": {},
   "outputs": [],
   "source": [
    "all_INS_boundary_dis = pd.read_csv('/home/tun53987/Hi-C/experiment_mergeall_new/mega/aligned/fanc_insulation_SCALE/final_ALL_INS_merged_BS_flank_26sample_pvalue_only01_fillna_new10kb.bed', sep='\\t', header=0)"
   ]
  },
  {
   "cell_type": "code",
   "execution_count": 69,
   "id": "czech-cylinder",
   "metadata": {},
   "outputs": [
    {
     "data": {
      "text/plain": [
       "(2555, 36)"
      ]
     },
     "execution_count": 69,
     "metadata": {},
     "output_type": "execute_result"
    }
   ],
   "source": [
    "all_INS_boundary_dis.shape"
   ]
  },
  {
   "cell_type": "code",
   "execution_count": 70,
   "id": "statistical-district",
   "metadata": {},
   "outputs": [
    {
     "data": {
      "text/plain": [
       "2514"
      ]
     },
     "execution_count": 70,
     "metadata": {},
     "output_type": "execute_result"
    }
   ],
   "source": [
    "len(all_INS_boundary_dis['INFO_ID'].drop_duplicates())"
   ]
  },
  {
   "cell_type": "code",
   "execution_count": 71,
   "id": "binding-communist",
   "metadata": {},
   "outputs": [],
   "source": [
    "all_INS_boundary_dis_sig = pd.read_csv('/home/tun53987/Hi-C/experiment_mergeall_new/mega/aligned/fanc_insulation_SCALE/all_INS_boundary_3_sig_10kbflank.bed', sep='\\t', header=0)"
   ]
  },
  {
   "cell_type": "code",
   "execution_count": 72,
   "id": "identical-scanning",
   "metadata": {},
   "outputs": [
    {
     "data": {
      "text/plain": [
       "120"
      ]
     },
     "execution_count": 72,
     "metadata": {},
     "output_type": "execute_result"
    }
   ],
   "source": [
    "len(all_INS_boundary_dis_sig['INFO_ID'].drop_duplicates())"
   ]
  },
  {
   "cell_type": "code",
   "execution_count": 73,
   "id": "spanish-phenomenon",
   "metadata": {},
   "outputs": [],
   "source": [
    "sig_DEL_boundary_in_dis = all_DEL_boundary_3_sig[all_DEL_boundary_3_sig['INFO_ID'].isin(all_DEL_boundary_dis_sig['INFO_ID'])]\n",
    "sig_INS_boundary_in_dis = all_INS_boundary_3_sig[all_INS_boundary_3_sig['INFO_ID'].isin(all_INS_boundary_dis_sig['INFO_ID'])]"
   ]
  },
  {
   "cell_type": "code",
   "execution_count": 74,
   "id": "invisible-organic",
   "metadata": {},
   "outputs": [
    {
     "data": {
      "text/plain": [
       "4"
      ]
     },
     "execution_count": 74,
     "metadata": {},
     "output_type": "execute_result"
    }
   ],
   "source": [
    "len(sig_DEL_boundary_in_dis['INFO_ID'].drop_duplicates())"
   ]
  },
  {
   "cell_type": "code",
   "execution_count": 75,
   "id": "digital-inquiry",
   "metadata": {},
   "outputs": [
    {
     "data": {
      "text/plain": [
       "3"
      ]
     },
     "execution_count": 75,
     "metadata": {},
     "output_type": "execute_result"
    }
   ],
   "source": [
    "len(sig_INS_boundary_in_dis['INFO_ID'].drop_duplicates())"
   ]
  },
  {
   "cell_type": "code",
   "execution_count": 76,
   "id": "egyptian-walnut",
   "metadata": {},
   "outputs": [],
   "source": [
    "DEL_boundary_in_dis = all_DEL_boundary_3[all_DEL_boundary_3['INFO_ID'].isin(all_DEL_boundary_dis_sig['INFO_ID'])]\n",
    "INS_boundary_in_dis = all_INS_boundary_3[all_INS_boundary_3['INFO_ID'].isin(all_INS_boundary_dis_sig['INFO_ID'])]"
   ]
  },
  {
   "cell_type": "code",
   "execution_count": 77,
   "id": "animated-swaziland",
   "metadata": {},
   "outputs": [
    {
     "data": {
      "text/plain": [
       "40"
      ]
     },
     "execution_count": 77,
     "metadata": {},
     "output_type": "execute_result"
    }
   ],
   "source": [
    "len(DEL_boundary_in_dis['INFO_ID'].drop_duplicates())"
   ]
  },
  {
   "cell_type": "code",
   "execution_count": 78,
   "id": "incredible-queens",
   "metadata": {},
   "outputs": [
    {
     "data": {
      "text/plain": [
       "81"
      ]
     },
     "execution_count": 78,
     "metadata": {},
     "output_type": "execute_result"
    }
   ],
   "source": [
    "len(INS_boundary_in_dis['INFO_ID'].drop_duplicates())"
   ]
  },
  {
   "cell_type": "code",
   "execution_count": 79,
   "id": "south-showcase",
   "metadata": {},
   "outputs": [
    {
     "data": {
      "text/plain": [
       "(1292, 28)"
      ]
     },
     "execution_count": 79,
     "metadata": {},
     "output_type": "execute_result"
    }
   ],
   "source": [
    "all_DEL_boundary_sort = corrected_del.sort_values(by=\"qvalue\",ascending=True)\n",
    "all_DEL_boundary_sort.shape"
   ]
  },
  {
   "cell_type": "code",
   "execution_count": 80,
   "id": "passing-skiing",
   "metadata": {},
   "outputs": [
    {
     "data": {
      "text/plain": [
       "(1809, 28)"
      ]
     },
     "execution_count": 80,
     "metadata": {},
     "output_type": "execute_result"
    }
   ],
   "source": [
    "all_INS_boundary_sort = corrected_ins.sort_values(by=\"qvalue\",ascending=True)\n",
    "all_INS_boundary_sort.shape"
   ]
  },
  {
   "cell_type": "markdown",
   "id": "prerequisite-crazy",
   "metadata": {},
   "source": [
    "#### top 25% "
   ]
  },
  {
   "cell_type": "code",
   "execution_count": 81,
   "id": "transsexual-assistant",
   "metadata": {},
   "outputs": [
    {
     "data": {
      "text/plain": [
       "(323, 28)"
      ]
     },
     "execution_count": 81,
     "metadata": {},
     "output_type": "execute_result"
    }
   ],
   "source": [
    "all_DEL_boundary_sort_25 = all_DEL_boundary_sort.head(round(len(all_DEL_boundary_sort)*(1/4)))\n",
    "all_DEL_boundary_sort_25.shape"
   ]
  },
  {
   "cell_type": "code",
   "execution_count": 82,
   "id": "generous-district",
   "metadata": {},
   "outputs": [
    {
     "data": {
      "text/plain": [
       "(452, 28)"
      ]
     },
     "execution_count": 82,
     "metadata": {},
     "output_type": "execute_result"
    }
   ],
   "source": [
    "all_INS_boundary_sort_25 = all_INS_boundary_sort.head(round(len(all_INS_boundary_sort)*(1/4)))\n",
    "all_INS_boundary_sort_25.shape"
   ]
  },
  {
   "cell_type": "code",
   "execution_count": 83,
   "id": "blocked-lincoln",
   "metadata": {},
   "outputs": [],
   "source": [
    "sig_DEL_boundary_sort_25 = all_DEL_boundary_sort_25[all_DEL_boundary_sort_25['INFO_ID'].isin(all_DEL_boundary_dis_sig['INFO_ID'])]\n",
    "sig_INS_boundary_sort_25 = all_INS_boundary_sort_25[all_INS_boundary_sort_25['INFO_ID'].isin(all_INS_boundary_dis_sig['INFO_ID'])]"
   ]
  },
  {
   "cell_type": "code",
   "execution_count": 84,
   "id": "infrared-transaction",
   "metadata": {},
   "outputs": [
    {
     "data": {
      "text/plain": [
       "(14, 28)"
      ]
     },
     "execution_count": 84,
     "metadata": {},
     "output_type": "execute_result"
    }
   ],
   "source": [
    "sig_DEL_boundary_sort_25.shape"
   ]
  },
  {
   "cell_type": "code",
   "execution_count": 85,
   "id": "daily-cheese",
   "metadata": {},
   "outputs": [
    {
     "data": {
      "text/plain": [
       "14"
      ]
     },
     "execution_count": 85,
     "metadata": {},
     "output_type": "execute_result"
    }
   ],
   "source": [
    "len(sig_DEL_boundary_sort_25['INFO_ID'].drop_duplicates())"
   ]
  },
  {
   "cell_type": "code",
   "execution_count": 86,
   "id": "administrative-channel",
   "metadata": {},
   "outputs": [
    {
     "data": {
      "text/plain": [
       "23"
      ]
     },
     "execution_count": 86,
     "metadata": {},
     "output_type": "execute_result"
    }
   ],
   "source": [
    "len(sig_INS_boundary_sort_25['INFO_ID'].drop_duplicates())"
   ]
  },
  {
   "cell_type": "markdown",
   "id": "revised-macro",
   "metadata": {},
   "source": [
    "#### top 50% "
   ]
  },
  {
   "cell_type": "code",
   "execution_count": 87,
   "id": "blond-trick",
   "metadata": {},
   "outputs": [
    {
     "data": {
      "text/plain": [
       "(646, 28)"
      ]
     },
     "execution_count": 87,
     "metadata": {},
     "output_type": "execute_result"
    }
   ],
   "source": [
    "all_DEL_boundary_sort_half = all_DEL_boundary_sort.head(round(len(all_DEL_boundary_sort)*(2/4)))\n",
    "all_DEL_boundary_sort_half.shape"
   ]
  },
  {
   "cell_type": "code",
   "execution_count": 88,
   "id": "committed-moisture",
   "metadata": {},
   "outputs": [
    {
     "data": {
      "text/plain": [
       "(904, 28)"
      ]
     },
     "execution_count": 88,
     "metadata": {},
     "output_type": "execute_result"
    }
   ],
   "source": [
    "all_INS_boundary_sort_half = all_INS_boundary_sort.head(round(len(all_INS_boundary_sort)*(2/4)))\n",
    "all_INS_boundary_sort_half.shape"
   ]
  },
  {
   "cell_type": "code",
   "execution_count": 89,
   "id": "japanese-stress",
   "metadata": {},
   "outputs": [],
   "source": [
    "sig_DEL_boundary_sort_half = all_DEL_boundary_sort_half[all_DEL_boundary_sort_half['INFO_ID'].isin(all_DEL_boundary_dis_sig['INFO_ID'])]\n",
    "sig_INS_boundary_sort_half = all_INS_boundary_sort_half[all_INS_boundary_sort_half['INFO_ID'].isin(all_INS_boundary_dis_sig['INFO_ID'])]"
   ]
  },
  {
   "cell_type": "code",
   "execution_count": 90,
   "id": "gross-chapter",
   "metadata": {},
   "outputs": [
    {
     "data": {
      "text/plain": [
       "26"
      ]
     },
     "execution_count": 90,
     "metadata": {},
     "output_type": "execute_result"
    }
   ],
   "source": [
    "len(sig_DEL_boundary_sort_half['INFO_ID'].drop_duplicates())"
   ]
  },
  {
   "cell_type": "code",
   "execution_count": 91,
   "id": "favorite-coffee",
   "metadata": {},
   "outputs": [
    {
     "data": {
      "text/plain": [
       "49"
      ]
     },
     "execution_count": 91,
     "metadata": {},
     "output_type": "execute_result"
    }
   ],
   "source": [
    "len(sig_INS_boundary_sort_half['INFO_ID'].drop_duplicates())"
   ]
  },
  {
   "cell_type": "markdown",
   "id": "entire-butler",
   "metadata": {},
   "source": [
    "#### top 75% "
   ]
  },
  {
   "cell_type": "code",
   "execution_count": 92,
   "id": "designing-russell",
   "metadata": {},
   "outputs": [
    {
     "data": {
      "text/plain": [
       "(969, 28)"
      ]
     },
     "execution_count": 92,
     "metadata": {},
     "output_type": "execute_result"
    }
   ],
   "source": [
    "all_DEL_boundary_sort_75 = all_DEL_boundary_sort.head(round(len(all_DEL_boundary_sort)*(3/4)))\n",
    "all_DEL_boundary_sort_75.shape"
   ]
  },
  {
   "cell_type": "code",
   "execution_count": 93,
   "id": "characteristic-hypothetical",
   "metadata": {},
   "outputs": [
    {
     "data": {
      "text/plain": [
       "(1357, 28)"
      ]
     },
     "execution_count": 93,
     "metadata": {},
     "output_type": "execute_result"
    }
   ],
   "source": [
    "all_INS_boundary_sort_75 = all_INS_boundary_sort.head(round(len(all_INS_boundary_sort)*(3/4)))\n",
    "all_INS_boundary_sort_75.shape"
   ]
  },
  {
   "cell_type": "code",
   "execution_count": 94,
   "id": "composite-indianapolis",
   "metadata": {},
   "outputs": [],
   "source": [
    "sig_DEL_boundary_sort_75 = all_DEL_boundary_sort_75[all_DEL_boundary_sort_75['INFO_ID'].isin(all_DEL_boundary_dis_sig['INFO_ID'])]\n",
    "sig_INS_boundary_sort_75 = all_INS_boundary_sort_75[all_INS_boundary_sort_75['INFO_ID'].isin(all_INS_boundary_dis_sig['INFO_ID'])]"
   ]
  },
  {
   "cell_type": "code",
   "execution_count": 95,
   "id": "sporting-script",
   "metadata": {},
   "outputs": [
    {
     "data": {
      "text/plain": [
       "35"
      ]
     },
     "execution_count": 95,
     "metadata": {},
     "output_type": "execute_result"
    }
   ],
   "source": [
    "len(sig_DEL_boundary_sort_75['INFO_ID'].drop_duplicates())"
   ]
  },
  {
   "cell_type": "code",
   "execution_count": 96,
   "id": "relevant-passion",
   "metadata": {},
   "outputs": [
    {
     "data": {
      "text/plain": [
       "66"
      ]
     },
     "execution_count": 96,
     "metadata": {},
     "output_type": "execute_result"
    }
   ],
   "source": [
    "len(sig_INS_boundary_sort_75['INFO_ID'].drop_duplicates())"
   ]
  },
  {
   "cell_type": "code",
   "execution_count": null,
   "id": "fancy-suffering",
   "metadata": {},
   "outputs": [],
   "source": []
  }
 ],
 "metadata": {
  "kernelspec": {
   "display_name": "Python 3 (ipykernel)",
   "language": "python",
   "name": "python3"
  },
  "language_info": {
   "codemirror_mode": {
    "name": "ipython",
    "version": 3
   },
   "file_extension": ".py",
   "mimetype": "text/x-python",
   "name": "python",
   "nbconvert_exporter": "python",
   "pygments_lexer": "ipython3",
   "version": "3.7.3"
  }
 },
 "nbformat": 4,
 "nbformat_minor": 5
}
