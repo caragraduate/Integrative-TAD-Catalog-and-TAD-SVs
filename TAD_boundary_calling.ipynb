{
 "cells": [
  {
   "cell_type": "code",
   "execution_count": null,
   "id": "heated-imaging",
   "metadata": {},
   "outputs": [],
   "source": [
    "pip install fanc-0.9.26b2.tar.gz"
   ]
  },
  {
   "cell_type": "code",
   "execution_count": null,
   "id": "certified-investment",
   "metadata": {},
   "outputs": [],
   "source": [
    "!fanc -V"
   ]
  },
  {
   "cell_type": "code",
   "execution_count": null,
   "id": "electoral-large",
   "metadata": {},
   "outputs": [],
   "source": [
    "import fanc\n",
    "import fanc.plotting as fancplot\n",
    "import logging"
   ]
  },
  {
   "cell_type": "code",
   "execution_count": null,
   "id": "allied-distributor",
   "metadata": {},
   "outputs": [],
   "source": [
    "logging.basicConfig(level=logging.INFO, format=\"%(asctime)s %(levelname)s %(message)s\")\n"
   ]
  },
  {
   "cell_type": "markdown",
   "id": "proper-logistics",
   "metadata": {},
   "source": [
    "## TAD boundary calling for each sample"
   ]
  },
  {
   "cell_type": "code",
   "execution_count": null,
   "id": "distinct-novel",
   "metadata": {},
   "outputs": [],
   "source": [
    "import os\n",
    "os.chdir('.hic/files/directory')\n",
    "os.getcwd()"
   ]
  },
  {
   "cell_type": "code",
   "execution_count": null,
   "id": "everyday-circular",
   "metadata": {},
   "outputs": [],
   "source": [
    "hic_10kb = fanc.load(\"inter_30.hic@10kb@SCALE\")"
   ]
  },
  {
   "cell_type": "code",
   "execution_count": null,
   "id": "twelve-poster",
   "metadata": {},
   "outputs": [],
   "source": [
    "bp_resolutions, fragment_resolutions = hic_5kb.resolutions()"
   ]
  },
  {
   "cell_type": "code",
   "execution_count": null,
   "id": "molecular-creator",
   "metadata": {},
   "outputs": [],
   "source": [
    "fragment_resolutions"
   ]
  },
  {
   "cell_type": "code",
   "execution_count": null,
   "id": "economic-stroke",
   "metadata": {},
   "outputs": [],
   "source": [
    "bp_resolutions"
   ]
  },
  {
   "cell_type": "code",
   "execution_count": null,
   "id": "higher-array",
   "metadata": {},
   "outputs": [],
   "source": [
    "insulation = fanc.InsulationScores.from_hic(hic_10kb,\n",
    "                                            [100000],\n",
    "                                            file_name=\"fanc/output/directory/inter30_5kb.insulation\")"
   ]
  },
  {
   "cell_type": "code",
   "execution_count": null,
   "id": "progressive-phrase",
   "metadata": {},
   "outputs": [],
   "source": [
    "insulation.to_bed(\"fanc/output/directory/inter30_5kb.insulation_100kb.bed\", 100000)"
   ]
  },
  {
   "cell_type": "code",
   "execution_count": null,
   "id": "latter-devon",
   "metadata": {},
   "outputs": [],
   "source": [
    "boundaries = fanc.Boundaries.from_insulation_score(insulation, window_size=100000)"
   ]
  },
  {
   "cell_type": "code",
   "execution_count": null,
   "id": "chinese-federal",
   "metadata": {},
   "outputs": [],
   "source": [
    "boundaries.to_bed(\"fanc/output/directory/inter30_10kb.boundaries_100kb.bed\")"
   ]
  }
 ],
 "metadata": {
  "kernelspec": {
   "display_name": "Python 3 (ipykernel)",
   "language": "python",
   "name": "python3"
  },
  "language_info": {
   "codemirror_mode": {
    "name": "ipython",
    "version": 3
   },
   "file_extension": ".py",
   "mimetype": "text/x-python",
   "name": "python",
   "nbconvert_exporter": "python",
   "pygments_lexer": "ipython3",
   "version": "3.7.3"
  }
 },
 "nbformat": 4,
 "nbformat_minor": 5
}
