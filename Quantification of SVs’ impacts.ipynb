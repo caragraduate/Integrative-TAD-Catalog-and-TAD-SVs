{
 "cells": [
  {
   "cell_type": "code",
   "execution_count": 1,
   "id": "assumed-opinion",
   "metadata": {},
   "outputs": [],
   "source": [
    "import pandas as pd\n",
    "import numpy as np\n",
    "from scipy.stats import chi2_contingency\n",
    "import matplotlib.pyplot as plt\n",
    "import io\n",
    "import os\n",
    "from scipy.stats import mannwhitneyu"
   ]
  },
  {
   "cell_type": "code",
   "execution_count": 2,
   "id": "advanced-winner",
   "metadata": {},
   "outputs": [],
   "source": [
    "def read_vcf(path):\n",
    "    with open(path, 'r') as f:\n",
    "        lines = [l for l in f if not l.startswith('##')]\n",
    "    return pd.read_csv(\n",
    "        io.StringIO(''.join(lines)),\n",
    "        dtype={'#CHROM': str, 'POS': int, 'ID': str, 'REF': str, 'ALT': str,\n",
    "               'QUAL': str, 'FILTER': str, 'INFO': str},\n",
    "        sep='\\t'\n",
    "    ).rename(columns={'#CHROM': 'CHROM'})"
   ]
  },
  {
   "cell_type": "code",
   "execution_count": 4,
   "id": "spiritual-ecology",
   "metadata": {},
   "outputs": [],
   "source": [
    "pangenie_svs_sample = read_vcf(\"pangenie_merged_bi_nosnvs_26sample.vcf\")\n",
    "pangenie_svs_sample[['INFO_ID']] = pangenie_svs_sample['INFO'].str.split(';', expand=True)[2]\n",
    "pangenie_svs_sample['INFO_ID'] = pangenie_svs_sample['INFO_ID'].str.lstrip('ID=')\n",
    "pangenie_svs_sample[['type']] = pangenie_svs_sample['INFO_ID'].str.split('-', expand=True)[2]"
   ]
  },
  {
   "cell_type": "code",
   "execution_count": 5,
   "id": "noticed-gazette",
   "metadata": {},
   "outputs": [
    {
     "data": {
      "text/plain": [
       "(1129810, 37)"
      ]
     },
     "execution_count": 5,
     "metadata": {},
     "output_type": "execute_result"
    }
   ],
   "source": [
    "pangenie_svs_sample.shape"
   ]
  },
  {
   "cell_type": "code",
   "execution_count": 6,
   "id": "wanted-scope",
   "metadata": {},
   "outputs": [
    {
     "data": {
      "text/plain": [
       "DEL    672432\n",
       "INS    457378\n",
       "dtype: int64"
      ]
     },
     "execution_count": 6,
     "metadata": {},
     "output_type": "execute_result"
    }
   ],
   "source": [
    "col_list = pangenie_svs_sample['type'].values.tolist()\n",
    "pd.Series(col_list).value_counts()"
   ]
  },
  {
   "cell_type": "code",
   "execution_count": 7,
   "id": "bibliographic-communist",
   "metadata": {},
   "outputs": [],
   "source": [
    "pangenie_DEL_sample = pangenie_svs_sample[pangenie_svs_sample['INFO_ID'].str.contains('DEL')]\n",
    "pangenie_INS_sample = pangenie_svs_sample[pangenie_svs_sample['INFO_ID'].str.contains('INS')]"
   ]
  },
  {
   "cell_type": "markdown",
   "id": "precious-michael",
   "metadata": {},
   "source": [
    "#### deletions"
   ]
  },
  {
   "cell_type": "code",
   "execution_count": 8,
   "id": "visible-rocket",
   "metadata": {},
   "outputs": [],
   "source": [
    "pangenie_DEL_sample_new = pangenie_DEL_sample[[\n",
    " 'CHROM','FILTER', 'INFO_ID', 'FORMAT', 'HG01114','HG03065','HG01505','HG02492','HG00096','HG03732','HG01573','NA20509','HG02587','HG01596','NA19983','HG00864','HG02011','HG00733','HG03371','NA19036','NA20847','HG00171','NA18534','NA18939','HG03683','NA19240','HG03009','HG02018','HG00514','NA19650'\n",
    "     ]]\n",
    "### removed NA12329"
   ]
  },
  {
   "cell_type": "code",
   "execution_count": 114,
   "id": "packed-drilling",
   "metadata": {},
   "outputs": [],
   "source": [
    "for col in pangenie_DEL_sample_new.iloc[:, 4:]:\n",
    "    pangenie_DEL_sample_new[col] = pangenie_DEL_sample_new[col].str[:3]"
   ]
  },
  {
   "cell_type": "code",
   "execution_count": 115,
   "id": "stable-nomination",
   "metadata": {
    "scrolled": true
   },
   "outputs": [],
   "source": [
    "for col in pangenie_DEL_sample_new.columns:\n",
    "    pangenie_DEL_sample_new.loc[pangenie_DEL_sample_new[col].astype(str).str.startswith('0/0'), col] = '0'\n",
    "    pangenie_DEL_sample_new.loc[pangenie_DEL_sample_new[col].astype(str).str.startswith('.:.'), col] = '0'\n",
    "    pangenie_DEL_sample_new.loc[pangenie_DEL_sample_new[col].astype(str).str.startswith('0/1'), col] = '1'\n",
    "    pangenie_DEL_sample_new.loc[pangenie_DEL_sample_new[col].astype(str).str.startswith('1/0'), col] = '1'\n",
    "    pangenie_DEL_sample_new.loc[pangenie_DEL_sample_new[col].astype(str).str.startswith('1/1'), col] = '1'"
   ]
  },
  {
   "cell_type": "code",
   "execution_count": 116,
   "id": "configured-document",
   "metadata": {},
   "outputs": [],
   "source": [
    "pangenie_DEL_sample_new.iloc[:,4: ] = pangenie_DEL_sample_new.iloc[:,4: ].astype(str).astype(int)\n",
    "pangenie_DEL_sample_new['Sum']=pangenie_DEL_sample_new.iloc[:,4: ].sum(axis=1)\n",
    "pangenie_DEL_sample_new_atleast3 = pangenie_DEL_sample_new[pangenie_DEL_sample_new['Sum'].astype(int) >= 5]\n",
    "pangenie_DEL_sample_new_atleast3['START_POS'] = pangenie_DEL_sample_new_atleast3['INFO_ID'].str.split('-', expand=True)[1]\n",
    "pangenie_DEL_sample_new_atleast3['TYPE'] = pangenie_DEL_sample_new_atleast3['INFO_ID'].str.split('-', expand=True)[2]\n",
    "pangenie_DEL_sample_new_atleast3['LEN'] = pangenie_DEL_sample_new_atleast3['INFO_ID'].str.split('-', expand=True)[3]"
   ]
  },
  {
   "cell_type": "code",
   "execution_count": 117,
   "id": "touched-dollar",
   "metadata": {
    "scrolled": true
   },
   "outputs": [],
   "source": [
    "pangenie_DEL_sample_new_atleast3.iloc[:,[31,33]] = pangenie_DEL_sample_new_atleast3.iloc[:,[31,33]].astype(str).astype(int)\n",
    "# VCF files in fact are providing a single 1-based position for a variant, end = start + len -1\n",
    "pangenie_DEL_sample_new_atleast3['END_POS'] = pangenie_DEL_sample_new_atleast3['START_POS'] + pangenie_DEL_sample_new_atleast3['LEN']-1\n",
    "pangenie_DEL_sample_new_atleast3_new = pangenie_DEL_sample_new_atleast3[[\n",
    "'CHROM', 'START_POS','END_POS', 'TYPE','LEN', 'FILTER', 'INFO_ID', 'FORMAT', 'HG01114','HG03065','HG01505','HG02492','HG00096','HG03732','HG01573','NA20509','HG02587','HG01596','NA19983','HG00864','HG02011','HG00733','HG03371','NA19036','NA20847','HG00171','NA18534','NA18939','HG03683','NA19240','HG03009','HG02018','HG00514','NA19650', 'Sum'\n",
    "    ]]"
   ]
  },
  {
   "cell_type": "code",
   "execution_count": 13,
   "id": "emotional-marble",
   "metadata": {},
   "outputs": [
    {
     "data": {
      "text/plain": [
       "(13876, 35)"
      ]
     },
     "execution_count": 13,
     "metadata": {},
     "output_type": "execute_result"
    }
   ],
   "source": [
    "pangenie_DEL_sample_new_atleast3_50 = pangenie_DEL_sample_new_atleast3_new[pangenie_DEL_sample_new_atleast3_new['LEN'] >= 50]\n",
    "pangenie_DEL_sample_new_atleast3_50.shape"
   ]
  },
  {
   "cell_type": "code",
   "execution_count": 14,
   "id": "living-identifier",
   "metadata": {},
   "outputs": [
    {
     "data": {
      "text/plain": [
       "(12670, 4)"
      ]
     },
     "execution_count": 14,
     "metadata": {},
     "output_type": "execute_result"
    }
   ],
   "source": [
    "pangenie_DEL_sample_new_atleast3_50_zero = pangenie_DEL_sample_new_atleast3_50[pangenie_DEL_sample_new_atleast3_50.iloc[:, 8:].eq(0).any(1)]\n",
    "pangenie_DEL_sample_new_atleast3_50_start_end = pangenie_DEL_sample_new_atleast3_50_zero[['CHROM', 'START_POS', 'END_POS', 'INFO_ID']]\n",
    "pangenie_DEL_sample_new_atleast3_50_start_end.shape"
   ]
  },
  {
   "cell_type": "markdown",
   "id": "joined-india",
   "metadata": {},
   "source": [
    "#### insertions"
   ]
  },
  {
   "cell_type": "code",
   "execution_count": 16,
   "id": "unlikely-treat",
   "metadata": {},
   "outputs": [],
   "source": [
    "pangenie_INS_sample_new = pangenie_INS_sample[[\n",
    " 'CHROM','FILTER', 'INFO_ID', 'FORMAT', 'HG01114','HG03065','HG01505','HG02492','HG00096','HG03732','HG01573','NA20509','HG02587','HG01596','NA19983','HG00864','HG02011','HG00733','HG03371','NA19036','NA20847','HG00171','NA18534','NA18939','HG03683','NA19240','HG03009','HG02018','HG00514','NA19650'\n",
    "     ]]\n",
    "##### removed NA12329"
   ]
  },
  {
   "cell_type": "code",
   "execution_count": 118,
   "id": "selective-slovenia",
   "metadata": {},
   "outputs": [],
   "source": [
    "for col in pangenie_INS_sample_new.iloc[:, 4:]:\n",
    "    pangenie_INS_sample_new[col] = pangenie_INS_sample_new[col].str[:3]"
   ]
  },
  {
   "cell_type": "code",
   "execution_count": 119,
   "id": "rental-plaza",
   "metadata": {},
   "outputs": [],
   "source": [
    "for col in pangenie_INS_sample_new.columns:\n",
    "    pangenie_INS_sample_new.loc[pangenie_INS_sample_new[col].astype(str).str.startswith('0/0'), col] = '0'\n",
    "    pangenie_INS_sample_new.loc[pangenie_INS_sample_new[col].astype(str).str.startswith('.:.'), col] = '0'\n",
    "    pangenie_INS_sample_new.loc[pangenie_INS_sample_new[col].astype(str).str.startswith('0/1'), col] = '1'\n",
    "    pangenie_INS_sample_new.loc[pangenie_INS_sample_new[col].astype(str).str.startswith('1/0'), col] = '1'\n",
    "    pangenie_INS_sample_new.loc[pangenie_INS_sample_new[col].astype(str).str.startswith('1/1'), col] = '1'"
   ]
  },
  {
   "cell_type": "code",
   "execution_count": 120,
   "id": "sharp-blake",
   "metadata": {},
   "outputs": [],
   "source": [
    "pangenie_INS_sample_new.iloc[:,4: ] = pangenie_INS_sample_new.iloc[:,4: ].astype(str).astype(int)\n",
    "pangenie_INS_sample_new['Sum']=pangenie_INS_sample_new.iloc[:,4: ].sum(axis=1)\n",
    "pangenie_INS_sample_new_atleast3 = pangenie_INS_sample_new[pangenie_INS_sample_new['Sum'].astype(int) >= 5]\n",
    "pangenie_INS_sample_new_atleast3['START_POS'] = pangenie_INS_sample_new_atleast3['INFO_ID'].str.split('-', expand=True)[1]\n",
    "pangenie_INS_sample_new_atleast3['TYPE'] = pangenie_INS_sample_new_atleast3['INFO_ID'].str.split('-', expand=True)[2]\n",
    "pangenie_INS_sample_new_atleast3['LEN'] = pangenie_INS_sample_new_atleast3['INFO_ID'].str.split('-', expand=True)[3]"
   ]
  },
  {
   "cell_type": "code",
   "execution_count": 121,
   "id": "sophisticated-nickel",
   "metadata": {},
   "outputs": [],
   "source": [
    "pangenie_INS_sample_new_atleast3.iloc[:,[31,33]] = pangenie_INS_sample_new_atleast3.iloc[:,[31,33]].astype(str).astype(int)\n",
    "pangenie_INS_sample_new_atleast3['END_POS'] = pangenie_INS_sample_new_atleast3['START_POS']\n",
    "pangenie_INS_sample_new_atleast3_new = pangenie_INS_sample_new_atleast3[[\n",
    "'CHROM', 'START_POS','END_POS', 'TYPE','LEN', 'FILTER', 'INFO_ID', 'FORMAT', 'HG01114','HG03065','HG01505','HG02492','HG00096','HG03732','HG01573','NA20509','HG02587','HG01596','NA19983','HG00864','HG02011','HG00733','HG03371','NA19036','NA20847','HG00171','NA18534','NA18939','HG03683','NA19240','HG03009','HG02018','HG00514','NA19650', 'Sum'\n",
    "    ]]"
   ]
  },
  {
   "cell_type": "code",
   "execution_count": 21,
   "id": "minimal-monster",
   "metadata": {},
   "outputs": [
    {
     "data": {
      "text/plain": [
       "(19992, 35)"
      ]
     },
     "execution_count": 21,
     "metadata": {},
     "output_type": "execute_result"
    }
   ],
   "source": [
    "pangenie_INS_sample_new_atleast3_50 = pangenie_INS_sample_new_atleast3_new[pangenie_INS_sample_new_atleast3_new['LEN'] >= 50]\n",
    "pangenie_INS_sample_new_atleast3_50.shape"
   ]
  },
  {
   "cell_type": "code",
   "execution_count": 22,
   "id": "documentary-interval",
   "metadata": {},
   "outputs": [
    {
     "data": {
      "text/plain": [
       "(17279, 4)"
      ]
     },
     "execution_count": 22,
     "metadata": {},
     "output_type": "execute_result"
    }
   ],
   "source": [
    "pangenie_INS_sample_new_atleast3_50_zero = pangenie_INS_sample_new_atleast3_50[pangenie_INS_sample_new_atleast3_50.iloc[:, 8:].eq(0).any(1)]\n",
    "pangenie_INS_sample_new_atleast3_50_start_end = pangenie_INS_sample_new_atleast3_50_zero[['CHROM', 'START_POS', 'END_POS', 'INFO_ID']]\n",
    "pangenie_INS_sample_new_atleast3_50_start_end.shape"
   ]
  },
  {
   "cell_type": "markdown",
   "id": "pacific-anthropology",
   "metadata": {},
   "source": [
    "## SVs' impact on boundary strength"
   ]
  },
  {
   "cell_type": "code",
   "execution_count": 24,
   "id": "distinct-syndicate",
   "metadata": {},
   "outputs": [],
   "source": [
    "all_DEL_merged = pd.read_csv('all_DEL_26merged_cutoff_flank_inter30_5kb_boundaries_100kb_only01.bed', sep='\\t', header=None)\n",
    "all_DEL_merged.columns =['CHROM', 'START_POS', 'END_POS', 'INFO_ID', 'BOUND_CHR', 'FLANK_START', 'FLANK_END', 'BOUND_SCORE']"
   ]
  },
  {
   "cell_type": "code",
   "execution_count": 25,
   "id": "chinese-audit",
   "metadata": {},
   "outputs": [
    {
     "data": {
      "text/plain": [
       "(12882, 8)"
      ]
     },
     "execution_count": 25,
     "metadata": {},
     "output_type": "execute_result"
    }
   ],
   "source": [
    "all_DEL_merged.shape"
   ]
  },
  {
   "cell_type": "code",
   "execution_count": 26,
   "id": "sorted-arrival",
   "metadata": {},
   "outputs": [],
   "source": [
    "all_INS_merged = pd.read_csv('all_INS_26merged_cutoff_flank_inter30_5kb_boundaries_100kb_only01_sum5.bed', sep='\\t', header=None)\n",
    "all_INS_merged.columns =['CHROM', 'START_POS', 'END_POS', 'INFO_ID', 'BOUND_CHR', 'FLANK_START', 'FLANK_END', 'BOUND_SCORE']"
   ]
  },
  {
   "cell_type": "code",
   "execution_count": 27,
   "id": "bottom-mention",
   "metadata": {},
   "outputs": [
    {
     "data": {
      "text/plain": [
       "(17517, 8)"
      ]
     },
     "execution_count": 27,
     "metadata": {},
     "output_type": "execute_result"
    }
   ],
   "source": [
    "all_INS_merged.shape"
   ]
  },
  {
   "cell_type": "code",
   "execution_count": 28,
   "id": "hungarian-diagnosis",
   "metadata": {},
   "outputs": [],
   "source": [
    "all_DEL_boundary_1 = all_DEL_merged.loc[all_DEL_merged.iloc[:, 4] != '.']\n",
    "all_DEL_boundary_2 = all_DEL_boundary_1.reset_index(drop=True)"
   ]
  },
  {
   "cell_type": "code",
   "execution_count": 29,
   "id": "artistic-sunday",
   "metadata": {},
   "outputs": [
    {
     "data": {
      "text/plain": [
       "(4047, 8)"
      ]
     },
     "execution_count": 29,
     "metadata": {},
     "output_type": "execute_result"
    }
   ],
   "source": [
    "all_DEL_boundary_2.shape"
   ]
  },
  {
   "cell_type": "code",
   "execution_count": 30,
   "id": "norwegian-religious",
   "metadata": {},
   "outputs": [],
   "source": [
    "all_INS_boundary_1 = all_INS_merged.loc[all_INS_merged.iloc[:, 4] != '.']\n",
    "all_INS_boundary_2 = all_INS_boundary_1.reset_index(drop=True)"
   ]
  },
  {
   "cell_type": "code",
   "execution_count": 31,
   "id": "global-twelve",
   "metadata": {},
   "outputs": [
    {
     "data": {
      "text/plain": [
       "(5512, 8)"
      ]
     },
     "execution_count": 31,
     "metadata": {},
     "output_type": "execute_result"
    }
   ],
   "source": [
    "all_INS_boundary_2.shape"
   ]
  },
  {
   "cell_type": "code",
   "execution_count": 32,
   "id": "biological-mississippi",
   "metadata": {},
   "outputs": [],
   "source": [
    "sample_ids = ['GM18534','GM18939','GM19036','GM19240','GM19650','GM19833','GM20509','GM20847','HG00096','HG00171',\n",
    "              'HG00514','HG00733','HG00864','HG01114','HG01505','HG01573','HG01596','HG02011','HG02018','HG02492',\n",
    "              'HG02587','HG03009','HG03065','HG03371','HG03683','HG03732']\n",
    "file_directory = '/home/tun53987/Hi-C'\n",
    "import glob\n",
    "for i in sample_ids:\n",
    "    file_pattern = os.path.join(file_directory, f\"experiment_{i}/aligned/fanc_insulation_SCALE/BS_cutoff_inter30_10kb.boundaries_100kb.bed\")\n",
    "    sample_file = glob.glob(file_pattern)\n",
    "    sample_merged_BS = pd.read_csv(sample_file[0], sep='\\t', header=None)\n",
    "    #sample_merged_BS = pd.read_csv(sample_file[0], sep='\\t', header=None)\n",
    "    sample_merged_BS =sample_merged_BS[[0, 1, 2, 3, 4, 5, 6, 8]]\n",
    "    sample_merged_BS.columns =['BOUND_CHR', 'FLANK_START', 'FLANK_END', 'BOUND_SCORE','BOUND_CHR_samp', 'BOUND_START_samp', 'BOUND_END_samp', 'BOUND_SCORE_samp']\n",
    "    sample_merged_BS_1 = sample_merged_BS.groupby(['BOUND_CHR', 'FLANK_START', 'FLANK_END'], as_index=False)['BOUND_SCORE_samp'].median()\n",
    "    all_DEL_boundary_2[i] = all_DEL_boundary_2.merge(sample_merged_BS_1, how=\"left\", left_on=[\"BOUND_CHR\", \"FLANK_START\", \"FLANK_END\"], right_on=[\"BOUND_CHR\", \"FLANK_START\", \"FLANK_END\"])['BOUND_SCORE_samp']\n",
    "    all_INS_boundary_2[i] = all_INS_boundary_2.merge(sample_merged_BS_1, how=\"left\", left_on=[\"BOUND_CHR\", \"FLANK_START\", \"FLANK_END\"], right_on=[\"BOUND_CHR\", \"FLANK_START\", \"FLANK_END\"])['BOUND_SCORE_samp']"
   ]
  },
  {
   "cell_type": "markdown",
   "id": "advanced-insider",
   "metadata": {},
   "source": [
    "#### Mann-Whitney U test for genotypes and boundary BS"
   ]
  },
  {
   "cell_type": "code",
   "execution_count": 35,
   "id": "adjusted-carol",
   "metadata": {},
   "outputs": [
    {
     "data": {
      "text/plain": [
       "(4047, 34)"
      ]
     },
     "execution_count": 35,
     "metadata": {},
     "output_type": "execute_result"
    }
   ],
   "source": [
    "all_DEL_boundary_2.shape"
   ]
  },
  {
   "cell_type": "code",
   "execution_count": 36,
   "id": "light-apollo",
   "metadata": {},
   "outputs": [
    {
     "data": {
      "text/plain": [
       "(5512, 34)"
      ]
     },
     "execution_count": 36,
     "metadata": {},
     "output_type": "execute_result"
    }
   ],
   "source": [
    "all_INS_boundary_2.shape"
   ]
  },
  {
   "cell_type": "code",
   "execution_count": 37,
   "id": "international-prison",
   "metadata": {},
   "outputs": [],
   "source": [
    "all_DEL_boundary_2['num_NaNs'] = all_DEL_boundary_2.iloc[:, 8:].isna().sum(1)\n",
    "all_INS_boundary_2['num_NaNs'] = all_INS_boundary_2.iloc[:, 8:].isna().sum(1)"
   ]
  },
  {
   "cell_type": "code",
   "execution_count": 38,
   "id": "productive-administration",
   "metadata": {},
   "outputs": [
    {
     "data": {
      "text/plain": [
       "26"
      ]
     },
     "execution_count": 38,
     "metadata": {},
     "output_type": "execute_result"
    }
   ],
   "source": [
    "all_DEL_boundary_2['num_NaNs'].max()"
   ]
  },
  {
   "cell_type": "code",
   "execution_count": 39,
   "id": "rubber-beach",
   "metadata": {},
   "outputs": [
    {
     "data": {
      "text/plain": [
       "26"
      ]
     },
     "execution_count": 39,
     "metadata": {},
     "output_type": "execute_result"
    }
   ],
   "source": [
    "all_INS_boundary_2['num_NaNs'].max()"
   ]
  },
  {
   "cell_type": "code",
   "execution_count": 40,
   "id": "finite-elephant",
   "metadata": {},
   "outputs": [
    {
     "data": {
      "text/plain": [
       "Int64Index([  36,  177,  589,  590,  712,  729,  730,  809,  810,  909,  911,\n",
       "            1028, 1041, 1226, 1272, 1273, 1302, 1307, 1308, 1324, 1480, 1634,\n",
       "            1635, 1744, 1745, 1746, 1797, 1963, 2000, 2001, 2306, 2405, 2406,\n",
       "            2407, 2408, 2644, 3121, 3245, 3369, 3423, 3424, 3593, 3609, 3755,\n",
       "            3824, 3840, 3850, 4004],\n",
       "           dtype='int64')"
      ]
     },
     "execution_count": 40,
     "metadata": {},
     "output_type": "execute_result"
    }
   ],
   "source": [
    "all_DEL_boundary_2[all_DEL_boundary_2['num_NaNs'] == 26].index"
   ]
  },
  {
   "cell_type": "code",
   "execution_count": 41,
   "id": "featured-causing",
   "metadata": {},
   "outputs": [
    {
     "data": {
      "text/plain": [
       "Int64Index([  34,  257,  258,  262,  784,  785,  851,  852, 1051, 1056, 1057,\n",
       "            1058, 1171, 1183, 1205, 1206, 1302, 1316, 1502, 1533, 1801, 1802,\n",
       "            1832, 1833, 2085, 2086, 2087, 2100, 2472, 2473, 2474, 2522, 2781,\n",
       "            2822, 2838, 2839, 3212, 3213, 3318, 3319, 3781, 4221, 4238, 4331,\n",
       "            4374, 4410, 4462, 4545, 4615, 4616, 4634, 4635, 5099, 5289, 5332,\n",
       "            5422],\n",
       "           dtype='int64')"
      ]
     },
     "execution_count": 41,
     "metadata": {},
     "output_type": "execute_result"
    }
   ],
   "source": [
    "all_INS_boundary_2[all_INS_boundary_2['num_NaNs'] == 26].index"
   ]
  },
  {
   "cell_type": "code",
   "execution_count": 42,
   "id": "amino-bosnia",
   "metadata": {},
   "outputs": [],
   "source": [
    "all_DEL_boundary_2_noNA = all_DEL_boundary_2[all_DEL_boundary_2.num_NaNs < 26]\n",
    "all_INS_boundary_2_noNA = all_INS_boundary_2[all_INS_boundary_2.num_NaNs < 26]"
   ]
  },
  {
   "cell_type": "code",
   "execution_count": 43,
   "id": "parliamentary-concrete",
   "metadata": {},
   "outputs": [],
   "source": [
    "# Replace NaN Values with Zeros, because those NA boundary scores mean there is no boundary, so we can changed them to zero\n",
    "all_DEL_boundary_3 = all_DEL_boundary_2_noNA.fillna(0).drop_duplicates()\n",
    "all_INS_boundary_3 = all_INS_boundary_2_noNA.fillna(0).drop_duplicates()\n"
   ]
  },
  {
   "cell_type": "code",
   "execution_count": 44,
   "id": "missing-layout",
   "metadata": {},
   "outputs": [],
   "source": [
    "all_DEL_boundary_3 = all_DEL_boundary_3.reset_index(drop=True)\n",
    "all_INS_boundary_3 = all_INS_boundary_3.reset_index(drop=True)"
   ]
  },
  {
   "cell_type": "code",
   "execution_count": 45,
   "id": "solar-visiting",
   "metadata": {},
   "outputs": [
    {
     "data": {
      "text/plain": [
       "(3999, 35)"
      ]
     },
     "execution_count": 45,
     "metadata": {},
     "output_type": "execute_result"
    }
   ],
   "source": [
    "all_DEL_boundary_3.shape"
   ]
  },
  {
   "cell_type": "code",
   "execution_count": 46,
   "id": "buried-circus",
   "metadata": {},
   "outputs": [
    {
     "data": {
      "text/plain": [
       "(5456, 35)"
      ]
     },
     "execution_count": 46,
     "metadata": {},
     "output_type": "execute_result"
    }
   ],
   "source": [
    "all_INS_boundary_3.shape"
   ]
  },
  {
   "cell_type": "code",
   "execution_count": 47,
   "id": "digital-observer",
   "metadata": {},
   "outputs": [
    {
     "data": {
      "text/plain": [
       "3787"
      ]
     },
     "execution_count": 47,
     "metadata": {},
     "output_type": "execute_result"
    }
   ],
   "source": [
    "all_DEL_boundary_id = list(all_DEL_boundary_3['INFO_ID'])\n",
    "DEL_list = list(set(all_DEL_boundary_id))\n",
    "len(DEL_list)"
   ]
  },
  {
   "cell_type": "code",
   "execution_count": 48,
   "id": "rotary-meditation",
   "metadata": {},
   "outputs": [
    {
     "data": {
      "text/plain": [
       "5221"
      ]
     },
     "execution_count": 48,
     "metadata": {},
     "output_type": "execute_result"
    }
   ],
   "source": [
    "all_INS_boundary_id = list(all_INS_boundary_3['INFO_ID'])\n",
    "INS_list = list(set(all_INS_boundary_id))\n",
    "len(INS_list)"
   ]
  },
  {
   "cell_type": "code",
   "execution_count": 50,
   "id": "multiple-mouth",
   "metadata": {},
   "outputs": [],
   "source": [
    "DEL_genotype = pd.read_csv('pangenie_svs_26sample_ALL_DEL_atleast3_50_genotype_only01.bed', sep='\\t', header=0)\n",
    "INS_genotype = pd.read_csv('pangenie_svs_26sample_ALL_INS_atleast3_50_genotype_only01.bed', sep='\\t', header=0)"
   ]
  },
  {
   "cell_type": "code",
   "execution_count": 51,
   "id": "precious-rapid",
   "metadata": {},
   "outputs": [
    {
     "data": {
      "text/plain": [
       "(12670, 35)"
      ]
     },
     "execution_count": 51,
     "metadata": {},
     "output_type": "execute_result"
    }
   ],
   "source": [
    "DEL_genotype.shape"
   ]
  },
  {
   "cell_type": "code",
   "execution_count": 52,
   "id": "artificial-action",
   "metadata": {},
   "outputs": [],
   "source": [
    "DEL_genotype_1 = DEL_genotype.iloc[:, :-1]\n",
    "INS_genotype_1 = INS_genotype.iloc[:, :-1]\n",
    "DEL_boundary_genotype = DEL_genotype_1[DEL_genotype_1['INFO_ID'].isin(all_DEL_boundary_id)]\n",
    "INS_boundary_genotype = INS_genotype_1[INS_genotype_1['INFO_ID'].isin(all_INS_boundary_id)]"
   ]
  },
  {
   "cell_type": "code",
   "execution_count": 53,
   "id": "virtual-meeting",
   "metadata": {},
   "outputs": [],
   "source": [
    "DEL_boundary_genotype = DEL_boundary_genotype[[\n",
    "'CHROM', 'START_POS', 'END_POS', 'TYPE', 'LEN', 'FILTER', 'INFO_ID','FORMAT','NA18534','NA18939','NA19036','NA19240','NA19650','NA19983','NA20509','NA20847','HG00096','HG00171','HG00514','HG00733','HG00864','HG01114','HG01505','HG01573','HG01596','HG02011','HG02018','HG02492','HG02587','HG03009','HG03065','HG03371','HG03683','HG03732'\n",
    "    ]]\n",
    "INS_boundary_genotype = INS_boundary_genotype[[\n",
    "'CHROM', 'START_POS', 'END_POS', 'TYPE', 'LEN', 'FILTER', 'INFO_ID','FORMAT','NA18534','NA18939','NA19036','NA19240','NA19650','NA19983','NA20509','NA20847','HG00096','HG00171','HG00514','HG00733','HG00864','HG01114','HG01505','HG01573','HG01596','HG02011','HG02018','HG02492','HG02587','HG03009','HG03065','HG03371','HG03683','HG03732'\n",
    "    ]]"
   ]
  },
  {
   "cell_type": "code",
   "execution_count": 54,
   "id": "million-newsletter",
   "metadata": {},
   "outputs": [
    {
     "data": {
      "text/plain": [
       "(3787, 34)"
      ]
     },
     "execution_count": 54,
     "metadata": {},
     "output_type": "execute_result"
    }
   ],
   "source": [
    "DEL_boundary_genotype_1 = DEL_boundary_genotype.reset_index(drop=True)\n",
    "DEL_boundary_genotype_1.shape"
   ]
  },
  {
   "cell_type": "code",
   "execution_count": 55,
   "id": "marine-resolution",
   "metadata": {},
   "outputs": [
    {
     "data": {
      "text/plain": [
       "(5221, 34)"
      ]
     },
     "execution_count": 55,
     "metadata": {},
     "output_type": "execute_result"
    }
   ],
   "source": [
    "INS_boundary_genotype_1 = INS_boundary_genotype.reset_index(drop=True)\n",
    "INS_boundary_genotype_1.shape"
   ]
  },
  {
   "cell_type": "code",
   "execution_count": 56,
   "id": "surrounded-reviewer",
   "metadata": {},
   "outputs": [],
   "source": [
    "### test for genotypes 0 and 1 (binary genotypes, only 0/0 and others)\n",
    "pvalue= []\n",
    "\n",
    "for i in range(0, len(all_DEL_boundary_3)):\n",
    "    DEL_boundary_genotype_all = DEL_boundary_genotype_1[DEL_boundary_genotype_1.loc[:,'INFO_ID'] == all_DEL_boundary_3.loc[i,'INFO_ID']].iloc[:,8:]\n",
    "    genotypes_list = DEL_boundary_genotype_all.iloc[0].values.tolist()\n",
    "    boundary_score_list = all_DEL_boundary_3.iloc[i,8:34].values.tolist()\n",
    "\n",
    "    df = pd.DataFrame({'genotypes' : genotypes_list,\n",
    "                   'boundary_score' : boundary_score_list})\n",
    "    \n",
    "    df_new = df.assign(BS=df.groupby('genotypes').cumcount()).pivot('BS','genotypes','boundary_score')\n",
    "      \n",
    "    try:\n",
    "        U, p = mannwhitneyu(x=df_new[0].dropna().tolist(), y=df_new[1].dropna().tolist(), method=\"exact\", alternative = 'two-sided')\n",
    "        #print (p)\n",
    "        \n",
    "    except ValueError:\n",
    "        p = 'NA'\n",
    "        #print (p)\n",
    "    \n",
    "    pvalue.append(p)\n",
    "    \n",
    "all_DEL_boundary_3['pvalue_0_1'] = pvalue"
   ]
  },
  {
   "cell_type": "code",
   "execution_count": 57,
   "id": "metallic-equipment",
   "metadata": {
    "scrolled": false
   },
   "outputs": [],
   "source": [
    "### test for genotypes 0 and 1 (binary genotypes, only 0/0 and others)\n",
    "pvalue= []\n",
    "\n",
    "for i in range(0, len(all_INS_boundary_3)):\n",
    "    INS_boundary_genotype_all = INS_boundary_genotype_1[INS_boundary_genotype_1.loc[:,'INFO_ID'] == all_INS_boundary_3.loc[i,'INFO_ID']].iloc[:,8:]\n",
    "    genotypes_list = INS_boundary_genotype_all.iloc[0].values.tolist()\n",
    "    boundary_score_list = all_INS_boundary_3.iloc[i,8:34].values.tolist()\n",
    "\n",
    "    df = pd.DataFrame({'genotypes' : genotypes_list,\n",
    "                   'boundary_score' : boundary_score_list})\n",
    "    \n",
    "    df_new = df.assign(BS=df.groupby('genotypes').cumcount()).pivot('BS','genotypes','boundary_score')\n",
    "      \n",
    "    try:\n",
    "        U, p = mannwhitneyu(x=df_new[0].dropna().tolist(), y=df_new[1].dropna().tolist(), method=\"exact\", alternative = 'two-sided')\n",
    "        #print (p)\n",
    "        \n",
    "    except ValueError:\n",
    "        p = 'NA'\n",
    "        #print (p)\n",
    "    \n",
    "    pvalue.append(p)\n",
    "    \n",
    "all_INS_boundary_3['pvalue_0_1'] = pvalue"
   ]
  },
  {
   "cell_type": "code",
   "execution_count": 58,
   "id": "underlying-share",
   "metadata": {},
   "outputs": [
    {
     "data": {
      "text/plain": [
       "(166, 36)"
      ]
     },
     "execution_count": 58,
     "metadata": {},
     "output_type": "execute_result"
    }
   ],
   "source": [
    "all_DEL_boundary_3_sig = all_DEL_boundary_3[all_DEL_boundary_3['pvalue_0_1'] < 0.05]\n",
    "all_DEL_boundary_3_sig.shape"
   ]
  },
  {
   "cell_type": "code",
   "execution_count": 59,
   "id": "basic-crawford",
   "metadata": {},
   "outputs": [
    {
     "data": {
      "text/plain": [
       "159"
      ]
     },
     "execution_count": 59,
     "metadata": {},
     "output_type": "execute_result"
    }
   ],
   "source": [
    "len(all_DEL_boundary_3_sig['INFO_ID'].drop_duplicates())"
   ]
  },
  {
   "cell_type": "code",
   "execution_count": 60,
   "id": "animal-ceramic",
   "metadata": {},
   "outputs": [
    {
     "data": {
      "text/plain": [
       "(274, 36)"
      ]
     },
     "execution_count": 60,
     "metadata": {},
     "output_type": "execute_result"
    }
   ],
   "source": [
    "all_INS_boundary_3_sig = all_INS_boundary_3[all_INS_boundary_3['pvalue_0_1'] < 0.05]\n",
    "all_INS_boundary_3_sig.shape"
   ]
  },
  {
   "cell_type": "code",
   "execution_count": 61,
   "id": "alike-fisher",
   "metadata": {},
   "outputs": [
    {
     "data": {
      "text/plain": [
       "271"
      ]
     },
     "execution_count": 61,
     "metadata": {},
     "output_type": "execute_result"
    }
   ],
   "source": [
    "len(all_INS_boundary_3_sig['INFO_ID'].drop_duplicates())"
   ]
  },
  {
   "cell_type": "markdown",
   "id": "subjective-specialist",
   "metadata": {},
   "source": [
    "## SVs that significantly disrupt the TAD boundaries are also eQTLs"
   ]
  },
  {
   "cell_type": "code",
   "execution_count": 122,
   "id": "considerable-retailer",
   "metadata": {},
   "outputs": [],
   "source": [
    "eqtl = pd.read_csv('qtl_results_all_v4_fdr0.05.txt', sep='\\t')"
   ]
  },
  {
   "cell_type": "code",
   "execution_count": 63,
   "id": "demonstrated-labor",
   "metadata": {},
   "outputs": [
    {
     "data": {
      "text/plain": [
       "(850482, 29)"
      ]
     },
     "execution_count": 63,
     "metadata": {},
     "output_type": "execute_result"
    }
   ],
   "source": [
    "eqtl.shape"
   ]
  },
  {
   "cell_type": "code",
   "execution_count": 64,
   "id": "concrete-highland",
   "metadata": {},
   "outputs": [],
   "source": [
    "pangenie_svs_sample_DEL_eqtl = eqtl[(eqtl['snp_id'].isin(all_DEL_boundary_3_sig['INFO_ID']))]"
   ]
  },
  {
   "cell_type": "code",
   "execution_count": 65,
   "id": "purple-vertical",
   "metadata": {},
   "outputs": [
    {
     "data": {
      "text/plain": [
       "(22, 29)"
      ]
     },
     "execution_count": 65,
     "metadata": {},
     "output_type": "execute_result"
    }
   ],
   "source": [
    "pangenie_svs_sample_DEL_eqtl.shape"
   ]
  },
  {
   "cell_type": "code",
   "execution_count": 66,
   "id": "promotional-apparatus",
   "metadata": {},
   "outputs": [
    {
     "data": {
      "text/plain": [
       "17"
      ]
     },
     "execution_count": 66,
     "metadata": {},
     "output_type": "execute_result"
    }
   ],
   "source": [
    "len(pangenie_svs_sample_DEL_eqtl['snp_id'].drop_duplicates())"
   ]
  },
  {
   "cell_type": "code",
   "execution_count": 67,
   "id": "synthetic-ghana",
   "metadata": {},
   "outputs": [
    {
     "data": {
      "text/plain": [
       "20"
      ]
     },
     "execution_count": 67,
     "metadata": {},
     "output_type": "execute_result"
    }
   ],
   "source": [
    "len(pangenie_svs_sample_DEL_eqtl['feature_id'].drop_duplicates())"
   ]
  },
  {
   "cell_type": "code",
   "execution_count": 68,
   "id": "graphic-offense",
   "metadata": {},
   "outputs": [],
   "source": [
    "pangenie_svs_sample_INS_eqtl = eqtl[(eqtl['snp_id'].isin(all_INS_boundary_3_sig['INFO_ID']))]"
   ]
  },
  {
   "cell_type": "code",
   "execution_count": 69,
   "id": "considered-cigarette",
   "metadata": {},
   "outputs": [
    {
     "data": {
      "text/plain": [
       "(39, 29)"
      ]
     },
     "execution_count": 69,
     "metadata": {},
     "output_type": "execute_result"
    }
   ],
   "source": [
    "pangenie_svs_sample_INS_eqtl.shape"
   ]
  },
  {
   "cell_type": "code",
   "execution_count": 70,
   "id": "supreme-battery",
   "metadata": {
    "scrolled": true
   },
   "outputs": [
    {
     "data": {
      "text/plain": [
       "22"
      ]
     },
     "execution_count": 70,
     "metadata": {},
     "output_type": "execute_result"
    }
   ],
   "source": [
    "len(pangenie_svs_sample_INS_eqtl['snp_id'].drop_duplicates())"
   ]
  },
  {
   "cell_type": "code",
   "execution_count": 71,
   "id": "awful-nursery",
   "metadata": {},
   "outputs": [
    {
     "data": {
      "text/plain": [
       "37"
      ]
     },
     "execution_count": 71,
     "metadata": {},
     "output_type": "execute_result"
    }
   ],
   "source": [
    "len(pangenie_svs_sample_INS_eqtl['feature_id'].drop_duplicates())"
   ]
  },
  {
   "cell_type": "code",
   "execution_count": 72,
   "id": "organized-harassment",
   "metadata": {},
   "outputs": [
    {
     "data": {
      "text/plain": [
       "22"
      ]
     },
     "execution_count": 72,
     "metadata": {},
     "output_type": "execute_result"
    }
   ],
   "source": [
    "eqtl_DEL_boundary_gene = list(pangenie_svs_sample_DEL_eqtl['feature_id'])\n",
    "len(eqtl_DEL_boundary_gene)"
   ]
  },
  {
   "cell_type": "code",
   "execution_count": 73,
   "id": "tracked-retreat",
   "metadata": {},
   "outputs": [
    {
     "data": {
      "text/plain": [
       "39"
      ]
     },
     "execution_count": 73,
     "metadata": {},
     "output_type": "execute_result"
    }
   ],
   "source": [
    "eqtl_INS_boundary_gene = list(pangenie_svs_sample_INS_eqtl['feature_id'])\n",
    "len(eqtl_INS_boundary_gene)"
   ]
  },
  {
   "cell_type": "code",
   "execution_count": 74,
   "id": "automotive-equity",
   "metadata": {},
   "outputs": [],
   "source": [
    "gene_expression = pd.read_csv('featureCounts_v2.genes.counts.edgeR.log.txt', sep='\\t', header=0)\n",
    "gene_expression_DEL_boundary = gene_expression.filter(items = eqtl_DEL_boundary_gene, axis=0)\n",
    "gene_expression_INS_boundary = gene_expression.filter(items = eqtl_INS_boundary_gene, axis=0)"
   ]
  },
  {
   "cell_type": "code",
   "execution_count": 75,
   "id": "complex-remainder",
   "metadata": {},
   "outputs": [],
   "source": [
    "sample = ['HG01114','HG03065','HG01505','HG02492','HG00096','HG03732','HG01573','NA20509','HG02587','HG01596','NA19983','HG00864','HG02011','HG00733','HG03371','NA19036','NA20847','HG00171','NA18534','NA18939','HG03683','NA19240','HG03009','HG02018','HG00514','NA19650']\n",
    "gene_expression_DEL_boundary_sample = gene_expression_DEL_boundary.filter(regex='|'.join(sample), axis=1)\n",
    "gene_expression_INS_boundary_sample = gene_expression_INS_boundary.filter(regex='|'.join(sample), axis=1)\n",
    "## only keep the first 7 characters of the columns name\n",
    "gene_DEL_boundary_sample_rename = gene_expression_DEL_boundary_sample.rename(columns = lambda x : str(x)[:7])\n",
    "gene_INS_boundary_sample_rename = gene_expression_INS_boundary_sample.rename(columns = lambda x : str(x)[:7])\n",
    "gene_DEL_boundary_sample_rename_new =  gene_DEL_boundary_sample_rename.reset_index().rename(columns={'index': 'gene'})\n",
    "gene_INS_boundary_sample_rename_new =  gene_INS_boundary_sample_rename.reset_index().rename(columns={'index': 'gene'})"
   ]
  },
  {
   "cell_type": "code",
   "execution_count": 76,
   "id": "attended-ghost",
   "metadata": {},
   "outputs": [
    {
     "data": {
      "text/plain": [
       "22"
      ]
     },
     "execution_count": 76,
     "metadata": {},
     "output_type": "execute_result"
    }
   ],
   "source": [
    "INFO_ID = list(pangenie_svs_sample_DEL_eqtl.iloc[:, 1])\n",
    "len(INFO_ID)"
   ]
  },
  {
   "cell_type": "code",
   "execution_count": 77,
   "id": "corporate-palestine",
   "metadata": {},
   "outputs": [],
   "source": [
    "gene_DEL_boundary_sample_rename_new['INFO_ID'] = INFO_ID \n",
    "gene_DEL_boundary_sample_rename_new = gene_DEL_boundary_sample_rename_new[[\n",
    "'gene','INFO_ID', 'NA18534','NA18939','NA19036','NA19240','NA19650','NA19983','NA20509','NA20847','HG00096','HG00171','HG00514','HG00733','HG00864','HG01114','HG01505','HG01573','HG01596','HG02011','HG02018','HG02492','HG02587','HG03009','HG03065','HG03371','HG03683','HG03732'\n",
    "    ]]"
   ]
  },
  {
   "cell_type": "code",
   "execution_count": 78,
   "id": "rough-entity",
   "metadata": {},
   "outputs": [
    {
     "data": {
      "text/plain": [
       "(22, 28)"
      ]
     },
     "execution_count": 78,
     "metadata": {},
     "output_type": "execute_result"
    }
   ],
   "source": [
    "gene_DEL_boundary_sample_rename_new.shape"
   ]
  },
  {
   "cell_type": "code",
   "execution_count": 79,
   "id": "helpful-absorption",
   "metadata": {},
   "outputs": [
    {
     "data": {
      "text/plain": [
       "39"
      ]
     },
     "execution_count": 79,
     "metadata": {},
     "output_type": "execute_result"
    }
   ],
   "source": [
    "INFO_ID = list(pangenie_svs_sample_INS_eqtl.iloc[:, 1])\n",
    "len(INFO_ID)"
   ]
  },
  {
   "cell_type": "code",
   "execution_count": 80,
   "id": "nutritional-driver",
   "metadata": {},
   "outputs": [],
   "source": [
    "gene_INS_boundary_sample_rename_new['INFO_ID'] = INFO_ID \n",
    "gene_INS_boundary_sample_rename_new = gene_INS_boundary_sample_rename_new[[\n",
    "'gene','INFO_ID', 'NA18534','NA18939','NA19036','NA19240','NA19650','NA19983','NA20509','NA20847','HG00096','HG00171','HG00514','HG00733','HG00864','HG01114','HG01505','HG01573','HG01596','HG02011','HG02018','HG02492','HG02587','HG03009','HG03065','HG03371','HG03683','HG03732'\n",
    "    ]]"
   ]
  },
  {
   "cell_type": "code",
   "execution_count": 81,
   "id": "dense-estonia",
   "metadata": {},
   "outputs": [
    {
     "data": {
      "text/plain": [
       "(39, 28)"
      ]
     },
     "execution_count": 81,
     "metadata": {},
     "output_type": "execute_result"
    }
   ],
   "source": [
    "gene_INS_boundary_sample_rename_new.shape"
   ]
  },
  {
   "cell_type": "code",
   "execution_count": 82,
   "id": "ruled-original",
   "metadata": {},
   "outputs": [],
   "source": [
    "### test for genotypes 0 and 1\n",
    "pvalue= []\n",
    "\n",
    "for i in range(0, len(gene_DEL_boundary_sample_rename_new)):\n",
    "    DEL_boundary_genotype_all = DEL_boundary_genotype[DEL_boundary_genotype.loc[:,'INFO_ID'] == gene_DEL_boundary_sample_rename_new.loc[i,'INFO_ID']].iloc[:,8:35]\n",
    "    genotypes_list = DEL_boundary_genotype_all.iloc[0].values.tolist()\n",
    "    gene_expression_list = gene_DEL_boundary_sample_rename_new.iloc[i, 2:28].values.tolist()\n",
    "\n",
    "    df = pd.DataFrame({'genotypes' : genotypes_list,\n",
    "                   'gene_expression' : gene_expression_list})\n",
    "    \n",
    "    df_new = df.assign(expression=df.groupby('genotypes').cumcount()).pivot('expression','genotypes','gene_expression')\n",
    "    \n",
    "    try:\n",
    "        U, p = mannwhitneyu(x=df_new[0].dropna().tolist(), y=df_new[1].dropna().tolist(), method=\"exact\", alternative = 'two-sided')\n",
    "        #print (p)\n",
    "        \n",
    "    except KeyError:\n",
    "        p = 'NA'\n",
    "        #print (p)\n",
    "    \n",
    "    pvalue.append(p)\n",
    "    \n",
    "gene_DEL_boundary_sample_rename_new['pvalue_0_1'] = pvalue"
   ]
  },
  {
   "cell_type": "code",
   "execution_count": 83,
   "id": "talented-beginning",
   "metadata": {},
   "outputs": [
    {
     "data": {
      "text/html": [
       "<div>\n",
       "<style scoped>\n",
       "    .dataframe tbody tr th:only-of-type {\n",
       "        vertical-align: middle;\n",
       "    }\n",
       "\n",
       "    .dataframe tbody tr th {\n",
       "        vertical-align: top;\n",
       "    }\n",
       "\n",
       "    .dataframe thead th {\n",
       "        text-align: right;\n",
       "    }\n",
       "</style>\n",
       "<table border=\"1\" class=\"dataframe\">\n",
       "  <thead>\n",
       "    <tr style=\"text-align: right;\">\n",
       "      <th></th>\n",
       "      <th>gene</th>\n",
       "      <th>INFO_ID</th>\n",
       "      <th>NA18534</th>\n",
       "      <th>NA18939</th>\n",
       "      <th>NA19036</th>\n",
       "      <th>NA19240</th>\n",
       "      <th>NA19650</th>\n",
       "      <th>NA19983</th>\n",
       "      <th>NA20509</th>\n",
       "      <th>NA20847</th>\n",
       "      <th>...</th>\n",
       "      <th>HG02011</th>\n",
       "      <th>HG02018</th>\n",
       "      <th>HG02492</th>\n",
       "      <th>HG02587</th>\n",
       "      <th>HG03009</th>\n",
       "      <th>HG03065</th>\n",
       "      <th>HG03371</th>\n",
       "      <th>HG03683</th>\n",
       "      <th>HG03732</th>\n",
       "      <th>pvalue_0_1</th>\n",
       "    </tr>\n",
       "  </thead>\n",
       "  <tbody>\n",
       "    <tr>\n",
       "      <th>4</th>\n",
       "      <td>XKR9</td>\n",
       "      <td>chr8-70671321-DEL-1088</td>\n",
       "      <td>0.230725</td>\n",
       "      <td>0.078901</td>\n",
       "      <td>0.301779</td>\n",
       "      <td>0.267848</td>\n",
       "      <td>0.270861</td>\n",
       "      <td>0.136379</td>\n",
       "      <td>0.530737</td>\n",
       "      <td>0.218365</td>\n",
       "      <td>...</td>\n",
       "      <td>0.446265</td>\n",
       "      <td>0.214502</td>\n",
       "      <td>0.225182</td>\n",
       "      <td>0.273766</td>\n",
       "      <td>0.139141</td>\n",
       "      <td>0.287291</td>\n",
       "      <td>0.175466</td>\n",
       "      <td>0.463090</td>\n",
       "      <td>0.130936</td>\n",
       "      <td>0.000040</td>\n",
       "    </tr>\n",
       "    <tr>\n",
       "      <th>5</th>\n",
       "      <td>ERICH1</td>\n",
       "      <td>chr8-639689-DEL-149</td>\n",
       "      <td>1.748027</td>\n",
       "      <td>2.397384</td>\n",
       "      <td>1.672566</td>\n",
       "      <td>2.079122</td>\n",
       "      <td>1.959391</td>\n",
       "      <td>1.973457</td>\n",
       "      <td>2.233838</td>\n",
       "      <td>2.596048</td>\n",
       "      <td>...</td>\n",
       "      <td>1.900657</td>\n",
       "      <td>1.929456</td>\n",
       "      <td>1.850300</td>\n",
       "      <td>1.798068</td>\n",
       "      <td>2.061475</td>\n",
       "      <td>1.680383</td>\n",
       "      <td>1.861537</td>\n",
       "      <td>2.319171</td>\n",
       "      <td>2.234540</td>\n",
       "      <td>0.027393</td>\n",
       "    </tr>\n",
       "    <tr>\n",
       "      <th>6</th>\n",
       "      <td>ERICH1</td>\n",
       "      <td>chr8-644401-DEL-5014</td>\n",
       "      <td>1.748027</td>\n",
       "      <td>2.397384</td>\n",
       "      <td>1.672566</td>\n",
       "      <td>2.079122</td>\n",
       "      <td>1.959391</td>\n",
       "      <td>1.973457</td>\n",
       "      <td>2.233838</td>\n",
       "      <td>2.596048</td>\n",
       "      <td>...</td>\n",
       "      <td>1.900657</td>\n",
       "      <td>1.929456</td>\n",
       "      <td>1.850300</td>\n",
       "      <td>1.798068</td>\n",
       "      <td>2.061475</td>\n",
       "      <td>1.680383</td>\n",
       "      <td>1.861537</td>\n",
       "      <td>2.319171</td>\n",
       "      <td>2.234540</td>\n",
       "      <td>0.000122</td>\n",
       "    </tr>\n",
       "    <tr>\n",
       "      <th>14</th>\n",
       "      <td>LINC00638</td>\n",
       "      <td>chr14-104826838-DEL-186</td>\n",
       "      <td>0.609886</td>\n",
       "      <td>1.014848</td>\n",
       "      <td>0.708984</td>\n",
       "      <td>0.473654</td>\n",
       "      <td>0.914227</td>\n",
       "      <td>0.959242</td>\n",
       "      <td>0.875473</td>\n",
       "      <td>1.154632</td>\n",
       "      <td>...</td>\n",
       "      <td>0.631733</td>\n",
       "      <td>0.610735</td>\n",
       "      <td>0.745175</td>\n",
       "      <td>0.711802</td>\n",
       "      <td>0.736278</td>\n",
       "      <td>0.848344</td>\n",
       "      <td>0.906329</td>\n",
       "      <td>1.183598</td>\n",
       "      <td>1.091448</td>\n",
       "      <td>0.000173</td>\n",
       "    </tr>\n",
       "    <tr>\n",
       "      <th>16</th>\n",
       "      <td>COG4</td>\n",
       "      <td>chr16-70519107-DEL-320</td>\n",
       "      <td>4.491429</td>\n",
       "      <td>4.282323</td>\n",
       "      <td>4.564743</td>\n",
       "      <td>4.116230</td>\n",
       "      <td>4.709587</td>\n",
       "      <td>4.460420</td>\n",
       "      <td>4.604825</td>\n",
       "      <td>4.606563</td>\n",
       "      <td>...</td>\n",
       "      <td>4.492422</td>\n",
       "      <td>4.366832</td>\n",
       "      <td>4.954317</td>\n",
       "      <td>4.530447</td>\n",
       "      <td>4.446040</td>\n",
       "      <td>4.705948</td>\n",
       "      <td>4.383704</td>\n",
       "      <td>4.411063</td>\n",
       "      <td>4.815297</td>\n",
       "      <td>0.034205</td>\n",
       "    </tr>\n",
       "  </tbody>\n",
       "</table>\n",
       "<p>5 rows × 29 columns</p>\n",
       "</div>"
      ],
      "text/plain": [
       "         gene                  INFO_ID   NA18534   NA18939   NA19036  \\\n",
       "4        XKR9   chr8-70671321-DEL-1088  0.230725  0.078901  0.301779   \n",
       "5      ERICH1      chr8-639689-DEL-149  1.748027  2.397384  1.672566   \n",
       "6      ERICH1     chr8-644401-DEL-5014  1.748027  2.397384  1.672566   \n",
       "14  LINC00638  chr14-104826838-DEL-186  0.609886  1.014848  0.708984   \n",
       "16       COG4   chr16-70519107-DEL-320  4.491429  4.282323  4.564743   \n",
       "\n",
       "     NA19240   NA19650   NA19983   NA20509   NA20847  ...   HG02011   HG02018  \\\n",
       "4   0.267848  0.270861  0.136379  0.530737  0.218365  ...  0.446265  0.214502   \n",
       "5   2.079122  1.959391  1.973457  2.233838  2.596048  ...  1.900657  1.929456   \n",
       "6   2.079122  1.959391  1.973457  2.233838  2.596048  ...  1.900657  1.929456   \n",
       "14  0.473654  0.914227  0.959242  0.875473  1.154632  ...  0.631733  0.610735   \n",
       "16  4.116230  4.709587  4.460420  4.604825  4.606563  ...  4.492422  4.366832   \n",
       "\n",
       "     HG02492   HG02587   HG03009   HG03065   HG03371   HG03683   HG03732  \\\n",
       "4   0.225182  0.273766  0.139141  0.287291  0.175466  0.463090  0.130936   \n",
       "5   1.850300  1.798068  2.061475  1.680383  1.861537  2.319171  2.234540   \n",
       "6   1.850300  1.798068  2.061475  1.680383  1.861537  2.319171  2.234540   \n",
       "14  0.745175  0.711802  0.736278  0.848344  0.906329  1.183598  1.091448   \n",
       "16  4.954317  4.530447  4.446040  4.705948  4.383704  4.411063  4.815297   \n",
       "\n",
       "    pvalue_0_1  \n",
       "4     0.000040  \n",
       "5     0.027393  \n",
       "6     0.000122  \n",
       "14    0.000173  \n",
       "16    0.034205  \n",
       "\n",
       "[5 rows x 29 columns]"
      ]
     },
     "execution_count": 83,
     "metadata": {},
     "output_type": "execute_result"
    }
   ],
   "source": [
    "gene_DEL_boundary_sample_rename_new[gene_DEL_boundary_sample_rename_new['pvalue_0_1'] < 0.05]"
   ]
  },
  {
   "cell_type": "code",
   "execution_count": 84,
   "id": "played-belly",
   "metadata": {},
   "outputs": [],
   "source": [
    "### test for genotypes 0 and 1\n",
    "pvalue= []\n",
    "\n",
    "for i in range(0, len(gene_INS_boundary_sample_rename_new)):\n",
    "    INS_boundary_genotype_all = INS_boundary_genotype[INS_boundary_genotype.loc[:,'INFO_ID'] == gene_INS_boundary_sample_rename_new.loc[i,'INFO_ID']].iloc[:,8:35]\n",
    "    genotypes_list = INS_boundary_genotype_all.iloc[0].values.tolist()\n",
    "    gene_expression_list = gene_INS_boundary_sample_rename_new.iloc[i, 2:28].values.tolist()\n",
    "\n",
    "    df = pd.DataFrame({'genotypes' : genotypes_list,\n",
    "                   'gene_expression' : gene_expression_list})\n",
    "    \n",
    "    df_new = df.assign(expression=df.groupby('genotypes').cumcount()).pivot('expression','genotypes','gene_expression')\n",
    "    \n",
    "    try:\n",
    "        U, p = mannwhitneyu(x=df_new[0].dropna().tolist(), y=df_new[1].dropna().tolist(), method=\"exact\", alternative = 'two-sided')\n",
    "        #print (p)\n",
    "        \n",
    "    except KeyError:\n",
    "        p = 'NA'\n",
    "        #print (p)\n",
    "    \n",
    "    pvalue.append(p)\n",
    "    \n",
    "gene_INS_boundary_sample_rename_new['pvalue_0_1'] = pvalue"
   ]
  },
  {
   "cell_type": "code",
   "execution_count": 85,
   "id": "senior-enough",
   "metadata": {},
   "outputs": [
    {
     "data": {
      "text/html": [
       "<div>\n",
       "<style scoped>\n",
       "    .dataframe tbody tr th:only-of-type {\n",
       "        vertical-align: middle;\n",
       "    }\n",
       "\n",
       "    .dataframe tbody tr th {\n",
       "        vertical-align: top;\n",
       "    }\n",
       "\n",
       "    .dataframe thead th {\n",
       "        text-align: right;\n",
       "    }\n",
       "</style>\n",
       "<table border=\"1\" class=\"dataframe\">\n",
       "  <thead>\n",
       "    <tr style=\"text-align: right;\">\n",
       "      <th></th>\n",
       "      <th>gene</th>\n",
       "      <th>INFO_ID</th>\n",
       "      <th>NA18534</th>\n",
       "      <th>NA18939</th>\n",
       "      <th>NA19036</th>\n",
       "      <th>NA19240</th>\n",
       "      <th>NA19650</th>\n",
       "      <th>NA19983</th>\n",
       "      <th>NA20509</th>\n",
       "      <th>NA20847</th>\n",
       "      <th>...</th>\n",
       "      <th>HG02011</th>\n",
       "      <th>HG02018</th>\n",
       "      <th>HG02492</th>\n",
       "      <th>HG02587</th>\n",
       "      <th>HG03009</th>\n",
       "      <th>HG03065</th>\n",
       "      <th>HG03371</th>\n",
       "      <th>HG03683</th>\n",
       "      <th>HG03732</th>\n",
       "      <th>pvalue_0_1</th>\n",
       "    </tr>\n",
       "  </thead>\n",
       "  <tbody>\n",
       "    <tr>\n",
       "      <th>0</th>\n",
       "      <td>CCDC163</td>\n",
       "      <td>chr1-45497763-INS-354</td>\n",
       "      <td>2.451951</td>\n",
       "      <td>2.138003</td>\n",
       "      <td>2.807306</td>\n",
       "      <td>1.613811</td>\n",
       "      <td>2.671173</td>\n",
       "      <td>2.302246</td>\n",
       "      <td>2.088805</td>\n",
       "      <td>2.481762</td>\n",
       "      <td>...</td>\n",
       "      <td>2.629090</td>\n",
       "      <td>2.677383</td>\n",
       "      <td>2.596948</td>\n",
       "      <td>2.678364</td>\n",
       "      <td>2.705544</td>\n",
       "      <td>1.964997</td>\n",
       "      <td>2.047240</td>\n",
       "      <td>2.476094</td>\n",
       "      <td>2.718013</td>\n",
       "      <td>0.012772</td>\n",
       "    </tr>\n",
       "    <tr>\n",
       "      <th>1</th>\n",
       "      <td>TESK2</td>\n",
       "      <td>chr1-45497763-INS-354</td>\n",
       "      <td>3.727556</td>\n",
       "      <td>3.232982</td>\n",
       "      <td>3.776108</td>\n",
       "      <td>2.972572</td>\n",
       "      <td>2.959789</td>\n",
       "      <td>2.984399</td>\n",
       "      <td>3.070232</td>\n",
       "      <td>3.653215</td>\n",
       "      <td>...</td>\n",
       "      <td>3.431179</td>\n",
       "      <td>3.117390</td>\n",
       "      <td>3.183825</td>\n",
       "      <td>3.841491</td>\n",
       "      <td>3.130307</td>\n",
       "      <td>2.863411</td>\n",
       "      <td>3.244661</td>\n",
       "      <td>3.323535</td>\n",
       "      <td>3.269226</td>\n",
       "      <td>0.041446</td>\n",
       "    </tr>\n",
       "    <tr>\n",
       "      <th>2</th>\n",
       "      <td>MARC2</td>\n",
       "      <td>chr1-220781004-INS-321</td>\n",
       "      <td>3.142149</td>\n",
       "      <td>1.557398</td>\n",
       "      <td>1.114918</td>\n",
       "      <td>0.850355</td>\n",
       "      <td>1.038078</td>\n",
       "      <td>3.224358</td>\n",
       "      <td>2.717753</td>\n",
       "      <td>2.494286</td>\n",
       "      <td>...</td>\n",
       "      <td>1.595943</td>\n",
       "      <td>1.738261</td>\n",
       "      <td>1.704518</td>\n",
       "      <td>3.030049</td>\n",
       "      <td>1.363934</td>\n",
       "      <td>2.805114</td>\n",
       "      <td>2.416636</td>\n",
       "      <td>1.845741</td>\n",
       "      <td>1.567951</td>\n",
       "      <td>0.000230</td>\n",
       "    </tr>\n",
       "    <tr>\n",
       "      <th>3</th>\n",
       "      <td>C1orf115</td>\n",
       "      <td>chr1-220781004-INS-321</td>\n",
       "      <td>3.670019</td>\n",
       "      <td>1.288197</td>\n",
       "      <td>1.381543</td>\n",
       "      <td>1.476605</td>\n",
       "      <td>0.756454</td>\n",
       "      <td>3.365972</td>\n",
       "      <td>3.003896</td>\n",
       "      <td>2.257705</td>\n",
       "      <td>...</td>\n",
       "      <td>1.765845</td>\n",
       "      <td>2.393801</td>\n",
       "      <td>0.850476</td>\n",
       "      <td>3.583112</td>\n",
       "      <td>1.447648</td>\n",
       "      <td>1.653860</td>\n",
       "      <td>3.991472</td>\n",
       "      <td>1.556729</td>\n",
       "      <td>1.269378</td>\n",
       "      <td>0.000062</td>\n",
       "    </tr>\n",
       "    <tr>\n",
       "      <th>15</th>\n",
       "      <td>LOC112267974</td>\n",
       "      <td>chr6-130293639-INS-295</td>\n",
       "      <td>0.695876</td>\n",
       "      <td>1.733167</td>\n",
       "      <td>1.656363</td>\n",
       "      <td>3.240195</td>\n",
       "      <td>1.345622</td>\n",
       "      <td>1.799491</td>\n",
       "      <td>1.392224</td>\n",
       "      <td>2.942051</td>\n",
       "      <td>...</td>\n",
       "      <td>2.221368</td>\n",
       "      <td>1.429414</td>\n",
       "      <td>1.516744</td>\n",
       "      <td>2.910385</td>\n",
       "      <td>2.157659</td>\n",
       "      <td>1.750333</td>\n",
       "      <td>1.691537</td>\n",
       "      <td>0.901506</td>\n",
       "      <td>2.504318</td>\n",
       "      <td>0.046354</td>\n",
       "    </tr>\n",
       "    <tr>\n",
       "      <th>16</th>\n",
       "      <td>TMEM200A</td>\n",
       "      <td>chr6-130293639-INS-295</td>\n",
       "      <td>2.303405</td>\n",
       "      <td>2.650858</td>\n",
       "      <td>3.043825</td>\n",
       "      <td>3.450595</td>\n",
       "      <td>2.748188</td>\n",
       "      <td>2.839752</td>\n",
       "      <td>2.489334</td>\n",
       "      <td>3.862035</td>\n",
       "      <td>...</td>\n",
       "      <td>3.410804</td>\n",
       "      <td>2.712212</td>\n",
       "      <td>2.924135</td>\n",
       "      <td>4.531084</td>\n",
       "      <td>3.361059</td>\n",
       "      <td>3.611612</td>\n",
       "      <td>3.634799</td>\n",
       "      <td>1.505742</td>\n",
       "      <td>3.210732</td>\n",
       "      <td>0.007681</td>\n",
       "    </tr>\n",
       "    <tr>\n",
       "      <th>18</th>\n",
       "      <td>SAMD3</td>\n",
       "      <td>chr6-130293639-INS-295</td>\n",
       "      <td>0.224783</td>\n",
       "      <td>0.458532</td>\n",
       "      <td>0.441411</td>\n",
       "      <td>1.106813</td>\n",
       "      <td>0.270949</td>\n",
       "      <td>0.730064</td>\n",
       "      <td>0.337769</td>\n",
       "      <td>1.007796</td>\n",
       "      <td>...</td>\n",
       "      <td>0.713667</td>\n",
       "      <td>0.377570</td>\n",
       "      <td>0.623951</td>\n",
       "      <td>1.134473</td>\n",
       "      <td>0.641602</td>\n",
       "      <td>0.516529</td>\n",
       "      <td>0.569114</td>\n",
       "      <td>0.264691</td>\n",
       "      <td>0.755668</td>\n",
       "      <td>0.023364</td>\n",
       "    </tr>\n",
       "    <tr>\n",
       "      <th>20</th>\n",
       "      <td>LOC102723656</td>\n",
       "      <td>chr7-55783655-INS-305</td>\n",
       "      <td>0.138756</td>\n",
       "      <td>0.021388</td>\n",
       "      <td>0.522665</td>\n",
       "      <td>0.309137</td>\n",
       "      <td>0.105346</td>\n",
       "      <td>0.367735</td>\n",
       "      <td>0.200672</td>\n",
       "      <td>0.375699</td>\n",
       "      <td>...</td>\n",
       "      <td>0.336785</td>\n",
       "      <td>0.300737</td>\n",
       "      <td>0.302621</td>\n",
       "      <td>0.808641</td>\n",
       "      <td>0.204893</td>\n",
       "      <td>1.023188</td>\n",
       "      <td>0.426118</td>\n",
       "      <td>0.371994</td>\n",
       "      <td>0.402534</td>\n",
       "      <td>0.003054</td>\n",
       "    </tr>\n",
       "    <tr>\n",
       "      <th>21</th>\n",
       "      <td>LOC101060341</td>\n",
       "      <td>chr7-55783655-INS-305</td>\n",
       "      <td>0.052978</td>\n",
       "      <td>0.055925</td>\n",
       "      <td>0.233678</td>\n",
       "      <td>0.153011</td>\n",
       "      <td>0.049746</td>\n",
       "      <td>0.235489</td>\n",
       "      <td>0.235998</td>\n",
       "      <td>0.188121</td>\n",
       "      <td>...</td>\n",
       "      <td>0.110397</td>\n",
       "      <td>0.057820</td>\n",
       "      <td>0.150939</td>\n",
       "      <td>0.418166</td>\n",
       "      <td>0.151934</td>\n",
       "      <td>0.511560</td>\n",
       "      <td>0.332467</td>\n",
       "      <td>0.419341</td>\n",
       "      <td>0.226926</td>\n",
       "      <td>0.000528</td>\n",
       "    </tr>\n",
       "    <tr>\n",
       "      <th>22</th>\n",
       "      <td>LCN8</td>\n",
       "      <td>chr9-136779140-INS-50</td>\n",
       "      <td>0.157390</td>\n",
       "      <td>0.000000</td>\n",
       "      <td>0.000000</td>\n",
       "      <td>0.000000</td>\n",
       "      <td>0.000000</td>\n",
       "      <td>0.000000</td>\n",
       "      <td>0.005477</td>\n",
       "      <td>0.020052</td>\n",
       "      <td>...</td>\n",
       "      <td>0.016479</td>\n",
       "      <td>0.011318</td>\n",
       "      <td>0.000000</td>\n",
       "      <td>0.000000</td>\n",
       "      <td>0.027785</td>\n",
       "      <td>0.023173</td>\n",
       "      <td>0.000000</td>\n",
       "      <td>0.262920</td>\n",
       "      <td>0.000000</td>\n",
       "      <td>0.000091</td>\n",
       "    </tr>\n",
       "    <tr>\n",
       "      <th>25</th>\n",
       "      <td>TMEM255B</td>\n",
       "      <td>chr13-113803920-INS-76</td>\n",
       "      <td>0.131326</td>\n",
       "      <td>0.101067</td>\n",
       "      <td>0.033817</td>\n",
       "      <td>0.054191</td>\n",
       "      <td>0.003788</td>\n",
       "      <td>0.022192</td>\n",
       "      <td>0.205124</td>\n",
       "      <td>0.067153</td>\n",
       "      <td>...</td>\n",
       "      <td>0.026093</td>\n",
       "      <td>0.026827</td>\n",
       "      <td>0.099954</td>\n",
       "      <td>0.187906</td>\n",
       "      <td>0.015201</td>\n",
       "      <td>0.096131</td>\n",
       "      <td>0.006865</td>\n",
       "      <td>0.057738</td>\n",
       "      <td>0.055779</td>\n",
       "      <td>0.024615</td>\n",
       "    </tr>\n",
       "    <tr>\n",
       "      <th>26</th>\n",
       "      <td>TMEM255B</td>\n",
       "      <td>chr13-113793402-INS-78</td>\n",
       "      <td>0.131326</td>\n",
       "      <td>0.101067</td>\n",
       "      <td>0.033817</td>\n",
       "      <td>0.054191</td>\n",
       "      <td>0.003788</td>\n",
       "      <td>0.022192</td>\n",
       "      <td>0.205124</td>\n",
       "      <td>0.067153</td>\n",
       "      <td>...</td>\n",
       "      <td>0.026093</td>\n",
       "      <td>0.026827</td>\n",
       "      <td>0.099954</td>\n",
       "      <td>0.187906</td>\n",
       "      <td>0.015201</td>\n",
       "      <td>0.096131</td>\n",
       "      <td>0.006865</td>\n",
       "      <td>0.057738</td>\n",
       "      <td>0.055779</td>\n",
       "      <td>0.024615</td>\n",
       "    </tr>\n",
       "  </tbody>\n",
       "</table>\n",
       "<p>12 rows × 29 columns</p>\n",
       "</div>"
      ],
      "text/plain": [
       "            gene                 INFO_ID   NA18534   NA18939   NA19036  \\\n",
       "0        CCDC163   chr1-45497763-INS-354  2.451951  2.138003  2.807306   \n",
       "1          TESK2   chr1-45497763-INS-354  3.727556  3.232982  3.776108   \n",
       "2          MARC2  chr1-220781004-INS-321  3.142149  1.557398  1.114918   \n",
       "3       C1orf115  chr1-220781004-INS-321  3.670019  1.288197  1.381543   \n",
       "15  LOC112267974  chr6-130293639-INS-295  0.695876  1.733167  1.656363   \n",
       "16      TMEM200A  chr6-130293639-INS-295  2.303405  2.650858  3.043825   \n",
       "18         SAMD3  chr6-130293639-INS-295  0.224783  0.458532  0.441411   \n",
       "20  LOC102723656   chr7-55783655-INS-305  0.138756  0.021388  0.522665   \n",
       "21  LOC101060341   chr7-55783655-INS-305  0.052978  0.055925  0.233678   \n",
       "22          LCN8   chr9-136779140-INS-50  0.157390  0.000000  0.000000   \n",
       "25      TMEM255B  chr13-113803920-INS-76  0.131326  0.101067  0.033817   \n",
       "26      TMEM255B  chr13-113793402-INS-78  0.131326  0.101067  0.033817   \n",
       "\n",
       "     NA19240   NA19650   NA19983   NA20509   NA20847  ...   HG02011   HG02018  \\\n",
       "0   1.613811  2.671173  2.302246  2.088805  2.481762  ...  2.629090  2.677383   \n",
       "1   2.972572  2.959789  2.984399  3.070232  3.653215  ...  3.431179  3.117390   \n",
       "2   0.850355  1.038078  3.224358  2.717753  2.494286  ...  1.595943  1.738261   \n",
       "3   1.476605  0.756454  3.365972  3.003896  2.257705  ...  1.765845  2.393801   \n",
       "15  3.240195  1.345622  1.799491  1.392224  2.942051  ...  2.221368  1.429414   \n",
       "16  3.450595  2.748188  2.839752  2.489334  3.862035  ...  3.410804  2.712212   \n",
       "18  1.106813  0.270949  0.730064  0.337769  1.007796  ...  0.713667  0.377570   \n",
       "20  0.309137  0.105346  0.367735  0.200672  0.375699  ...  0.336785  0.300737   \n",
       "21  0.153011  0.049746  0.235489  0.235998  0.188121  ...  0.110397  0.057820   \n",
       "22  0.000000  0.000000  0.000000  0.005477  0.020052  ...  0.016479  0.011318   \n",
       "25  0.054191  0.003788  0.022192  0.205124  0.067153  ...  0.026093  0.026827   \n",
       "26  0.054191  0.003788  0.022192  0.205124  0.067153  ...  0.026093  0.026827   \n",
       "\n",
       "     HG02492   HG02587   HG03009   HG03065   HG03371   HG03683   HG03732  \\\n",
       "0   2.596948  2.678364  2.705544  1.964997  2.047240  2.476094  2.718013   \n",
       "1   3.183825  3.841491  3.130307  2.863411  3.244661  3.323535  3.269226   \n",
       "2   1.704518  3.030049  1.363934  2.805114  2.416636  1.845741  1.567951   \n",
       "3   0.850476  3.583112  1.447648  1.653860  3.991472  1.556729  1.269378   \n",
       "15  1.516744  2.910385  2.157659  1.750333  1.691537  0.901506  2.504318   \n",
       "16  2.924135  4.531084  3.361059  3.611612  3.634799  1.505742  3.210732   \n",
       "18  0.623951  1.134473  0.641602  0.516529  0.569114  0.264691  0.755668   \n",
       "20  0.302621  0.808641  0.204893  1.023188  0.426118  0.371994  0.402534   \n",
       "21  0.150939  0.418166  0.151934  0.511560  0.332467  0.419341  0.226926   \n",
       "22  0.000000  0.000000  0.027785  0.023173  0.000000  0.262920  0.000000   \n",
       "25  0.099954  0.187906  0.015201  0.096131  0.006865  0.057738  0.055779   \n",
       "26  0.099954  0.187906  0.015201  0.096131  0.006865  0.057738  0.055779   \n",
       "\n",
       "    pvalue_0_1  \n",
       "0     0.012772  \n",
       "1     0.041446  \n",
       "2     0.000230  \n",
       "3     0.000062  \n",
       "15    0.046354  \n",
       "16    0.007681  \n",
       "18    0.023364  \n",
       "20    0.003054  \n",
       "21    0.000528  \n",
       "22    0.000091  \n",
       "25    0.024615  \n",
       "26    0.024615  \n",
       "\n",
       "[12 rows x 29 columns]"
      ]
     },
     "execution_count": 85,
     "metadata": {},
     "output_type": "execute_result"
    }
   ],
   "source": [
    "gene_INS_boundary_sample_rename_new[gene_INS_boundary_sample_rename_new['pvalue_0_1'] < 0.05]"
   ]
  },
  {
   "cell_type": "markdown",
   "id": "subtle-palmer",
   "metadata": {},
   "source": [
    "## SVs that significantly disrupt the TAD boundaries are also sQTLs"
   ]
  },
  {
   "cell_type": "code",
   "execution_count": 86,
   "id": "concrete-comparison",
   "metadata": {},
   "outputs": [],
   "source": [
    "sqtl = pd.read_csv('qtl_results_all_v2_fdr0.05.txt', sep = '\\t')"
   ]
  },
  {
   "cell_type": "code",
   "execution_count": 87,
   "id": "young-merchandise",
   "metadata": {},
   "outputs": [
    {
     "data": {
      "text/plain": [
       "(1103872, 22)"
      ]
     },
     "execution_count": 87,
     "metadata": {},
     "output_type": "execute_result"
    }
   ],
   "source": [
    "sqtl.shape"
   ]
  },
  {
   "cell_type": "code",
   "execution_count": 88,
   "id": "designed-choir",
   "metadata": {},
   "outputs": [],
   "source": [
    "pangenie_svs_sample_DEL_sqtl = sqtl[(sqtl['snp_id'].isin(all_DEL_boundary_3_sig['INFO_ID']))]"
   ]
  },
  {
   "cell_type": "code",
   "execution_count": 89,
   "id": "missing-massage",
   "metadata": {},
   "outputs": [
    {
     "data": {
      "text/plain": [
       "(28, 22)"
      ]
     },
     "execution_count": 89,
     "metadata": {},
     "output_type": "execute_result"
    }
   ],
   "source": [
    "pangenie_svs_sample_DEL_sqtl.shape"
   ]
  },
  {
   "cell_type": "code",
   "execution_count": 90,
   "id": "informative-cliff",
   "metadata": {},
   "outputs": [
    {
     "data": {
      "text/plain": [
       "10"
      ]
     },
     "execution_count": 90,
     "metadata": {},
     "output_type": "execute_result"
    }
   ],
   "source": [
    "len(pangenie_svs_sample_DEL_sqtl['snp_id'].drop_duplicates())"
   ]
  },
  {
   "cell_type": "code",
   "execution_count": 91,
   "id": "elect-overview",
   "metadata": {},
   "outputs": [
    {
     "data": {
      "text/plain": [
       "25"
      ]
     },
     "execution_count": 91,
     "metadata": {},
     "output_type": "execute_result"
    }
   ],
   "source": [
    "len(pangenie_svs_sample_DEL_sqtl['feature_id'].drop_duplicates())"
   ]
  },
  {
   "cell_type": "code",
   "execution_count": 92,
   "id": "compound-membership",
   "metadata": {},
   "outputs": [],
   "source": [
    "pangenie_svs_sample_INS_sqtl = sqtl[(sqtl['snp_id'].isin(all_INS_boundary_3_sig['INFO_ID']))]"
   ]
  },
  {
   "cell_type": "code",
   "execution_count": 93,
   "id": "alike-jungle",
   "metadata": {},
   "outputs": [
    {
     "data": {
      "text/plain": [
       "(67, 22)"
      ]
     },
     "execution_count": 93,
     "metadata": {},
     "output_type": "execute_result"
    }
   ],
   "source": [
    "pangenie_svs_sample_INS_sqtl.shape"
   ]
  },
  {
   "cell_type": "code",
   "execution_count": 94,
   "id": "white-intranet",
   "metadata": {},
   "outputs": [
    {
     "data": {
      "text/plain": [
       "9"
      ]
     },
     "execution_count": 94,
     "metadata": {},
     "output_type": "execute_result"
    }
   ],
   "source": [
    "len(pangenie_svs_sample_INS_sqtl['snp_id'].drop_duplicates())"
   ]
  },
  {
   "cell_type": "code",
   "execution_count": 95,
   "id": "weird-corporation",
   "metadata": {},
   "outputs": [
    {
     "data": {
      "text/plain": [
       "67"
      ]
     },
     "execution_count": 95,
     "metadata": {},
     "output_type": "execute_result"
    }
   ],
   "source": [
    "len(pangenie_svs_sample_INS_sqtl['feature_id'].drop_duplicates())"
   ]
  },
  {
   "cell_type": "code",
   "execution_count": 96,
   "id": "textile-cincinnati",
   "metadata": {},
   "outputs": [],
   "source": [
    "sqtl_DEL_boundary_feature = list(pangenie_svs_sample_DEL_sqtl['feature_id'])\n",
    "sqtl_INS_boundary_feature = list(pangenie_svs_sample_INS_sqtl['feature_id'])"
   ]
  },
  {
   "cell_type": "code",
   "execution_count": 97,
   "id": "manual-beginning",
   "metadata": {},
   "outputs": [],
   "source": [
    "splicing_ratio = pd.read_csv('LCL_perind.counts.qqnorm.CovariatesRemoved.cs.txt', sep='\\t', header = 0, index_col=0)"
   ]
  },
  {
   "cell_type": "code",
   "execution_count": 98,
   "id": "certified-restoration",
   "metadata": {},
   "outputs": [
    {
     "data": {
      "text/plain": [
       "(143713, 444)"
      ]
     },
     "execution_count": 98,
     "metadata": {},
     "output_type": "execute_result"
    }
   ],
   "source": [
    "splicing_ratio.shape"
   ]
  },
  {
   "cell_type": "code",
   "execution_count": 99,
   "id": "bound-camping",
   "metadata": {},
   "outputs": [],
   "source": [
    "splicing_DEL_boundary = splicing_ratio.filter(items = sqtl_DEL_boundary_feature, axis=0)\n",
    "splicing_INS_boundary = splicing_ratio.filter(items = sqtl_INS_boundary_feature, axis=0)"
   ]
  },
  {
   "cell_type": "code",
   "execution_count": 100,
   "id": "mechanical-malta",
   "metadata": {},
   "outputs": [],
   "source": [
    "sample = ['HG01114','HG03065','HG01505','HG02492','HG00096','HG03732','HG01573','NA20509','HG02587','HG01596','NA19983','HG00864','HG02011','HG00733','HG03371','NA19036','NA20847','HG00171','NA18534','NA18939','HG03683','NA19240','HG03009','HG02018','HG00514','NA19650']\n",
    "splicing_DEL_boundary_sample = splicing_DEL_boundary.filter(regex='|'.join(sample), axis=1)\n",
    "splicing_INS_boundary_sample = splicing_INS_boundary.filter(regex='|'.join(sample), axis=1)\n",
    "## only keep the first 7 characters of the columns name\n",
    "splicing_DEL_boundary_sample_rename = splicing_DEL_boundary_sample.rename(columns = lambda x : str(x)[:7])\n",
    "splicing_INS_boundary_sample_rename = splicing_INS_boundary_sample.rename(columns = lambda x : str(x)[:7])"
   ]
  },
  {
   "cell_type": "code",
   "execution_count": 101,
   "id": "following-switch",
   "metadata": {},
   "outputs": [],
   "source": [
    "splicing_DEL_boundary_sample_rename_new = splicing_DEL_boundary_sample_rename.reset_index().rename(columns={'index': 'feature_id'})\n",
    "splicing_INS_boundary_sample_rename_new = splicing_INS_boundary_sample_rename.reset_index().rename(columns={'index': 'feature_id'})"
   ]
  },
  {
   "cell_type": "code",
   "execution_count": 102,
   "id": "challenging-capacity",
   "metadata": {},
   "outputs": [
    {
     "data": {
      "text/plain": [
       "28"
      ]
     },
     "execution_count": 102,
     "metadata": {},
     "output_type": "execute_result"
    }
   ],
   "source": [
    "INFO_ID = list(pangenie_svs_sample_DEL_sqtl.iloc[:, 1])\n",
    "len(INFO_ID)"
   ]
  },
  {
   "cell_type": "code",
   "execution_count": 103,
   "id": "assumed-medicare",
   "metadata": {},
   "outputs": [],
   "source": [
    "splicing_DEL_boundary_sample_rename_new['INFO_ID'] = INFO_ID \n",
    "splicing_DEL_boundary_sample_rename_new = splicing_DEL_boundary_sample_rename_new[[\n",
    "'feature_id','INFO_ID', 'NA18534','NA18939','NA19036','NA19240','NA19650','NA19983','NA20509','NA20847','HG00096','HG00171','HG00514','HG00733','HG00864','HG01114','HG01505','HG01573','HG01596','HG02011','HG02018','HG02492','HG02587','HG03009','HG03065','HG03371','HG03683','HG03732'\n",
    "    ]]"
   ]
  },
  {
   "cell_type": "code",
   "execution_count": 104,
   "id": "subsequent-valley",
   "metadata": {},
   "outputs": [
    {
     "data": {
      "text/plain": [
       "67"
      ]
     },
     "execution_count": 104,
     "metadata": {},
     "output_type": "execute_result"
    }
   ],
   "source": [
    "INFO_ID = list(pangenie_svs_sample_INS_sqtl.iloc[:, 1])\n",
    "len(INFO_ID)"
   ]
  },
  {
   "cell_type": "code",
   "execution_count": 105,
   "id": "coupled-activation",
   "metadata": {},
   "outputs": [],
   "source": [
    "splicing_INS_boundary_sample_rename_new['INFO_ID'] = INFO_ID \n",
    "splicing_INS_boundary_sample_rename_new = splicing_INS_boundary_sample_rename_new[[\n",
    "'feature_id','INFO_ID', 'NA18534','NA18939','NA19036','NA19240','NA19650','NA19983','NA20509','NA20847','HG00096','HG00171','HG00514','HG00733','HG00864','HG01114','HG01505','HG01573','HG01596','HG02011','HG02018','HG02492','HG02587','HG03009','HG03065','HG03371','HG03683','HG03732'\n",
    "    ]]"
   ]
  },
  {
   "cell_type": "code",
   "execution_count": 106,
   "id": "actual-strength",
   "metadata": {},
   "outputs": [],
   "source": [
    "### test for genotypes 0 and 1\n",
    "pvalue= []\n",
    "for i in range(0, len(splicing_DEL_boundary_sample_rename_new)):\n",
    "    DEL_boundary_genotype_all = DEL_boundary_genotype[DEL_boundary_genotype.loc[:,'INFO_ID'] == splicing_DEL_boundary_sample_rename_new.loc[i,'INFO_ID']].iloc[:,8:35]\n",
    "    genotypes_list = DEL_boundary_genotype_all.iloc[0].values.tolist()\n",
    "    splicing_ratio_list = splicing_DEL_boundary_sample_rename_new.iloc[i, 2:28].values.tolist()\n",
    "\n",
    "    df = pd.DataFrame({'genotypes' : genotypes_list,\n",
    "                   'splicing_ratio' : splicing_ratio_list})\n",
    "    \n",
    "    df_new = df.assign(splicing=df.groupby('genotypes').cumcount()).pivot('splicing','genotypes','splicing_ratio')\n",
    "    \n",
    "    try:\n",
    "        U, p = mannwhitneyu(x=df_new[0].dropna().tolist(), y=df_new[1].dropna().tolist(), method=\"exact\", alternative = 'two-sided')\n",
    "        #print (p)\n",
    "        \n",
    "    except KeyError:\n",
    "        p = 'NA'\n",
    "        #print (p)\n",
    "    \n",
    "    pvalue.append(p)\n",
    "    \n",
    "splicing_DEL_boundary_sample_rename_new['pvalue_0_1'] = pvalue"
   ]
  },
  {
   "cell_type": "code",
   "execution_count": 107,
   "id": "opponent-sandwich",
   "metadata": {},
   "outputs": [
    {
     "data": {
      "text/html": [
       "<div>\n",
       "<style scoped>\n",
       "    .dataframe tbody tr th:only-of-type {\n",
       "        vertical-align: middle;\n",
       "    }\n",
       "\n",
       "    .dataframe tbody tr th {\n",
       "        vertical-align: top;\n",
       "    }\n",
       "\n",
       "    .dataframe thead th {\n",
       "        text-align: right;\n",
       "    }\n",
       "</style>\n",
       "<table border=\"1\" class=\"dataframe\">\n",
       "  <thead>\n",
       "    <tr style=\"text-align: right;\">\n",
       "      <th></th>\n",
       "      <th>feature_id</th>\n",
       "      <th>INFO_ID</th>\n",
       "      <th>NA18534</th>\n",
       "      <th>NA18939</th>\n",
       "      <th>NA19036</th>\n",
       "      <th>NA19240</th>\n",
       "      <th>NA19650</th>\n",
       "      <th>NA19983</th>\n",
       "      <th>NA20509</th>\n",
       "      <th>NA20847</th>\n",
       "      <th>...</th>\n",
       "      <th>HG02011</th>\n",
       "      <th>HG02018</th>\n",
       "      <th>HG02492</th>\n",
       "      <th>HG02587</th>\n",
       "      <th>HG03009</th>\n",
       "      <th>HG03065</th>\n",
       "      <th>HG03371</th>\n",
       "      <th>HG03683</th>\n",
       "      <th>HG03732</th>\n",
       "      <th>pvalue_0_1</th>\n",
       "    </tr>\n",
       "  </thead>\n",
       "  <tbody>\n",
       "    <tr>\n",
       "      <th>1</th>\n",
       "      <td>6:87391835:87392725:clu_24429_+</td>\n",
       "      <td>chr6-87408456-DEL-133</td>\n",
       "      <td>-0.936184</td>\n",
       "      <td>0.012348</td>\n",
       "      <td>1.076310</td>\n",
       "      <td>2.158304</td>\n",
       "      <td>-0.932265</td>\n",
       "      <td>0.412867</td>\n",
       "      <td>-0.841126</td>\n",
       "      <td>-0.767154</td>\n",
       "      <td>...</td>\n",
       "      <td>-0.708359</td>\n",
       "      <td>0.036234</td>\n",
       "      <td>-1.040756</td>\n",
       "      <td>-1.141381</td>\n",
       "      <td>0.385166</td>\n",
       "      <td>-0.996222</td>\n",
       "      <td>-1.159694</td>\n",
       "      <td>0.681233</td>\n",
       "      <td>-0.554325</td>\n",
       "      <td>0.014847</td>\n",
       "    </tr>\n",
       "    <tr>\n",
       "      <th>4</th>\n",
       "      <td>8:70669538:70674818:clu_22301_+</td>\n",
       "      <td>chr8-70671321-DEL-1088</td>\n",
       "      <td>-0.005980</td>\n",
       "      <td>-0.950419</td>\n",
       "      <td>-0.399550</td>\n",
       "      <td>-0.929802</td>\n",
       "      <td>2.013419</td>\n",
       "      <td>-1.227758</td>\n",
       "      <td>2.069432</td>\n",
       "      <td>-1.077835</td>\n",
       "      <td>...</td>\n",
       "      <td>-0.780188</td>\n",
       "      <td>-1.215290</td>\n",
       "      <td>-0.646946</td>\n",
       "      <td>1.773509</td>\n",
       "      <td>-1.187269</td>\n",
       "      <td>0.009941</td>\n",
       "      <td>1.334757</td>\n",
       "      <td>0.612355</td>\n",
       "      <td>-0.937157</td>\n",
       "      <td>0.000244</td>\n",
       "    </tr>\n",
       "    <tr>\n",
       "      <th>5</th>\n",
       "      <td>8:664676:668598:clu_8652_-</td>\n",
       "      <td>chr8-644401-DEL-5014</td>\n",
       "      <td>1.245457</td>\n",
       "      <td>-0.414052</td>\n",
       "      <td>1.217779</td>\n",
       "      <td>-0.759694</td>\n",
       "      <td>1.209294</td>\n",
       "      <td>1.131286</td>\n",
       "      <td>-0.186955</td>\n",
       "      <td>0.427311</td>\n",
       "      <td>...</td>\n",
       "      <td>0.134623</td>\n",
       "      <td>0.345217</td>\n",
       "      <td>1.370163</td>\n",
       "      <td>1.423127</td>\n",
       "      <td>0.506337</td>\n",
       "      <td>1.393303</td>\n",
       "      <td>0.331152</td>\n",
       "      <td>0.336981</td>\n",
       "      <td>0.661554</td>\n",
       "      <td>0.012405</td>\n",
       "    </tr>\n",
       "    <tr>\n",
       "      <th>6</th>\n",
       "      <td>8:640834:668598:clu_8652_-</td>\n",
       "      <td>chr8-639689-DEL-149</td>\n",
       "      <td>-1.331250</td>\n",
       "      <td>1.221957</td>\n",
       "      <td>-1.475604</td>\n",
       "      <td>0.898362</td>\n",
       "      <td>-1.557109</td>\n",
       "      <td>-1.498409</td>\n",
       "      <td>0.061330</td>\n",
       "      <td>0.288855</td>\n",
       "      <td>...</td>\n",
       "      <td>0.414936</td>\n",
       "      <td>0.447919</td>\n",
       "      <td>-1.577237</td>\n",
       "      <td>-1.630796</td>\n",
       "      <td>-0.181406</td>\n",
       "      <td>-1.552799</td>\n",
       "      <td>-0.199111</td>\n",
       "      <td>-0.010256</td>\n",
       "      <td>-0.255825</td>\n",
       "      <td>0.000301</td>\n",
       "    </tr>\n",
       "    <tr>\n",
       "      <th>7</th>\n",
       "      <td>8:664676:668598:clu_8652_-</td>\n",
       "      <td>chr8-639689-DEL-149</td>\n",
       "      <td>1.245457</td>\n",
       "      <td>-0.414052</td>\n",
       "      <td>1.217779</td>\n",
       "      <td>-0.759694</td>\n",
       "      <td>1.209294</td>\n",
       "      <td>1.131286</td>\n",
       "      <td>-0.186955</td>\n",
       "      <td>0.427311</td>\n",
       "      <td>...</td>\n",
       "      <td>0.134623</td>\n",
       "      <td>0.345217</td>\n",
       "      <td>1.370163</td>\n",
       "      <td>1.423127</td>\n",
       "      <td>0.506337</td>\n",
       "      <td>1.393303</td>\n",
       "      <td>0.331152</td>\n",
       "      <td>0.336981</td>\n",
       "      <td>0.661554</td>\n",
       "      <td>0.001621</td>\n",
       "    </tr>\n",
       "    <tr>\n",
       "      <th>8</th>\n",
       "      <td>8:692313:692478:clu_8654_-</td>\n",
       "      <td>chr8-639689-DEL-149</td>\n",
       "      <td>-0.853231</td>\n",
       "      <td>1.101585</td>\n",
       "      <td>-0.215530</td>\n",
       "      <td>-0.143407</td>\n",
       "      <td>-1.490113</td>\n",
       "      <td>0.476855</td>\n",
       "      <td>0.299725</td>\n",
       "      <td>-0.165151</td>\n",
       "      <td>...</td>\n",
       "      <td>0.064356</td>\n",
       "      <td>1.951518</td>\n",
       "      <td>-0.711567</td>\n",
       "      <td>-0.632646</td>\n",
       "      <td>-0.964003</td>\n",
       "      <td>-0.240850</td>\n",
       "      <td>-0.123726</td>\n",
       "      <td>0.171931</td>\n",
       "      <td>0.935975</td>\n",
       "      <td>0.006448</td>\n",
       "    </tr>\n",
       "    <tr>\n",
       "      <th>9</th>\n",
       "      <td>8:70652752:70653695:clu_22301_+</td>\n",
       "      <td>chr8-70671321-DEL-1088</td>\n",
       "      <td>0.704935</td>\n",
       "      <td>1.305387</td>\n",
       "      <td>0.883035</td>\n",
       "      <td>0.859624</td>\n",
       "      <td>-1.808690</td>\n",
       "      <td>0.580523</td>\n",
       "      <td>-2.483752</td>\n",
       "      <td>0.948607</td>\n",
       "      <td>...</td>\n",
       "      <td>-0.185246</td>\n",
       "      <td>0.328117</td>\n",
       "      <td>0.560184</td>\n",
       "      <td>-1.196977</td>\n",
       "      <td>0.807123</td>\n",
       "      <td>-0.060676</td>\n",
       "      <td>-0.594006</td>\n",
       "      <td>0.057426</td>\n",
       "      <td>0.818711</td>\n",
       "      <td>0.000140</td>\n",
       "    </tr>\n",
       "    <tr>\n",
       "      <th>10</th>\n",
       "      <td>8:640834:668598:clu_8652_-</td>\n",
       "      <td>chr8-644401-DEL-5014</td>\n",
       "      <td>-1.331250</td>\n",
       "      <td>1.221957</td>\n",
       "      <td>-1.475604</td>\n",
       "      <td>0.898362</td>\n",
       "      <td>-1.557109</td>\n",
       "      <td>-1.498409</td>\n",
       "      <td>0.061330</td>\n",
       "      <td>0.288855</td>\n",
       "      <td>...</td>\n",
       "      <td>0.414936</td>\n",
       "      <td>0.447919</td>\n",
       "      <td>-1.577237</td>\n",
       "      <td>-1.630796</td>\n",
       "      <td>-0.181406</td>\n",
       "      <td>-1.552799</td>\n",
       "      <td>-0.199111</td>\n",
       "      <td>-0.010256</td>\n",
       "      <td>-0.255825</td>\n",
       "      <td>0.040924</td>\n",
       "    </tr>\n",
       "    <tr>\n",
       "      <th>23</th>\n",
       "      <td>20:35632923:35664760:clu_21372_-</td>\n",
       "      <td>chr20-35960724-DEL-60</td>\n",
       "      <td>1.746169</td>\n",
       "      <td>0.529841</td>\n",
       "      <td>0.298889</td>\n",
       "      <td>-0.216541</td>\n",
       "      <td>-0.391229</td>\n",
       "      <td>0.191113</td>\n",
       "      <td>0.014453</td>\n",
       "      <td>-0.368097</td>\n",
       "      <td>...</td>\n",
       "      <td>1.366691</td>\n",
       "      <td>-0.306092</td>\n",
       "      <td>-0.028003</td>\n",
       "      <td>-0.167166</td>\n",
       "      <td>-0.169622</td>\n",
       "      <td>-0.432385</td>\n",
       "      <td>-0.916697</td>\n",
       "      <td>-0.475933</td>\n",
       "      <td>-0.963485</td>\n",
       "      <td>0.020419</td>\n",
       "    </tr>\n",
       "    <tr>\n",
       "      <th>24</th>\n",
       "      <td>20:35655344:35658930:clu_21372_-</td>\n",
       "      <td>chr20-35960724-DEL-60</td>\n",
       "      <td>-2.666742</td>\n",
       "      <td>-0.113100</td>\n",
       "      <td>-0.047915</td>\n",
       "      <td>0.324691</td>\n",
       "      <td>0.682168</td>\n",
       "      <td>0.111165</td>\n",
       "      <td>0.232633</td>\n",
       "      <td>0.199351</td>\n",
       "      <td>...</td>\n",
       "      <td>-0.019236</td>\n",
       "      <td>0.522568</td>\n",
       "      <td>0.629328</td>\n",
       "      <td>0.722698</td>\n",
       "      <td>0.518111</td>\n",
       "      <td>0.397488</td>\n",
       "      <td>0.963883</td>\n",
       "      <td>0.527364</td>\n",
       "      <td>1.150455</td>\n",
       "      <td>0.031556</td>\n",
       "    </tr>\n",
       "    <tr>\n",
       "      <th>25</th>\n",
       "      <td>20:35632923:35658930:clu_21372_-</td>\n",
       "      <td>chr20-35960724-DEL-60</td>\n",
       "      <td>0.152098</td>\n",
       "      <td>0.418184</td>\n",
       "      <td>0.353582</td>\n",
       "      <td>0.031710</td>\n",
       "      <td>-0.009831</td>\n",
       "      <td>1.008811</td>\n",
       "      <td>0.817291</td>\n",
       "      <td>-0.411666</td>\n",
       "      <td>...</td>\n",
       "      <td>1.039998</td>\n",
       "      <td>0.128767</td>\n",
       "      <td>0.239788</td>\n",
       "      <td>-0.015342</td>\n",
       "      <td>0.578768</td>\n",
       "      <td>-0.050955</td>\n",
       "      <td>-2.056413</td>\n",
       "      <td>-0.244741</td>\n",
       "      <td>-1.089664</td>\n",
       "      <td>0.007701</td>\n",
       "    </tr>\n",
       "    <tr>\n",
       "      <th>26</th>\n",
       "      <td>20:35626381:35626735:clu_21369_-</td>\n",
       "      <td>chr20-35960724-DEL-60</td>\n",
       "      <td>-0.432567</td>\n",
       "      <td>0.036543</td>\n",
       "      <td>-0.758824</td>\n",
       "      <td>0.380615</td>\n",
       "      <td>0.448366</td>\n",
       "      <td>-0.411455</td>\n",
       "      <td>0.123351</td>\n",
       "      <td>0.158921</td>\n",
       "      <td>...</td>\n",
       "      <td>0.118498</td>\n",
       "      <td>-0.012096</td>\n",
       "      <td>0.846607</td>\n",
       "      <td>0.066323</td>\n",
       "      <td>0.321752</td>\n",
       "      <td>0.041438</td>\n",
       "      <td>0.769644</td>\n",
       "      <td>0.496257</td>\n",
       "      <td>0.992429</td>\n",
       "      <td>0.007701</td>\n",
       "    </tr>\n",
       "    <tr>\n",
       "      <th>27</th>\n",
       "      <td>20:35626381:35626567:clu_21369_-</td>\n",
       "      <td>chr20-35960724-DEL-60</td>\n",
       "      <td>0.548644</td>\n",
       "      <td>0.026216</td>\n",
       "      <td>0.522271</td>\n",
       "      <td>-0.070876</td>\n",
       "      <td>-0.411626</td>\n",
       "      <td>0.380335</td>\n",
       "      <td>-0.271860</td>\n",
       "      <td>-0.091484</td>\n",
       "      <td>...</td>\n",
       "      <td>0.172651</td>\n",
       "      <td>0.484570</td>\n",
       "      <td>-0.176643</td>\n",
       "      <td>0.101298</td>\n",
       "      <td>-0.041055</td>\n",
       "      <td>-0.358616</td>\n",
       "      <td>-0.959188</td>\n",
       "      <td>0.294405</td>\n",
       "      <td>-1.346577</td>\n",
       "      <td>0.012772</td>\n",
       "    </tr>\n",
       "  </tbody>\n",
       "</table>\n",
       "<p>13 rows × 29 columns</p>\n",
       "</div>"
      ],
      "text/plain": [
       "                          feature_id                 INFO_ID   NA18534  \\\n",
       "1    6:87391835:87392725:clu_24429_+   chr6-87408456-DEL-133 -0.936184   \n",
       "4    8:70669538:70674818:clu_22301_+  chr8-70671321-DEL-1088 -0.005980   \n",
       "5         8:664676:668598:clu_8652_-    chr8-644401-DEL-5014  1.245457   \n",
       "6         8:640834:668598:clu_8652_-     chr8-639689-DEL-149 -1.331250   \n",
       "7         8:664676:668598:clu_8652_-     chr8-639689-DEL-149  1.245457   \n",
       "8         8:692313:692478:clu_8654_-     chr8-639689-DEL-149 -0.853231   \n",
       "9    8:70652752:70653695:clu_22301_+  chr8-70671321-DEL-1088  0.704935   \n",
       "10        8:640834:668598:clu_8652_-    chr8-644401-DEL-5014 -1.331250   \n",
       "23  20:35632923:35664760:clu_21372_-   chr20-35960724-DEL-60  1.746169   \n",
       "24  20:35655344:35658930:clu_21372_-   chr20-35960724-DEL-60 -2.666742   \n",
       "25  20:35632923:35658930:clu_21372_-   chr20-35960724-DEL-60  0.152098   \n",
       "26  20:35626381:35626735:clu_21369_-   chr20-35960724-DEL-60 -0.432567   \n",
       "27  20:35626381:35626567:clu_21369_-   chr20-35960724-DEL-60  0.548644   \n",
       "\n",
       "     NA18939   NA19036   NA19240   NA19650   NA19983   NA20509   NA20847  ...  \\\n",
       "1   0.012348  1.076310  2.158304 -0.932265  0.412867 -0.841126 -0.767154  ...   \n",
       "4  -0.950419 -0.399550 -0.929802  2.013419 -1.227758  2.069432 -1.077835  ...   \n",
       "5  -0.414052  1.217779 -0.759694  1.209294  1.131286 -0.186955  0.427311  ...   \n",
       "6   1.221957 -1.475604  0.898362 -1.557109 -1.498409  0.061330  0.288855  ...   \n",
       "7  -0.414052  1.217779 -0.759694  1.209294  1.131286 -0.186955  0.427311  ...   \n",
       "8   1.101585 -0.215530 -0.143407 -1.490113  0.476855  0.299725 -0.165151  ...   \n",
       "9   1.305387  0.883035  0.859624 -1.808690  0.580523 -2.483752  0.948607  ...   \n",
       "10  1.221957 -1.475604  0.898362 -1.557109 -1.498409  0.061330  0.288855  ...   \n",
       "23  0.529841  0.298889 -0.216541 -0.391229  0.191113  0.014453 -0.368097  ...   \n",
       "24 -0.113100 -0.047915  0.324691  0.682168  0.111165  0.232633  0.199351  ...   \n",
       "25  0.418184  0.353582  0.031710 -0.009831  1.008811  0.817291 -0.411666  ...   \n",
       "26  0.036543 -0.758824  0.380615  0.448366 -0.411455  0.123351  0.158921  ...   \n",
       "27  0.026216  0.522271 -0.070876 -0.411626  0.380335 -0.271860 -0.091484  ...   \n",
       "\n",
       "     HG02011   HG02018   HG02492   HG02587   HG03009   HG03065   HG03371  \\\n",
       "1  -0.708359  0.036234 -1.040756 -1.141381  0.385166 -0.996222 -1.159694   \n",
       "4  -0.780188 -1.215290 -0.646946  1.773509 -1.187269  0.009941  1.334757   \n",
       "5   0.134623  0.345217  1.370163  1.423127  0.506337  1.393303  0.331152   \n",
       "6   0.414936  0.447919 -1.577237 -1.630796 -0.181406 -1.552799 -0.199111   \n",
       "7   0.134623  0.345217  1.370163  1.423127  0.506337  1.393303  0.331152   \n",
       "8   0.064356  1.951518 -0.711567 -0.632646 -0.964003 -0.240850 -0.123726   \n",
       "9  -0.185246  0.328117  0.560184 -1.196977  0.807123 -0.060676 -0.594006   \n",
       "10  0.414936  0.447919 -1.577237 -1.630796 -0.181406 -1.552799 -0.199111   \n",
       "23  1.366691 -0.306092 -0.028003 -0.167166 -0.169622 -0.432385 -0.916697   \n",
       "24 -0.019236  0.522568  0.629328  0.722698  0.518111  0.397488  0.963883   \n",
       "25  1.039998  0.128767  0.239788 -0.015342  0.578768 -0.050955 -2.056413   \n",
       "26  0.118498 -0.012096  0.846607  0.066323  0.321752  0.041438  0.769644   \n",
       "27  0.172651  0.484570 -0.176643  0.101298 -0.041055 -0.358616 -0.959188   \n",
       "\n",
       "     HG03683   HG03732  pvalue_0_1  \n",
       "1   0.681233 -0.554325    0.014847  \n",
       "4   0.612355 -0.937157    0.000244  \n",
       "5   0.336981  0.661554    0.012405  \n",
       "6  -0.010256 -0.255825    0.000301  \n",
       "7   0.336981  0.661554    0.001621  \n",
       "8   0.171931  0.935975    0.006448  \n",
       "9   0.057426  0.818711    0.000140  \n",
       "10 -0.010256 -0.255825    0.040924  \n",
       "23 -0.475933 -0.963485    0.020419  \n",
       "24  0.527364  1.150455    0.031556  \n",
       "25 -0.244741 -1.089664    0.007701  \n",
       "26  0.496257  0.992429    0.007701  \n",
       "27  0.294405 -1.346577    0.012772  \n",
       "\n",
       "[13 rows x 29 columns]"
      ]
     },
     "execution_count": 107,
     "metadata": {},
     "output_type": "execute_result"
    }
   ],
   "source": [
    "splicing_DEL_boundary_sample_rename_new[splicing_DEL_boundary_sample_rename_new['pvalue_0_1'] < 0.05]"
   ]
  },
  {
   "cell_type": "code",
   "execution_count": 108,
   "id": "collective-concept",
   "metadata": {},
   "outputs": [
    {
     "data": {
      "text/plain": [
       "5"
      ]
     },
     "execution_count": 108,
     "metadata": {},
     "output_type": "execute_result"
    }
   ],
   "source": [
    "len(splicing_DEL_boundary_sample_rename_new[splicing_DEL_boundary_sample_rename_new['pvalue_0_1'] < 0.05]['INFO_ID'].drop_duplicates())"
   ]
  },
  {
   "cell_type": "code",
   "execution_count": 109,
   "id": "enclosed-insert",
   "metadata": {},
   "outputs": [
    {
     "data": {
      "text/plain": [
       "11"
      ]
     },
     "execution_count": 109,
     "metadata": {},
     "output_type": "execute_result"
    }
   ],
   "source": [
    "len(splicing_DEL_boundary_sample_rename_new[splicing_DEL_boundary_sample_rename_new['pvalue_0_1'] < 0.05]['feature_id'].drop_duplicates())"
   ]
  },
  {
   "cell_type": "code",
   "execution_count": 110,
   "id": "virgin-alias",
   "metadata": {},
   "outputs": [],
   "source": [
    "### test for genotypes 0 and 1\n",
    "pvalue= []\n",
    "for i in range(0, len(splicing_INS_boundary_sample_rename_new)):\n",
    "    INS_boundary_genotype_all = INS_boundary_genotype[INS_boundary_genotype.loc[:,'INFO_ID'] == splicing_INS_boundary_sample_rename_new.loc[i,'INFO_ID']].iloc[:,8:35]\n",
    "    genotypes_list = INS_boundary_genotype_all.iloc[0].values.tolist()\n",
    "    splicing_ratio_list = splicing_INS_boundary_sample_rename_new.iloc[i, 2:28].values.tolist()\n",
    "\n",
    "    df = pd.DataFrame({'genotypes' : genotypes_list,\n",
    "                   'splicing_ratio' : splicing_ratio_list})\n",
    "    \n",
    "    df_new = df.assign(splicing=df.groupby('genotypes').cumcount()).pivot('splicing','genotypes','splicing_ratio')\n",
    "    \n",
    "    try:\n",
    "        U, p = mannwhitneyu(x=df_new[0].dropna().tolist(), y=df_new[1].dropna().tolist(), method=\"exact\", alternative = 'two-sided')\n",
    "        #print (p)\n",
    "        \n",
    "    except KeyError:\n",
    "        p = 'NA'\n",
    "        #print (p)\n",
    "    \n",
    "    pvalue.append(p)\n",
    "    \n",
    "splicing_INS_boundary_sample_rename_new['pvalue_0_1'] = pvalue"
   ]
  },
  {
   "cell_type": "code",
   "execution_count": 111,
   "id": "falling-sydney",
   "metadata": {},
   "outputs": [
    {
     "data": {
      "text/html": [
       "<div>\n",
       "<style scoped>\n",
       "    .dataframe tbody tr th:only-of-type {\n",
       "        vertical-align: middle;\n",
       "    }\n",
       "\n",
       "    .dataframe tbody tr th {\n",
       "        vertical-align: top;\n",
       "    }\n",
       "\n",
       "    .dataframe thead th {\n",
       "        text-align: right;\n",
       "    }\n",
       "</style>\n",
       "<table border=\"1\" class=\"dataframe\">\n",
       "  <thead>\n",
       "    <tr style=\"text-align: right;\">\n",
       "      <th></th>\n",
       "      <th>feature_id</th>\n",
       "      <th>INFO_ID</th>\n",
       "      <th>NA18534</th>\n",
       "      <th>NA18939</th>\n",
       "      <th>NA19036</th>\n",
       "      <th>NA19240</th>\n",
       "      <th>NA19650</th>\n",
       "      <th>NA19983</th>\n",
       "      <th>NA20509</th>\n",
       "      <th>NA20847</th>\n",
       "      <th>...</th>\n",
       "      <th>HG02011</th>\n",
       "      <th>HG02018</th>\n",
       "      <th>HG02492</th>\n",
       "      <th>HG02587</th>\n",
       "      <th>HG03009</th>\n",
       "      <th>HG03065</th>\n",
       "      <th>HG03371</th>\n",
       "      <th>HG03683</th>\n",
       "      <th>HG03732</th>\n",
       "      <th>pvalue_0_1</th>\n",
       "    </tr>\n",
       "  </thead>\n",
       "  <tbody>\n",
       "    <tr>\n",
       "      <th>2</th>\n",
       "      <td>1:45495166:45496556:clu_28892_-</td>\n",
       "      <td>chr1-45497763-INS-354</td>\n",
       "      <td>-0.097358</td>\n",
       "      <td>0.798389</td>\n",
       "      <td>0.295351</td>\n",
       "      <td>-0.274953</td>\n",
       "      <td>0.299073</td>\n",
       "      <td>0.053754</td>\n",
       "      <td>-0.131064</td>\n",
       "      <td>-0.416363</td>\n",
       "      <td>...</td>\n",
       "      <td>-0.276865</td>\n",
       "      <td>0.627438</td>\n",
       "      <td>-0.162830</td>\n",
       "      <td>-1.278557</td>\n",
       "      <td>-0.814071</td>\n",
       "      <td>0.670716</td>\n",
       "      <td>0.499751</td>\n",
       "      <td>-1.262515</td>\n",
       "      <td>0.616364</td>\n",
       "      <td>0.031556</td>\n",
       "    </tr>\n",
       "    <tr>\n",
       "      <th>4</th>\n",
       "      <td>1:45551155:45552436:clu_13870_+</td>\n",
       "      <td>chr1-45497763-INS-354</td>\n",
       "      <td>-1.746480</td>\n",
       "      <td>0.475494</td>\n",
       "      <td>-0.078211</td>\n",
       "      <td>-0.445241</td>\n",
       "      <td>-0.698239</td>\n",
       "      <td>-2.578916</td>\n",
       "      <td>0.338158</td>\n",
       "      <td>1.013390</td>\n",
       "      <td>...</td>\n",
       "      <td>0.299322</td>\n",
       "      <td>-0.391775</td>\n",
       "      <td>0.861487</td>\n",
       "      <td>0.718653</td>\n",
       "      <td>-0.177377</td>\n",
       "      <td>-0.359558</td>\n",
       "      <td>-0.607451</td>\n",
       "      <td>0.442949</td>\n",
       "      <td>-0.515916</td>\n",
       "      <td>0.000822</td>\n",
       "    </tr>\n",
       "    <tr>\n",
       "      <th>9</th>\n",
       "      <td>4:124673:126848:clu_40368_+</td>\n",
       "      <td>chr4-152957-INS-5083</td>\n",
       "      <td>-0.185285</td>\n",
       "      <td>-1.457131</td>\n",
       "      <td>1.114331</td>\n",
       "      <td>0.885232</td>\n",
       "      <td>0.205516</td>\n",
       "      <td>-1.222210</td>\n",
       "      <td>0.784782</td>\n",
       "      <td>-0.106020</td>\n",
       "      <td>...</td>\n",
       "      <td>0.081332</td>\n",
       "      <td>-0.704891</td>\n",
       "      <td>1.289569</td>\n",
       "      <td>0.987919</td>\n",
       "      <td>0.815414</td>\n",
       "      <td>0.818722</td>\n",
       "      <td>-2.221038</td>\n",
       "      <td>1.112181</td>\n",
       "      <td>-1.826948</td>\n",
       "      <td>0.027859</td>\n",
       "    </tr>\n",
       "    <tr>\n",
       "      <th>11</th>\n",
       "      <td>4:124673:130788:clu_40368_+</td>\n",
       "      <td>chr4-152957-INS-5083</td>\n",
       "      <td>0.635271</td>\n",
       "      <td>1.789222</td>\n",
       "      <td>-1.442438</td>\n",
       "      <td>-1.223004</td>\n",
       "      <td>-0.283380</td>\n",
       "      <td>1.655514</td>\n",
       "      <td>-1.493125</td>\n",
       "      <td>1.036192</td>\n",
       "      <td>...</td>\n",
       "      <td>0.066262</td>\n",
       "      <td>0.952385</td>\n",
       "      <td>-1.504064</td>\n",
       "      <td>-1.546094</td>\n",
       "      <td>-1.535493</td>\n",
       "      <td>-1.452881</td>\n",
       "      <td>1.895520</td>\n",
       "      <td>-1.420374</td>\n",
       "      <td>1.707532</td>\n",
       "      <td>0.039065</td>\n",
       "    </tr>\n",
       "    <tr>\n",
       "      <th>17</th>\n",
       "      <td>4:125296:130788:clu_40368_+</td>\n",
       "      <td>chr4-152957-INS-5083</td>\n",
       "      <td>1.585531</td>\n",
       "      <td>1.134742</td>\n",
       "      <td>-0.938089</td>\n",
       "      <td>-0.818587</td>\n",
       "      <td>-0.346082</td>\n",
       "      <td>0.789514</td>\n",
       "      <td>-0.971336</td>\n",
       "      <td>0.510938</td>\n",
       "      <td>...</td>\n",
       "      <td>0.473616</td>\n",
       "      <td>0.600961</td>\n",
       "      <td>-0.951855</td>\n",
       "      <td>-0.996012</td>\n",
       "      <td>-0.997648</td>\n",
       "      <td>-0.927929</td>\n",
       "      <td>0.839999</td>\n",
       "      <td>-0.965777</td>\n",
       "      <td>1.664260</td>\n",
       "      <td>0.016010</td>\n",
       "    </tr>\n",
       "    <tr>\n",
       "      <th>37</th>\n",
       "      <td>6:130385236:130439348:clu_24586_+</td>\n",
       "      <td>chr6-130293639-INS-295</td>\n",
       "      <td>0.267463</td>\n",
       "      <td>0.252313</td>\n",
       "      <td>0.004427</td>\n",
       "      <td>-0.021482</td>\n",
       "      <td>0.139053</td>\n",
       "      <td>-0.071580</td>\n",
       "      <td>-0.063894</td>\n",
       "      <td>-0.183647</td>\n",
       "      <td>...</td>\n",
       "      <td>-0.018760</td>\n",
       "      <td>0.259926</td>\n",
       "      <td>-0.221718</td>\n",
       "      <td>-0.018741</td>\n",
       "      <td>0.209585</td>\n",
       "      <td>0.049197</td>\n",
       "      <td>-0.006632</td>\n",
       "      <td>0.072590</td>\n",
       "      <td>-0.163549</td>\n",
       "      <td>0.010767</td>\n",
       "    </tr>\n",
       "    <tr>\n",
       "      <th>51</th>\n",
       "      <td>7:56021231:56031929:clu_36747_-</td>\n",
       "      <td>chr7-55783655-INS-305</td>\n",
       "      <td>0.157423</td>\n",
       "      <td>0.861163</td>\n",
       "      <td>-1.027186</td>\n",
       "      <td>-0.699761</td>\n",
       "      <td>0.890527</td>\n",
       "      <td>-0.395204</td>\n",
       "      <td>-0.119004</td>\n",
       "      <td>-0.177994</td>\n",
       "      <td>...</td>\n",
       "      <td>0.034311</td>\n",
       "      <td>-0.126273</td>\n",
       "      <td>-0.288276</td>\n",
       "      <td>-0.671426</td>\n",
       "      <td>-0.003130</td>\n",
       "      <td>-1.038168</td>\n",
       "      <td>-0.392324</td>\n",
       "      <td>-0.345987</td>\n",
       "      <td>-0.006782</td>\n",
       "      <td>0.000528</td>\n",
       "    </tr>\n",
       "    <tr>\n",
       "      <th>52</th>\n",
       "      <td>7:56021231:56116015:clu_36747_-</td>\n",
       "      <td>chr7-55783655-INS-305</td>\n",
       "      <td>0.156402</td>\n",
       "      <td>-1.139293</td>\n",
       "      <td>0.946572</td>\n",
       "      <td>0.778528</td>\n",
       "      <td>-1.158309</td>\n",
       "      <td>0.544943</td>\n",
       "      <td>0.327408</td>\n",
       "      <td>0.349796</td>\n",
       "      <td>...</td>\n",
       "      <td>0.216117</td>\n",
       "      <td>0.292999</td>\n",
       "      <td>0.477960</td>\n",
       "      <td>0.826821</td>\n",
       "      <td>0.199462</td>\n",
       "      <td>0.987147</td>\n",
       "      <td>0.612970</td>\n",
       "      <td>0.498881</td>\n",
       "      <td>0.228091</td>\n",
       "      <td>0.000528</td>\n",
       "    </tr>\n",
       "    <tr>\n",
       "      <th>53</th>\n",
       "      <td>7:56011869:56021073:clu_36746_-</td>\n",
       "      <td>chr7-55783655-INS-305</td>\n",
       "      <td>0.113327</td>\n",
       "      <td>-0.572458</td>\n",
       "      <td>0.596230</td>\n",
       "      <td>-0.203613</td>\n",
       "      <td>-0.600021</td>\n",
       "      <td>0.536893</td>\n",
       "      <td>-0.028733</td>\n",
       "      <td>-0.189171</td>\n",
       "      <td>...</td>\n",
       "      <td>-0.316349</td>\n",
       "      <td>0.395567</td>\n",
       "      <td>-0.023145</td>\n",
       "      <td>0.523478</td>\n",
       "      <td>-0.303071</td>\n",
       "      <td>0.860438</td>\n",
       "      <td>0.487270</td>\n",
       "      <td>0.590745</td>\n",
       "      <td>-0.057283</td>\n",
       "      <td>0.023364</td>\n",
       "    </tr>\n",
       "    <tr>\n",
       "      <th>55</th>\n",
       "      <td>15:89321012:89321736:clu_2903_-</td>\n",
       "      <td>chr15-89314067-INS-62</td>\n",
       "      <td>-0.028732</td>\n",
       "      <td>-0.452393</td>\n",
       "      <td>0.357381</td>\n",
       "      <td>-0.294620</td>\n",
       "      <td>-0.962535</td>\n",
       "      <td>0.208674</td>\n",
       "      <td>-0.972501</td>\n",
       "      <td>-0.187520</td>\n",
       "      <td>...</td>\n",
       "      <td>-0.599404</td>\n",
       "      <td>-0.639060</td>\n",
       "      <td>1.689366</td>\n",
       "      <td>-0.471705</td>\n",
       "      <td>1.179762</td>\n",
       "      <td>-0.328591</td>\n",
       "      <td>-0.546996</td>\n",
       "      <td>-0.012979</td>\n",
       "      <td>-1.772711</td>\n",
       "      <td>0.021407</td>\n",
       "    </tr>\n",
       "    <tr>\n",
       "      <th>56</th>\n",
       "      <td>15:89245839:89247629:clu_31698_+</td>\n",
       "      <td>chr15-89314067-INS-62</td>\n",
       "      <td>0.927337</td>\n",
       "      <td>0.470347</td>\n",
       "      <td>-1.157908</td>\n",
       "      <td>-1.084425</td>\n",
       "      <td>0.463993</td>\n",
       "      <td>-0.669340</td>\n",
       "      <td>-0.378547</td>\n",
       "      <td>0.068823</td>\n",
       "      <td>...</td>\n",
       "      <td>-0.932774</td>\n",
       "      <td>0.241151</td>\n",
       "      <td>-0.025578</td>\n",
       "      <td>-1.707806</td>\n",
       "      <td>-0.217946</td>\n",
       "      <td>-0.197293</td>\n",
       "      <td>-0.947190</td>\n",
       "      <td>-0.316050</td>\n",
       "      <td>0.287137</td>\n",
       "      <td>0.000008</td>\n",
       "    </tr>\n",
       "    <tr>\n",
       "      <th>57</th>\n",
       "      <td>15:89245708:89247629:clu_31698_+</td>\n",
       "      <td>chr15-89314067-INS-62</td>\n",
       "      <td>1.143922</td>\n",
       "      <td>0.261508</td>\n",
       "      <td>-0.854300</td>\n",
       "      <td>-0.920383</td>\n",
       "      <td>0.813974</td>\n",
       "      <td>-1.229264</td>\n",
       "      <td>0.302487</td>\n",
       "      <td>-0.058293</td>\n",
       "      <td>...</td>\n",
       "      <td>-0.469054</td>\n",
       "      <td>-0.164312</td>\n",
       "      <td>-0.366923</td>\n",
       "      <td>-0.390762</td>\n",
       "      <td>0.308683</td>\n",
       "      <td>-0.005060</td>\n",
       "      <td>-0.758179</td>\n",
       "      <td>0.651829</td>\n",
       "      <td>0.512494</td>\n",
       "      <td>0.000538</td>\n",
       "    </tr>\n",
       "    <tr>\n",
       "      <th>58</th>\n",
       "      <td>15:89244033:89247629:clu_31698_+</td>\n",
       "      <td>chr15-89314067-INS-62</td>\n",
       "      <td>-0.239003</td>\n",
       "      <td>-0.289659</td>\n",
       "      <td>0.839652</td>\n",
       "      <td>0.636056</td>\n",
       "      <td>-0.580450</td>\n",
       "      <td>-0.233262</td>\n",
       "      <td>0.251955</td>\n",
       "      <td>0.453605</td>\n",
       "      <td>...</td>\n",
       "      <td>-0.476109</td>\n",
       "      <td>-0.817467</td>\n",
       "      <td>0.108325</td>\n",
       "      <td>0.579049</td>\n",
       "      <td>-0.099798</td>\n",
       "      <td>-1.146520</td>\n",
       "      <td>-0.169472</td>\n",
       "      <td>0.438812</td>\n",
       "      <td>-0.495199</td>\n",
       "      <td>0.003526</td>\n",
       "    </tr>\n",
       "    <tr>\n",
       "      <th>62</th>\n",
       "      <td>19:37507047:37508265:clu_27679_+</td>\n",
       "      <td>chr19-37789443-INS-1092</td>\n",
       "      <td>-0.422717</td>\n",
       "      <td>0.996525</td>\n",
       "      <td>1.166925</td>\n",
       "      <td>1.740052</td>\n",
       "      <td>-1.491070</td>\n",
       "      <td>1.274219</td>\n",
       "      <td>-1.437013</td>\n",
       "      <td>-1.299856</td>\n",
       "      <td>...</td>\n",
       "      <td>1.308221</td>\n",
       "      <td>0.340187</td>\n",
       "      <td>-1.421464</td>\n",
       "      <td>-1.307926</td>\n",
       "      <td>-1.419196</td>\n",
       "      <td>-0.705460</td>\n",
       "      <td>2.317070</td>\n",
       "      <td>-1.440027</td>\n",
       "      <td>2.429939</td>\n",
       "      <td>0.012233</td>\n",
       "    </tr>\n",
       "    <tr>\n",
       "      <th>64</th>\n",
       "      <td>19:37506966:37508265:clu_27679_+</td>\n",
       "      <td>chr19-37789443-INS-1092</td>\n",
       "      <td>-0.979127</td>\n",
       "      <td>-0.070640</td>\n",
       "      <td>-0.223306</td>\n",
       "      <td>0.464992</td>\n",
       "      <td>-0.226925</td>\n",
       "      <td>-1.221188</td>\n",
       "      <td>0.261882</td>\n",
       "      <td>0.507532</td>\n",
       "      <td>...</td>\n",
       "      <td>-0.273729</td>\n",
       "      <td>-0.429555</td>\n",
       "      <td>0.628614</td>\n",
       "      <td>0.699270</td>\n",
       "      <td>0.069109</td>\n",
       "      <td>-1.075881</td>\n",
       "      <td>-1.017312</td>\n",
       "      <td>2.135377</td>\n",
       "      <td>-0.967641</td>\n",
       "      <td>0.035602</td>\n",
       "    </tr>\n",
       "  </tbody>\n",
       "</table>\n",
       "<p>15 rows × 29 columns</p>\n",
       "</div>"
      ],
      "text/plain": [
       "                           feature_id                  INFO_ID   NA18534  \\\n",
       "2     1:45495166:45496556:clu_28892_-    chr1-45497763-INS-354 -0.097358   \n",
       "4     1:45551155:45552436:clu_13870_+    chr1-45497763-INS-354 -1.746480   \n",
       "9         4:124673:126848:clu_40368_+     chr4-152957-INS-5083 -0.185285   \n",
       "11        4:124673:130788:clu_40368_+     chr4-152957-INS-5083  0.635271   \n",
       "17        4:125296:130788:clu_40368_+     chr4-152957-INS-5083  1.585531   \n",
       "37  6:130385236:130439348:clu_24586_+   chr6-130293639-INS-295  0.267463   \n",
       "51    7:56021231:56031929:clu_36747_-    chr7-55783655-INS-305  0.157423   \n",
       "52    7:56021231:56116015:clu_36747_-    chr7-55783655-INS-305  0.156402   \n",
       "53    7:56011869:56021073:clu_36746_-    chr7-55783655-INS-305  0.113327   \n",
       "55    15:89321012:89321736:clu_2903_-    chr15-89314067-INS-62 -0.028732   \n",
       "56   15:89245839:89247629:clu_31698_+    chr15-89314067-INS-62  0.927337   \n",
       "57   15:89245708:89247629:clu_31698_+    chr15-89314067-INS-62  1.143922   \n",
       "58   15:89244033:89247629:clu_31698_+    chr15-89314067-INS-62 -0.239003   \n",
       "62   19:37507047:37508265:clu_27679_+  chr19-37789443-INS-1092 -0.422717   \n",
       "64   19:37506966:37508265:clu_27679_+  chr19-37789443-INS-1092 -0.979127   \n",
       "\n",
       "     NA18939   NA19036   NA19240   NA19650   NA19983   NA20509   NA20847  ...  \\\n",
       "2   0.798389  0.295351 -0.274953  0.299073  0.053754 -0.131064 -0.416363  ...   \n",
       "4   0.475494 -0.078211 -0.445241 -0.698239 -2.578916  0.338158  1.013390  ...   \n",
       "9  -1.457131  1.114331  0.885232  0.205516 -1.222210  0.784782 -0.106020  ...   \n",
       "11  1.789222 -1.442438 -1.223004 -0.283380  1.655514 -1.493125  1.036192  ...   \n",
       "17  1.134742 -0.938089 -0.818587 -0.346082  0.789514 -0.971336  0.510938  ...   \n",
       "37  0.252313  0.004427 -0.021482  0.139053 -0.071580 -0.063894 -0.183647  ...   \n",
       "51  0.861163 -1.027186 -0.699761  0.890527 -0.395204 -0.119004 -0.177994  ...   \n",
       "52 -1.139293  0.946572  0.778528 -1.158309  0.544943  0.327408  0.349796  ...   \n",
       "53 -0.572458  0.596230 -0.203613 -0.600021  0.536893 -0.028733 -0.189171  ...   \n",
       "55 -0.452393  0.357381 -0.294620 -0.962535  0.208674 -0.972501 -0.187520  ...   \n",
       "56  0.470347 -1.157908 -1.084425  0.463993 -0.669340 -0.378547  0.068823  ...   \n",
       "57  0.261508 -0.854300 -0.920383  0.813974 -1.229264  0.302487 -0.058293  ...   \n",
       "58 -0.289659  0.839652  0.636056 -0.580450 -0.233262  0.251955  0.453605  ...   \n",
       "62  0.996525  1.166925  1.740052 -1.491070  1.274219 -1.437013 -1.299856  ...   \n",
       "64 -0.070640 -0.223306  0.464992 -0.226925 -1.221188  0.261882  0.507532  ...   \n",
       "\n",
       "     HG02011   HG02018   HG02492   HG02587   HG03009   HG03065   HG03371  \\\n",
       "2  -0.276865  0.627438 -0.162830 -1.278557 -0.814071  0.670716  0.499751   \n",
       "4   0.299322 -0.391775  0.861487  0.718653 -0.177377 -0.359558 -0.607451   \n",
       "9   0.081332 -0.704891  1.289569  0.987919  0.815414  0.818722 -2.221038   \n",
       "11  0.066262  0.952385 -1.504064 -1.546094 -1.535493 -1.452881  1.895520   \n",
       "17  0.473616  0.600961 -0.951855 -0.996012 -0.997648 -0.927929  0.839999   \n",
       "37 -0.018760  0.259926 -0.221718 -0.018741  0.209585  0.049197 -0.006632   \n",
       "51  0.034311 -0.126273 -0.288276 -0.671426 -0.003130 -1.038168 -0.392324   \n",
       "52  0.216117  0.292999  0.477960  0.826821  0.199462  0.987147  0.612970   \n",
       "53 -0.316349  0.395567 -0.023145  0.523478 -0.303071  0.860438  0.487270   \n",
       "55 -0.599404 -0.639060  1.689366 -0.471705  1.179762 -0.328591 -0.546996   \n",
       "56 -0.932774  0.241151 -0.025578 -1.707806 -0.217946 -0.197293 -0.947190   \n",
       "57 -0.469054 -0.164312 -0.366923 -0.390762  0.308683 -0.005060 -0.758179   \n",
       "58 -0.476109 -0.817467  0.108325  0.579049 -0.099798 -1.146520 -0.169472   \n",
       "62  1.308221  0.340187 -1.421464 -1.307926 -1.419196 -0.705460  2.317070   \n",
       "64 -0.273729 -0.429555  0.628614  0.699270  0.069109 -1.075881 -1.017312   \n",
       "\n",
       "     HG03683   HG03732  pvalue_0_1  \n",
       "2  -1.262515  0.616364    0.031556  \n",
       "4   0.442949 -0.515916    0.000822  \n",
       "9   1.112181 -1.826948    0.027859  \n",
       "11 -1.420374  1.707532    0.039065  \n",
       "17 -0.965777  1.664260    0.016010  \n",
       "37  0.072590 -0.163549    0.010767  \n",
       "51 -0.345987 -0.006782    0.000528  \n",
       "52  0.498881  0.228091    0.000528  \n",
       "53  0.590745 -0.057283    0.023364  \n",
       "55 -0.012979 -1.772711    0.021407  \n",
       "56 -0.316050  0.287137    0.000008  \n",
       "57  0.651829  0.512494    0.000538  \n",
       "58  0.438812 -0.495199    0.003526  \n",
       "62 -1.440027  2.429939    0.012233  \n",
       "64  2.135377 -0.967641    0.035602  \n",
       "\n",
       "[15 rows x 29 columns]"
      ]
     },
     "execution_count": 111,
     "metadata": {},
     "output_type": "execute_result"
    }
   ],
   "source": [
    "splicing_INS_boundary_sample_rename_new[splicing_INS_boundary_sample_rename_new['pvalue_0_1'] < 0.05]"
   ]
  },
  {
   "cell_type": "code",
   "execution_count": 112,
   "id": "vocal-spending",
   "metadata": {},
   "outputs": [
    {
     "data": {
      "text/plain": [
       "6"
      ]
     },
     "execution_count": 112,
     "metadata": {},
     "output_type": "execute_result"
    }
   ],
   "source": [
    "len(splicing_INS_boundary_sample_rename_new[splicing_INS_boundary_sample_rename_new['pvalue_0_1'] < 0.05]['INFO_ID'].drop_duplicates())"
   ]
  },
  {
   "cell_type": "code",
   "execution_count": 113,
   "id": "seventh-chess",
   "metadata": {},
   "outputs": [
    {
     "data": {
      "text/plain": [
       "15"
      ]
     },
     "execution_count": 113,
     "metadata": {},
     "output_type": "execute_result"
    }
   ],
   "source": [
    "len(splicing_INS_boundary_sample_rename_new[splicing_INS_boundary_sample_rename_new['pvalue_0_1'] < 0.05]['feature_id'].drop_duplicates())"
   ]
  },
  {
   "cell_type": "code",
   "execution_count": null,
   "id": "middle-emperor",
   "metadata": {},
   "outputs": [],
   "source": []
  }
 ],
 "metadata": {
  "kernelspec": {
   "display_name": "Python 3 (ipykernel)",
   "language": "python",
   "name": "python3"
  },
  "language_info": {
   "codemirror_mode": {
    "name": "ipython",
    "version": 3
   },
   "file_extension": ".py",
   "mimetype": "text/x-python",
   "name": "python",
   "nbconvert_exporter": "python",
   "pygments_lexer": "ipython3",
   "version": "3.7.3"
  }
 },
 "nbformat": 4,
 "nbformat_minor": 5
}
