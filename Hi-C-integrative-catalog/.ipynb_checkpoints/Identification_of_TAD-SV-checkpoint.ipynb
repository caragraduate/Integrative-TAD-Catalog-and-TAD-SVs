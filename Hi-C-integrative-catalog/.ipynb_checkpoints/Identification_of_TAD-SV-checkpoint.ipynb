{
 "cells": [
  {
   "cell_type": "code",
   "execution_count": 13,
   "id": "assumed-opinion",
   "metadata": {},
   "outputs": [],
   "source": [
    "import pandas as pd\n",
    "import numpy as np\n",
    "import matplotlib.pyplot as plt\n",
    "import io\n",
    "import os\n",
    "from scipy.stats import mannwhitneyu\n",
    "from statsmodels.stats.multitest import multipletests\n",
    "import glob\n",
    "import seaborn as sns"
   ]
  },
  {
   "cell_type": "code",
   "execution_count": 14,
   "id": "advanced-winner",
   "metadata": {},
   "outputs": [],
   "source": [
    "def read_vcf(path):\n",
    "    with open(path, 'r') as f:\n",
    "        lines = [l for l in f if not l.startswith('##')]\n",
    "    return pd.read_csv(\n",
    "        io.StringIO(''.join(lines)),\n",
    "        dtype={'#CHROM': str, 'POS': int, 'ID': str, 'REF': str, 'ALT': str,\n",
    "               'QUAL': str, 'FILTER': str, 'INFO': str},\n",
    "        sep='\\t'\n",
    "    ).rename(columns={'#CHROM': 'CHROM'})"
   ]
  },
  {
   "cell_type": "code",
   "execution_count": 15,
   "id": "spiritual-ecology",
   "metadata": {},
   "outputs": [],
   "source": [
    "# the subset 26 samples' vcf file is generating using \"bcftools view -s\" with selected sample ID on the genotype file from pangenie_merged_bi_nosnvs.vcf.gz\n",
    "# be sure to download the file under the same directory as your analysis\n",
    "\n",
    "pangenie_svs_sample = read_vcf(\"../data/pangenie_merged_bi_nosnvs_26sample.vcf\")"
   ]
  },
  {
   "cell_type": "code",
   "execution_count": 16,
   "id": "noticed-gazette",
   "metadata": {},
   "outputs": [
    {
     "data": {
      "text/plain": [
       "(1129810, 35)"
      ]
     },
     "execution_count": 16,
     "metadata": {},
     "output_type": "execute_result"
    }
   ],
   "source": [
    "pangenie_svs_sample.shape"
   ]
  },
  {
   "cell_type": "code",
   "execution_count": 17,
   "id": "packed-inflation",
   "metadata": {},
   "outputs": [],
   "source": [
    "pangenie_svs_sample[['INFO_ID']] = pangenie_svs_sample['INFO'].str.split(';', expand=True)[2]\n",
    "pangenie_svs_sample['INFO_ID'] = pangenie_svs_sample['INFO_ID'].str.lstrip('ID=')\n",
    "pangenie_DEL_sample = pangenie_svs_sample[pangenie_svs_sample['INFO_ID'].str.contains('DEL')]\n",
    "pangenie_INS_sample = pangenie_svs_sample[pangenie_svs_sample['INFO_ID'].str.contains('INS')]"
   ]
  },
  {
   "cell_type": "code",
   "execution_count": 18,
   "id": "terminal-haiti",
   "metadata": {},
   "outputs": [
    {
     "data": {
      "text/plain": [
       "DEL    672432\n",
       "INS    457378\n",
       "dtype: int64"
      ]
     },
     "execution_count": 18,
     "metadata": {},
     "output_type": "execute_result"
    }
   ],
   "source": [
    "pangenie_svs_sample['type'] = pangenie_svs_sample['INFO_ID'].str.split('-', expand=True)[2]\n",
    "col_list = pangenie_svs_sample['type'].values.tolist()\n",
    "pd.Series(col_list).value_counts()"
   ]
  },
  {
   "cell_type": "markdown",
   "id": "desperate-friday",
   "metadata": {},
   "source": [
    "## deletion "
   ]
  },
  {
   "cell_type": "code",
   "execution_count": 22,
   "id": "visible-rocket",
   "metadata": {},
   "outputs": [],
   "source": [
    "pangenie_DEL_sample_new = pangenie_DEL_sample[[\n",
    "'CHROM', 'FILTER', 'INFO_ID', 'FORMAT',\n",
    "    'NA18534','NA18939','NA19036','NA19240','NA19650','NA19983','NA20509','NA20847','HG00096','HG00171',\n",
    "    'HG00514','HG00733','HG00864','HG01114','HG01505','HG01573','HG01596','HG02011','HG02018','HG02492',\n",
    "    'HG02587','HG03009','HG03065','HG03371','HG03683','HG03732'\n",
    "    ]]\n",
    "# removed NA12329"
   ]
  },
  {
   "cell_type": "code",
   "execution_count": 23,
   "id": "southern-advancement",
   "metadata": {},
   "outputs": [],
   "source": [
    "pangenie_DEL_sample_new_copy = pangenie_DEL_sample_new.copy()\n",
    "for col in pangenie_DEL_sample_new_copy.columns[4:]:\n",
    "    pangenie_DEL_sample_new_copy[col] = pangenie_DEL_sample_new_copy[col].str[:3]"
   ]
  },
  {
   "cell_type": "code",
   "execution_count": 24,
   "id": "stable-nomination",
   "metadata": {},
   "outputs": [],
   "source": [
    "for col in pangenie_DEL_sample_new_copy.columns:\n",
    "    pangenie_DEL_sample_new_copy.loc[pangenie_DEL_sample_new_copy[col].astype(str).str.startswith('0/0'), col] = '0'\n",
    "    pangenie_DEL_sample_new_copy.loc[pangenie_DEL_sample_new_copy[col].astype(str).str.startswith('0/1'), col] = '1'\n",
    "    pangenie_DEL_sample_new_copy.loc[pangenie_DEL_sample_new_copy[col].astype(str).str.startswith('1/0'), col] = '1'\n",
    "    pangenie_DEL_sample_new_copy.loc[pangenie_DEL_sample_new_copy[col].astype(str).str.startswith('1/1'), col] = '1'"
   ]
  },
  {
   "cell_type": "code",
   "execution_count": 25,
   "id": "meaning-cement",
   "metadata": {},
   "outputs": [
    {
     "data": {
      "text/plain": [
       "(672432, 30)"
      ]
     },
     "execution_count": 25,
     "metadata": {},
     "output_type": "execute_result"
    }
   ],
   "source": [
    "pangenie_DEL_sample_new_copy.shape"
   ]
  },
  {
   "cell_type": "code",
   "execution_count": 26,
   "id": "detected-planning",
   "metadata": {},
   "outputs": [],
   "source": [
    "# Function to convert to integer if possible\n",
    "def convert_to_int(val):\n",
    "    try:\n",
    "        return int(val)\n",
    "    except ValueError:\n",
    "        return val"
   ]
  },
  {
   "cell_type": "code",
   "execution_count": 27,
   "id": "mental-plasma",
   "metadata": {},
   "outputs": [],
   "source": [
    "# Apply the conversion function to each cell in the relevant columns to keep the original DataFrame unchanged\n",
    "pangenie_DEL_sample_new_copy.iloc[:, 4:] = pangenie_DEL_sample_new_copy.iloc[:, 4:].applymap(convert_to_int)\n",
    "# Create a separate DataFrame for numeric operations\n",
    "numeric_data = pangenie_DEL_sample_new_copy.iloc[:, 4:].apply(pd.to_numeric, errors='coerce').fillna(0).astype(int)\n",
    "# Calculate the sum of integer values\n",
    "pangenie_DEL_sample_new_copy['Sum'] = numeric_data.sum(axis=1)\n",
    "# Filter the DataFrame based on the sum condition\n",
    "pangenie_DEL_sample_new_copy_atleast5 = pangenie_DEL_sample_new_copy[pangenie_DEL_sample_new_copy['Sum'] >= 5]"
   ]
  },
  {
   "cell_type": "code",
   "execution_count": 28,
   "id": "psychological-tablet",
   "metadata": {},
   "outputs": [],
   "source": [
    "# Function to count occurrences of missing genotype \".:.\"\n",
    "def count_dot_colon(row):\n",
    "    return (row == '.:.').sum()"
   ]
  },
  {
   "cell_type": "code",
   "execution_count": 29,
   "id": "further-cruise",
   "metadata": {},
   "outputs": [],
   "source": [
    "# Make a copy of the DataFrame to avoid modifying the original data\n",
    "pangenie_DEL_sample_new_copy_atleast5 = pangenie_DEL_sample_new_copy_atleast5.copy()\n",
    "# Apply the function to each row starting from the 4th column\n",
    "pangenie_DEL_sample_new_copy_atleast5.loc[:, 'missing_geno'] = pangenie_DEL_sample_new_copy_atleast5.iloc[:, 4:].apply(count_dot_colon, axis=1)"
   ]
  },
  {
   "cell_type": "code",
   "execution_count": 30,
   "id": "digital-award",
   "metadata": {},
   "outputs": [
    {
     "data": {
      "text/plain": [
       "18"
      ]
     },
     "execution_count": 30,
     "metadata": {},
     "output_type": "execute_result"
    }
   ],
   "source": [
    "pangenie_DEL_sample_new_copy_atleast5['missing_geno'].max()"
   ]
  },
  {
   "cell_type": "code",
   "execution_count": 31,
   "id": "normal-threshold",
   "metadata": {},
   "outputs": [
    {
     "data": {
      "text/plain": [
       "(261955, 32)"
      ]
     },
     "execution_count": 31,
     "metadata": {},
     "output_type": "execute_result"
    }
   ],
   "source": [
    "pangenie_DEL_sample_new_copy_atleast5.shape"
   ]
  },
  {
   "cell_type": "code",
   "execution_count": 32,
   "id": "human-source",
   "metadata": {},
   "outputs": [
    {
     "data": {
      "text/plain": [
       "(261950, 32)"
      ]
     },
     "execution_count": 32,
     "metadata": {},
     "output_type": "execute_result"
    }
   ],
   "source": [
    "# require less than 50% of samples have missing genotypes \n",
    "pangenie_DEL_sample_new_copy_atleast5_filter = pangenie_DEL_sample_new_copy_atleast5[pangenie_DEL_sample_new_copy_atleast5['missing_geno'] < 13]\n",
    "pangenie_DEL_sample_new_copy_atleast5_filter.shape"
   ]
  },
  {
   "cell_type": "code",
   "execution_count": 33,
   "id": "enhanced-technology",
   "metadata": {},
   "outputs": [],
   "source": [
    "pangenie_DEL_sample_new_copy_atleast5_filter = pangenie_DEL_sample_new_copy_atleast5_filter.copy()\n",
    "pangenie_DEL_sample_new_copy_atleast5_filter['START_POS'] = pangenie_DEL_sample_new_copy_atleast5_filter['INFO_ID'].str.split('-', expand=True)[1]\n",
    "pangenie_DEL_sample_new_copy_atleast5_filter['TYPE'] = pangenie_DEL_sample_new_copy_atleast5_filter['INFO_ID'].str.split('-', expand=True)[2]\n",
    "pangenie_DEL_sample_new_copy_atleast5_filter['LEN'] = pangenie_DEL_sample_new_copy_atleast5_filter['INFO_ID'].str.split('-', expand=True)[3]\n",
    "pangenie_DEL_sample_new_copy_atleast5_filter.iloc[:,[32,34]] = pangenie_DEL_sample_new_copy_atleast5_filter.iloc[:,[32,34]].astype(str).astype(int)\n",
    "pangenie_DEL_sample_new_copy_atleast5_filter['END_POS'] = pangenie_DEL_sample_new_copy_atleast5_filter['START_POS'] + pangenie_DEL_sample_new_copy_atleast5_filter['LEN'] - 1\n",
    "pangenie_DEL_sample_new_copy_atleast5_filter_new = pangenie_DEL_sample_new_copy_atleast5_filter[[\n",
    "'CHROM', 'START_POS','END_POS', 'TYPE','LEN', 'FILTER', 'INFO_ID', 'FORMAT', 'NA18534','NA18939','NA19036','NA19240','NA19650','NA19983','NA20509','NA20847','HG00096','HG00171','HG00514','HG00733','HG00864','HG01114','HG01505','HG01573','HG01596','HG02011','HG02018','HG02492','HG02587','HG03009','HG03065','HG03371','HG03683','HG03732', 'Sum', 'missing_geno'\n",
    "    ]]"
   ]
  },
  {
   "cell_type": "code",
   "execution_count": 34,
   "id": "illegal-democracy",
   "metadata": {},
   "outputs": [
    {
     "data": {
      "text/plain": [
       "(13873, 36)"
      ]
     },
     "execution_count": 34,
     "metadata": {},
     "output_type": "execute_result"
    }
   ],
   "source": [
    "pangenie_DEL_sample_new_atleast5_50 = pangenie_DEL_sample_new_copy_atleast5_filter_new[pangenie_DEL_sample_new_copy_atleast5_filter_new['LEN'] >= 50]\n",
    "pangenie_DEL_sample_new_atleast5_50.shape"
   ]
  },
  {
   "cell_type": "code",
   "execution_count": 35,
   "id": "macro-heaven",
   "metadata": {},
   "outputs": [
    {
     "data": {
      "text/plain": [
       "(12655, 36)"
      ]
     },
     "execution_count": 35,
     "metadata": {},
     "output_type": "execute_result"
    }
   ],
   "source": [
    "pangenie_DEL_sample_new_atleast5_50_zero = pangenie_DEL_sample_new_atleast5_50[pangenie_DEL_sample_new_atleast5_50.iloc[:, 8:34].eq(0).any(1)]\n",
    "pangenie_DEL_sample_new_atleast5_50_zero.shape"
   ]
  },
  {
   "cell_type": "code",
   "execution_count": 36,
   "id": "missing-prospect",
   "metadata": {},
   "outputs": [],
   "source": [
    "pangenie_DEL_sample_new_atleast5_50_zero.to_csv('../preprocess_data/pangenie_svs_26sample_ALL_DEL_atleast5_50_genotype_only01.bed', index = False, sep='\\t', header=True)"
   ]
  },
  {
   "cell_type": "code",
   "execution_count": 37,
   "id": "naked-chancellor",
   "metadata": {},
   "outputs": [
    {
     "data": {
      "text/plain": [
       "(12655, 4)"
      ]
     },
     "execution_count": 37,
     "metadata": {},
     "output_type": "execute_result"
    }
   ],
   "source": [
    "pangenie_DEL_sample_new_atleast5_50_start_end = pangenie_DEL_sample_new_atleast5_50_zero[['CHROM', 'START_POS', 'END_POS', 'INFO_ID']]\n",
    "pangenie_DEL_sample_new_atleast5_50_start_end.shape"
   ]
  },
  {
   "cell_type": "code",
   "execution_count": 38,
   "id": "temporal-newcastle",
   "metadata": {},
   "outputs": [],
   "source": [
    "pangenie_DEL_sample_new_atleast5_50_start_end.to_csv('../preprocess_data/pangenie_svs_26sample_ALL_DEL_atleast5_50_only01.bed', index = False, sep='\\t', header=True)"
   ]
  },
  {
   "cell_type": "markdown",
   "id": "printable-morris",
   "metadata": {},
   "source": [
    "## insertion"
   ]
  },
  {
   "cell_type": "code",
   "execution_count": 39,
   "id": "unlikely-treat",
   "metadata": {},
   "outputs": [],
   "source": [
    "pangenie_INS_sample_new = pangenie_INS_sample[[\n",
    "'CHROM', 'FILTER', 'INFO_ID', 'FORMAT','NA18534','NA18939','NA19036','NA19240','NA19650','NA19983','NA20509','NA20847','HG00096','HG00171','HG00514','HG00733','HG00864','HG01114','HG01505','HG01573','HG01596','HG02011','HG02018','HG02492','HG02587','HG03009','HG03065','HG03371','HG03683','HG03732'\n",
    "    ]]\n",
    "# removed NA12329"
   ]
  },
  {
   "cell_type": "code",
   "execution_count": 40,
   "id": "selective-slovenia",
   "metadata": {},
   "outputs": [],
   "source": [
    "pangenie_INS_sample_new_copy = pangenie_INS_sample_new.copy()\n",
    "for col in pangenie_INS_sample_new_copy.iloc[:, 4:]:\n",
    "    pangenie_INS_sample_new_copy[col] = pangenie_INS_sample_new_copy[col].str[:3]"
   ]
  },
  {
   "cell_type": "code",
   "execution_count": 41,
   "id": "rental-plaza",
   "metadata": {},
   "outputs": [],
   "source": [
    "for col in pangenie_INS_sample_new_copy.columns:\n",
    "    pangenie_INS_sample_new_copy.loc[pangenie_INS_sample_new_copy[col].astype(str).str.startswith('0/0'), col] = '0'\n",
    "    pangenie_INS_sample_new_copy.loc[pangenie_INS_sample_new_copy[col].astype(str).str.startswith('0/1'), col] = '1'\n",
    "    pangenie_INS_sample_new_copy.loc[pangenie_INS_sample_new_copy[col].astype(str).str.startswith('1/0'), col] = '1'\n",
    "    pangenie_INS_sample_new_copy.loc[pangenie_INS_sample_new_copy[col].astype(str).str.startswith('1/1'), col] = '1'"
   ]
  },
  {
   "cell_type": "code",
   "execution_count": 42,
   "id": "absolute-graham",
   "metadata": {
    "scrolled": true
   },
   "outputs": [
    {
     "data": {
      "text/plain": [
       "(457378, 30)"
      ]
     },
     "execution_count": 42,
     "metadata": {},
     "output_type": "execute_result"
    }
   ],
   "source": [
    "pangenie_INS_sample_new_copy.shape"
   ]
  },
  {
   "cell_type": "code",
   "execution_count": 43,
   "id": "choice-evaluation",
   "metadata": {},
   "outputs": [],
   "source": [
    "# Apply the conversion function to each cell in the relevant columns to keep the original DataFrame unchanged\n",
    "pangenie_INS_sample_new_copy.iloc[:, 4:] = pangenie_INS_sample_new_copy.iloc[:, 4:].applymap(convert_to_int)\n",
    "# Create a separate DataFrame for numeric operations\n",
    "numeric_data = pangenie_INS_sample_new_copy.iloc[:, 4:].apply(pd.to_numeric, errors='coerce').fillna(0).astype(int)\n",
    "# Calculate the sum of integer values\n",
    "pangenie_INS_sample_new_copy['Sum'] = numeric_data.sum(axis=1)\n",
    "# Filter the DataFrame based on the sum condition\n",
    "pangenie_INS_sample_new_copy_atleast5 = pangenie_INS_sample_new_copy[pangenie_INS_sample_new_copy['Sum'] >= 5]"
   ]
  },
  {
   "cell_type": "code",
   "execution_count": 44,
   "id": "published-content",
   "metadata": {},
   "outputs": [],
   "source": [
    "# Make a copy of the DataFrame to avoid modifying the original data\n",
    "pangenie_INS_sample_new_copy_atleast5 = pangenie_INS_sample_new_copy_atleast5.copy()\n",
    "# Apply the function to each row starting from the 4th column\n",
    "pangenie_INS_sample_new_copy_atleast5.loc[:, 'missing_geno'] = pangenie_INS_sample_new_copy_atleast5.iloc[:, 4:].apply(count_dot_colon, axis=1)"
   ]
  },
  {
   "cell_type": "code",
   "execution_count": 45,
   "id": "liable-chapter",
   "metadata": {},
   "outputs": [
    {
     "data": {
      "text/plain": [
       "13"
      ]
     },
     "execution_count": 45,
     "metadata": {},
     "output_type": "execute_result"
    }
   ],
   "source": [
    "pangenie_INS_sample_new_copy_atleast5['missing_geno'].max()"
   ]
  },
  {
   "cell_type": "code",
   "execution_count": 46,
   "id": "affecting-adolescent",
   "metadata": {},
   "outputs": [
    {
     "data": {
      "text/plain": [
       "(239051, 32)"
      ]
     },
     "execution_count": 46,
     "metadata": {},
     "output_type": "execute_result"
    }
   ],
   "source": [
    "pangenie_INS_sample_new_copy_atleast5.shape"
   ]
  },
  {
   "cell_type": "code",
   "execution_count": 47,
   "id": "atmospheric-opening",
   "metadata": {},
   "outputs": [
    {
     "data": {
      "text/plain": [
       "(239046, 32)"
      ]
     },
     "execution_count": 47,
     "metadata": {},
     "output_type": "execute_result"
    }
   ],
   "source": [
    "# require less than 50% of samples have missing genotypes \n",
    "pangenie_INS_sample_new_copy_atleast5_filter = pangenie_INS_sample_new_copy_atleast5[pangenie_INS_sample_new_copy_atleast5['missing_geno'] < 13]\n",
    "pangenie_INS_sample_new_copy_atleast5_filter.shape"
   ]
  },
  {
   "cell_type": "code",
   "execution_count": 48,
   "id": "significant-short",
   "metadata": {},
   "outputs": [],
   "source": [
    "pangenie_INS_sample_new_copy_atleast5_filter = pangenie_INS_sample_new_copy_atleast5_filter.copy()\n",
    "pangenie_INS_sample_new_copy_atleast5_filter['START_POS'] = pangenie_INS_sample_new_copy_atleast5_filter['INFO_ID'].str.split('-', expand=True)[1]\n",
    "pangenie_INS_sample_new_copy_atleast5_filter['TYPE'] = pangenie_INS_sample_new_copy_atleast5_filter['INFO_ID'].str.split('-', expand=True)[2]\n",
    "pangenie_INS_sample_new_copy_atleast5_filter['LEN'] = pangenie_INS_sample_new_copy_atleast5_filter['INFO_ID'].str.split('-', expand=True)[3]\n",
    "pangenie_INS_sample_new_copy_atleast5_filter.iloc[:,[32,34]] = pangenie_INS_sample_new_copy_atleast5_filter.iloc[:,[32,34]].astype(str).astype(int)\n",
    "pangenie_INS_sample_new_copy_atleast5_filter['END_POS'] = pangenie_INS_sample_new_copy_atleast5_filter['START_POS']\n",
    "pangenie_INS_sample_new_copy_atleast5_filter_new = pangenie_INS_sample_new_copy_atleast5_filter[[\n",
    "'CHROM', 'START_POS','END_POS', 'TYPE','LEN', 'FILTER', 'INFO_ID', 'FORMAT', 'NA18534','NA18939','NA19036','NA19240','NA19650','NA19983','NA20509','NA20847','HG00096','HG00171','HG00514','HG00733','HG00864','HG01114','HG01505','HG01573','HG01596','HG02011','HG02018','HG02492','HG02587','HG03009','HG03065','HG03371','HG03683','HG03732', 'Sum', 'missing_geno'\n",
    "    ]]"
   ]
  },
  {
   "cell_type": "code",
   "execution_count": 49,
   "id": "premier-welcome",
   "metadata": {},
   "outputs": [
    {
     "data": {
      "text/plain": [
       "(19990, 36)"
      ]
     },
     "execution_count": 49,
     "metadata": {},
     "output_type": "execute_result"
    }
   ],
   "source": [
    "pangenie_INS_sample_new_atleast5_50 = pangenie_INS_sample_new_copy_atleast5_filter_new[pangenie_INS_sample_new_copy_atleast5_filter_new['LEN'] >= 50]\n",
    "pangenie_INS_sample_new_atleast5_50.shape"
   ]
  },
  {
   "cell_type": "code",
   "execution_count": 50,
   "id": "synthetic-hollywood",
   "metadata": {},
   "outputs": [
    {
     "data": {
      "text/plain": [
       "(17257, 36)"
      ]
     },
     "execution_count": 50,
     "metadata": {},
     "output_type": "execute_result"
    }
   ],
   "source": [
    "pangenie_INS_sample_new_atleast5_50_zero = pangenie_INS_sample_new_atleast5_50[pangenie_INS_sample_new_atleast5_50.iloc[:, 8:34].eq(0).any(1)]\n",
    "pangenie_INS_sample_new_atleast5_50_zero.shape"
   ]
  },
  {
   "cell_type": "code",
   "execution_count": 51,
   "id": "casual-gibson",
   "metadata": {},
   "outputs": [],
   "source": [
    "pangenie_INS_sample_new_atleast5_50_zero.to_csv('../preprocess_data/pangenie_svs_26sample_ALL_INS_atleast5_50_genotype_only01.bed', index = False, sep='\\t', header=True)"
   ]
  },
  {
   "cell_type": "code",
   "execution_count": 52,
   "id": "least-effort",
   "metadata": {},
   "outputs": [
    {
     "data": {
      "text/plain": [
       "(17257, 4)"
      ]
     },
     "execution_count": 52,
     "metadata": {},
     "output_type": "execute_result"
    }
   ],
   "source": [
    "pangenie_INS_sample_new_atleast5_50_start_end = pangenie_INS_sample_new_atleast5_50_zero[['CHROM', 'START_POS', 'END_POS', 'INFO_ID']]\n",
    "pangenie_INS_sample_new_atleast5_50_start_end.shape"
   ]
  },
  {
   "cell_type": "code",
   "execution_count": 53,
   "id": "handmade-burden",
   "metadata": {},
   "outputs": [],
   "source": [
    "pangenie_INS_sample_new_atleast5_50_start_end.to_csv('../preprocess_data/pangenie_svs_26sample_ALL_INS_atleast5_50_only01.bed', index = False, sep='\\t', header=True)"
   ]
  },
  {
   "cell_type": "code",
   "execution_count": 54,
   "id": "roman-audio",
   "metadata": {},
   "outputs": [
    {
     "data": {
      "text/plain": [
       "12655"
      ]
     },
     "execution_count": 54,
     "metadata": {},
     "output_type": "execute_result"
    }
   ],
   "source": [
    "len(pangenie_DEL_sample_new_atleast5_50_zero)"
   ]
  },
  {
   "cell_type": "code",
   "execution_count": 55,
   "id": "exclusive-medication",
   "metadata": {},
   "outputs": [
    {
     "data": {
      "text/plain": [
       "17257"
      ]
     },
     "execution_count": 55,
     "metadata": {},
     "output_type": "execute_result"
    }
   ],
   "source": [
    "len(pangenie_INS_sample_new_atleast5_50_zero)"
   ]
  },
  {
   "cell_type": "code",
   "execution_count": 64,
   "id": "republican-davis",
   "metadata": {},
   "outputs": [
    {
     "data": {
      "text/plain": [
       "<matplotlib.legend.Legend at 0x2afa73b77780>"
      ]
     },
     "execution_count": 64,
     "metadata": {},
     "output_type": "execute_result"
    },
    {
     "data": {
      "image/png": "[encoded data removed]",
      "text/plain": [
       "<Figure size 576x360 with 1 Axes>"
      ]
     },
     "metadata": {
      "needs_background": "light"
     },
     "output_type": "display_data"
    }
   ],
   "source": [
    "import warnings\n",
    "\n",
    "# Suppress FutureWarnings\n",
    "warnings.simplefilter(action='ignore', category=FutureWarning)\n",
    "                      \n",
    "plt.rcParams['figure.figsize'] = [8, 5]\n",
    "gfg = sns.distplot(pangenie_DEL_sample_new_atleast5_50_zero['LEN'], rug=True,kde=True, label='DEL')\n",
    "gfg = sns.distplot(pangenie_INS_sample_new_atleast5_50_zero['LEN'], rug=True, kde=True, label='INS')\n",
    "plt.xlabel('SV length (bp)', fontsize=14)\n",
    "plt.ylabel('Density', fontsize=14)\n",
    "plt.title('SV size distribution', fontsize=15, y=1.05)\n",
    "plt.legend()"
   ]
  },
  {
   "cell_type": "markdown",
   "id": "civil-relation",
   "metadata": {},
   "source": [
    "### SVs' impact on boundary strength "
   ]
  },
  {
   "cell_type": "code",
   "execution_count": 66,
   "id": "korean-balance",
   "metadata": {},
   "outputs": [],
   "source": [
    "all_DEL_merged = pd.read_csv('../data/all_DEL_26merged_cutoff_flank_inter30_5kb_boundaries_100kb_only01.bed', sep='\\t', header=None)\n",
    "all_DEL_merged.columns =['CHROM', 'START_POS', 'END_POS', 'INFO_ID', 'BOUND_CHR', 'FLANK_START', 'FLANK_END', 'BOUND_SCORE']\n",
    "all_INS_merged = pd.read_csv('../data/all_INS_26merged_cutoff_flank_inter30_5kb_boundaries_100kb_only01.bed', sep='\\t', header=None)\n",
    "all_INS_merged.columns =['CHROM', 'START_POS', 'END_POS', 'INFO_ID', 'BOUND_CHR', 'FLANK_START', 'FLANK_END', 'BOUND_SCORE']"
   ]
  },
  {
   "cell_type": "code",
   "execution_count": 67,
   "id": "commercial-thumb",
   "metadata": {},
   "outputs": [
    {
     "data": {
      "text/plain": [
       "(12713, 8)"
      ]
     },
     "execution_count": 67,
     "metadata": {},
     "output_type": "execute_result"
    }
   ],
   "source": [
    "all_DEL_merged.shape"
   ]
  },
  {
   "cell_type": "code",
   "execution_count": 68,
   "id": "anonymous-words",
   "metadata": {},
   "outputs": [
    {
     "data": {
      "text/plain": [
       "(17302, 8)"
      ]
     },
     "execution_count": 68,
     "metadata": {},
     "output_type": "execute_result"
    }
   ],
   "source": [
    "all_INS_merged.shape"
   ]
  },
  {
   "cell_type": "code",
   "execution_count": 69,
   "id": "crude-cream",
   "metadata": {},
   "outputs": [],
   "source": [
    "all_DEL_boundary_1 = all_DEL_merged.loc[all_DEL_merged.iloc[:, 4] != '.']\n",
    "all_DEL_boundary_2 = all_DEL_boundary_1.reset_index(drop=True)\n",
    "all_INS_boundary_1 = all_INS_merged.loc[all_INS_merged.iloc[:, 4] != '.']\n",
    "all_INS_boundary_2 = all_INS_boundary_1.reset_index(drop=True)"
   ]
  },
  {
   "cell_type": "code",
   "execution_count": 70,
   "id": "decent-national",
   "metadata": {},
   "outputs": [
    {
     "data": {
      "text/plain": [
       "(1838, 8)"
      ]
     },
     "execution_count": 70,
     "metadata": {},
     "output_type": "execute_result"
    }
   ],
   "source": [
    "all_DEL_boundary_2.shape"
   ]
  },
  {
   "cell_type": "code",
   "execution_count": 71,
   "id": "nasty-spending",
   "metadata": {},
   "outputs": [
    {
     "data": {
      "text/plain": [
       "(2605, 8)"
      ]
     },
     "execution_count": 71,
     "metadata": {},
     "output_type": "execute_result"
    }
   ],
   "source": [
    "all_INS_boundary_2.shape"
   ]
  },
  {
   "cell_type": "code",
   "execution_count": 72,
   "id": "accepting-train",
   "metadata": {},
   "outputs": [
    {
     "data": {
      "text/plain": [
       "1780"
      ]
     },
     "execution_count": 72,
     "metadata": {},
     "output_type": "execute_result"
    }
   ],
   "source": [
    "len(all_DEL_boundary_2['INFO_ID'].drop_duplicates())"
   ]
  },
  {
   "cell_type": "code",
   "execution_count": 73,
   "id": "alternate-therapist",
   "metadata": {},
   "outputs": [
    {
     "data": {
      "text/plain": [
       "2560"
      ]
     },
     "execution_count": 73,
     "metadata": {},
     "output_type": "execute_result"
    }
   ],
   "source": [
    "len(all_INS_boundary_2['INFO_ID'].drop_duplicates())"
   ]
  },
  {
   "cell_type": "code",
   "execution_count": 74,
   "id": "serial-heath",
   "metadata": {},
   "outputs": [],
   "source": [
    "sample_ids = ['GM18534','GM18939','GM19036','GM19240','GM19650','GM19833','GM20509','GM20847','HG00096','HG00171',\n",
    "              'HG00514','HG00733','HG00864','HG01114','HG01505','HG01573','HG01596','HG02011','HG02018','HG02492',\n",
    "              'HG02587','HG03009','HG03065','HG03371','HG03683','HG03732']\n",
    "\n",
    "for i in sample_ids:\n",
    "    file_pattern = os.path.join(f\"../data/sample_bound/{i}_BS_cutoff_inter30_10kb.boundaries_100kb.bed\")    \n",
    "    sample_file = glob.glob(file_pattern)\n",
    "    sample_merged_BS = pd.read_csv(sample_file[0], sep='\\t', header=None)\n",
    "    #sample_merged_BS = pd.read_csv(sample_file[0], sep='\\t', header=None)\n",
    "    sample_merged_BS =sample_merged_BS[[0, 1, 2, 3, 4, 5, 6, 8]]\n",
    "    sample_merged_BS.columns =['BOUND_CHR', 'FLANK_START', 'FLANK_END', 'BOUND_SCORE','BOUND_CHR_samp', 'BOUND_START_samp', 'BOUND_END_samp', 'BOUND_SCORE_samp']\n",
    "    sample_merged_BS_1 = sample_merged_BS.groupby(['BOUND_CHR', 'FLANK_START', 'FLANK_END'], as_index=False)['BOUND_SCORE_samp'].median()\n",
    "    all_DEL_boundary_2[i] = all_DEL_boundary_2.merge(sample_merged_BS_1, how=\"left\", left_on=[\"BOUND_CHR\", \"FLANK_START\", \"FLANK_END\"], right_on=[\"BOUND_CHR\", \"FLANK_START\", \"FLANK_END\"])['BOUND_SCORE_samp']\n",
    "    all_INS_boundary_2[i] = all_INS_boundary_2.merge(sample_merged_BS_1, how=\"left\", left_on=[\"BOUND_CHR\", \"FLANK_START\", \"FLANK_END\"], right_on=[\"BOUND_CHR\", \"FLANK_START\", \"FLANK_END\"])['BOUND_SCORE_samp']"
   ]
  },
  {
   "cell_type": "code",
   "execution_count": 75,
   "id": "damaged-partner",
   "metadata": {},
   "outputs": [
    {
     "data": {
      "text/plain": [
       "(1838, 34)"
      ]
     },
     "execution_count": 75,
     "metadata": {},
     "output_type": "execute_result"
    }
   ],
   "source": [
    "all_DEL_boundary_2.shape"
   ]
  },
  {
   "cell_type": "code",
   "execution_count": 76,
   "id": "banner-nature",
   "metadata": {},
   "outputs": [
    {
     "data": {
      "text/plain": [
       "(2605, 34)"
      ]
     },
     "execution_count": 76,
     "metadata": {},
     "output_type": "execute_result"
    }
   ],
   "source": [
    "all_INS_boundary_2.shape"
   ]
  },
  {
   "cell_type": "markdown",
   "id": "correct-yorkshire",
   "metadata": {},
   "source": [
    "#### Mann-Whitney U test for genotypes and boundary BS"
   ]
  },
  {
   "cell_type": "code",
   "execution_count": 77,
   "id": "female-score",
   "metadata": {},
   "outputs": [],
   "source": [
    "all_DEL_boundary_2['num_NaNs'] = all_DEL_boundary_2.iloc[:, 8:].isna().sum(1)\n",
    "all_INS_boundary_2['num_NaNs'] = all_INS_boundary_2.iloc[:, 8:].isna().sum(1)"
   ]
  },
  {
   "cell_type": "code",
   "execution_count": 78,
   "id": "agricultural-fundamentals",
   "metadata": {},
   "outputs": [],
   "source": [
    "all_DEL_boundary_2_noNA = all_DEL_boundary_2[all_DEL_boundary_2.num_NaNs < 26]\n",
    "all_INS_boundary_2_noNA = all_INS_boundary_2[all_INS_boundary_2.num_NaNs < 26]"
   ]
  },
  {
   "cell_type": "code",
   "execution_count": 86,
   "id": "assisted-repeat",
   "metadata": {},
   "outputs": [
    {
     "data": {
      "text/plain": [
       "(1794, 35)"
      ]
     },
     "execution_count": 86,
     "metadata": {},
     "output_type": "execute_result"
    }
   ],
   "source": [
    "# Replace NaN Values with Zeros, because those NA boundary scores mean there is no boundary, so we changed them to zero\n",
    "all_DEL_boundary_3 = all_DEL_boundary_2_noNA.fillna(0).drop_duplicates().reset_index(drop=True)\n",
    "all_DEL_boundary_3.shape"
   ]
  },
  {
   "cell_type": "code",
   "execution_count": 87,
   "id": "arctic-truck",
   "metadata": {},
   "outputs": [
    {
     "data": {
      "text/plain": [
       "(2551, 35)"
      ]
     },
     "execution_count": 87,
     "metadata": {},
     "output_type": "execute_result"
    }
   ],
   "source": [
    "# Replace NaN Values with Zeros\n",
    "all_INS_boundary_3 = all_INS_boundary_2_noNA.fillna(0).drop_duplicates().reset_index(drop=True)\n",
    "all_INS_boundary_3.shape"
   ]
  },
  {
   "cell_type": "code",
   "execution_count": 88,
   "id": "soviet-quarter",
   "metadata": {},
   "outputs": [
    {
     "data": {
      "text/plain": [
       "1740"
      ]
     },
     "execution_count": 88,
     "metadata": {},
     "output_type": "execute_result"
    }
   ],
   "source": [
    "all_DEL_boundary_id = list(all_DEL_boundary_3['INFO_ID'])\n",
    "DEL_list = list(set(all_DEL_boundary_id))\n",
    "len(DEL_list)"
   ]
  },
  {
   "cell_type": "code",
   "execution_count": 89,
   "id": "toxic-chassis",
   "metadata": {},
   "outputs": [
    {
     "data": {
      "text/plain": [
       "2510"
      ]
     },
     "execution_count": 89,
     "metadata": {},
     "output_type": "execute_result"
    }
   ],
   "source": [
    "all_INS_boundary_id = list(all_INS_boundary_3['INFO_ID'])\n",
    "INS_list = list(set(all_INS_boundary_id))\n",
    "len(INS_list)"
   ]
  },
  {
   "cell_type": "code",
   "execution_count": 92,
   "id": "valuable-limit",
   "metadata": {},
   "outputs": [
    {
     "data": {
      "text/plain": [
       "1413"
      ]
     },
     "execution_count": 92,
     "metadata": {},
     "output_type": "execute_result"
    }
   ],
   "source": [
    "len(all_DEL_boundary_3[['BOUND_CHR', 'FLANK_START', 'FLANK_END']].drop_duplicates())"
   ]
  },
  {
   "cell_type": "code",
   "execution_count": 93,
   "id": "romance-burden",
   "metadata": {},
   "outputs": [
    {
     "data": {
      "text/plain": [
       "1750"
      ]
     },
     "execution_count": 93,
     "metadata": {},
     "output_type": "execute_result"
    }
   ],
   "source": [
    "len(all_INS_boundary_3[['BOUND_CHR', 'FLANK_START', 'FLANK_END']].drop_duplicates())"
   ]
  },
  {
   "cell_type": "code",
   "execution_count": 94,
   "id": "according-mathematics",
   "metadata": {},
   "outputs": [],
   "source": [
    "DEL_genotype = pd.read_csv('../preprocess_data/pangenie_svs_26sample_ALL_DEL_atleast5_50_genotype_only01.bed', sep='\\t', header=0, dtype=str)\n",
    "INS_genotype = pd.read_csv('../preprocess_data/pangenie_svs_26sample_ALL_INS_atleast5_50_genotype_only01.bed', sep='\\t', header=0, dtype=str)"
   ]
  },
  {
   "cell_type": "code",
   "execution_count": 95,
   "id": "independent-stick",
   "metadata": {},
   "outputs": [],
   "source": [
    "DEL_genotype_1 = DEL_genotype.iloc[:, :-1]\n",
    "INS_genotype_1 = INS_genotype.iloc[:, :-1]\n",
    "DEL_boundary_genotype = DEL_genotype_1[DEL_genotype_1['INFO_ID'].isin(all_DEL_boundary_id)]\n",
    "INS_boundary_genotype = INS_genotype_1[INS_genotype_1['INFO_ID'].isin(all_INS_boundary_id)]\n",
    "DEL_boundary_genotype = DEL_boundary_genotype[[\n",
    "'CHROM', 'START_POS', 'END_POS', 'TYPE', 'LEN', 'FILTER', 'INFO_ID','FORMAT','NA18534','NA18939','NA19036','NA19240','NA19650','NA19983','NA20509','NA20847','HG00096','HG00171','HG00514','HG00733','HG00864','HG01114','HG01505','HG01573','HG01596','HG02011','HG02018','HG02492','HG02587','HG03009','HG03065','HG03371','HG03683','HG03732'\n",
    "    ]]\n",
    "INS_boundary_genotype = INS_boundary_genotype[[\n",
    "'CHROM', 'START_POS', 'END_POS', 'TYPE', 'LEN', 'FILTER', 'INFO_ID','FORMAT','NA18534','NA18939','NA19036','NA19240','NA19650','NA19983','NA20509','NA20847','HG00096','HG00171','HG00514','HG00733','HG00864','HG01114','HG01505','HG01573','HG01596','HG02011','HG02018','HG02492','HG02587','HG03009','HG03065','HG03371','HG03683','HG03732'\n",
    "    ]]"
   ]
  },
  {
   "cell_type": "code",
   "execution_count": 96,
   "id": "increasing-association",
   "metadata": {},
   "outputs": [
    {
     "data": {
      "text/plain": [
       "(1740, 34)"
      ]
     },
     "execution_count": 96,
     "metadata": {},
     "output_type": "execute_result"
    }
   ],
   "source": [
    "DEL_boundary_genotype_1 = DEL_boundary_genotype.reset_index(drop=True)\n",
    "DEL_boundary_genotype_1.shape"
   ]
  },
  {
   "cell_type": "code",
   "execution_count": 97,
   "id": "handed-charlotte",
   "metadata": {},
   "outputs": [
    {
     "data": {
      "text/plain": [
       "(2510, 34)"
      ]
     },
     "execution_count": 97,
     "metadata": {},
     "output_type": "execute_result"
    }
   ],
   "source": [
    "INS_boundary_genotype_1 = INS_boundary_genotype.reset_index(drop=True)\n",
    "INS_boundary_genotype_1.shape"
   ]
  },
  {
   "cell_type": "code",
   "execution_count": 98,
   "id": "knowing-surge",
   "metadata": {},
   "outputs": [],
   "source": [
    "### test for genotypes 0 and 1 (binary genotypes, only 0/0 and others)\n",
    "pvalue= []\n",
    "\n",
    "for i in range(0, len(all_DEL_boundary_3)):\n",
    "    DEL_boundary_genotype_all = DEL_boundary_genotype_1[DEL_boundary_genotype_1.loc[:,'INFO_ID'] == all_DEL_boundary_3.loc[i,'INFO_ID']].iloc[:,8:]\n",
    "    genotypes_list = DEL_boundary_genotype_all.iloc[0].values.tolist()\n",
    "    boundary_score_list = all_DEL_boundary_3.iloc[i,8:34].values.tolist()\n",
    "\n",
    "    df = pd.DataFrame({'genotypes' : genotypes_list,\n",
    "                   'boundary_score' : boundary_score_list})\n",
    "    \n",
    "    # Convert the 'genotypes' column to string type\n",
    "    df['genotypes'] = df['genotypes'].astype(str)\n",
    "    \n",
    "    df_new = df.assign(BS=df.groupby('genotypes').cumcount()).pivot('BS','genotypes','boundary_score')\n",
    "      \n",
    "    try:\n",
    "        U, p = mannwhitneyu(x=df_new['0'].dropna().tolist(), y=df_new['1'].dropna().tolist(), method=\"exact\", alternative = 'two-sided')\n",
    "        #print (p)\n",
    "        \n",
    "    except ValueError:\n",
    "        p = 'NA'\n",
    "        #print (p)\n",
    "    \n",
    "    pvalue.append(p)\n",
    "    \n",
    "all_DEL_boundary_3['pvalue_0_1'] = pvalue"
   ]
  },
  {
   "cell_type": "code",
   "execution_count": 99,
   "id": "native-strip",
   "metadata": {},
   "outputs": [],
   "source": [
    "all_DEL_boundary_3.to_csv('../data/final_ALL_DEL_merged_BS_flank_26sample_pvalue_only01_fillna.bed', index = False, sep='\\t', header=True)"
   ]
  },
  {
   "cell_type": "code",
   "execution_count": 100,
   "id": "spoken-cleaning",
   "metadata": {},
   "outputs": [],
   "source": [
    "### test for genotypes 0 and 1 (binary genotypes, only 0/0 and others)\n",
    "pvalue= []\n",
    "\n",
    "for i in range(0, len(all_INS_boundary_3)):\n",
    "    INS_boundary_genotype_all = INS_boundary_genotype_1[INS_boundary_genotype_1.loc[:,'INFO_ID'] == all_INS_boundary_3.loc[i,'INFO_ID']].iloc[:,8:]\n",
    "    genotypes_list = INS_boundary_genotype_all.iloc[0].values.tolist()\n",
    "    boundary_score_list = all_INS_boundary_3.iloc[i,8:34].values.tolist()\n",
    "\n",
    "    df = pd.DataFrame({'genotypes' : genotypes_list,\n",
    "                   'boundary_score' : boundary_score_list})\n",
    "    \n",
    "    # Convert the 'genotypes' column to string type\n",
    "    df['genotypes'] = df['genotypes'].astype(str)\n",
    "    \n",
    "    df_new = df.assign(BS=df.groupby('genotypes').cumcount()).pivot('BS','genotypes','boundary_score')\n",
    "      \n",
    "    try:\n",
    "        U, p = mannwhitneyu(x=df_new['0'].dropna().tolist(), y=df_new['1'].dropna().tolist(), method=\"exact\", alternative = 'two-sided')\n",
    "        #print (p)\n",
    "        \n",
    "    except ValueError:\n",
    "        p = 'NA'\n",
    "        #print (p)\n",
    "    \n",
    "    pvalue.append(p)\n",
    "    \n",
    "all_INS_boundary_3['pvalue_0_1'] = pvalue"
   ]
  },
  {
   "cell_type": "code",
   "execution_count": 101,
   "id": "statutory-violin",
   "metadata": {},
   "outputs": [],
   "source": [
    "all_INS_boundary_3.to_csv('../data/final_ALL_INS_merged_BS_flank_26sample_pvalue_only01_fillna.bed', index = False, sep='\\t', header=True)"
   ]
  },
  {
   "cell_type": "code",
   "execution_count": 102,
   "id": "obvious-complement",
   "metadata": {},
   "outputs": [],
   "source": [
    "def fdr_correction(group):\n",
    "    _, corrected_pvalues, _, _ = multipletests(group['pvalue_0_1'], method='fdr_bh')\n",
    "    group['qvalue'] = corrected_pvalues\n",
    "    return group"
   ]
  },
  {
   "cell_type": "code",
   "execution_count": 103,
   "id": "arranged-strap",
   "metadata": {},
   "outputs": [],
   "source": [
    "corrected_del = all_DEL_boundary_3.groupby('INFO_ID').apply(fdr_correction)\n",
    "corrected_del.to_csv('../data/final_ALL_DEL_merged_BS_flank_26sample_qvalue_only01_fillna.bed', index = False, sep='\\t', header=True)"
   ]
  },
  {
   "cell_type": "code",
   "execution_count": 104,
   "id": "fitted-emerald",
   "metadata": {},
   "outputs": [],
   "source": [
    "all_DEL_boundary_3_sig = corrected_del[corrected_del['qvalue'] < 0.05]\n",
    "all_DEL_boundary_3_sig.to_csv('../data/all_DEL_boundary_3_sig_10kbflank.bed', index = False, sep='\\t', header = True)"
   ]
  },
  {
   "cell_type": "code",
   "execution_count": 105,
   "id": "compatible-corpus",
   "metadata": {},
   "outputs": [
    {
     "data": {
      "text/plain": [
       "66"
      ]
     },
     "execution_count": 105,
     "metadata": {},
     "output_type": "execute_result"
    }
   ],
   "source": [
    "len(all_DEL_boundary_3_sig['INFO_ID'].drop_duplicates())"
   ]
  },
  {
   "cell_type": "code",
   "execution_count": 106,
   "id": "chemical-coaching",
   "metadata": {},
   "outputs": [],
   "source": [
    "corrected_ins = all_INS_boundary_3.groupby('INFO_ID').apply(fdr_correction)\n",
    "corrected_ins.to_csv('../data/final_ALL_INS_merged_BS_flank_26sample_qvalue_only01_fillna.bed', index = False, sep='\\t', header=True)"
   ]
  },
  {
   "cell_type": "code",
   "execution_count": 107,
   "id": "speaking-bride",
   "metadata": {},
   "outputs": [],
   "source": [
    "all_INS_boundary_3_sig = corrected_ins[corrected_ins['qvalue'] < 0.05]\n",
    "all_INS_boundary_3_sig.to_csv('../data/all_INS_boundary_3_sig_10kbflank.bed', index = False, sep='\\t', header = True)"
   ]
  },
  {
   "cell_type": "code",
   "execution_count": 108,
   "id": "annual-beijing",
   "metadata": {},
   "outputs": [
    {
     "data": {
      "text/plain": [
       "119"
      ]
     },
     "execution_count": 108,
     "metadata": {},
     "output_type": "execute_result"
    }
   ],
   "source": [
    "len(all_INS_boundary_3_sig['INFO_ID'].drop_duplicates())"
   ]
  },
  {
   "cell_type": "markdown",
   "id": "ambient-packet",
   "metadata": {},
   "source": [
    "### TAD-SV subset removing/creating TAD boundaries "
   ]
  },
  {
   "cell_type": "code",
   "execution_count": 118,
   "id": "occupied-undergraduate",
   "metadata": {},
   "outputs": [],
   "source": [
    "# Initialize new columns in all_DEL_boundary_3_sig\n",
    "all_DEL_boundary_3_sig = all_DEL_boundary_3_sig.copy()\n",
    "all_DEL_boundary_3_sig['median_score_geno_0'] = None\n",
    "all_DEL_boundary_3_sig['median_score_geno_1'] = None\n",
    "all_DEL_boundary_3_sig['count_bound_0_geno_1'] = 0\n",
    "all_DEL_boundary_3_sig['count_bound_1_geno_0'] = 0\n",
    "\n",
    "# For each INFO_ID in all_DEL_boundary_3_sig\n",
    "for idx, row in all_DEL_boundary_3_sig.iterrows():\n",
    "    info_id = row['INFO_ID']\n",
    "    \n",
    "    # Find the corresponding row in DEL_boundary_genotype_1\n",
    "    geno_row = DEL_boundary_genotype_1[DEL_boundary_genotype_1['INFO_ID'] == info_id]\n",
    "    \n",
    "    if not geno_row.empty:\n",
    "        # Extract boundary scores and genotypes\n",
    "        curr_scores = row.iloc[8:34].reset_index(drop=True)\n",
    "        curr_genos = geno_row.iloc[0, 8:34].reset_index(drop=True)\n",
    "        \n",
    "        # Compute median score for genotype group 0 and 1\n",
    "        median_score_geno_0 = curr_scores[curr_genos == '0'].median()\n",
    "        median_score_geno_1 = curr_scores[curr_genos == '1'].median()\n",
    "        \n",
    "        # Compute count of boundary scores that are 0 when genotype is 1\n",
    "        count_boundary_0_geno_1 = (curr_scores[curr_genos == '1'] == 0).sum()\n",
    "        # Compute count of boundary scores that are NOT equals to 0 when genotype is 0\n",
    "        count_boundary_1_geno_0 = (curr_scores[curr_genos == '0'] != 0).sum()\n",
    "        \n",
    "        # Store results in all_DEL_boundary_3_sig\n",
    "        all_DEL_boundary_3_sig.at[idx, 'median_score_geno_0'] = median_score_geno_0\n",
    "        all_DEL_boundary_3_sig.at[idx, 'median_score_geno_1'] = median_score_geno_1\n",
    "        all_DEL_boundary_3_sig.at[idx, 'count_bound_0_geno_1'] = count_boundary_0_geno_1\n",
    "        all_DEL_boundary_3_sig.at[idx, 'count_bound_1_geno_0'] = count_boundary_1_geno_0"
   ]
  },
  {
   "cell_type": "code",
   "execution_count": 121,
   "id": "compound-shame",
   "metadata": {},
   "outputs": [
    {
     "data": {
      "text/plain": [
       "22"
      ]
     },
     "execution_count": 121,
     "metadata": {},
     "output_type": "execute_result"
    }
   ],
   "source": [
    "all_DEL_boundary_3_sig_remove_bound = all_DEL_boundary_3_sig[(all_DEL_boundary_3_sig['count_bound_0_geno_1'] > 0) &\n",
    "                                                             (all_DEL_boundary_3_sig['count_bound_1_geno_0'] > 0) &\n",
    "                                                            (all_DEL_boundary_3_sig['median_score_geno_1'] < all_DEL_boundary_3_sig['median_score_geno_0'])]\n",
    "len(all_DEL_boundary_3_sig_remove_bound['INFO_ID'].drop_duplicates())                 "
   ]
  },
  {
   "cell_type": "code",
   "execution_count": 147,
   "id": "authentic-texas",
   "metadata": {},
   "outputs": [],
   "source": [
    "all_DEL_boundary_3_sig_remove_bound.to_csv('../data/all_DEL_boundary_3_remove_bound.bed', index = False, sep='\\t', header=True)"
   ]
  },
  {
   "cell_type": "code",
   "execution_count": 120,
   "id": "efficient-basket",
   "metadata": {},
   "outputs": [],
   "source": [
    "# Initialize new columns in all_INS_boundary_3_sig\n",
    "all_INS_boundary_3_sig = all_INS_boundary_3_sig.copy()\n",
    "all_INS_boundary_3_sig['median_score_geno_0'] = None\n",
    "all_INS_boundary_3_sig['median_score_geno_1'] = None\n",
    "all_INS_boundary_3_sig['count_bound_0_geno_0'] = 0\n",
    "all_INS_boundary_3_sig['count_bound_1_geno_1'] = 0\n",
    "\n",
    "# For each INFO_ID in all_INS_boundary_3_sig\n",
    "for idx, row in all_INS_boundary_3_sig.iterrows():\n",
    "    info_id = row['INFO_ID']\n",
    "    \n",
    "    # Find the corresponding row in DEL_boundary_genotype_1\n",
    "    geno_row = INS_boundary_genotype_1[INS_boundary_genotype_1['INFO_ID'] == info_id]\n",
    "    \n",
    "    if not geno_row.empty:\n",
    "        # Extract boundary scores and genotypes\n",
    "        curr_scores = row.iloc[8:34].reset_index(drop=True)\n",
    "        curr_genos = geno_row.iloc[0, 8:34].reset_index(drop=True)\n",
    "        \n",
    "        # Compute median score for genotype 0 and 1\n",
    "        median_score_geno_0 = curr_scores[curr_genos == '0'].median()\n",
    "        median_score_geno_1 = curr_scores[curr_genos == '1'].median()\n",
    "        \n",
    "        # Compute count of boundary scores that are equals to 0 when genotype is 0\n",
    "        count_boundary_0_geno_0 = (curr_scores[curr_genos == '0'] == 0).sum()\n",
    "        # Compute count of boundary scores that are NOT equals to 0 when genotype is 1\n",
    "        count_boundary_1_geno_1 = (curr_scores[curr_genos == '1'] != 0).sum()\n",
    "        \n",
    "        # Count samples with genotype 0 and genotype 1\n",
    "        count_samples_geno_0 = (curr_genos == '0').sum()\n",
    "        count_samples_geno_1 = (curr_genos == '1').sum()\n",
    "        \n",
    "        # Store results in all_INS_boundary_3_sig\n",
    "        all_INS_boundary_3_sig.at[idx, 'median_score_geno_0'] = median_score_geno_0\n",
    "        all_INS_boundary_3_sig.at[idx, 'median_score_geno_1'] = median_score_geno_1\n",
    "        all_INS_boundary_3_sig.at[idx, 'count_bound_0_geno_0'] = count_boundary_0_geno_0\n",
    "        all_INS_boundary_3_sig.at[idx, 'count_bound_1_geno_1'] = count_boundary_1_geno_1"
   ]
  },
  {
   "cell_type": "code",
   "execution_count": 124,
   "id": "spiritual-timing",
   "metadata": {},
   "outputs": [
    {
     "data": {
      "text/plain": [
       "58"
      ]
     },
     "execution_count": 124,
     "metadata": {},
     "output_type": "execute_result"
    }
   ],
   "source": [
    "all_INS_boundary_3_sig_split_TAD = all_INS_boundary_3_sig[(all_INS_boundary_3_sig['count_bound_0_geno_0'] > 0) &\n",
    "                                                             (all_INS_boundary_3_sig['count_bound_1_geno_1'] > 0) &\n",
    "                                                            (all_INS_boundary_3_sig['median_score_geno_1'] > all_INS_boundary_3_sig['median_score_geno_0'])]\n",
    "len(all_INS_boundary_3_sig_split_TAD['INFO_ID'].drop_duplicates())"
   ]
  },
  {
   "cell_type": "code",
   "execution_count": 125,
   "id": "confidential-wheat",
   "metadata": {},
   "outputs": [],
   "source": [
    "all_INS_boundary_3_sig_split_TAD.to_csv('../data/all_INS_boundary_3_split_TAD.bed', index = False, sep='\\t', header=True)"
   ]
  },
  {
   "cell_type": "markdown",
   "id": "exact-trout",
   "metadata": {},
   "source": [
    "### visualization of chr8-644401-DEL-5014 and chr19-37789443-INS-1092 "
   ]
  },
  {
   "cell_type": "code",
   "execution_count": 138,
   "id": "indian-variation",
   "metadata": {},
   "outputs": [
    {
     "data": {
      "text/html": [
       "<div>\n",
       "<style scoped>\n",
       "    .dataframe tbody tr th:only-of-type {\n",
       "        vertical-align: middle;\n",
       "    }\n",
       "\n",
       "    .dataframe tbody tr th {\n",
       "        vertical-align: top;\n",
       "    }\n",
       "\n",
       "    .dataframe thead th {\n",
       "        text-align: right;\n",
       "    }\n",
       "</style>\n",
       "<table border=\"1\" class=\"dataframe\">\n",
       "  <thead>\n",
       "    <tr style=\"text-align: right;\">\n",
       "      <th></th>\n",
       "      <th>CHROM</th>\n",
       "      <th>START_POS</th>\n",
       "      <th>END_POS</th>\n",
       "      <th>INFO_ID</th>\n",
       "      <th>BOUND_CHR</th>\n",
       "      <th>FLANK_START</th>\n",
       "      <th>FLANK_END</th>\n",
       "      <th>BOUND_SCORE</th>\n",
       "      <th>GM18534</th>\n",
       "      <th>GM18939</th>\n",
       "      <th>...</th>\n",
       "      <th>HG03371</th>\n",
       "      <th>HG03683</th>\n",
       "      <th>HG03732</th>\n",
       "      <th>num_NaNs</th>\n",
       "      <th>pvalue_0_1</th>\n",
       "      <th>qvalue</th>\n",
       "      <th>median_score_geno_0</th>\n",
       "      <th>median_score_geno_1</th>\n",
       "      <th>count_bound_0_geno_1</th>\n",
       "      <th>count_bound_1_geno_0</th>\n",
       "    </tr>\n",
       "  </thead>\n",
       "  <tbody>\n",
       "    <tr>\n",
       "      <th>1652</th>\n",
       "      <td>chr8</td>\n",
       "      <td>644401</td>\n",
       "      <td>649414</td>\n",
       "      <td>chr8-644401-DEL-5014</td>\n",
       "      <td>chr8</td>\n",
       "      <td>640001</td>\n",
       "      <td>665000</td>\n",
       "      <td>0.2225252389907837</td>\n",
       "      <td>0.733518</td>\n",
       "      <td>0.0</td>\n",
       "      <td>...</td>\n",
       "      <td>0.0</td>\n",
       "      <td>0.0</td>\n",
       "      <td>0.0</td>\n",
       "      <td>14</td>\n",
       "      <td>0.002524</td>\n",
       "      <td>0.002524</td>\n",
       "      <td>1.064899</td>\n",
       "      <td>0.0</td>\n",
       "      <td>14</td>\n",
       "      <td>5</td>\n",
       "    </tr>\n",
       "  </tbody>\n",
       "</table>\n",
       "<p>1 rows × 41 columns</p>\n",
       "</div>"
      ],
      "text/plain": [
       "     CHROM  START_POS  END_POS               INFO_ID BOUND_CHR  FLANK_START  \\\n",
       "1652  chr8     644401   649414  chr8-644401-DEL-5014      chr8       640001   \n",
       "\n",
       "      FLANK_END         BOUND_SCORE   GM18534  GM18939  ...  HG03371  HG03683  \\\n",
       "1652     665000  0.2225252389907837  0.733518      0.0  ...      0.0      0.0   \n",
       "\n",
       "      HG03732  num_NaNs  pvalue_0_1    qvalue  median_score_geno_0  \\\n",
       "1652      0.0        14    0.002524  0.002524             1.064899   \n",
       "\n",
       "      median_score_geno_1  count_bound_0_geno_1  count_bound_1_geno_0  \n",
       "1652                  0.0                    14                     5  \n",
       "\n",
       "[1 rows x 41 columns]"
      ]
     },
     "execution_count": 138,
     "metadata": {},
     "output_type": "execute_result"
    }
   ],
   "source": [
    "all_DEL_boundary_3_sig[all_DEL_boundary_3_sig['INFO_ID'] == 'chr8-644401-DEL-5014']"
   ]
  },
  {
   "cell_type": "code",
   "execution_count": 140,
   "id": "tribal-angel",
   "metadata": {},
   "outputs": [],
   "source": [
    "boundary_score_list = all_DEL_boundary_3_sig.loc[1652][8:34].values.tolist()\n",
    "DEL_boundary_genotype_all = DEL_boundary_genotype_1[DEL_boundary_genotype_1.loc[:,'INFO_ID'] == all_DEL_boundary_3_sig.loc[1652]['INFO_ID']].iloc[:,8:]\n",
    "genotypes_list = DEL_boundary_genotype_all.iloc[0].values.tolist()\n",
    "df = pd.DataFrame({'genotypes' : genotypes_list,\n",
    "                   'boundary_score' : boundary_score_list})    \n",
    "df_new = df.assign(BS=df.groupby('genotypes').cumcount()).pivot('BS','genotypes','boundary_score')"
   ]
  },
  {
   "cell_type": "code",
   "execution_count": 142,
   "id": "disturbed-ecology",
   "metadata": {},
   "outputs": [
    {
     "data": {
      "image/png": "[encoded data removed]",
      "text/plain": [
       "<Figure size 288x288 with 1 Axes>"
      ]
     },
     "metadata": {},
     "output_type": "display_data"
    }
   ],
   "source": [
    "\n",
    "\n",
    "# Set Seaborn's default style and color palette\n",
    "sns.set_style(\"whitegrid\")\n",
    "sns.set_palette(\"pastel\")\n",
    "\n",
    "# Create the boxplot using Seaborn\n",
    "plt.figure(figsize=(4, 4))  # Adjust the figure size\n",
    "ax = sns.boxplot(data=df_new[['0', '1']], palette=\"pastel\", medianprops=dict(color='red'), width=0.5)\n",
    "\n",
    "# Set labels, titles, and other properties\n",
    "ax.set_ylabel('Boundary scores', fontsize=13, labelpad=20)\n",
    "ax.set_xlabel('Genotypes', fontsize=13)\n",
    "ax.set_title('chr8-644401-DEL-5014', pad=20, fontsize=14, fontweight='bold')\n",
    "\n",
    "# Display the plot\n",
    "plt.tight_layout()\n",
    "\n",
    "# statistical annotation\n",
    "x1, x2 = 0, 1 \n",
    "y, h, col = df_new['1'].max() + 0.2, 0.1, 'k'\n",
    "\n",
    "plt.plot([x1, x1, x2, x2], [y, y+h, y+h, y], lw=1.1, c=col)\n",
    "plt.text((x1+x2)*.5, y+h, \"p-value = 0.0025\", ha='center', va='bottom', color=col)\n",
    "\n",
    "plt.show()"
   ]
  },
  {
   "cell_type": "code",
   "execution_count": 143,
   "id": "undefined-marshall",
   "metadata": {},
   "outputs": [
    {
     "data": {
      "text/html": [
       "<div>\n",
       "<style scoped>\n",
       "    .dataframe tbody tr th:only-of-type {\n",
       "        vertical-align: middle;\n",
       "    }\n",
       "\n",
       "    .dataframe tbody tr th {\n",
       "        vertical-align: top;\n",
       "    }\n",
       "\n",
       "    .dataframe thead th {\n",
       "        text-align: right;\n",
       "    }\n",
       "</style>\n",
       "<table border=\"1\" class=\"dataframe\">\n",
       "  <thead>\n",
       "    <tr style=\"text-align: right;\">\n",
       "      <th></th>\n",
       "      <th>CHROM</th>\n",
       "      <th>START_POS</th>\n",
       "      <th>END_POS</th>\n",
       "      <th>INFO_ID</th>\n",
       "      <th>BOUND_CHR</th>\n",
       "      <th>FLANK_START</th>\n",
       "      <th>FLANK_END</th>\n",
       "      <th>BOUND_SCORE</th>\n",
       "      <th>GM18534</th>\n",
       "      <th>GM18939</th>\n",
       "      <th>...</th>\n",
       "      <th>HG03371</th>\n",
       "      <th>HG03683</th>\n",
       "      <th>HG03732</th>\n",
       "      <th>num_NaNs</th>\n",
       "      <th>pvalue_0_1</th>\n",
       "      <th>qvalue</th>\n",
       "      <th>median_score_geno_0</th>\n",
       "      <th>median_score_geno_1</th>\n",
       "      <th>count_bound_0_geno_0</th>\n",
       "      <th>count_bound_1_geno_1</th>\n",
       "    </tr>\n",
       "  </thead>\n",
       "  <tbody>\n",
       "    <tr>\n",
       "      <th>1184</th>\n",
       "      <td>chr19</td>\n",
       "      <td>37789443</td>\n",
       "      <td>37789443</td>\n",
       "      <td>chr19-37789443-INS-1092</td>\n",
       "      <td>chr19</td>\n",
       "      <td>37780001</td>\n",
       "      <td>37805000</td>\n",
       "      <td>0.2437641769647598</td>\n",
       "      <td>1.533405</td>\n",
       "      <td>0.289078</td>\n",
       "      <td>...</td>\n",
       "      <td>0.340655</td>\n",
       "      <td>0.0</td>\n",
       "      <td>0.61169</td>\n",
       "      <td>6</td>\n",
       "      <td>0.001807</td>\n",
       "      <td>0.001807</td>\n",
       "      <td>0.139963</td>\n",
       "      <td>0.510478</td>\n",
       "      <td>5</td>\n",
       "      <td>15</td>\n",
       "    </tr>\n",
       "  </tbody>\n",
       "</table>\n",
       "<p>1 rows × 41 columns</p>\n",
       "</div>"
      ],
      "text/plain": [
       "      CHROM  START_POS   END_POS                  INFO_ID BOUND_CHR  \\\n",
       "1184  chr19   37789443  37789443  chr19-37789443-INS-1092     chr19   \n",
       "\n",
       "      FLANK_START  FLANK_END         BOUND_SCORE   GM18534   GM18939  ...  \\\n",
       "1184     37780001   37805000  0.2437641769647598  1.533405  0.289078  ...   \n",
       "\n",
       "       HG03371  HG03683  HG03732  num_NaNs  pvalue_0_1    qvalue  \\\n",
       "1184  0.340655      0.0  0.61169         6    0.001807  0.001807   \n",
       "\n",
       "      median_score_geno_0  median_score_geno_1  count_bound_0_geno_0  \\\n",
       "1184             0.139963             0.510478                     5   \n",
       "\n",
       "      count_bound_1_geno_1  \n",
       "1184                    15  \n",
       "\n",
       "[1 rows x 41 columns]"
      ]
     },
     "execution_count": 143,
     "metadata": {},
     "output_type": "execute_result"
    }
   ],
   "source": [
    "all_INS_boundary_3_sig[all_INS_boundary_3_sig['INFO_ID'] == 'chr19-37789443-INS-1092']"
   ]
  },
  {
   "cell_type": "code",
   "execution_count": 144,
   "id": "controlling-conditions",
   "metadata": {},
   "outputs": [],
   "source": [
    "boundary_score_list = all_INS_boundary_3_sig.loc[1184][8:34].values.tolist()\n",
    "INS_boundary_genotype_all = INS_boundary_genotype_1[INS_boundary_genotype_1.loc[:,'INFO_ID'] == all_INS_boundary_3_sig.loc[1184]['INFO_ID']].iloc[:,8:]\n",
    "genotypes_list = INS_boundary_genotype_all.iloc[0].values.tolist()\n",
    "df = pd.DataFrame({'genotypes' : genotypes_list,\n",
    "                   'boundary_score' : boundary_score_list})    \n",
    "df_new = df.assign(BS=df.groupby('genotypes').cumcount()).pivot('BS','genotypes','boundary_score')"
   ]
  },
  {
   "cell_type": "code",
   "execution_count": 145,
   "id": "behind-capitol",
   "metadata": {},
   "outputs": [
    {
     "data": {
      "image/png": "[encoded data removed]",
      "text/plain": [
       "<Figure size 288x288 with 1 Axes>"
      ]
     },
     "metadata": {},
     "output_type": "display_data"
    }
   ],
   "source": [
    "# Set Seaborn's default style and color palette\n",
    "sns.set_style(\"whitegrid\")\n",
    "sns.set_palette(\"pastel\")\n",
    "\n",
    "# Create the boxplot using Seaborn\n",
    "plt.figure(figsize=(4, 4))  # Adjust the figure size\n",
    "ax = sns.boxplot(data=df_new[['0', '1']], palette=\"pastel\", medianprops=dict(color='red'), width=0.5)\n",
    "\n",
    "# Set labels, titles, and other properties\n",
    "ax.set_ylabel('Boundary scores', fontsize=13, labelpad=20)\n",
    "ax.set_xlabel('Genotypes', fontsize=13)\n",
    "ax.set_title('chr19-37789443-INS-1092', pad=20, fontsize=14, fontweight='bold')\n",
    "\n",
    "# Display the plot\n",
    "plt.tight_layout()\n",
    "\n",
    "# statistical annotation\n",
    "x1, x2 = 0, 1\n",
    "y, h, col = df_new['1'].max() + 0.2, 0.1, 'k'\n",
    "\n",
    "plt.plot([x1, x1, x2, x2], [y, y+h, y+h, y], lw=1.1, c=col)\n",
    "plt.text((x1+x2)*.5, y+h, \"p-value = 0.0018\", ha='center', va='bottom', color=col)\n",
    "\n",
    "plt.show()"
   ]
  },
  {
   "cell_type": "code",
   "execution_count": null,
   "id": "engaged-domestic",
   "metadata": {},
   "outputs": [],
   "source": []
  }
 ],
 "metadata": {
  "kernelspec": {
   "display_name": "Python 3 (ipykernel)",
   "language": "python",
   "name": "python3"
  },
  "language_info": {
   "codemirror_mode": {
    "name": "ipython",
    "version": 3
   },
   "file_extension": ".py",
   "mimetype": "text/x-python",
   "name": "python",
   "nbconvert_exporter": "python",
   "pygments_lexer": "ipython3",
   "version": "3.7.3"
  }
 },
 "nbformat": 4,
 "nbformat_minor": 5
}
