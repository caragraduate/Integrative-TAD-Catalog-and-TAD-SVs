{
 "cells": [
  {
   "cell_type": "code",
   "execution_count": 92,
   "id": "assumed-opinion",
   "metadata": {},
   "outputs": [],
   "source": [
    "import pandas as pd\n",
    "import numpy as np\n",
    "import io\n",
    "import os\n",
    "import glob\n",
    "from scipy.stats import mannwhitneyu\n",
    "from statsmodels.stats.multitest import multipletests"
   ]
  },
  {
   "cell_type": "code",
   "execution_count": 2,
   "id": "advanced-winner",
   "metadata": {},
   "outputs": [],
   "source": [
    "def read_vcf(path):\n",
    "    with open(path, 'r') as f:\n",
    "        lines = [l for l in f if not l.startswith('##')]\n",
    "    return pd.read_csv(\n",
    "        io.StringIO(''.join(lines)),\n",
    "        dtype={'#CHROM': str, 'POS': int, 'ID': str, 'REF': str, 'ALT': str,\n",
    "               'QUAL': str, 'FILTER': str, 'INFO': str},\n",
    "        sep='\\t'\n",
    "    ).rename(columns={'#CHROM': 'CHROM'})"
   ]
  },
  {
   "cell_type": "code",
   "execution_count": 5,
   "id": "spiritual-ecology",
   "metadata": {},
   "outputs": [],
   "source": [
    "# the subset 17 samples' vcf file is generating using \"bcftools view -s\" with selected sample ID on the genotype file from pangenie_merged_bi_nosnvs.vcf.gz\n",
    "# be sure to download the file under the same directory as your analysis\n",
    "\n",
    "pangenie_hgsvc_17sample = read_vcf(\"../data/pangenie_merged_bi_nosnvs_hgsvc_9add8sample.vcf\")"
   ]
  },
  {
   "cell_type": "code",
   "execution_count": 6,
   "id": "noticed-gazette",
   "metadata": {},
   "outputs": [
    {
     "data": {
      "text/plain": [
       "(1129810, 26)"
      ]
     },
     "execution_count": 6,
     "metadata": {},
     "output_type": "execute_result"
    }
   ],
   "source": [
    "pangenie_hgsvc_17sample.shape"
   ]
  },
  {
   "cell_type": "code",
   "execution_count": 7,
   "id": "packed-inflation",
   "metadata": {},
   "outputs": [],
   "source": [
    "pangenie_hgsvc_17sample[['INFO_ID']] = pangenie_hgsvc_17sample['INFO'].str.split(';', expand=True)[2]\n",
    "pangenie_hgsvc_17sample['INFO_ID'] = pangenie_hgsvc_17sample['INFO_ID'].str.lstrip('ID=')\n",
    "pangenie_DEL_hgsvc17sample = pangenie_hgsvc_17sample[pangenie_hgsvc_17sample['INFO_ID'].str.contains('DEL')]\n",
    "pangenie_INS_hgsvc17sample = pangenie_hgsvc_17sample[pangenie_hgsvc_17sample['INFO_ID'].str.contains('INS')]"
   ]
  },
  {
   "cell_type": "code",
   "execution_count": 8,
   "id": "religious-allergy",
   "metadata": {},
   "outputs": [
    {
     "data": {
      "text/plain": [
       "DEL    672432\n",
       "INS    457378\n",
       "dtype: int64"
      ]
     },
     "execution_count": 8,
     "metadata": {},
     "output_type": "execute_result"
    }
   ],
   "source": [
    "pangenie_hgsvc_17sample[['type']] = pangenie_hgsvc_17sample['INFO_ID'].str.split('-', expand=True)[2]\n",
    "col_list = pangenie_hgsvc_17sample['type'].values.tolist()\n",
    "pd.Series(col_list).value_counts()"
   ]
  },
  {
   "cell_type": "markdown",
   "id": "desperate-friday",
   "metadata": {},
   "source": [
    "## deletion "
   ]
  },
  {
   "cell_type": "code",
   "execution_count": 9,
   "id": "visible-rocket",
   "metadata": {},
   "outputs": [],
   "source": [
    "pangenie_DEL_hgsvc17sample_new = pangenie_DEL_hgsvc17sample[[\n",
    " 'CHROM','FILTER', 'INFO_ID', 'FORMAT', 'HG00512','HG00513','HG00514','HG00731','HG00732','HG00733','NA19238','NA19239','NA19240','NA18507','NA18505','NA18508','NA18486','NA19099','NA19141','NA18516','NA18522'\n",
    "     ]]"
   ]
  },
  {
   "cell_type": "code",
   "execution_count": 10,
   "id": "southern-advancement",
   "metadata": {},
   "outputs": [],
   "source": [
    "pangenie_DEL_hgsvc17sample_new = pangenie_DEL_hgsvc17sample_new.copy()\n",
    "for col in pangenie_DEL_hgsvc17sample_new.iloc[:, 4:]:\n",
    "    pangenie_DEL_hgsvc17sample_new[col] = pangenie_DEL_hgsvc17sample_new[col].str[:3]"
   ]
  },
  {
   "cell_type": "code",
   "execution_count": 11,
   "id": "stable-nomination",
   "metadata": {},
   "outputs": [],
   "source": [
    "for col in pangenie_DEL_hgsvc17sample_new.columns:\n",
    "    pangenie_DEL_hgsvc17sample_new.loc[pangenie_DEL_hgsvc17sample_new[col].astype(str).str.startswith('0/0'), col] = '0'\n",
    "    pangenie_DEL_hgsvc17sample_new.loc[pangenie_DEL_hgsvc17sample_new[col].astype(str).str.startswith('0/1'), col] = '1'\n",
    "    pangenie_DEL_hgsvc17sample_new.loc[pangenie_DEL_hgsvc17sample_new[col].astype(str).str.startswith('1/0'), col] = '1'\n",
    "    pangenie_DEL_hgsvc17sample_new.loc[pangenie_DEL_hgsvc17sample_new[col].astype(str).str.startswith('1/1'), col] = '1'"
   ]
  },
  {
   "cell_type": "code",
   "execution_count": 12,
   "id": "meaning-cement",
   "metadata": {},
   "outputs": [
    {
     "data": {
      "text/plain": [
       "(672432, 21)"
      ]
     },
     "execution_count": 12,
     "metadata": {},
     "output_type": "execute_result"
    }
   ],
   "source": [
    "pangenie_DEL_hgsvc17sample_new.shape"
   ]
  },
  {
   "cell_type": "code",
   "execution_count": 13,
   "id": "widespread-spine",
   "metadata": {},
   "outputs": [],
   "source": [
    "# Function to convert to integer if possible\n",
    "def convert_to_int(val):\n",
    "    try:\n",
    "        return int(val)\n",
    "    except ValueError:\n",
    "        return val"
   ]
  },
  {
   "cell_type": "code",
   "execution_count": 14,
   "id": "facial-staff",
   "metadata": {},
   "outputs": [],
   "source": [
    "# Apply the conversion function to each cell in the relevant columns to keep the original DataFrame unchanged\n",
    "pangenie_DEL_hgsvc17sample_new.iloc[:, 4:] = pangenie_DEL_hgsvc17sample_new.iloc[:, 4:].applymap(convert_to_int)\n",
    "# Create a separate DataFrame for numeric operations\n",
    "numeric_data = pangenie_DEL_hgsvc17sample_new.iloc[:, 4:].apply(pd.to_numeric, errors='coerce').fillna(0).astype(int)\n",
    "# Calculate the sum of integer values\n",
    "pangenie_DEL_hgsvc17sample_new['Sum'] = numeric_data.sum(axis=1)\n",
    "# Filter the DataFrame based on the sum condition\n",
    "pangenie_DEL_hgsvc17sample_new_atleast1 = pangenie_DEL_hgsvc17sample_new[pangenie_DEL_hgsvc17sample_new['Sum'] >= 5]"
   ]
  },
  {
   "cell_type": "code",
   "execution_count": 15,
   "id": "plain-verification",
   "metadata": {},
   "outputs": [],
   "source": [
    "# Function to count occurrences of missing genotype \".:.\"\n",
    "def count_dot_colon(row):\n",
    "    return (row == '.:.').sum()"
   ]
  },
  {
   "cell_type": "code",
   "execution_count": 17,
   "id": "sexual-checkout",
   "metadata": {},
   "outputs": [],
   "source": [
    "pangenie_DEL_hgsvc17sample_new_atleast1 = pangenie_DEL_hgsvc17sample_new_atleast1.copy()\n",
    "# Apply the function to each row starting from the 4th column\n",
    "pangenie_DEL_hgsvc17sample_new_atleast1['missing_geno'] = pangenie_DEL_hgsvc17sample_new_atleast1.iloc[:, 4:].apply(count_dot_colon, axis=1)"
   ]
  },
  {
   "cell_type": "code",
   "execution_count": 18,
   "id": "lovely-kinase",
   "metadata": {},
   "outputs": [
    {
     "data": {
      "text/plain": [
       "11"
      ]
     },
     "execution_count": 18,
     "metadata": {},
     "output_type": "execute_result"
    }
   ],
   "source": [
    "pangenie_DEL_hgsvc17sample_new_atleast1['missing_geno'].max()"
   ]
  },
  {
   "cell_type": "code",
   "execution_count": 19,
   "id": "limiting-iraqi",
   "metadata": {},
   "outputs": [
    {
     "data": {
      "text/plain": [
       "(227073, 23)"
      ]
     },
     "execution_count": 19,
     "metadata": {},
     "output_type": "execute_result"
    }
   ],
   "source": [
    "pangenie_DEL_hgsvc17sample_new_atleast1.shape"
   ]
  },
  {
   "cell_type": "code",
   "execution_count": 20,
   "id": "imposed-approach",
   "metadata": {},
   "outputs": [
    {
     "data": {
      "text/plain": [
       "(227063, 23)"
      ]
     },
     "execution_count": 20,
     "metadata": {},
     "output_type": "execute_result"
    }
   ],
   "source": [
    "# require less than 50% of samples have missing genotypes \n",
    "pangenie_DEL_hgsvc17sample_new_atleast1_filter = pangenie_DEL_hgsvc17sample_new_atleast1[pangenie_DEL_hgsvc17sample_new_atleast1['missing_geno'] < 9]\n",
    "pangenie_DEL_hgsvc17sample_new_atleast1_filter.shape"
   ]
  },
  {
   "cell_type": "code",
   "execution_count": 21,
   "id": "perceived-bailey",
   "metadata": {},
   "outputs": [
    {
     "data": {
      "text/plain": [
       "17"
      ]
     },
     "execution_count": 21,
     "metadata": {},
     "output_type": "execute_result"
    }
   ],
   "source": [
    "pangenie_DEL_hgsvc17sample_new_atleast1_filter['Sum'].max()"
   ]
  },
  {
   "cell_type": "code",
   "execution_count": 43,
   "id": "outer-neighbor",
   "metadata": {},
   "outputs": [],
   "source": [
    "pangenie_DEL_hgsvc17sample_new_atleast1_filter['START_POS'] = pangenie_DEL_hgsvc17sample_new_atleast1_filter['INFO_ID'].str.split('-', expand=True)[1]\n",
    "pangenie_DEL_hgsvc17sample_new_atleast1_filter['TYPE'] = pangenie_DEL_hgsvc17sample_new_atleast1_filter['INFO_ID'].str.split('-', expand=True)[2]\n",
    "pangenie_DEL_hgsvc17sample_new_atleast1_filter['LEN'] = pangenie_DEL_hgsvc17sample_new_atleast1_filter['INFO_ID'].str.split('-', expand=True)[3]\n",
    "pangenie_DEL_hgsvc17sample_new_atleast1_filter.iloc[:,[23,25]] = pangenie_DEL_hgsvc17sample_new_atleast1_filter.iloc[:,[23,25]].astype(str).astype(int)\n",
    "pangenie_DEL_hgsvc17sample_new_atleast1_filter['END_POS'] = pangenie_DEL_hgsvc17sample_new_atleast1_filter['START_POS'] + pangenie_DEL_hgsvc17sample_new_atleast1_filter['LEN'] - 1\n",
    "pangenie_DEL_hgsvc17sample_new_atleast1_filter_new = pangenie_DEL_hgsvc17sample_new_atleast1_filter[[\n",
    "'CHROM', 'START_POS','END_POS', 'TYPE','LEN', 'FILTER', 'INFO_ID', 'FORMAT', 'HG00512','HG00513','HG00514','HG00731','HG00732','HG00733','NA19238','NA19239','NA19240','NA18507','NA18505','NA18508','NA18486','NA19099','NA19141','NA18516','NA18522', 'Sum'\n",
    "    ]]"
   ]
  },
  {
   "cell_type": "code",
   "execution_count": 44,
   "id": "italian-posting",
   "metadata": {},
   "outputs": [
    {
     "data": {
      "text/plain": [
       "(227063, 26)"
      ]
     },
     "execution_count": 44,
     "metadata": {},
     "output_type": "execute_result"
    }
   ],
   "source": [
    "pangenie_DEL_hgsvc17sample_new_atleast1_filter_new.shape"
   ]
  },
  {
   "cell_type": "code",
   "execution_count": 45,
   "id": "ahead-enlargement",
   "metadata": {},
   "outputs": [
    {
     "data": {
      "text/plain": [
       "(12126, 26)"
      ]
     },
     "execution_count": 45,
     "metadata": {},
     "output_type": "execute_result"
    }
   ],
   "source": [
    "pangenie_DEL_hgsvc17sample_new_atleast1_50 = pangenie_DEL_hgsvc17sample_new_atleast1_filter_new[pangenie_DEL_hgsvc17sample_new_atleast1_filter_new['LEN'] >= 50]\n",
    "pangenie_DEL_hgsvc17sample_new_atleast1_50.shape"
   ]
  },
  {
   "cell_type": "code",
   "execution_count": 46,
   "id": "aquatic-excerpt",
   "metadata": {},
   "outputs": [
    {
     "data": {
      "text/plain": [
       "(10548, 26)"
      ]
     },
     "execution_count": 46,
     "metadata": {},
     "output_type": "execute_result"
    }
   ],
   "source": [
    "pangenie_DEL_hgsvc17sample_new_atleast1_50_zero = pangenie_DEL_hgsvc17sample_new_atleast1_50[pangenie_DEL_hgsvc17sample_new_atleast1_50.iloc[:, 8:].eq(0).any(1)]\n",
    "pangenie_DEL_hgsvc17sample_new_atleast1_50_zero.shape"
   ]
  },
  {
   "cell_type": "code",
   "execution_count": 47,
   "id": "dimensional-elizabeth",
   "metadata": {},
   "outputs": [],
   "source": [
    "pangenie_DEL_hgsvc17sample_new_atleast1_50_zero.to_csv('../preprocess_data/pangenie_svs_17sample_ALL_DEL_atleast5_50_genotype_only01.bed', index = False, sep='\\t', header=True)"
   ]
  },
  {
   "cell_type": "code",
   "execution_count": 48,
   "id": "spare-respect",
   "metadata": {},
   "outputs": [
    {
     "data": {
      "text/plain": [
       "(10548, 4)"
      ]
     },
     "execution_count": 48,
     "metadata": {},
     "output_type": "execute_result"
    }
   ],
   "source": [
    "pangenie_DEL_hgsvc17sample_new_atleast1_50_start_end = pangenie_DEL_hgsvc17sample_new_atleast1_50_zero[['CHROM', 'START_POS', 'END_POS', 'INFO_ID']]\n",
    "pangenie_DEL_hgsvc17sample_new_atleast1_50_start_end.shape"
   ]
  },
  {
   "cell_type": "code",
   "execution_count": 49,
   "id": "vertical-crash",
   "metadata": {},
   "outputs": [],
   "source": [
    "pangenie_DEL_hgsvc17sample_new_atleast1_50_start_end.to_csv('../preprocess_data/pangenie_svs_17sample_ALL_DEL_atleast5_50_only01_new.bed', index = False, sep='\\t', header=True)"
   ]
  },
  {
   "cell_type": "markdown",
   "id": "neural-angel",
   "metadata": {},
   "source": [
    "## insertion"
   ]
  },
  {
   "cell_type": "code",
   "execution_count": 31,
   "id": "unlikely-treat",
   "metadata": {},
   "outputs": [],
   "source": [
    "pangenie_INS_hgsvc17sample_new = pangenie_INS_hgsvc17sample[[\n",
    " 'CHROM','FILTER', 'INFO_ID', 'FORMAT', 'HG00512','HG00513','HG00514','HG00731','HG00732','HG00733','NA19238','NA19239','NA19240','NA18507','NA18505','NA18508','NA18486','NA19099','NA19141','NA18516','NA18522'\n",
    "     ]]"
   ]
  },
  {
   "cell_type": "code",
   "execution_count": 32,
   "id": "selective-slovenia",
   "metadata": {},
   "outputs": [],
   "source": [
    "pangenie_INS_hgsvc17sample_new = pangenie_INS_hgsvc17sample_new.copy()\n",
    "for col in pangenie_INS_hgsvc17sample_new.iloc[:, 4:]:\n",
    "    pangenie_INS_hgsvc17sample_new[col] = pangenie_INS_hgsvc17sample_new[col].str[:3]"
   ]
  },
  {
   "cell_type": "code",
   "execution_count": 33,
   "id": "rental-plaza",
   "metadata": {},
   "outputs": [],
   "source": [
    "for col in pangenie_INS_hgsvc17sample_new.columns:\n",
    "    pangenie_INS_hgsvc17sample_new.loc[pangenie_INS_hgsvc17sample_new[col].astype(str).str.startswith('0/0'), col] = '0'\n",
    "    pangenie_INS_hgsvc17sample_new.loc[pangenie_INS_hgsvc17sample_new[col].astype(str).str.startswith('0/1'), col] = '1'\n",
    "    pangenie_INS_hgsvc17sample_new.loc[pangenie_INS_hgsvc17sample_new[col].astype(str).str.startswith('1/0'), col] = '1'\n",
    "    pangenie_INS_hgsvc17sample_new.loc[pangenie_INS_hgsvc17sample_new[col].astype(str).str.startswith('1/1'), col] = '1'"
   ]
  },
  {
   "cell_type": "code",
   "execution_count": 34,
   "id": "absolute-graham",
   "metadata": {
    "scrolled": true
   },
   "outputs": [
    {
     "data": {
      "text/plain": [
       "(457378, 21)"
      ]
     },
     "execution_count": 34,
     "metadata": {},
     "output_type": "execute_result"
    }
   ],
   "source": [
    "pangenie_INS_hgsvc17sample_new.shape"
   ]
  },
  {
   "cell_type": "code",
   "execution_count": 35,
   "id": "efficient-ticket",
   "metadata": {},
   "outputs": [],
   "source": [
    "# Apply the conversion function to each cell in the relevant columns to keep the original DataFrame unchanged\n",
    "pangenie_INS_hgsvc17sample_new.iloc[:, 4:] = pangenie_INS_hgsvc17sample_new.iloc[:, 4:].applymap(convert_to_int)\n",
    "# Create a separate DataFrame for numeric operations\n",
    "numeric_data = pangenie_INS_hgsvc17sample_new.iloc[:, 4:].apply(pd.to_numeric, errors='coerce').fillna(0).astype(int)\n",
    "# Calculate the sum of integer values\n",
    "pangenie_INS_hgsvc17sample_new['Sum'] = numeric_data.sum(axis=1)\n",
    "# Filter the DataFrame based on the sum condition\n",
    "pangenie_INS_hgsvc17sample_new_atleast1 = pangenie_INS_hgsvc17sample_new[pangenie_INS_hgsvc17sample_new['Sum'] >= 5]"
   ]
  },
  {
   "cell_type": "code",
   "execution_count": 36,
   "id": "thirty-maria",
   "metadata": {},
   "outputs": [],
   "source": [
    "pangenie_INS_hgsvc17sample_new_atleast1 = pangenie_INS_hgsvc17sample_new_atleast1.copy()\n",
    "# Apply the function to each row starting from the 4th column\n",
    "pangenie_INS_hgsvc17sample_new_atleast1['missing_geno'] = pangenie_INS_hgsvc17sample_new_atleast1.iloc[:, 4:].apply(count_dot_colon, axis=1)"
   ]
  },
  {
   "cell_type": "code",
   "execution_count": 37,
   "id": "circular-briefing",
   "metadata": {},
   "outputs": [
    {
     "data": {
      "text/plain": [
       "12"
      ]
     },
     "execution_count": 37,
     "metadata": {},
     "output_type": "execute_result"
    }
   ],
   "source": [
    "pangenie_INS_hgsvc17sample_new_atleast1['missing_geno'].max()"
   ]
  },
  {
   "cell_type": "code",
   "execution_count": 38,
   "id": "funded-headset",
   "metadata": {},
   "outputs": [
    {
     "data": {
      "text/plain": [
       "(218847, 23)"
      ]
     },
     "execution_count": 38,
     "metadata": {},
     "output_type": "execute_result"
    }
   ],
   "source": [
    "pangenie_INS_hgsvc17sample_new_atleast1.shape"
   ]
  },
  {
   "cell_type": "code",
   "execution_count": 39,
   "id": "exact-immune",
   "metadata": {},
   "outputs": [
    {
     "data": {
      "text/plain": [
       "(218842, 23)"
      ]
     },
     "execution_count": 39,
     "metadata": {},
     "output_type": "execute_result"
    }
   ],
   "source": [
    "# require less than 50% of samples have missing genotypes \n",
    "pangenie_INS_hgsvc17sample_new_atleast1_filter = pangenie_INS_hgsvc17sample_new_atleast1[pangenie_INS_hgsvc17sample_new_atleast1['missing_geno'] < 9]\n",
    "pangenie_INS_hgsvc17sample_new_atleast1_filter.shape"
   ]
  },
  {
   "cell_type": "code",
   "execution_count": 40,
   "id": "trained-mouth",
   "metadata": {},
   "outputs": [
    {
     "data": {
      "text/plain": [
       "17"
      ]
     },
     "execution_count": 40,
     "metadata": {},
     "output_type": "execute_result"
    }
   ],
   "source": [
    "pangenie_INS_hgsvc17sample_new_atleast1_filter['Sum'].max()"
   ]
  },
  {
   "cell_type": "code",
   "execution_count": 41,
   "id": "swedish-floating",
   "metadata": {},
   "outputs": [],
   "source": [
    "pangenie_INS_hgsvc17sample_new_atleast1['START_POS'] = pangenie_INS_hgsvc17sample_new_atleast1['INFO_ID'].str.split('-', expand=True)[1]\n",
    "pangenie_INS_hgsvc17sample_new_atleast1['TYPE'] = pangenie_INS_hgsvc17sample_new_atleast1['INFO_ID'].str.split('-', expand=True)[2]\n",
    "pangenie_INS_hgsvc17sample_new_atleast1['LEN'] = pangenie_INS_hgsvc17sample_new_atleast1['INFO_ID'].str.split('-', expand=True)[3]\n",
    "pangenie_INS_hgsvc17sample_new_atleast1.iloc[:,[23,25]] = pangenie_INS_hgsvc17sample_new_atleast1.iloc[:,[23,25]].astype(str).astype(int)\n",
    "pangenie_INS_hgsvc17sample_new_atleast1['END_POS'] = pangenie_INS_hgsvc17sample_new_atleast1['START_POS']\n",
    "pangenie_INS_hgsvc17sample_new_atleast1_new = pangenie_INS_hgsvc17sample_new_atleast1[[\n",
    "'CHROM', 'START_POS','END_POS', 'TYPE','LEN', 'FILTER', 'INFO_ID', 'FORMAT', 'HG00512','HG00513','HG00514','HG00731','HG00732','HG00733','NA19238','NA19239','NA19240','NA18507','NA18505','NA18508','NA18486','NA19099','NA19141','NA18516','NA18522', 'Sum'\n",
    "    ]]"
   ]
  },
  {
   "cell_type": "code",
   "execution_count": 42,
   "id": "numerical-coaching",
   "metadata": {},
   "outputs": [
    {
     "data": {
      "text/plain": [
       "(17056, 26)"
      ]
     },
     "execution_count": 42,
     "metadata": {},
     "output_type": "execute_result"
    }
   ],
   "source": [
    "pangenie_INS_hgsvc17sample_new_atleast1_50 = pangenie_INS_hgsvc17sample_new_atleast1_new[pangenie_INS_hgsvc17sample_new_atleast1_new['LEN'] >= 50]\n",
    "pangenie_INS_hgsvc17sample_new_atleast1_50.shape"
   ]
  },
  {
   "cell_type": "code",
   "execution_count": 50,
   "id": "missing-participant",
   "metadata": {},
   "outputs": [
    {
     "data": {
      "text/plain": [
       "(14008, 26)"
      ]
     },
     "execution_count": 50,
     "metadata": {},
     "output_type": "execute_result"
    }
   ],
   "source": [
    "pangenie_INS_hgsvc17sample_new_atleast1_50_zero = pangenie_INS_hgsvc17sample_new_atleast1_50[pangenie_INS_hgsvc17sample_new_atleast1_50.iloc[:, 8:].eq(0).any(1)]\n",
    "pangenie_INS_hgsvc17sample_new_atleast1_50_zero.shape"
   ]
  },
  {
   "cell_type": "code",
   "execution_count": 51,
   "id": "tribal-explorer",
   "metadata": {},
   "outputs": [],
   "source": [
    "pangenie_INS_hgsvc17sample_new_atleast1_50_zero.to_csv('../preprocess_data/pangenie_svs_17sample_ALL_INS_atleast5_50_genotype_only01_new.bed', index = False, sep='\\t', header=True)"
   ]
  },
  {
   "cell_type": "code",
   "execution_count": 52,
   "id": "painted-utilization",
   "metadata": {},
   "outputs": [
    {
     "data": {
      "text/plain": [
       "(14008, 4)"
      ]
     },
     "execution_count": 52,
     "metadata": {},
     "output_type": "execute_result"
    }
   ],
   "source": [
    "pangenie_INS_hgsvc17sample_new_atleast1_50_start_end = pangenie_INS_hgsvc17sample_new_atleast1_50_zero[['CHROM', 'START_POS', 'END_POS', 'INFO_ID']]\n",
    "pangenie_INS_hgsvc17sample_new_atleast1_50_start_end.shape"
   ]
  },
  {
   "cell_type": "code",
   "execution_count": 54,
   "id": "appointed-detector",
   "metadata": {},
   "outputs": [],
   "source": [
    "pangenie_INS_hgsvc17sample_new_atleast1_50_start_end.to_csv('../preprocess_data/pangenie_svs_17sample_ALL_INS_atleast5_50_only01.bed', index = False, sep='\\t', header=True)"
   ]
  },
  {
   "cell_type": "markdown",
   "id": "recovered-karen",
   "metadata": {},
   "source": [
    "### SVs' impact on boundary strength "
   ]
  },
  {
   "cell_type": "code",
   "execution_count": 55,
   "id": "existing-switch",
   "metadata": {},
   "outputs": [],
   "source": [
    "all_DEL_merged = pd.read_csv('../data/all_DEL_17merged_cutoff_flank_inter30_5kb_boundaries_100kb_only01_atleast5.bed', sep='\\t', header=None)\n",
    "all_DEL_merged.columns =['CHROM', 'START_POS', 'END_POS', 'INFO_ID', 'BOUND_CHR', 'FLANK_START', 'FLANK_END', 'BOUND_SCORE']\n",
    "all_INS_merged = pd.read_csv('../data/all_INS_17merged_cutoff_flank_inter30_5kb_boundaries_100kb_only01_atleast5.bed', sep='\\t', header=None)\n",
    "all_INS_merged.columns =['CHROM', 'START_POS', 'END_POS', 'INFO_ID', 'BOUND_CHR', 'FLANK_START', 'FLANK_END', 'BOUND_SCORE']"
   ]
  },
  {
   "cell_type": "code",
   "execution_count": 56,
   "id": "substantial-million",
   "metadata": {},
   "outputs": [
    {
     "data": {
      "text/plain": [
       "(10590, 8)"
      ]
     },
     "execution_count": 56,
     "metadata": {},
     "output_type": "execute_result"
    }
   ],
   "source": [
    "all_DEL_merged.shape"
   ]
  },
  {
   "cell_type": "code",
   "execution_count": 57,
   "id": "sporting-trout",
   "metadata": {},
   "outputs": [
    {
     "data": {
      "text/plain": [
       "(14045, 8)"
      ]
     },
     "execution_count": 57,
     "metadata": {},
     "output_type": "execute_result"
    }
   ],
   "source": [
    "all_INS_merged.shape"
   ]
  },
  {
   "cell_type": "code",
   "execution_count": 58,
   "id": "guided-interest",
   "metadata": {},
   "outputs": [],
   "source": [
    "all_DEL_boundary_1 = all_DEL_merged.loc[all_DEL_merged.iloc[:, 4] != '.']\n",
    "all_DEL_boundary_2 = all_DEL_boundary_1.reset_index(drop=True)\n",
    "all_INS_boundary_1 = all_INS_merged.loc[all_INS_merged.iloc[:, 4] != '.']\n",
    "all_INS_boundary_2 = all_INS_boundary_1.reset_index(drop=True)"
   ]
  },
  {
   "cell_type": "code",
   "execution_count": 59,
   "id": "drawn-bouquet",
   "metadata": {},
   "outputs": [
    {
     "data": {
      "text/plain": [
       "(1517, 8)"
      ]
     },
     "execution_count": 59,
     "metadata": {},
     "output_type": "execute_result"
    }
   ],
   "source": [
    "all_DEL_boundary_2.shape"
   ]
  },
  {
   "cell_type": "code",
   "execution_count": 60,
   "id": "union-planet",
   "metadata": {},
   "outputs": [
    {
     "data": {
      "text/plain": [
       "(2119, 8)"
      ]
     },
     "execution_count": 60,
     "metadata": {},
     "output_type": "execute_result"
    }
   ],
   "source": [
    "all_INS_boundary_2.shape"
   ]
  },
  {
   "cell_type": "code",
   "execution_count": 61,
   "id": "brief-student",
   "metadata": {},
   "outputs": [
    {
     "data": {
      "text/plain": [
       "1475"
      ]
     },
     "execution_count": 61,
     "metadata": {},
     "output_type": "execute_result"
    }
   ],
   "source": [
    "len(all_DEL_boundary_2['INFO_ID'].drop_duplicates())"
   ]
  },
  {
   "cell_type": "code",
   "execution_count": 62,
   "id": "difficult-plaintiff",
   "metadata": {},
   "outputs": [
    {
     "data": {
      "text/plain": [
       "2082"
      ]
     },
     "execution_count": 62,
     "metadata": {},
     "output_type": "execute_result"
    }
   ],
   "source": [
    "len(all_INS_boundary_2['INFO_ID'].drop_duplicates())"
   ]
  },
  {
   "cell_type": "code",
   "execution_count": 67,
   "id": "moved-branch",
   "metadata": {},
   "outputs": [],
   "source": [
    "sample_ids = ['HG00512','HG00513','HG00514_1','HG00731','HG00732','HG00733_1','NA19238','NA19239','NA19240_1',\n",
    "              'GM18507','GM18505','GM18508','GM18486','GM19099','GM19141','GM18516','GM18522']\n",
    "\n",
    "for i in sample_ids:\n",
    "    file_pattern = os.path.join(f\"../data/sample_bound/{i}_BS_cutoff_inter30_10kb.boundaries_100kb_rep.bed\")\n",
    "    sample_file = glob.glob(file_pattern)\n",
    "    sample_merged_BS = pd.read_csv(sample_file[0], sep='\\t', header=None)\n",
    "    sample_merged_BS =sample_merged_BS[[0, 1, 2, 3, 4, 5, 6, 8]]\n",
    "    sample_merged_BS.columns =['BOUND_CHR', 'FLANK_START', 'FLANK_END', 'BOUND_SCORE','BOUND_CHR_samp', 'BOUND_START_samp', 'BOUND_END_samp', 'BOUND_SCORE_samp']\n",
    "    sample_merged_BS_1 = sample_merged_BS.groupby(['BOUND_CHR', 'FLANK_START', 'FLANK_END'], as_index=False)['BOUND_SCORE_samp'].median()\n",
    "    all_DEL_boundary_2[i] = all_DEL_boundary_2.merge(sample_merged_BS_1, how=\"left\", left_on=[\"BOUND_CHR\", \"FLANK_START\", \"FLANK_END\"], right_on=[\"BOUND_CHR\", \"FLANK_START\", \"FLANK_END\"])['BOUND_SCORE_samp']\n",
    "    all_INS_boundary_2[i] = all_INS_boundary_2.merge(sample_merged_BS_1, how=\"left\", left_on=[\"BOUND_CHR\", \"FLANK_START\", \"FLANK_END\"], right_on=[\"BOUND_CHR\", \"FLANK_START\", \"FLANK_END\"])['BOUND_SCORE_samp']"
   ]
  },
  {
   "cell_type": "code",
   "execution_count": 68,
   "id": "appropriate-temperature",
   "metadata": {},
   "outputs": [
    {
     "data": {
      "text/plain": [
       "(1517, 25)"
      ]
     },
     "execution_count": 68,
     "metadata": {},
     "output_type": "execute_result"
    }
   ],
   "source": [
    "all_DEL_boundary_2.shape"
   ]
  },
  {
   "cell_type": "code",
   "execution_count": 69,
   "id": "clear-laser",
   "metadata": {},
   "outputs": [
    {
     "data": {
      "text/plain": [
       "(2119, 25)"
      ]
     },
     "execution_count": 69,
     "metadata": {},
     "output_type": "execute_result"
    }
   ],
   "source": [
    "all_INS_boundary_2.shape"
   ]
  },
  {
   "cell_type": "markdown",
   "id": "constitutional-remove",
   "metadata": {},
   "source": [
    "#### Mann-Whitney U test for genotypes and boundary BS"
   ]
  },
  {
   "cell_type": "code",
   "execution_count": 70,
   "id": "signal-signature",
   "metadata": {},
   "outputs": [],
   "source": [
    "all_DEL_boundary_2['num_NaNs'] = all_DEL_boundary_2.iloc[:, 8:].isna().sum(1)\n",
    "all_INS_boundary_2['num_NaNs'] = all_INS_boundary_2.iloc[:, 8:].isna().sum(1)"
   ]
  },
  {
   "cell_type": "code",
   "execution_count": 73,
   "id": "signal-california",
   "metadata": {},
   "outputs": [],
   "source": [
    "all_DEL_boundary_2_noNA = all_DEL_boundary_2[all_DEL_boundary_2.num_NaNs < 17]\n",
    "all_INS_boundary_2_noNA = all_INS_boundary_2[all_INS_boundary_2.num_NaNs < 17]"
   ]
  },
  {
   "cell_type": "code",
   "execution_count": 74,
   "id": "bronze-scanning",
   "metadata": {},
   "outputs": [
    {
     "data": {
      "text/plain": [
       "(1290, 26)"
      ]
     },
     "execution_count": 74,
     "metadata": {},
     "output_type": "execute_result"
    }
   ],
   "source": [
    "# Replace NaN Values with Zeros, because those NA boundary scores mean there is no boundary, so we changed them to zero\n",
    "all_DEL_boundary_3 = all_DEL_boundary_2_noNA.fillna(0).drop_duplicates().reset_index(drop=True)\n",
    "all_DEL_boundary_3.shape"
   ]
  },
  {
   "cell_type": "code",
   "execution_count": 75,
   "id": "regular-gasoline",
   "metadata": {},
   "outputs": [
    {
     "data": {
      "text/plain": [
       "(1806, 26)"
      ]
     },
     "execution_count": 75,
     "metadata": {},
     "output_type": "execute_result"
    }
   ],
   "source": [
    "# Replace NaN Values with Zeros\n",
    "all_INS_boundary_3 = all_INS_boundary_2_noNA.fillna(0).drop_duplicates().reset_index(drop=True)\n",
    "all_INS_boundary_3.shape"
   ]
  },
  {
   "cell_type": "code",
   "execution_count": 76,
   "id": "expensive-virtue",
   "metadata": {},
   "outputs": [
    {
     "data": {
      "text/plain": [
       "1267"
      ]
     },
     "execution_count": 76,
     "metadata": {},
     "output_type": "execute_result"
    }
   ],
   "source": [
    "all_DEL_boundary_id = list(all_DEL_boundary_3['INFO_ID'])\n",
    "DEL_list = list(set(all_DEL_boundary_id))\n",
    "len(DEL_list)"
   ]
  },
  {
   "cell_type": "code",
   "execution_count": 77,
   "id": "cutting-implementation",
   "metadata": {},
   "outputs": [
    {
     "data": {
      "text/plain": [
       "1787"
      ]
     },
     "execution_count": 77,
     "metadata": {},
     "output_type": "execute_result"
    }
   ],
   "source": [
    "all_INS_boundary_id = list(all_INS_boundary_3['INFO_ID'])\n",
    "INS_list = list(set(all_INS_boundary_id))\n",
    "len(INS_list)"
   ]
  },
  {
   "cell_type": "code",
   "execution_count": 79,
   "id": "prerequisite-excellence",
   "metadata": {},
   "outputs": [],
   "source": [
    "DEL_genotype = pd.read_csv('../preprocess_data/pangenie_svs_17sample_ALL_DEL_atleast5_50_genotype_only01.bed', sep='\\t', header=0, dtype=str)\n",
    "INS_genotype = pd.read_csv('../preprocess_data/pangenie_svs_17sample_ALL_INS_atleast5_50_genotype_only01.bed', sep='\\t', header=0, dtype=str)"
   ]
  },
  {
   "cell_type": "code",
   "execution_count": 80,
   "id": "compound-elephant",
   "metadata": {},
   "outputs": [],
   "source": [
    "DEL_genotype_1 = DEL_genotype.iloc[:, :-1]\n",
    "INS_genotype_1 = INS_genotype.iloc[:, :-1]\n",
    "DEL_boundary_genotype = DEL_genotype_1[DEL_genotype_1['INFO_ID'].isin(all_DEL_boundary_id)]\n",
    "INS_boundary_genotype = INS_genotype_1[INS_genotype_1['INFO_ID'].isin(all_INS_boundary_id)]\n",
    "DEL_boundary_genotype = DEL_boundary_genotype[[\n",
    "'CHROM', 'START_POS','END_POS', 'TYPE','LEN', 'FILTER', 'INFO_ID', 'FORMAT', 'HG00512','HG00513','HG00514','HG00731','HG00732','HG00733','NA19238','NA19239','NA19240','NA18507','NA18505','NA18508','NA18486','NA19099','NA19141','NA18516','NA18522'\n",
    "    ]]\n",
    "INS_boundary_genotype = INS_boundary_genotype[[\n",
    "'CHROM', 'START_POS','END_POS', 'TYPE','LEN', 'FILTER', 'INFO_ID', 'FORMAT', 'HG00512','HG00513','HG00514','HG00731','HG00732','HG00733','NA19238','NA19239','NA19240','NA18507','NA18505','NA18508','NA18486','NA19099','NA19141','NA18516','NA18522'\n",
    "    ]]"
   ]
  },
  {
   "cell_type": "code",
   "execution_count": 81,
   "id": "million-sigma",
   "metadata": {},
   "outputs": [
    {
     "data": {
      "text/plain": [
       "(1267, 25)"
      ]
     },
     "execution_count": 81,
     "metadata": {},
     "output_type": "execute_result"
    }
   ],
   "source": [
    "DEL_boundary_genotype_1 = DEL_boundary_genotype.reset_index(drop=True)\n",
    "DEL_boundary_genotype_1.shape"
   ]
  },
  {
   "cell_type": "code",
   "execution_count": 82,
   "id": "intense-immigration",
   "metadata": {},
   "outputs": [
    {
     "data": {
      "text/plain": [
       "(1787, 25)"
      ]
     },
     "execution_count": 82,
     "metadata": {},
     "output_type": "execute_result"
    }
   ],
   "source": [
    "INS_boundary_genotype_1 = INS_boundary_genotype.reset_index(drop=True)\n",
    "INS_boundary_genotype_1.shape"
   ]
  },
  {
   "cell_type": "code",
   "execution_count": 88,
   "id": "sensitive-hebrew",
   "metadata": {},
   "outputs": [],
   "source": [
    "### test for genotypes 0 and 1 (binary genotypes, only 0/0 and others)\n",
    "pvalue= []\n",
    "\n",
    "for i in range(0, len(all_DEL_boundary_3)):\n",
    "    DEL_boundary_genotype_all = DEL_boundary_genotype_1[DEL_boundary_genotype_1.loc[:,'INFO_ID'] == all_DEL_boundary_3.loc[i,'INFO_ID']].iloc[:,8:]\n",
    "    genotypes_list = DEL_boundary_genotype_all.iloc[0].values.tolist()\n",
    "    boundary_score_list = all_DEL_boundary_3.iloc[i,8:25].values.tolist()\n",
    "\n",
    "    df = pd.DataFrame({'genotypes' : genotypes_list,\n",
    "                   'boundary_score' : boundary_score_list})\n",
    "    \n",
    "    # Convert the 'genotypes' column to string type\n",
    "    df['genotypes'] = df['genotypes'].astype(str)\n",
    "    \n",
    "    df_new = df.assign(BS=df.groupby('genotypes').cumcount()).pivot('BS','genotypes','boundary_score')\n",
    "      \n",
    "    try:\n",
    "        U, p = mannwhitneyu(x=df_new['0'].dropna().tolist(), y=df_new['1'].dropna().tolist(), method=\"exact\", alternative = 'two-sided')\n",
    "        #print (p)\n",
    "        \n",
    "    except ValueError:\n",
    "        p = 'NA'\n",
    "        #print (p)\n",
    "    \n",
    "    pvalue.append(p)\n",
    "    \n",
    "all_DEL_boundary_3['pvalue_0_1'] = pvalue"
   ]
  },
  {
   "cell_type": "code",
   "execution_count": 89,
   "id": "checked-textbook",
   "metadata": {},
   "outputs": [
    {
     "data": {
      "text/plain": [
       "(1290, 27)"
      ]
     },
     "execution_count": 89,
     "metadata": {},
     "output_type": "execute_result"
    }
   ],
   "source": [
    "all_DEL_boundary_3.shape"
   ]
  },
  {
   "cell_type": "code",
   "execution_count": 90,
   "id": "eligible-keeping",
   "metadata": {},
   "outputs": [],
   "source": [
    "### test for genotypes 0 and 1 (binary genotypes, only 0/0 and others)\n",
    "pvalue= []\n",
    "\n",
    "for i in range(0, len(all_INS_boundary_3)):\n",
    "    INS_boundary_genotype_all = INS_boundary_genotype_1[INS_boundary_genotype_1.loc[:,'INFO_ID'] == all_INS_boundary_3.loc[i,'INFO_ID']].iloc[:,8:]\n",
    "    genotypes_list = INS_boundary_genotype_all.iloc[0].values.tolist()\n",
    "    boundary_score_list = all_INS_boundary_3.iloc[i,8:25].values.tolist()\n",
    "\n",
    "    df = pd.DataFrame({'genotypes' : genotypes_list,\n",
    "                   'boundary_score' : boundary_score_list})\n",
    "    \n",
    "    # Convert the 'genotypes' column to string type\n",
    "    df['genotypes'] = df['genotypes'].astype(str)\n",
    "    \n",
    "    df_new = df.assign(BS=df.groupby('genotypes').cumcount()).pivot('BS','genotypes','boundary_score')\n",
    "      \n",
    "    try:\n",
    "        U, p = mannwhitneyu(x=df_new['0'].dropna().tolist(), y=df_new['1'].dropna().tolist(), method=\"exact\", alternative = 'two-sided')\n",
    "        #print (p)\n",
    "        \n",
    "    except ValueError:\n",
    "        p = 'NA'\n",
    "        #print (p)\n",
    "    \n",
    "    pvalue.append(p)\n",
    "    \n",
    "all_INS_boundary_3['pvalue_0_1'] = pvalue"
   ]
  },
  {
   "cell_type": "code",
   "execution_count": 91,
   "id": "similar-outside",
   "metadata": {},
   "outputs": [
    {
     "data": {
      "text/plain": [
       "(1806, 27)"
      ]
     },
     "execution_count": 91,
     "metadata": {},
     "output_type": "execute_result"
    }
   ],
   "source": [
    "all_INS_boundary_3.shape"
   ]
  },
  {
   "cell_type": "code",
   "execution_count": 94,
   "id": "verified-pleasure",
   "metadata": {},
   "outputs": [],
   "source": [
    "def fdr_correction(group):\n",
    "    _, corrected_pvalues, _, _ = multipletests(group['pvalue_0_1'], method='fdr_bh')\n",
    "    group['qvalue'] = corrected_pvalues\n",
    "    return group"
   ]
  },
  {
   "cell_type": "code",
   "execution_count": 99,
   "id": "satisfied-cocktail",
   "metadata": {},
   "outputs": [
    {
     "data": {
      "text/plain": [
       "(35, 28)"
      ]
     },
     "execution_count": 99,
     "metadata": {},
     "output_type": "execute_result"
    }
   ],
   "source": [
    "corrected_del = all_DEL_boundary_3.groupby('INFO_ID').apply(fdr_correction)\n",
    "all_DEL_boundary_3_sig = corrected_del[corrected_del['qvalue'] < 0.05]\n",
    "all_DEL_boundary_3_sig.shape"
   ]
  },
  {
   "cell_type": "code",
   "execution_count": 100,
   "id": "sized-broadcasting",
   "metadata": {},
   "outputs": [
    {
     "data": {
      "text/plain": [
       "(57, 28)"
      ]
     },
     "execution_count": 100,
     "metadata": {},
     "output_type": "execute_result"
    }
   ],
   "source": [
    "corrected_ins = all_INS_boundary_3.groupby('INFO_ID').apply(fdr_correction)\n",
    "all_INS_boundary_3_sig = corrected_ins[corrected_ins['qvalue'] < 0.05]\n",
    "all_INS_boundary_3_sig.shape"
   ]
  },
  {
   "cell_type": "code",
   "execution_count": 101,
   "id": "consolidated-breed",
   "metadata": {},
   "outputs": [
    {
     "data": {
      "text/plain": [
       "34"
      ]
     },
     "execution_count": 101,
     "metadata": {},
     "output_type": "execute_result"
    }
   ],
   "source": [
    "len(all_DEL_boundary_3_sig['INFO_ID'].drop_duplicates())"
   ]
  },
  {
   "cell_type": "code",
   "execution_count": 102,
   "id": "thick-family",
   "metadata": {},
   "outputs": [
    {
     "data": {
      "text/plain": [
       "57"
      ]
     },
     "execution_count": 102,
     "metadata": {},
     "output_type": "execute_result"
    }
   ],
   "source": [
    "len(all_INS_boundary_3_sig['INFO_ID'].drop_duplicates())"
   ]
  },
  {
   "cell_type": "markdown",
   "id": "advance-edward",
   "metadata": {},
   "source": [
    "### load significant discovery set"
   ]
  },
  {
   "cell_type": "code",
   "execution_count": 106,
   "id": "limited-generation",
   "metadata": {},
   "outputs": [],
   "source": [
    "all_DEL_boundary_dis  = pd.read_csv('../data/final_ALL_DEL_merged_BS_flank_26sample_pvalue_only01_fillna.bed', sep='\\t', header=0)\n",
    "all_INS_boundary_dis  = pd.read_csv('../data/final_ALL_INS_merged_BS_flank_26sample_pvalue_only01_fillna.bed', sep='\\t', header=0)\n",
    "all_DEL_boundary_dis_sig = pd.read_csv('../data/all_DEL_boundary_3_sig_10kbflank.bed', sep='\\t', header=0)\n",
    "all_INS_boundary_dis_sig = pd.read_csv('../data/all_INS_boundary_3_sig_10kbflank.bed', sep='\\t', header=0)"
   ]
  },
  {
   "cell_type": "code",
   "execution_count": 107,
   "id": "graduate-charge",
   "metadata": {},
   "outputs": [
    {
     "data": {
      "text/plain": [
       "1740"
      ]
     },
     "execution_count": 107,
     "metadata": {},
     "output_type": "execute_result"
    }
   ],
   "source": [
    "len(all_DEL_boundary_dis['INFO_ID'].drop_duplicates())"
   ]
  },
  {
   "cell_type": "code",
   "execution_count": 109,
   "id": "delayed-davis",
   "metadata": {},
   "outputs": [
    {
     "data": {
      "text/plain": [
       "2510"
      ]
     },
     "execution_count": 109,
     "metadata": {},
     "output_type": "execute_result"
    }
   ],
   "source": [
    "len(all_INS_boundary_dis['INFO_ID'].drop_duplicates())"
   ]
  },
  {
   "cell_type": "code",
   "execution_count": 110,
   "id": "general-juice",
   "metadata": {},
   "outputs": [
    {
     "data": {
      "text/plain": [
       "66"
      ]
     },
     "execution_count": 110,
     "metadata": {},
     "output_type": "execute_result"
    }
   ],
   "source": [
    "len(all_DEL_boundary_dis_sig['INFO_ID'].drop_duplicates())"
   ]
  },
  {
   "cell_type": "code",
   "execution_count": 111,
   "id": "smooth-isaac",
   "metadata": {},
   "outputs": [
    {
     "data": {
      "text/plain": [
       "119"
      ]
     },
     "execution_count": 111,
     "metadata": {},
     "output_type": "execute_result"
    }
   ],
   "source": [
    "len(all_INS_boundary_dis_sig['INFO_ID'].drop_duplicates())"
   ]
  },
  {
   "cell_type": "code",
   "execution_count": 112,
   "id": "green-luxembourg",
   "metadata": {},
   "outputs": [],
   "source": [
    "sig_DEL_boundary_in_dis = all_DEL_boundary_3_sig[all_DEL_boundary_3_sig['INFO_ID'].isin(all_DEL_boundary_dis_sig['INFO_ID'])]\n",
    "sig_INS_boundary_in_dis = all_INS_boundary_3_sig[all_INS_boundary_3_sig['INFO_ID'].isin(all_INS_boundary_dis_sig['INFO_ID'])]"
   ]
  },
  {
   "cell_type": "code",
   "execution_count": 113,
   "id": "satisfactory-vocabulary",
   "metadata": {},
   "outputs": [
    {
     "data": {
      "text/plain": [
       "4"
      ]
     },
     "execution_count": 113,
     "metadata": {},
     "output_type": "execute_result"
    }
   ],
   "source": [
    "len(sig_DEL_boundary_in_dis['INFO_ID'].drop_duplicates())"
   ]
  },
  {
   "cell_type": "code",
   "execution_count": 114,
   "id": "enhanced-encyclopedia",
   "metadata": {},
   "outputs": [
    {
     "data": {
      "text/plain": [
       "3"
      ]
     },
     "execution_count": 114,
     "metadata": {},
     "output_type": "execute_result"
    }
   ],
   "source": [
    "len(sig_INS_boundary_in_dis['INFO_ID'].drop_duplicates())"
   ]
  },
  {
   "cell_type": "code",
   "execution_count": 115,
   "id": "municipal-absolute",
   "metadata": {},
   "outputs": [],
   "source": [
    "DEL_boundary_in_dis = all_DEL_boundary_3[all_DEL_boundary_3['INFO_ID'].isin(all_DEL_boundary_dis_sig['INFO_ID'])]\n",
    "INS_boundary_in_dis = all_INS_boundary_3[all_INS_boundary_3['INFO_ID'].isin(all_INS_boundary_dis_sig['INFO_ID'])]"
   ]
  },
  {
   "cell_type": "code",
   "execution_count": 116,
   "id": "proprietary-glory",
   "metadata": {},
   "outputs": [
    {
     "data": {
      "text/plain": [
       "40"
      ]
     },
     "execution_count": 116,
     "metadata": {},
     "output_type": "execute_result"
    }
   ],
   "source": [
    "len(DEL_boundary_in_dis['INFO_ID'].drop_duplicates())"
   ]
  },
  {
   "cell_type": "code",
   "execution_count": 117,
   "id": "explicit-hands",
   "metadata": {},
   "outputs": [
    {
     "data": {
      "text/plain": [
       "80"
      ]
     },
     "execution_count": 117,
     "metadata": {},
     "output_type": "execute_result"
    }
   ],
   "source": [
    "len(INS_boundary_in_dis['INFO_ID'].drop_duplicates())"
   ]
  },
  {
   "cell_type": "code",
   "execution_count": 118,
   "id": "proof-sphere",
   "metadata": {},
   "outputs": [
    {
     "data": {
      "text/plain": [
       "(1290, 28)"
      ]
     },
     "execution_count": 118,
     "metadata": {},
     "output_type": "execute_result"
    }
   ],
   "source": [
    "all_DEL_boundary_sort = corrected_del.sort_values(by=\"qvalue\",ascending=True)\n",
    "all_DEL_boundary_sort.shape"
   ]
  },
  {
   "cell_type": "code",
   "execution_count": 119,
   "id": "sexual-circulation",
   "metadata": {},
   "outputs": [
    {
     "data": {
      "text/plain": [
       "(1806, 28)"
      ]
     },
     "execution_count": 119,
     "metadata": {},
     "output_type": "execute_result"
    }
   ],
   "source": [
    "all_INS_boundary_sort = corrected_ins.sort_values(by=\"qvalue\",ascending=True)\n",
    "all_INS_boundary_sort.shape"
   ]
  },
  {
   "cell_type": "markdown",
   "id": "attempted-genesis",
   "metadata": {},
   "source": [
    "### top 25% "
   ]
  },
  {
   "cell_type": "code",
   "execution_count": 120,
   "id": "genuine-departure",
   "metadata": {},
   "outputs": [
    {
     "data": {
      "text/plain": [
       "(322, 28)"
      ]
     },
     "execution_count": 120,
     "metadata": {},
     "output_type": "execute_result"
    }
   ],
   "source": [
    "all_DEL_boundary_sort_25 = all_DEL_boundary_sort.head(round(len(all_DEL_boundary_sort)*(1/4)))\n",
    "all_DEL_boundary_sort_25.shape"
   ]
  },
  {
   "cell_type": "code",
   "execution_count": 121,
   "id": "matched-silicon",
   "metadata": {},
   "outputs": [
    {
     "data": {
      "text/plain": [
       "(452, 28)"
      ]
     },
     "execution_count": 121,
     "metadata": {},
     "output_type": "execute_result"
    }
   ],
   "source": [
    "all_INS_boundary_sort_25 = all_INS_boundary_sort.head(round(len(all_INS_boundary_sort)*(1/4)))\n",
    "all_INS_boundary_sort_25.shape"
   ]
  },
  {
   "cell_type": "code",
   "execution_count": 135,
   "id": "rising-theory",
   "metadata": {},
   "outputs": [],
   "source": [
    "sig_DEL_boundary_sort_25 = all_DEL_boundary_sort_25[all_DEL_boundary_sort_25['INFO_ID'].isin(DEL_boundary_in_dis['INFO_ID'])]\n",
    "sig_INS_boundary_sort_25 = all_INS_boundary_sort_25[all_INS_boundary_sort_25['INFO_ID'].isin(INS_boundary_in_dis['INFO_ID'])]"
   ]
  },
  {
   "cell_type": "code",
   "execution_count": 136,
   "id": "small-germany",
   "metadata": {},
   "outputs": [
    {
     "data": {
      "text/plain": [
       "14"
      ]
     },
     "execution_count": 136,
     "metadata": {},
     "output_type": "execute_result"
    }
   ],
   "source": [
    "len(sig_DEL_boundary_sort_25['INFO_ID'].drop_duplicates())"
   ]
  },
  {
   "cell_type": "code",
   "execution_count": 137,
   "id": "unexpected-weather",
   "metadata": {},
   "outputs": [
    {
     "data": {
      "text/plain": [
       "24"
      ]
     },
     "execution_count": 137,
     "metadata": {},
     "output_type": "execute_result"
    }
   ],
   "source": [
    "len(sig_INS_boundary_sort_25['INFO_ID'].drop_duplicates())"
   ]
  },
  {
   "cell_type": "markdown",
   "id": "hollywood-donna",
   "metadata": {},
   "source": [
    "### top 50% "
   ]
  },
  {
   "cell_type": "code",
   "execution_count": 138,
   "id": "advised-advancement",
   "metadata": {},
   "outputs": [
    {
     "data": {
      "text/plain": [
       "(645, 28)"
      ]
     },
     "execution_count": 138,
     "metadata": {},
     "output_type": "execute_result"
    }
   ],
   "source": [
    "all_DEL_boundary_sort_half = all_DEL_boundary_sort.head(round(len(all_DEL_boundary_sort)*(2/4)))\n",
    "all_DEL_boundary_sort_half.shape"
   ]
  },
  {
   "cell_type": "code",
   "execution_count": 139,
   "id": "partial-supplier",
   "metadata": {},
   "outputs": [
    {
     "data": {
      "text/plain": [
       "(903, 28)"
      ]
     },
     "execution_count": 139,
     "metadata": {},
     "output_type": "execute_result"
    }
   ],
   "source": [
    "all_INS_boundary_sort_half = all_INS_boundary_sort.head(round(len(all_INS_boundary_sort)*(2/4)))\n",
    "all_INS_boundary_sort_half.shape"
   ]
  },
  {
   "cell_type": "code",
   "execution_count": 140,
   "id": "bound-royal",
   "metadata": {},
   "outputs": [],
   "source": [
    "sig_DEL_boundary_sort_half = all_DEL_boundary_sort_half[all_DEL_boundary_sort_half['INFO_ID'].isin(DEL_boundary_in_dis['INFO_ID'])]\n",
    "sig_INS_boundary_sort_half = all_INS_boundary_sort_half[all_INS_boundary_sort_half['INFO_ID'].isin(INS_boundary_in_dis['INFO_ID'])]"
   ]
  },
  {
   "cell_type": "code",
   "execution_count": 141,
   "id": "sorted-nickel",
   "metadata": {},
   "outputs": [
    {
     "data": {
      "text/plain": [
       "26"
      ]
     },
     "execution_count": 141,
     "metadata": {},
     "output_type": "execute_result"
    }
   ],
   "source": [
    "len(sig_DEL_boundary_sort_half['INFO_ID'].drop_duplicates())"
   ]
  },
  {
   "cell_type": "code",
   "execution_count": 142,
   "id": "experienced-montgomery",
   "metadata": {},
   "outputs": [
    {
     "data": {
      "text/plain": [
       "48"
      ]
     },
     "execution_count": 142,
     "metadata": {},
     "output_type": "execute_result"
    }
   ],
   "source": [
    "len(sig_INS_boundary_sort_half['INFO_ID'].drop_duplicates())"
   ]
  },
  {
   "cell_type": "markdown",
   "id": "happy-guest",
   "metadata": {},
   "source": [
    "### top 75% "
   ]
  },
  {
   "cell_type": "code",
   "execution_count": 143,
   "id": "electric-creek",
   "metadata": {},
   "outputs": [
    {
     "data": {
      "text/plain": [
       "(968, 28)"
      ]
     },
     "execution_count": 143,
     "metadata": {},
     "output_type": "execute_result"
    }
   ],
   "source": [
    "all_DEL_boundary_sort_75 = all_DEL_boundary_sort.head(round(len(all_DEL_boundary_sort)*(3/4)))\n",
    "all_DEL_boundary_sort_75.shape"
   ]
  },
  {
   "cell_type": "code",
   "execution_count": 144,
   "id": "present-aaron",
   "metadata": {},
   "outputs": [
    {
     "data": {
      "text/plain": [
       "(1354, 28)"
      ]
     },
     "execution_count": 144,
     "metadata": {},
     "output_type": "execute_result"
    }
   ],
   "source": [
    "all_INS_boundary_sort_75 = all_INS_boundary_sort.head(round(len(all_INS_boundary_sort)*(3/4)))\n",
    "all_INS_boundary_sort_75.shape"
   ]
  },
  {
   "cell_type": "code",
   "execution_count": 145,
   "id": "lesbian-mexico",
   "metadata": {},
   "outputs": [],
   "source": [
    "sig_DEL_boundary_sort_75 = all_DEL_boundary_sort_75[all_DEL_boundary_sort_75['INFO_ID'].isin(DEL_boundary_in_dis['INFO_ID'])]\n",
    "sig_INS_boundary_sort_75 = all_INS_boundary_sort_75[all_INS_boundary_sort_75['INFO_ID'].isin(INS_boundary_in_dis['INFO_ID'])]"
   ]
  },
  {
   "cell_type": "code",
   "execution_count": 146,
   "id": "abroad-graphics",
   "metadata": {},
   "outputs": [
    {
     "data": {
      "text/plain": [
       "34"
      ]
     },
     "execution_count": 146,
     "metadata": {},
     "output_type": "execute_result"
    }
   ],
   "source": [
    "len(sig_DEL_boundary_sort_75['INFO_ID'].drop_duplicates())"
   ]
  },
  {
   "cell_type": "code",
   "execution_count": 147,
   "id": "synthetic-yesterday",
   "metadata": {},
   "outputs": [
    {
     "data": {
      "text/plain": [
       "67"
      ]
     },
     "execution_count": 147,
     "metadata": {},
     "output_type": "execute_result"
    }
   ],
   "source": [
    "len(sig_INS_boundary_sort_75['INFO_ID'].drop_duplicates())"
   ]
  }
 ],
 "metadata": {
  "kernelspec": {
   "display_name": "Python 3 (ipykernel)",
   "language": "python",
   "name": "python3"
  },
  "language_info": {
   "codemirror_mode": {
    "name": "ipython",
    "version": 3
   },
   "file_extension": ".py",
   "mimetype": "text/x-python",
   "name": "python",
   "nbconvert_exporter": "python",
   "pygments_lexer": "ipython3",
   "version": "3.7.3"
  }
 },
 "nbformat": 4,
 "nbformat_minor": 5
}
