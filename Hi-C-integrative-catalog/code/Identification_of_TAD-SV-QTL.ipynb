{
 "cells": [
  {
   "cell_type": "code",
   "execution_count": 57,
   "id": "assumed-opinion",
   "metadata": {},
   "outputs": [],
   "source": [
    "import pandas as pd\n",
    "from scipy.stats import mannwhitneyu\n",
    "from statsmodels.stats.multitest import multipletests\n",
    "import matplotlib.pyplot as plt\n",
    "import seaborn as sns"
   ]
  },
  {
   "cell_type": "markdown",
   "id": "stainless-bundle",
   "metadata": {},
   "source": [
    "## Indentification of TAD-SV-eQTL"
   ]
  },
  {
   "cell_type": "code",
   "execution_count": 3,
   "id": "advanced-winner",
   "metadata": {},
   "outputs": [],
   "source": [
    "# the eQTL data can be downloaded from https://drive.google.com/file/d/1S0nARNKakaQ6vAdRr0dsMIv3_dZzD54E/view?usp=sharing\n",
    "# be sure to download the file under the same directory as your analysis\n",
    "\n",
    "eqtl = pd.read_csv('../data/qtl_results_all_v4_fdr0.05.txt', sep='\\t', dtype=str)"
   ]
  },
  {
   "cell_type": "code",
   "execution_count": 4,
   "id": "checked-thanks",
   "metadata": {},
   "outputs": [
    {
     "data": {
      "text/plain": [
       "(850482, 29)"
      ]
     },
     "execution_count": 4,
     "metadata": {},
     "output_type": "execute_result"
    }
   ],
   "source": [
    "eqtl.shape"
   ]
  },
  {
   "cell_type": "code",
   "execution_count": 7,
   "id": "individual-finger",
   "metadata": {},
   "outputs": [],
   "source": [
    "all_DEL_boundary_3_sig = pd.read_csv('../data/all_DEL_boundary_3_sig_10kbflank.bed', sep='\\t', header = 0)\n",
    "all_INS_boundary_3_sig = pd.read_csv('../data/all_INS_boundary_3_sig_10kbflank.bed', sep='\\t', header = 0)\n",
    "all_DEL_boundary_3_sig_loc = all_DEL_boundary_3_sig[['CHROM', 'START_POS', 'END_POS', 'INFO_ID']]\n",
    "all_INS_boundary_3_sig_loc = all_INS_boundary_3_sig[['CHROM', 'START_POS', 'END_POS', 'INFO_ID']]"
   ]
  },
  {
   "cell_type": "code",
   "execution_count": 9,
   "id": "genetic-adventure",
   "metadata": {},
   "outputs": [
    {
     "data": {
      "text/plain": [
       "(16, 29)"
      ]
     },
     "execution_count": 9,
     "metadata": {},
     "output_type": "execute_result"
    }
   ],
   "source": [
    "pangenie_svs_sample_DEL_eqtl = eqtl[(eqtl['snp_id'].isin(all_DEL_boundary_3_sig['INFO_ID']))]\n",
    "pangenie_svs_sample_DEL_eqtl.shape"
   ]
  },
  {
   "cell_type": "code",
   "execution_count": 10,
   "id": "alien-parts",
   "metadata": {},
   "outputs": [
    {
     "data": {
      "text/plain": [
       "11"
      ]
     },
     "execution_count": 10,
     "metadata": {},
     "output_type": "execute_result"
    }
   ],
   "source": [
    "len(pangenie_svs_sample_DEL_eqtl['snp_id'].drop_duplicates())"
   ]
  },
  {
   "cell_type": "code",
   "execution_count": 15,
   "id": "internal-education",
   "metadata": {},
   "outputs": [
    {
     "data": {
      "text/plain": [
       "16"
      ]
     },
     "execution_count": 15,
     "metadata": {},
     "output_type": "execute_result"
    }
   ],
   "source": [
    "eqtl_DEL_boundary_gene = list(pangenie_svs_sample_DEL_eqtl['feature_id'])\n",
    "len(eqtl_DEL_boundary_gene)"
   ]
  },
  {
   "cell_type": "code",
   "execution_count": 12,
   "id": "finnish-ebony",
   "metadata": {},
   "outputs": [
    {
     "data": {
      "text/plain": [
       "(14, 29)"
      ]
     },
     "execution_count": 12,
     "metadata": {},
     "output_type": "execute_result"
    }
   ],
   "source": [
    "pangenie_svs_sample_INS_eqtl = eqtl[(eqtl['snp_id'].isin(all_INS_boundary_3_sig['INFO_ID']))]\n",
    "pangenie_svs_sample_INS_eqtl.shape"
   ]
  },
  {
   "cell_type": "code",
   "execution_count": 13,
   "id": "egyptian-timer",
   "metadata": {},
   "outputs": [
    {
     "data": {
      "text/plain": [
       "9"
      ]
     },
     "execution_count": 13,
     "metadata": {},
     "output_type": "execute_result"
    }
   ],
   "source": [
    "len(pangenie_svs_sample_INS_eqtl['snp_id'].drop_duplicates())"
   ]
  },
  {
   "cell_type": "code",
   "execution_count": 16,
   "id": "former-danish",
   "metadata": {},
   "outputs": [
    {
     "data": {
      "text/plain": [
       "14"
      ]
     },
     "execution_count": 16,
     "metadata": {},
     "output_type": "execute_result"
    }
   ],
   "source": [
    "eqtl_INS_boundary_gene = list(pangenie_svs_sample_INS_eqtl['feature_id'])\n",
    "len(eqtl_INS_boundary_gene)"
   ]
  },
  {
   "cell_type": "code",
   "execution_count": 17,
   "id": "focused-profile",
   "metadata": {},
   "outputs": [],
   "source": [
    "# the gene expression data can be downloaded from https://drive.google.com/file/d/1SwaWkat00Fac4ACpbA6T3wzKppGO8srI/view?usp=sharing\n",
    "# be sure to download the file under the same directory as your analysis\n",
    "\n",
    "gene_expression = pd.read_csv('../data/featureCounts_v2.genes.counts.edgeR.log.txt', sep='\\t', header=0)\n",
    "gene_expression_DEL_boundary = gene_expression.filter(items = eqtl_DEL_boundary_gene, axis=0)\n",
    "gene_expression_INS_boundary = gene_expression.filter(items = eqtl_INS_boundary_gene, axis=0)"
   ]
  },
  {
   "cell_type": "code",
   "execution_count": 18,
   "id": "valued-transport",
   "metadata": {},
   "outputs": [],
   "source": [
    "sample = ['NA18534','NA18939','NA19036','NA19240','NA19650','NA19983','NA20509','NA20847','HG00096','HG00171','HG00514','HG00733','HG00864','HG01114','HG01505','HG01573','HG01596','HG02011','HG02018','HG02492','HG02587','HG03009','HG03065','HG03371','HG03683','HG03732']\n",
    "gene_expression_DEL_boundary_sample = gene_expression_DEL_boundary.filter(regex='|'.join(sample), axis=1)\n",
    "gene_expression_INS_boundary_sample = gene_expression_INS_boundary.filter(regex='|'.join(sample), axis=1)\n",
    "## only keep the first 7 characters of the columns name\n",
    "gene_DEL_boundary_sample_rename = gene_expression_DEL_boundary_sample.rename(columns = lambda x : str(x)[:7])\n",
    "gene_INS_boundary_sample_rename = gene_expression_INS_boundary_sample.rename(columns = lambda x : str(x)[:7])\n",
    "gene_DEL_boundary_sample_rename_new =  gene_DEL_boundary_sample_rename.reset_index().rename(columns={'index': 'gene'})\n",
    "gene_INS_boundary_sample_rename_new =  gene_INS_boundary_sample_rename.reset_index().rename(columns={'index': 'gene'})"
   ]
  },
  {
   "cell_type": "code",
   "execution_count": 26,
   "id": "irish-lying",
   "metadata": {},
   "outputs": [
    {
     "data": {
      "text/plain": [
       "16"
      ]
     },
     "execution_count": 26,
     "metadata": {},
     "output_type": "execute_result"
    }
   ],
   "source": [
    "DEL_INFO_ID = list(pangenie_svs_sample_DEL_eqtl.iloc[:, 1])\n",
    "len(DEL_INFO_ID)"
   ]
  },
  {
   "cell_type": "code",
   "execution_count": 29,
   "id": "eastern-arbor",
   "metadata": {},
   "outputs": [],
   "source": [
    "gene_DEL_boundary_sample_rename_new['INFO_ID'] = DEL_INFO_ID \n",
    "gene_DEL_boundary_sample_rename_new = gene_DEL_boundary_sample_rename_new[[\n",
    "'gene','INFO_ID', 'NA18534','NA18939','NA19036','NA19240','NA19650','NA19983','NA20509','NA20847','HG00096','HG00171','HG00514','HG00733','HG00864','HG01114','HG01505','HG01573','HG01596','HG02011','HG02018','HG02492','HG02587','HG03009','HG03065','HG03371','HG03683','HG03732'\n",
    "    ]]"
   ]
  },
  {
   "cell_type": "code",
   "execution_count": 30,
   "id": "moving-sample",
   "metadata": {},
   "outputs": [
    {
     "data": {
      "text/plain": [
       "14"
      ]
     },
     "execution_count": 30,
     "metadata": {},
     "output_type": "execute_result"
    }
   ],
   "source": [
    "INS_INFO_ID = list(pangenie_svs_sample_INS_eqtl.iloc[:, 1])\n",
    "len(INS_INFO_ID)"
   ]
  },
  {
   "cell_type": "code",
   "execution_count": 31,
   "id": "connected-patch",
   "metadata": {},
   "outputs": [],
   "source": [
    "gene_INS_boundary_sample_rename_new['INFO_ID'] = INS_INFO_ID \n",
    "gene_INS_boundary_sample_rename_new = gene_INS_boundary_sample_rename_new[[\n",
    "'gene','INFO_ID', 'NA18534','NA18939','NA19036','NA19240','NA19650','NA19983','NA20509','NA20847','HG00096','HG00171','HG00514','HG00733','HG00864','HG01114','HG01505','HG01573','HG01596','HG02011','HG02018','HG02492','HG02587','HG03009','HG03065','HG03371','HG03683','HG03732'\n",
    "    ]]"
   ]
  },
  {
   "cell_type": "code",
   "execution_count": 24,
   "id": "contained-mexican",
   "metadata": {},
   "outputs": [],
   "source": [
    "DEL_genotype = pd.read_csv('../preprocess_data/pangenie_svs_26sample_ALL_DEL_atleast5_50_genotype_only01.bed', sep='\\t', header=0, dtype=str)\n",
    "INS_genotype = pd.read_csv('../preprocess_data/pangenie_svs_26sample_ALL_INS_atleast5_50_genotype_only01.bed', sep='\\t', header=0, dtype=str)"
   ]
  },
  {
   "cell_type": "code",
   "execution_count": 32,
   "id": "scenic-knowing",
   "metadata": {},
   "outputs": [],
   "source": [
    "DEL_genotype_1 = DEL_genotype.iloc[:, :-1]\n",
    "INS_genotype_1 = INS_genotype.iloc[:, :-1]\n",
    "DEL_boundary_genotype = DEL_genotype_1[DEL_genotype_1['INFO_ID'].isin(DEL_INFO_ID)]\n",
    "INS_boundary_genotype = INS_genotype_1[INS_genotype_1['INFO_ID'].isin(INS_INFO_ID)]\n",
    "DEL_boundary_genotype = DEL_boundary_genotype[[\n",
    "'CHROM', 'START_POS', 'END_POS', 'TYPE', 'LEN', 'FILTER', 'INFO_ID','FORMAT','NA18534','NA18939','NA19036','NA19240','NA19650','NA19983','NA20509','NA20847','HG00096','HG00171','HG00514','HG00733','HG00864','HG01114','HG01505','HG01573','HG01596','HG02011','HG02018','HG02492','HG02587','HG03009','HG03065','HG03371','HG03683','HG03732'\n",
    "    ]]\n",
    "INS_boundary_genotype = INS_boundary_genotype[[\n",
    "'CHROM', 'START_POS', 'END_POS', 'TYPE', 'LEN', 'FILTER', 'INFO_ID','FORMAT','NA18534','NA18939','NA19036','NA19240','NA19650','NA19983','NA20509','NA20847','HG00096','HG00171','HG00514','HG00733','HG00864','HG01114','HG01505','HG01573','HG01596','HG02011','HG02018','HG02492','HG02587','HG03009','HG03065','HG03371','HG03683','HG03732'\n",
    "    ]]"
   ]
  },
  {
   "cell_type": "code",
   "execution_count": 33,
   "id": "fancy-market",
   "metadata": {},
   "outputs": [
    {
     "data": {
      "text/plain": [
       "(11, 34)"
      ]
     },
     "execution_count": 33,
     "metadata": {},
     "output_type": "execute_result"
    }
   ],
   "source": [
    "DEL_boundary_genotype_1 = DEL_boundary_genotype.reset_index(drop=True)\n",
    "DEL_boundary_genotype_1.shape"
   ]
  },
  {
   "cell_type": "code",
   "execution_count": 34,
   "id": "criminal-looking",
   "metadata": {},
   "outputs": [
    {
     "data": {
      "text/plain": [
       "(9, 34)"
      ]
     },
     "execution_count": 34,
     "metadata": {},
     "output_type": "execute_result"
    }
   ],
   "source": [
    "INS_boundary_genotype_1 = INS_boundary_genotype.reset_index(drop=True)\n",
    "INS_boundary_genotype_1.shape"
   ]
  },
  {
   "cell_type": "markdown",
   "id": "decreased-garlic",
   "metadata": {},
   "source": [
    "#### Mann-Whitney U test for genotypes and gene expression"
   ]
  },
  {
   "cell_type": "code",
   "execution_count": 39,
   "id": "still-error",
   "metadata": {},
   "outputs": [],
   "source": [
    "### test for genotypes 0 and 1\n",
    "pvalue= []\n",
    "\n",
    "for i in range(0, len(gene_DEL_boundary_sample_rename_new)):\n",
    "    DEL_boundary_genotype_all = DEL_boundary_genotype[DEL_boundary_genotype.loc[:,'INFO_ID'] == gene_DEL_boundary_sample_rename_new.loc[i,'INFO_ID']].iloc[:,8:35]\n",
    "    genotypes_list = DEL_boundary_genotype_all.iloc[0].values.tolist()\n",
    "    gene_expression_list = gene_DEL_boundary_sample_rename_new.iloc[i, 2:28].values.tolist()\n",
    "\n",
    "    df = pd.DataFrame({'genotypes' : genotypes_list,\n",
    "                   'gene_expression' : gene_expression_list})\n",
    "    \n",
    "    # Convert the 'genotypes' column to string type\n",
    "    df['genotypes'] = df['genotypes'].astype(str)\n",
    "    \n",
    "    df_new = df.assign(expression=df.groupby('genotypes').cumcount()).pivot('expression','genotypes','gene_expression')\n",
    "    \n",
    "    try:\n",
    "        U, p = mannwhitneyu(x=df_new['0'].dropna().tolist(), y=df_new['1'].dropna().tolist(), method=\"exact\", alternative = 'two-sided')\n",
    "        #print (p)\n",
    "        \n",
    "    except KeyError:\n",
    "        p = 'NA'\n",
    "        #print (p)\n",
    "    \n",
    "    pvalue.append(p)\n",
    "    \n",
    "gene_DEL_boundary_sample_rename_new['pvalue_0_1'] = pvalue"
   ]
  },
  {
   "cell_type": "code",
   "execution_count": 42,
   "id": "moral-middle",
   "metadata": {},
   "outputs": [],
   "source": [
    "def fdr_correction(group):\n",
    "    _, corrected_pvalues, _, _ = multipletests(group['pvalue_0_1'], method='fdr_bh')\n",
    "    group['qvalue'] = corrected_pvalues\n",
    "    return group"
   ]
  },
  {
   "cell_type": "code",
   "execution_count": 114,
   "id": "partial-resolution",
   "metadata": {},
   "outputs": [],
   "source": [
    "corrected_del_eqtl = gene_DEL_boundary_sample_rename_new.groupby('INFO_ID').apply(fdr_correction)\n",
    "corrected_del_eqtl.to_csv('../data/all_del_eqtl_boundary_qvalue.bed', index = False, sep='\\t', header=True)"
   ]
  },
  {
   "cell_type": "code",
   "execution_count": 115,
   "id": "happy-lighting",
   "metadata": {},
   "outputs": [
    {
     "data": {
      "text/html": [
       "<div>\n",
       "<style scoped>\n",
       "    .dataframe tbody tr th:only-of-type {\n",
       "        vertical-align: middle;\n",
       "    }\n",
       "\n",
       "    .dataframe tbody tr th {\n",
       "        vertical-align: top;\n",
       "    }\n",
       "\n",
       "    .dataframe thead th {\n",
       "        text-align: right;\n",
       "    }\n",
       "</style>\n",
       "<table border=\"1\" class=\"dataframe\">\n",
       "  <thead>\n",
       "    <tr style=\"text-align: right;\">\n",
       "      <th></th>\n",
       "      <th>gene</th>\n",
       "      <th>INFO_ID</th>\n",
       "      <th>NA18534</th>\n",
       "      <th>NA18939</th>\n",
       "      <th>NA19036</th>\n",
       "      <th>NA19240</th>\n",
       "      <th>NA19650</th>\n",
       "      <th>NA19983</th>\n",
       "      <th>NA20509</th>\n",
       "      <th>NA20847</th>\n",
       "      <th>...</th>\n",
       "      <th>HG02018</th>\n",
       "      <th>HG02492</th>\n",
       "      <th>HG02587</th>\n",
       "      <th>HG03009</th>\n",
       "      <th>HG03065</th>\n",
       "      <th>HG03371</th>\n",
       "      <th>HG03683</th>\n",
       "      <th>HG03732</th>\n",
       "      <th>pvalue_0_1</th>\n",
       "      <th>qvalue</th>\n",
       "    </tr>\n",
       "  </thead>\n",
       "  <tbody>\n",
       "    <tr>\n",
       "      <th>1</th>\n",
       "      <td>ZNF502</td>\n",
       "      <td>chr3-44510750-DEL-50</td>\n",
       "      <td>0.505437</td>\n",
       "      <td>0.711072</td>\n",
       "      <td>1.169339</td>\n",
       "      <td>0.680864</td>\n",
       "      <td>0.703322</td>\n",
       "      <td>0.658127</td>\n",
       "      <td>0.429553</td>\n",
       "      <td>0.838574</td>\n",
       "      <td>...</td>\n",
       "      <td>0.584878</td>\n",
       "      <td>0.825207</td>\n",
       "      <td>0.906216</td>\n",
       "      <td>1.278297</td>\n",
       "      <td>0.618792</td>\n",
       "      <td>0.891358</td>\n",
       "      <td>1.553150</td>\n",
       "      <td>0.709216</td>\n",
       "      <td>0.001468</td>\n",
       "      <td>0.004404</td>\n",
       "    </tr>\n",
       "    <tr>\n",
       "      <th>2</th>\n",
       "      <td>LOC105377056</td>\n",
       "      <td>chr3-44510750-DEL-50</td>\n",
       "      <td>0.051585</td>\n",
       "      <td>0.259984</td>\n",
       "      <td>0.248820</td>\n",
       "      <td>0.200549</td>\n",
       "      <td>0.133223</td>\n",
       "      <td>0.102748</td>\n",
       "      <td>0.153295</td>\n",
       "      <td>0.211812</td>\n",
       "      <td>...</td>\n",
       "      <td>0.112703</td>\n",
       "      <td>0.189359</td>\n",
       "      <td>0.349621</td>\n",
       "      <td>0.228916</td>\n",
       "      <td>0.091698</td>\n",
       "      <td>0.161873</td>\n",
       "      <td>0.339314</td>\n",
       "      <td>0.184628</td>\n",
       "      <td>0.003371</td>\n",
       "      <td>0.005056</td>\n",
       "    </tr>\n",
       "    <tr>\n",
       "      <th>7</th>\n",
       "      <td>XKR9</td>\n",
       "      <td>chr8-70671321-DEL-1088</td>\n",
       "      <td>0.230725</td>\n",
       "      <td>0.078901</td>\n",
       "      <td>0.301779</td>\n",
       "      <td>0.267848</td>\n",
       "      <td>0.270861</td>\n",
       "      <td>0.136379</td>\n",
       "      <td>0.530737</td>\n",
       "      <td>0.218365</td>\n",
       "      <td>...</td>\n",
       "      <td>0.214502</td>\n",
       "      <td>0.225182</td>\n",
       "      <td>0.273766</td>\n",
       "      <td>0.139141</td>\n",
       "      <td>0.287291</td>\n",
       "      <td>0.175466</td>\n",
       "      <td>0.463090</td>\n",
       "      <td>0.130936</td>\n",
       "      <td>0.000040</td>\n",
       "      <td>0.000121</td>\n",
       "    </tr>\n",
       "    <tr>\n",
       "      <th>8</th>\n",
       "      <td>ERICH1</td>\n",
       "      <td>chr8-644401-DEL-5014</td>\n",
       "      <td>1.748027</td>\n",
       "      <td>2.397384</td>\n",
       "      <td>1.672566</td>\n",
       "      <td>2.079122</td>\n",
       "      <td>1.959391</td>\n",
       "      <td>1.973457</td>\n",
       "      <td>2.233838</td>\n",
       "      <td>2.596048</td>\n",
       "      <td>...</td>\n",
       "      <td>1.929456</td>\n",
       "      <td>1.850300</td>\n",
       "      <td>1.798068</td>\n",
       "      <td>2.061475</td>\n",
       "      <td>1.680383</td>\n",
       "      <td>1.861537</td>\n",
       "      <td>2.319171</td>\n",
       "      <td>2.234540</td>\n",
       "      <td>0.000122</td>\n",
       "      <td>0.000122</td>\n",
       "    </tr>\n",
       "  </tbody>\n",
       "</table>\n",
       "<p>4 rows × 30 columns</p>\n",
       "</div>"
      ],
      "text/plain": [
       "           gene                 INFO_ID   NA18534   NA18939   NA19036  \\\n",
       "1        ZNF502    chr3-44510750-DEL-50  0.505437  0.711072  1.169339   \n",
       "2  LOC105377056    chr3-44510750-DEL-50  0.051585  0.259984  0.248820   \n",
       "7          XKR9  chr8-70671321-DEL-1088  0.230725  0.078901  0.301779   \n",
       "8        ERICH1    chr8-644401-DEL-5014  1.748027  2.397384  1.672566   \n",
       "\n",
       "    NA19240   NA19650   NA19983   NA20509   NA20847  ...   HG02018   HG02492  \\\n",
       "1  0.680864  0.703322  0.658127  0.429553  0.838574  ...  0.584878  0.825207   \n",
       "2  0.200549  0.133223  0.102748  0.153295  0.211812  ...  0.112703  0.189359   \n",
       "7  0.267848  0.270861  0.136379  0.530737  0.218365  ...  0.214502  0.225182   \n",
       "8  2.079122  1.959391  1.973457  2.233838  2.596048  ...  1.929456  1.850300   \n",
       "\n",
       "    HG02587   HG03009   HG03065   HG03371   HG03683   HG03732  pvalue_0_1  \\\n",
       "1  0.906216  1.278297  0.618792  0.891358  1.553150  0.709216    0.001468   \n",
       "2  0.349621  0.228916  0.091698  0.161873  0.339314  0.184628    0.003371   \n",
       "7  0.273766  0.139141  0.287291  0.175466  0.463090  0.130936    0.000040   \n",
       "8  1.798068  2.061475  1.680383  1.861537  2.319171  2.234540    0.000122   \n",
       "\n",
       "     qvalue  \n",
       "1  0.004404  \n",
       "2  0.005056  \n",
       "7  0.000121  \n",
       "8  0.000122  \n",
       "\n",
       "[4 rows x 30 columns]"
      ]
     },
     "execution_count": 115,
     "metadata": {},
     "output_type": "execute_result"
    }
   ],
   "source": [
    "sig_del_eqtl = corrected_del_eqtl[corrected_del_eqtl['qvalue'] < 0.05]\n",
    "sig_del_eqtl.to_csv('../data/sig_del_eqtl.bed', index = False, sep='\\t', header=True)\n",
    "sig_del_eqtl"
   ]
  },
  {
   "cell_type": "code",
   "execution_count": 48,
   "id": "outer-hormone",
   "metadata": {},
   "outputs": [],
   "source": [
    "### test for genotypes 0 and 1\n",
    "pvalue= []\n",
    "\n",
    "for i in range(0, len(gene_INS_boundary_sample_rename_new)):\n",
    "    INS_boundary_genotype_all = INS_boundary_genotype[INS_boundary_genotype.loc[:,'INFO_ID'] == gene_INS_boundary_sample_rename_new.loc[i,'INFO_ID']].iloc[:,8:35]\n",
    "    genotypes_list = INS_boundary_genotype_all.iloc[0].values.tolist()\n",
    "    gene_expression_list = gene_INS_boundary_sample_rename_new.iloc[i, 2:28].values.tolist()\n",
    "\n",
    "    df = pd.DataFrame({'genotypes' : genotypes_list,\n",
    "                   'gene_expression' : gene_expression_list})\n",
    "    \n",
    "    # Convert the 'genotypes' column to string type\n",
    "    df['genotypes'] = df['genotypes'].astype(str)    \n",
    "    \n",
    "    df_new = df.assign(expression=df.groupby('genotypes').cumcount()).pivot('expression','genotypes','gene_expression')\n",
    "    \n",
    "    try:\n",
    "        U, p = mannwhitneyu(x=df_new['0'].dropna().tolist(), y=df_new['1'].dropna().tolist(), method=\"exact\", alternative = 'two-sided')\n",
    "        #print (p)\n",
    "        \n",
    "    except KeyError:\n",
    "        p = 'NA'\n",
    "        #print (p)\n",
    "    \n",
    "    pvalue.append(p)\n",
    "    \n",
    "gene_INS_boundary_sample_rename_new['pvalue_0_1'] = pvalue"
   ]
  },
  {
   "cell_type": "code",
   "execution_count": 118,
   "id": "eight-leave",
   "metadata": {},
   "outputs": [],
   "source": [
    "corrected_ins_eqtl = gene_INS_boundary_sample_rename_new.groupby('INFO_ID').apply(fdr_correction)\n",
    "corrected_ins_eqtl.to_csv('../data/all_ins_eqtl_boundary_qvalue.bed', index = False, sep='\\t', header=True)"
   ]
  },
  {
   "cell_type": "code",
   "execution_count": 119,
   "id": "aerial-thirty",
   "metadata": {},
   "outputs": [
    {
     "data": {
      "text/html": [
       "<div>\n",
       "<style scoped>\n",
       "    .dataframe tbody tr th:only-of-type {\n",
       "        vertical-align: middle;\n",
       "    }\n",
       "\n",
       "    .dataframe tbody tr th {\n",
       "        vertical-align: top;\n",
       "    }\n",
       "\n",
       "    .dataframe thead th {\n",
       "        text-align: right;\n",
       "    }\n",
       "</style>\n",
       "<table border=\"1\" class=\"dataframe\">\n",
       "  <thead>\n",
       "    <tr style=\"text-align: right;\">\n",
       "      <th></th>\n",
       "      <th>gene</th>\n",
       "      <th>INFO_ID</th>\n",
       "      <th>NA18534</th>\n",
       "      <th>NA18939</th>\n",
       "      <th>NA19036</th>\n",
       "      <th>NA19240</th>\n",
       "      <th>NA19650</th>\n",
       "      <th>NA19983</th>\n",
       "      <th>NA20509</th>\n",
       "      <th>NA20847</th>\n",
       "      <th>...</th>\n",
       "      <th>HG02018</th>\n",
       "      <th>HG02492</th>\n",
       "      <th>HG02587</th>\n",
       "      <th>HG03009</th>\n",
       "      <th>HG03065</th>\n",
       "      <th>HG03371</th>\n",
       "      <th>HG03683</th>\n",
       "      <th>HG03732</th>\n",
       "      <th>pvalue_0_1</th>\n",
       "      <th>qvalue</th>\n",
       "    </tr>\n",
       "  </thead>\n",
       "  <tbody>\n",
       "    <tr>\n",
       "      <th>0</th>\n",
       "      <td>CCDC163</td>\n",
       "      <td>chr1-45497763-INS-354</td>\n",
       "      <td>2.451951</td>\n",
       "      <td>2.138003</td>\n",
       "      <td>2.807306</td>\n",
       "      <td>1.613811</td>\n",
       "      <td>2.671173</td>\n",
       "      <td>2.302246</td>\n",
       "      <td>2.088805</td>\n",
       "      <td>2.481762</td>\n",
       "      <td>...</td>\n",
       "      <td>2.677383</td>\n",
       "      <td>2.596948</td>\n",
       "      <td>2.678364</td>\n",
       "      <td>2.705544</td>\n",
       "      <td>1.964997</td>\n",
       "      <td>2.047240</td>\n",
       "      <td>2.476094</td>\n",
       "      <td>2.718013</td>\n",
       "      <td>0.012772</td>\n",
       "      <td>0.038315</td>\n",
       "    </tr>\n",
       "    <tr>\n",
       "      <th>9</th>\n",
       "      <td>SCAPER</td>\n",
       "      <td>chr15-76198866-INS-67</td>\n",
       "      <td>2.732734</td>\n",
       "      <td>2.450514</td>\n",
       "      <td>2.412903</td>\n",
       "      <td>2.561219</td>\n",
       "      <td>2.473855</td>\n",
       "      <td>2.413278</td>\n",
       "      <td>2.501987</td>\n",
       "      <td>2.962800</td>\n",
       "      <td>...</td>\n",
       "      <td>2.603157</td>\n",
       "      <td>1.970033</td>\n",
       "      <td>2.210502</td>\n",
       "      <td>2.369374</td>\n",
       "      <td>2.151918</td>\n",
       "      <td>1.861709</td>\n",
       "      <td>2.555223</td>\n",
       "      <td>2.630280</td>\n",
       "      <td>0.031556</td>\n",
       "      <td>0.031556</td>\n",
       "    </tr>\n",
       "  </tbody>\n",
       "</table>\n",
       "<p>2 rows × 30 columns</p>\n",
       "</div>"
      ],
      "text/plain": [
       "      gene                INFO_ID   NA18534   NA18939   NA19036   NA19240  \\\n",
       "0  CCDC163  chr1-45497763-INS-354  2.451951  2.138003  2.807306  1.613811   \n",
       "9   SCAPER  chr15-76198866-INS-67  2.732734  2.450514  2.412903  2.561219   \n",
       "\n",
       "    NA19650   NA19983   NA20509   NA20847  ...   HG02018   HG02492   HG02587  \\\n",
       "0  2.671173  2.302246  2.088805  2.481762  ...  2.677383  2.596948  2.678364   \n",
       "9  2.473855  2.413278  2.501987  2.962800  ...  2.603157  1.970033  2.210502   \n",
       "\n",
       "    HG03009   HG03065   HG03371   HG03683   HG03732  pvalue_0_1    qvalue  \n",
       "0  2.705544  1.964997  2.047240  2.476094  2.718013    0.012772  0.038315  \n",
       "9  2.369374  2.151918  1.861709  2.555223  2.630280    0.031556  0.031556  \n",
       "\n",
       "[2 rows x 30 columns]"
      ]
     },
     "execution_count": 119,
     "metadata": {},
     "output_type": "execute_result"
    }
   ],
   "source": [
    "sig_ins_eqtl = corrected_ins_eqtl[corrected_ins_eqtl['qvalue'] < 0.05]\n",
    "sig_ins_eqtl.to_csv('../data/sig_ins_eqtl.bed', index = False, sep='\\t', header=True)\n",
    "sig_ins_eqtl"
   ]
  },
  {
   "cell_type": "markdown",
   "id": "ambient-romance",
   "metadata": {},
   "source": [
    "### visualization of chr8-644401-DEL-5014 and chr1-45497763-INS-354"
   ]
  },
  {
   "cell_type": "code",
   "execution_count": 63,
   "id": "undefined-concentrate",
   "metadata": {},
   "outputs": [],
   "source": [
    "gene_expression_list = gene_DEL_boundary_sample_rename_new.iloc[8, 2:28].values.tolist()\n",
    "DEL_boundary_genotype_all = DEL_boundary_genotype[DEL_boundary_genotype.loc[:,'INFO_ID'] == gene_DEL_boundary_sample_rename_new.loc[8,'INFO_ID']].iloc[:,8:35]\n",
    "genotypes_list = DEL_boundary_genotype_all.iloc[0].values.tolist()\n",
    "df = pd.DataFrame({'genotypes' : genotypes_list,\n",
    "                   'gene_expression' : gene_expression_list})\n",
    "df_new = df.assign(expression=df.groupby('genotypes').cumcount()).pivot('expression','genotypes','gene_expression')"
   ]
  },
  {
   "cell_type": "code",
   "execution_count": 64,
   "id": "mexican-irish",
   "metadata": {},
   "outputs": [
    {
     "data": {
      "image/png": "[encoded data removed]",
      "text/plain": [
       "<Figure size 288x288 with 1 Axes>"
      ]
     },
     "metadata": {},
     "output_type": "display_data"
    }
   ],
   "source": [
    "# Set Seaborn's default style and color palette\n",
    "sns.set_style(\"whitegrid\")\n",
    "sns.set_palette(\"pastel\")\n",
    "\n",
    "# Create the boxplot using Seaborn\n",
    "plt.figure(figsize=(4, 4))  # Adjust the figure size\n",
    "ax = sns.boxplot(data=df_new[['0', '1']], palette=\"pastel\", medianprops=dict(color='red'), width=0.5)\n",
    "\n",
    "# Set labels, titles, and other properties\n",
    "ax.set_ylabel('Gene expression levels', fontsize=13, labelpad=20)\n",
    "ax.set_xlabel('Genotypes', fontsize=13)\n",
    "ax.set_title('ERICH1', pad=20, fontsize=14, fontweight='bold', style='italic')\n",
    "\n",
    "# Display the plot\n",
    "plt.tight_layout()\n",
    "\n",
    "# statistical annotation\n",
    "x1, x2 = 0, 1 \n",
    "y, h, col = df_new['1'].max() + 0.2, 0.1, 'k'\n",
    "\n",
    "plt.plot([x1, x1, x2, x2], [y, y+h, y+h, y], lw=1.1, c=col)\n",
    "plt.text((x1+x2)*.5, y+h, \"p-value = 0.0001\", ha='center', va='bottom', color=col)\n",
    "\n",
    "plt.show()"
   ]
  },
  {
   "cell_type": "code",
   "execution_count": 65,
   "id": "altered-instruction",
   "metadata": {},
   "outputs": [],
   "source": [
    "gene_expression_list = gene_INS_boundary_sample_rename_new.iloc[0, 2:28].values.tolist()\n",
    "INS_boundary_genotype_all = INS_boundary_genotype[INS_boundary_genotype.loc[:,'INFO_ID'] == gene_INS_boundary_sample_rename_new.loc[0,'INFO_ID']].iloc[:,8:35]\n",
    "genotypes_list = INS_boundary_genotype_all.iloc[0].values.tolist()\n",
    "df = pd.DataFrame({'genotypes' : genotypes_list,\n",
    "                   'gene_expression' : gene_expression_list})\n",
    "df_new = df.assign(expression=df.groupby('genotypes').cumcount()).pivot('expression','genotypes','gene_expression')"
   ]
  },
  {
   "cell_type": "code",
   "execution_count": 66,
   "id": "boolean-logan",
   "metadata": {},
   "outputs": [
    {
     "data": {
      "image/png": "[encoded data removed]",
      "text/plain": [
       "<Figure size 288x288 with 1 Axes>"
      ]
     },
     "metadata": {},
     "output_type": "display_data"
    }
   ],
   "source": [
    "import matplotlib.pyplot as plt\n",
    "import seaborn as sns\n",
    "\n",
    "# Set Seaborn's default style and color palette\n",
    "sns.set_style(\"whitegrid\")\n",
    "sns.set_palette(\"pastel\")\n",
    "\n",
    "# Create the boxplot using Seaborn\n",
    "plt.figure(figsize=(4, 4))  # Adjust the figure size\n",
    "ax = sns.boxplot(data=df_new[['0', '1']], palette=\"pastel\", medianprops=dict(color='red'), width=0.5)\n",
    "\n",
    "# Set labels, titles, and other properties\n",
    "ax.set_ylabel('Gene expression levels', fontsize=13, labelpad=20)\n",
    "ax.set_xlabel('Genotypes', fontsize=13)\n",
    "ax.set_title('CCDC163', pad=20, fontsize=14, fontweight='bold', style='italic')\n",
    "\n",
    "# Display the plot\n",
    "plt.tight_layout()\n",
    "\n",
    "# statistical annotation\n",
    "x1, x2 = 0, 1 \n",
    "y, h, col = df_new['1'].max() + 0.2, 0.1, 'k'\n",
    "\n",
    "plt.plot([x1, x1, x2, x2], [y, y+h, y+h, y], lw=1.1, c=col)\n",
    "plt.text((x1+x2)*.5, y+h, \"p-value = 0.0128\", ha='center', va='bottom', color=col)\n",
    "\n",
    "plt.show()"
   ]
  },
  {
   "cell_type": "markdown",
   "id": "governing-dress",
   "metadata": {},
   "source": [
    "## Indentification of TAD-SV-sQTL "
   ]
  },
  {
   "cell_type": "code",
   "execution_count": 67,
   "id": "corresponding-collaboration",
   "metadata": {},
   "outputs": [],
   "source": [
    "# the sQTL data can be downloaded from https://drive.google.com/file/d/1L6KhNn-RkC2GA0XrJmmqNbk2urNCH9JZ/view?usp=sharing\n",
    "# be sure to download the file under the same directory as your analysis\n",
    "\n",
    "sqtl = pd.read_csv('../data/qtl_results_all_v2_fdr0.05.txt', sep = '\\t')"
   ]
  },
  {
   "cell_type": "code",
   "execution_count": 68,
   "id": "textile-design",
   "metadata": {},
   "outputs": [
    {
     "data": {
      "text/plain": [
       "(1103872, 22)"
      ]
     },
     "execution_count": 68,
     "metadata": {},
     "output_type": "execute_result"
    }
   ],
   "source": [
    "sqtl.shape"
   ]
  },
  {
   "cell_type": "code",
   "execution_count": 70,
   "id": "nervous-papua",
   "metadata": {},
   "outputs": [
    {
     "data": {
      "text/plain": [
       "(15, 22)"
      ]
     },
     "execution_count": 70,
     "metadata": {},
     "output_type": "execute_result"
    }
   ],
   "source": [
    "pangenie_svs_sample_DEL_sqtl = sqtl[(sqtl['snp_id'].isin(all_DEL_boundary_3_sig['INFO_ID']))]\n",
    "pangenie_svs_sample_DEL_sqtl.shape"
   ]
  },
  {
   "cell_type": "code",
   "execution_count": 71,
   "id": "funky-commissioner",
   "metadata": {},
   "outputs": [
    {
     "data": {
      "text/plain": [
       "6"
      ]
     },
     "execution_count": 71,
     "metadata": {},
     "output_type": "execute_result"
    }
   ],
   "source": [
    "len(pangenie_svs_sample_DEL_sqtl['snp_id'].drop_duplicates())"
   ]
  },
  {
   "cell_type": "code",
   "execution_count": 72,
   "id": "weighted-sampling",
   "metadata": {},
   "outputs": [
    {
     "data": {
      "text/plain": [
       "(14, 22)"
      ]
     },
     "execution_count": 72,
     "metadata": {},
     "output_type": "execute_result"
    }
   ],
   "source": [
    "pangenie_svs_sample_INS_sqtl = sqtl[(sqtl['snp_id'].isin(all_INS_boundary_3_sig['INFO_ID']))]\n",
    "pangenie_svs_sample_INS_sqtl.shape"
   ]
  },
  {
   "cell_type": "code",
   "execution_count": 73,
   "id": "convertible-label",
   "metadata": {},
   "outputs": [
    {
     "data": {
      "text/plain": [
       "4"
      ]
     },
     "execution_count": 73,
     "metadata": {},
     "output_type": "execute_result"
    }
   ],
   "source": [
    "len(pangenie_svs_sample_INS_sqtl['snp_id'].drop_duplicates())"
   ]
  },
  {
   "cell_type": "code",
   "execution_count": 75,
   "id": "legal-disability",
   "metadata": {},
   "outputs": [],
   "source": [
    "# the splice ratio file can be downloaded from https://drive.google.com/file/d/1mPYmfBgWWwyLkjZX5ZI_MMlz0fZSjdaU/view?usp=sharing\n",
    "# be sure to download the file under the same directory as your analysis\n",
    "\n",
    "splicing_ratio = pd.read_csv('../data/LCL_perind.counts.qqnorm.CovariatesRemoved.cs.txt', sep='\\t', header = 0, index_col=0)"
   ]
  },
  {
   "cell_type": "code",
   "execution_count": 76,
   "id": "comic-mississippi",
   "metadata": {},
   "outputs": [
    {
     "data": {
      "text/plain": [
       "(143713, 444)"
      ]
     },
     "execution_count": 76,
     "metadata": {},
     "output_type": "execute_result"
    }
   ],
   "source": [
    "splicing_ratio.shape"
   ]
  },
  {
   "cell_type": "code",
   "execution_count": 77,
   "id": "professional-termination",
   "metadata": {},
   "outputs": [],
   "source": [
    "sqtl_DEL_boundary_feature = list(pangenie_svs_sample_DEL_sqtl['feature_id'])\n",
    "sqtl_INS_boundary_feature = list(pangenie_svs_sample_INS_sqtl['feature_id'])\n",
    "splicing_DEL_boundary = splicing_ratio.filter(items = sqtl_DEL_boundary_feature, axis=0)\n",
    "splicing_INS_boundary = splicing_ratio.filter(items = sqtl_INS_boundary_feature, axis=0)"
   ]
  },
  {
   "cell_type": "code",
   "execution_count": 78,
   "id": "growing-drilling",
   "metadata": {},
   "outputs": [],
   "source": [
    "sample = ['NA18534','NA18939','NA19036','NA19240','NA19650','NA19983','NA20509','NA20847','HG00096','HG00171','HG00514','HG00733','HG00864','HG01114','HG01505','HG01573','HG01596','HG02011','HG02018','HG02492','HG02587','HG03009','HG03065','HG03371','HG03683','HG03732']\n",
    "splicing_DEL_boundary_sample = splicing_DEL_boundary.filter(regex='|'.join(sample), axis=1)\n",
    "splicing_INS_boundary_sample = splicing_INS_boundary.filter(regex='|'.join(sample), axis=1)\n",
    "## only keep the first 7 characters of the columns name\n",
    "splicing_DEL_boundary_sample_rename = splicing_DEL_boundary_sample.rename(columns = lambda x : str(x)[:7])\n",
    "splicing_INS_boundary_sample_rename = splicing_INS_boundary_sample.rename(columns = lambda x : str(x)[:7])"
   ]
  },
  {
   "cell_type": "code",
   "execution_count": 79,
   "id": "described-iceland",
   "metadata": {},
   "outputs": [],
   "source": [
    "splicing_DEL_boundary_sample_rename_new = splicing_DEL_boundary_sample_rename.reset_index().rename(columns={'index': 'feature_id'})\n",
    "splicing_INS_boundary_sample_rename_new = splicing_INS_boundary_sample_rename.reset_index().rename(columns={'index': 'feature_id'})"
   ]
  },
  {
   "cell_type": "code",
   "execution_count": 80,
   "id": "integrated-magazine",
   "metadata": {},
   "outputs": [
    {
     "data": {
      "text/plain": [
       "(15, 27)"
      ]
     },
     "execution_count": 80,
     "metadata": {},
     "output_type": "execute_result"
    }
   ],
   "source": [
    "splicing_DEL_boundary_sample_rename_new.shape"
   ]
  },
  {
   "cell_type": "code",
   "execution_count": 81,
   "id": "fleet-superior",
   "metadata": {},
   "outputs": [
    {
     "data": {
      "text/plain": [
       "(14, 27)"
      ]
     },
     "execution_count": 81,
     "metadata": {},
     "output_type": "execute_result"
    }
   ],
   "source": [
    "splicing_INS_boundary_sample_rename_new.shape"
   ]
  },
  {
   "cell_type": "code",
   "execution_count": 82,
   "id": "synthetic-breach",
   "metadata": {},
   "outputs": [
    {
     "data": {
      "text/plain": [
       "15"
      ]
     },
     "execution_count": 82,
     "metadata": {},
     "output_type": "execute_result"
    }
   ],
   "source": [
    "DEL_INFO_ID = list(pangenie_svs_sample_DEL_sqtl.iloc[:, 1])\n",
    "len(DEL_INFO_ID)"
   ]
  },
  {
   "cell_type": "code",
   "execution_count": 83,
   "id": "second-beverage",
   "metadata": {},
   "outputs": [],
   "source": [
    "splicing_DEL_boundary_sample_rename_new['INFO_ID'] = DEL_INFO_ID \n",
    "splicing_DEL_boundary_sample_rename_new = splicing_DEL_boundary_sample_rename_new[[\n",
    "'feature_id','INFO_ID', 'NA18534','NA18939','NA19036','NA19240','NA19650','NA19983','NA20509','NA20847','HG00096','HG00171','HG00514','HG00733','HG00864','HG01114','HG01505','HG01573','HG01596','HG02011','HG02018','HG02492','HG02587','HG03009','HG03065','HG03371','HG03683','HG03732'\n",
    "    ]]"
   ]
  },
  {
   "cell_type": "code",
   "execution_count": 84,
   "id": "computational-jewel",
   "metadata": {},
   "outputs": [
    {
     "data": {
      "text/plain": [
       "14"
      ]
     },
     "execution_count": 84,
     "metadata": {},
     "output_type": "execute_result"
    }
   ],
   "source": [
    "INS_INFO_ID = list(pangenie_svs_sample_INS_sqtl.iloc[:, 1])\n",
    "len(INS_INFO_ID)"
   ]
  },
  {
   "cell_type": "code",
   "execution_count": 85,
   "id": "dominican-competition",
   "metadata": {},
   "outputs": [],
   "source": [
    "splicing_INS_boundary_sample_rename_new['INFO_ID'] = INS_INFO_ID \n",
    "splicing_INS_boundary_sample_rename_new = splicing_INS_boundary_sample_rename_new[[\n",
    "'feature_id','INFO_ID', 'NA18534','NA18939','NA19036','NA19240','NA19650','NA19983','NA20509','NA20847','HG00096','HG00171','HG00514','HG00733','HG00864','HG01114','HG01505','HG01573','HG01596','HG02011','HG02018','HG02492','HG02587','HG03009','HG03065','HG03371','HG03683','HG03732'\n",
    "    ]]"
   ]
  },
  {
   "cell_type": "code",
   "execution_count": 89,
   "id": "chemical-upper",
   "metadata": {},
   "outputs": [],
   "source": [
    "DEL_genotype_1 = DEL_genotype.iloc[:, :-1]\n",
    "INS_genotype_1 = INS_genotype.iloc[:, :-1]\n",
    "DEL_boundary_genotype = DEL_genotype_1[DEL_genotype_1['INFO_ID'].isin(DEL_INFO_ID)]\n",
    "INS_boundary_genotype = INS_genotype_1[INS_genotype_1['INFO_ID'].isin(INS_INFO_ID)]\n",
    "DEL_boundary_genotype = DEL_boundary_genotype[[\n",
    "'CHROM', 'START_POS', 'END_POS', 'TYPE', 'LEN', 'FILTER', 'INFO_ID','FORMAT','NA18534','NA18939','NA19036','NA19240','NA19650','NA19983','NA20509','NA20847','HG00096','HG00171','HG00514','HG00733','HG00864','HG01114','HG01505','HG01573','HG01596','HG02011','HG02018','HG02492','HG02587','HG03009','HG03065','HG03371','HG03683','HG03732'\n",
    "    ]]\n",
    "INS_boundary_genotype = INS_boundary_genotype[[\n",
    "'CHROM', 'START_POS', 'END_POS', 'TYPE', 'LEN', 'FILTER', 'INFO_ID','FORMAT','NA18534','NA18939','NA19036','NA19240','NA19650','NA19983','NA20509','NA20847','HG00096','HG00171','HG00514','HG00733','HG00864','HG01114','HG01505','HG01573','HG01596','HG02011','HG02018','HG02492','HG02587','HG03009','HG03065','HG03371','HG03683','HG03732'\n",
    "    ]]"
   ]
  },
  {
   "cell_type": "markdown",
   "id": "beautiful-muslim",
   "metadata": {},
   "source": [
    "#### Mann-Whitney U test for genotypes and gene splicing"
   ]
  },
  {
   "cell_type": "code",
   "execution_count": 90,
   "id": "stopped-lincoln",
   "metadata": {},
   "outputs": [],
   "source": [
    "### test for genotypes 0 and 1\n",
    "pvalue= []\n",
    "for i in range(0, len(splicing_DEL_boundary_sample_rename_new)):\n",
    "    DEL_boundary_genotype_all = DEL_boundary_genotype[DEL_boundary_genotype.loc[:,'INFO_ID'] == splicing_DEL_boundary_sample_rename_new.loc[i,'INFO_ID']].iloc[:,8:35]\n",
    "    genotypes_list = DEL_boundary_genotype_all.iloc[0].values.tolist()\n",
    "    splicing_ratio_list = splicing_DEL_boundary_sample_rename_new.iloc[i, 2:28].values.tolist()\n",
    "\n",
    "    df = pd.DataFrame({'genotypes' : genotypes_list,\n",
    "                   'splicing_ratio' : splicing_ratio_list})\n",
    "    \n",
    "    # Convert the 'genotypes' column to string type\n",
    "    df['genotypes'] = df['genotypes'].astype(str)\n",
    "    \n",
    "    df_new = df.assign(splicing=df.groupby('genotypes').cumcount()).pivot('splicing','genotypes','splicing_ratio')\n",
    "    \n",
    "    try:\n",
    "        U, p = mannwhitneyu(x=df_new['0'].dropna().tolist(), y=df_new['1'].dropna().tolist(), method=\"exact\", alternative = 'two-sided')\n",
    "        #print (p)\n",
    "        \n",
    "    except KeyError:\n",
    "        p = 'NA'\n",
    "        #print (p)\n",
    "    \n",
    "    pvalue.append(p)\n",
    "    \n",
    "splicing_DEL_boundary_sample_rename_new['pvalue_0_1'] = pvalue"
   ]
  },
  {
   "cell_type": "code",
   "execution_count": 121,
   "id": "trained-green",
   "metadata": {},
   "outputs": [],
   "source": [
    "corrected_del_sqtl = splicing_DEL_boundary_sample_rename_new.groupby('INFO_ID').apply(fdr_correction)\n",
    "corrected_del_sqtl.to_csv('../data/all_del_sqtl_boundary_qvalue.bed', index = False, sep='\\t', header=True)"
   ]
  },
  {
   "cell_type": "code",
   "execution_count": 122,
   "id": "moral-market",
   "metadata": {},
   "outputs": [
    {
     "data": {
      "text/html": [
       "<div>\n",
       "<style scoped>\n",
       "    .dataframe tbody tr th:only-of-type {\n",
       "        vertical-align: middle;\n",
       "    }\n",
       "\n",
       "    .dataframe tbody tr th {\n",
       "        vertical-align: top;\n",
       "    }\n",
       "\n",
       "    .dataframe thead th {\n",
       "        text-align: right;\n",
       "    }\n",
       "</style>\n",
       "<table border=\"1\" class=\"dataframe\">\n",
       "  <thead>\n",
       "    <tr style=\"text-align: right;\">\n",
       "      <th></th>\n",
       "      <th>feature_id</th>\n",
       "      <th>INFO_ID</th>\n",
       "      <th>NA18534</th>\n",
       "      <th>NA18939</th>\n",
       "      <th>NA19036</th>\n",
       "      <th>NA19240</th>\n",
       "      <th>NA19650</th>\n",
       "      <th>NA19983</th>\n",
       "      <th>NA20509</th>\n",
       "      <th>NA20847</th>\n",
       "      <th>...</th>\n",
       "      <th>HG02018</th>\n",
       "      <th>HG02492</th>\n",
       "      <th>HG02587</th>\n",
       "      <th>HG03009</th>\n",
       "      <th>HG03065</th>\n",
       "      <th>HG03371</th>\n",
       "      <th>HG03683</th>\n",
       "      <th>HG03732</th>\n",
       "      <th>pvalue_0_1</th>\n",
       "      <th>qvalue</th>\n",
       "    </tr>\n",
       "  </thead>\n",
       "  <tbody>\n",
       "    <tr>\n",
       "      <th>1</th>\n",
       "      <td>6:87391835:87392725:clu_24429_+</td>\n",
       "      <td>chr6-87408456-DEL-133</td>\n",
       "      <td>-0.936184</td>\n",
       "      <td>0.012348</td>\n",
       "      <td>1.076310</td>\n",
       "      <td>2.158304</td>\n",
       "      <td>-0.932265</td>\n",
       "      <td>0.412867</td>\n",
       "      <td>-0.841126</td>\n",
       "      <td>-0.767154</td>\n",
       "      <td>...</td>\n",
       "      <td>0.036234</td>\n",
       "      <td>-1.040756</td>\n",
       "      <td>-1.141381</td>\n",
       "      <td>0.385166</td>\n",
       "      <td>-0.996222</td>\n",
       "      <td>-1.159694</td>\n",
       "      <td>0.681233</td>\n",
       "      <td>-0.554325</td>\n",
       "      <td>0.014847</td>\n",
       "      <td>0.014847</td>\n",
       "    </tr>\n",
       "    <tr>\n",
       "      <th>4</th>\n",
       "      <td>8:70669538:70674818:clu_22301_+</td>\n",
       "      <td>chr8-70671321-DEL-1088</td>\n",
       "      <td>-0.005980</td>\n",
       "      <td>-0.950419</td>\n",
       "      <td>-0.399550</td>\n",
       "      <td>-0.929802</td>\n",
       "      <td>2.013419</td>\n",
       "      <td>-1.227758</td>\n",
       "      <td>2.069432</td>\n",
       "      <td>-1.077835</td>\n",
       "      <td>...</td>\n",
       "      <td>-1.215290</td>\n",
       "      <td>-0.646946</td>\n",
       "      <td>1.773509</td>\n",
       "      <td>-1.187269</td>\n",
       "      <td>0.009941</td>\n",
       "      <td>1.334757</td>\n",
       "      <td>0.612355</td>\n",
       "      <td>-0.937157</td>\n",
       "      <td>0.000244</td>\n",
       "      <td>0.000366</td>\n",
       "    </tr>\n",
       "    <tr>\n",
       "      <th>5</th>\n",
       "      <td>8:664676:668598:clu_8652_-</td>\n",
       "      <td>chr8-644401-DEL-5014</td>\n",
       "      <td>1.245457</td>\n",
       "      <td>-0.414052</td>\n",
       "      <td>1.217779</td>\n",
       "      <td>-0.759694</td>\n",
       "      <td>1.209294</td>\n",
       "      <td>1.131286</td>\n",
       "      <td>-0.186955</td>\n",
       "      <td>0.427311</td>\n",
       "      <td>...</td>\n",
       "      <td>0.345217</td>\n",
       "      <td>1.370163</td>\n",
       "      <td>1.423127</td>\n",
       "      <td>0.506337</td>\n",
       "      <td>1.393303</td>\n",
       "      <td>0.331152</td>\n",
       "      <td>0.336981</td>\n",
       "      <td>0.661554</td>\n",
       "      <td>0.012405</td>\n",
       "      <td>0.037215</td>\n",
       "    </tr>\n",
       "    <tr>\n",
       "      <th>6</th>\n",
       "      <td>8:70652752:70653695:clu_22301_+</td>\n",
       "      <td>chr8-70671321-DEL-1088</td>\n",
       "      <td>0.704935</td>\n",
       "      <td>1.305387</td>\n",
       "      <td>0.883035</td>\n",
       "      <td>0.859624</td>\n",
       "      <td>-1.808690</td>\n",
       "      <td>0.580523</td>\n",
       "      <td>-2.483752</td>\n",
       "      <td>0.948607</td>\n",
       "      <td>...</td>\n",
       "      <td>0.328117</td>\n",
       "      <td>0.560184</td>\n",
       "      <td>-1.196977</td>\n",
       "      <td>0.807123</td>\n",
       "      <td>-0.060676</td>\n",
       "      <td>-0.594006</td>\n",
       "      <td>0.057426</td>\n",
       "      <td>0.818711</td>\n",
       "      <td>0.000140</td>\n",
       "      <td>0.000366</td>\n",
       "    </tr>\n",
       "    <tr>\n",
       "      <th>10</th>\n",
       "      <td>20:35632923:35664760:clu_21372_-</td>\n",
       "      <td>chr20-35960724-DEL-60</td>\n",
       "      <td>1.746169</td>\n",
       "      <td>0.529841</td>\n",
       "      <td>0.298889</td>\n",
       "      <td>-0.216541</td>\n",
       "      <td>-0.391229</td>\n",
       "      <td>0.191113</td>\n",
       "      <td>0.014453</td>\n",
       "      <td>-0.368097</td>\n",
       "      <td>...</td>\n",
       "      <td>-0.306092</td>\n",
       "      <td>-0.028003</td>\n",
       "      <td>-0.167166</td>\n",
       "      <td>-0.169622</td>\n",
       "      <td>-0.432385</td>\n",
       "      <td>-0.916697</td>\n",
       "      <td>-0.475933</td>\n",
       "      <td>-0.963485</td>\n",
       "      <td>0.020419</td>\n",
       "      <td>0.025524</td>\n",
       "    </tr>\n",
       "    <tr>\n",
       "      <th>11</th>\n",
       "      <td>20:35655344:35658930:clu_21372_-</td>\n",
       "      <td>chr20-35960724-DEL-60</td>\n",
       "      <td>-2.666742</td>\n",
       "      <td>-0.113100</td>\n",
       "      <td>-0.047915</td>\n",
       "      <td>0.324691</td>\n",
       "      <td>0.682168</td>\n",
       "      <td>0.111165</td>\n",
       "      <td>0.232633</td>\n",
       "      <td>0.199351</td>\n",
       "      <td>...</td>\n",
       "      <td>0.522568</td>\n",
       "      <td>0.629328</td>\n",
       "      <td>0.722698</td>\n",
       "      <td>0.518111</td>\n",
       "      <td>0.397488</td>\n",
       "      <td>0.963883</td>\n",
       "      <td>0.527364</td>\n",
       "      <td>1.150455</td>\n",
       "      <td>0.031556</td>\n",
       "      <td>0.031556</td>\n",
       "    </tr>\n",
       "    <tr>\n",
       "      <th>12</th>\n",
       "      <td>20:35632923:35658930:clu_21372_-</td>\n",
       "      <td>chr20-35960724-DEL-60</td>\n",
       "      <td>0.152098</td>\n",
       "      <td>0.418184</td>\n",
       "      <td>0.353582</td>\n",
       "      <td>0.031710</td>\n",
       "      <td>-0.009831</td>\n",
       "      <td>1.008811</td>\n",
       "      <td>0.817291</td>\n",
       "      <td>-0.411666</td>\n",
       "      <td>...</td>\n",
       "      <td>0.128767</td>\n",
       "      <td>0.239788</td>\n",
       "      <td>-0.015342</td>\n",
       "      <td>0.578768</td>\n",
       "      <td>-0.050955</td>\n",
       "      <td>-2.056413</td>\n",
       "      <td>-0.244741</td>\n",
       "      <td>-1.089664</td>\n",
       "      <td>0.007701</td>\n",
       "      <td>0.019251</td>\n",
       "    </tr>\n",
       "    <tr>\n",
       "      <th>13</th>\n",
       "      <td>20:35626381:35626735:clu_21369_-</td>\n",
       "      <td>chr20-35960724-DEL-60</td>\n",
       "      <td>-0.432567</td>\n",
       "      <td>0.036543</td>\n",
       "      <td>-0.758824</td>\n",
       "      <td>0.380615</td>\n",
       "      <td>0.448366</td>\n",
       "      <td>-0.411455</td>\n",
       "      <td>0.123351</td>\n",
       "      <td>0.158921</td>\n",
       "      <td>...</td>\n",
       "      <td>-0.012096</td>\n",
       "      <td>0.846607</td>\n",
       "      <td>0.066323</td>\n",
       "      <td>0.321752</td>\n",
       "      <td>0.041438</td>\n",
       "      <td>0.769644</td>\n",
       "      <td>0.496257</td>\n",
       "      <td>0.992429</td>\n",
       "      <td>0.007701</td>\n",
       "      <td>0.019251</td>\n",
       "    </tr>\n",
       "    <tr>\n",
       "      <th>14</th>\n",
       "      <td>20:35626381:35626567:clu_21369_-</td>\n",
       "      <td>chr20-35960724-DEL-60</td>\n",
       "      <td>0.548644</td>\n",
       "      <td>0.026216</td>\n",
       "      <td>0.522271</td>\n",
       "      <td>-0.070876</td>\n",
       "      <td>-0.411626</td>\n",
       "      <td>0.380335</td>\n",
       "      <td>-0.271860</td>\n",
       "      <td>-0.091484</td>\n",
       "      <td>...</td>\n",
       "      <td>0.484570</td>\n",
       "      <td>-0.176643</td>\n",
       "      <td>0.101298</td>\n",
       "      <td>-0.041055</td>\n",
       "      <td>-0.358616</td>\n",
       "      <td>-0.959188</td>\n",
       "      <td>0.294405</td>\n",
       "      <td>-1.346577</td>\n",
       "      <td>0.012772</td>\n",
       "      <td>0.021286</td>\n",
       "    </tr>\n",
       "  </tbody>\n",
       "</table>\n",
       "<p>9 rows × 30 columns</p>\n",
       "</div>"
      ],
      "text/plain": [
       "                          feature_id                 INFO_ID   NA18534  \\\n",
       "1    6:87391835:87392725:clu_24429_+   chr6-87408456-DEL-133 -0.936184   \n",
       "4    8:70669538:70674818:clu_22301_+  chr8-70671321-DEL-1088 -0.005980   \n",
       "5         8:664676:668598:clu_8652_-    chr8-644401-DEL-5014  1.245457   \n",
       "6    8:70652752:70653695:clu_22301_+  chr8-70671321-DEL-1088  0.704935   \n",
       "10  20:35632923:35664760:clu_21372_-   chr20-35960724-DEL-60  1.746169   \n",
       "11  20:35655344:35658930:clu_21372_-   chr20-35960724-DEL-60 -2.666742   \n",
       "12  20:35632923:35658930:clu_21372_-   chr20-35960724-DEL-60  0.152098   \n",
       "13  20:35626381:35626735:clu_21369_-   chr20-35960724-DEL-60 -0.432567   \n",
       "14  20:35626381:35626567:clu_21369_-   chr20-35960724-DEL-60  0.548644   \n",
       "\n",
       "     NA18939   NA19036   NA19240   NA19650   NA19983   NA20509   NA20847  ...  \\\n",
       "1   0.012348  1.076310  2.158304 -0.932265  0.412867 -0.841126 -0.767154  ...   \n",
       "4  -0.950419 -0.399550 -0.929802  2.013419 -1.227758  2.069432 -1.077835  ...   \n",
       "5  -0.414052  1.217779 -0.759694  1.209294  1.131286 -0.186955  0.427311  ...   \n",
       "6   1.305387  0.883035  0.859624 -1.808690  0.580523 -2.483752  0.948607  ...   \n",
       "10  0.529841  0.298889 -0.216541 -0.391229  0.191113  0.014453 -0.368097  ...   \n",
       "11 -0.113100 -0.047915  0.324691  0.682168  0.111165  0.232633  0.199351  ...   \n",
       "12  0.418184  0.353582  0.031710 -0.009831  1.008811  0.817291 -0.411666  ...   \n",
       "13  0.036543 -0.758824  0.380615  0.448366 -0.411455  0.123351  0.158921  ...   \n",
       "14  0.026216  0.522271 -0.070876 -0.411626  0.380335 -0.271860 -0.091484  ...   \n",
       "\n",
       "     HG02018   HG02492   HG02587   HG03009   HG03065   HG03371   HG03683  \\\n",
       "1   0.036234 -1.040756 -1.141381  0.385166 -0.996222 -1.159694  0.681233   \n",
       "4  -1.215290 -0.646946  1.773509 -1.187269  0.009941  1.334757  0.612355   \n",
       "5   0.345217  1.370163  1.423127  0.506337  1.393303  0.331152  0.336981   \n",
       "6   0.328117  0.560184 -1.196977  0.807123 -0.060676 -0.594006  0.057426   \n",
       "10 -0.306092 -0.028003 -0.167166 -0.169622 -0.432385 -0.916697 -0.475933   \n",
       "11  0.522568  0.629328  0.722698  0.518111  0.397488  0.963883  0.527364   \n",
       "12  0.128767  0.239788 -0.015342  0.578768 -0.050955 -2.056413 -0.244741   \n",
       "13 -0.012096  0.846607  0.066323  0.321752  0.041438  0.769644  0.496257   \n",
       "14  0.484570 -0.176643  0.101298 -0.041055 -0.358616 -0.959188  0.294405   \n",
       "\n",
       "     HG03732  pvalue_0_1    qvalue  \n",
       "1  -0.554325    0.014847  0.014847  \n",
       "4  -0.937157    0.000244  0.000366  \n",
       "5   0.661554    0.012405  0.037215  \n",
       "6   0.818711    0.000140  0.000366  \n",
       "10 -0.963485    0.020419  0.025524  \n",
       "11  1.150455    0.031556  0.031556  \n",
       "12 -1.089664    0.007701  0.019251  \n",
       "13  0.992429    0.007701  0.019251  \n",
       "14 -1.346577    0.012772  0.021286  \n",
       "\n",
       "[9 rows x 30 columns]"
      ]
     },
     "execution_count": 122,
     "metadata": {},
     "output_type": "execute_result"
    }
   ],
   "source": [
    "sig_del_sqtl = corrected_del_sqtl[corrected_del_sqtl['qvalue'] < 0.05]\n",
    "sig_del_sqtl.to_csv('../data/sig_del_sqtl.bed', index = False, sep='\\t', header=True)\n",
    "sig_del_sqtl"
   ]
  },
  {
   "cell_type": "code",
   "execution_count": 123,
   "id": "bridal-mayor",
   "metadata": {},
   "outputs": [
    {
     "data": {
      "text/plain": [
       "4"
      ]
     },
     "execution_count": 123,
     "metadata": {},
     "output_type": "execute_result"
    }
   ],
   "source": [
    "len(sig_del_sqtl['INFO_ID'].drop_duplicates())"
   ]
  },
  {
   "cell_type": "code",
   "execution_count": 94,
   "id": "bearing-aquatic",
   "metadata": {},
   "outputs": [],
   "source": [
    "### test for genotypes 0 and 1\n",
    "pvalue= []\n",
    "for i in range(0, len(splicing_INS_boundary_sample_rename_new)):\n",
    "    INS_boundary_genotype_all = INS_boundary_genotype[INS_boundary_genotype.loc[:,'INFO_ID'] == splicing_INS_boundary_sample_rename_new.loc[i,'INFO_ID']].iloc[:,8:35]\n",
    "    genotypes_list = INS_boundary_genotype_all.iloc[0].values.tolist()\n",
    "    splicing_ratio_list = splicing_INS_boundary_sample_rename_new.iloc[i, 2:28].values.tolist()\n",
    "\n",
    "    df = pd.DataFrame({'genotypes' : genotypes_list,\n",
    "                   'splicing_ratio' : splicing_ratio_list})\n",
    "    \n",
    "    # Convert the 'genotypes' column to string type\n",
    "    df['genotypes'] = df['genotypes'].astype(str)\n",
    "    \n",
    "    df_new = df.assign(splicing=df.groupby('genotypes').cumcount()).pivot('splicing','genotypes','splicing_ratio')\n",
    "    \n",
    "    try:\n",
    "        U, p = mannwhitneyu(x=df_new['0'].dropna().tolist(), y=df_new['1'].dropna().tolist(), method=\"exact\", alternative = 'two-sided')\n",
    "        #print (p)\n",
    "        \n",
    "    except KeyError:\n",
    "        p = 'NA'\n",
    "        #print (p)\n",
    "    \n",
    "    pvalue.append(p)\n",
    "    \n",
    "splicing_INS_boundary_sample_rename_new['pvalue_0_1'] = pvalue"
   ]
  },
  {
   "cell_type": "code",
   "execution_count": 125,
   "id": "noted-steps",
   "metadata": {},
   "outputs": [],
   "source": [
    "corrected_ins_sqtl = splicing_INS_boundary_sample_rename_new.groupby('INFO_ID').apply(fdr_correction)\n",
    "corrected_ins_sqtl.to_csv('../data/all_ins_sqtl_boundary_qvalue.bed', index = False, sep='\\t', header=True)"
   ]
  },
  {
   "cell_type": "code",
   "execution_count": 126,
   "id": "naked-study",
   "metadata": {},
   "outputs": [
    {
     "data": {
      "text/html": [
       "<div>\n",
       "<style scoped>\n",
       "    .dataframe tbody tr th:only-of-type {\n",
       "        vertical-align: middle;\n",
       "    }\n",
       "\n",
       "    .dataframe tbody tr th {\n",
       "        vertical-align: top;\n",
       "    }\n",
       "\n",
       "    .dataframe thead th {\n",
       "        text-align: right;\n",
       "    }\n",
       "</style>\n",
       "<table border=\"1\" class=\"dataframe\">\n",
       "  <thead>\n",
       "    <tr style=\"text-align: right;\">\n",
       "      <th></th>\n",
       "      <th>feature_id</th>\n",
       "      <th>INFO_ID</th>\n",
       "      <th>NA18534</th>\n",
       "      <th>NA18939</th>\n",
       "      <th>NA19036</th>\n",
       "      <th>NA19240</th>\n",
       "      <th>NA19650</th>\n",
       "      <th>NA19983</th>\n",
       "      <th>NA20509</th>\n",
       "      <th>NA20847</th>\n",
       "      <th>...</th>\n",
       "      <th>HG02018</th>\n",
       "      <th>HG02492</th>\n",
       "      <th>HG02587</th>\n",
       "      <th>HG03009</th>\n",
       "      <th>HG03065</th>\n",
       "      <th>HG03371</th>\n",
       "      <th>HG03683</th>\n",
       "      <th>HG03732</th>\n",
       "      <th>pvalue_0_1</th>\n",
       "      <th>qvalue</th>\n",
       "    </tr>\n",
       "  </thead>\n",
       "  <tbody>\n",
       "    <tr>\n",
       "      <th>4</th>\n",
       "      <td>1:45551155:45552436:clu_13870_+</td>\n",
       "      <td>chr1-45497763-INS-354</td>\n",
       "      <td>-1.746480</td>\n",
       "      <td>0.475494</td>\n",
       "      <td>-0.078211</td>\n",
       "      <td>-0.445241</td>\n",
       "      <td>-0.698239</td>\n",
       "      <td>-2.578916</td>\n",
       "      <td>0.338158</td>\n",
       "      <td>1.013390</td>\n",
       "      <td>...</td>\n",
       "      <td>-0.391775</td>\n",
       "      <td>0.861487</td>\n",
       "      <td>0.718653</td>\n",
       "      <td>-0.177377</td>\n",
       "      <td>-0.359558</td>\n",
       "      <td>-0.607451</td>\n",
       "      <td>0.442949</td>\n",
       "      <td>-0.515916</td>\n",
       "      <td>0.000822</td>\n",
       "      <td>0.007402</td>\n",
       "    </tr>\n",
       "    <tr>\n",
       "      <th>11</th>\n",
       "      <td>19:37507047:37508265:clu_27679_+</td>\n",
       "      <td>chr19-37789443-INS-1092</td>\n",
       "      <td>-0.422717</td>\n",
       "      <td>0.996525</td>\n",
       "      <td>1.166925</td>\n",
       "      <td>1.740052</td>\n",
       "      <td>-1.491070</td>\n",
       "      <td>1.274219</td>\n",
       "      <td>-1.437013</td>\n",
       "      <td>-1.299856</td>\n",
       "      <td>...</td>\n",
       "      <td>0.340187</td>\n",
       "      <td>-1.421464</td>\n",
       "      <td>-1.307926</td>\n",
       "      <td>-1.419196</td>\n",
       "      <td>-0.705460</td>\n",
       "      <td>2.317070</td>\n",
       "      <td>-1.440027</td>\n",
       "      <td>2.429939</td>\n",
       "      <td>0.012233</td>\n",
       "      <td>0.036699</td>\n",
       "    </tr>\n",
       "  </tbody>\n",
       "</table>\n",
       "<p>2 rows × 30 columns</p>\n",
       "</div>"
      ],
      "text/plain": [
       "                          feature_id                  INFO_ID   NA18534  \\\n",
       "4    1:45551155:45552436:clu_13870_+    chr1-45497763-INS-354 -1.746480   \n",
       "11  19:37507047:37508265:clu_27679_+  chr19-37789443-INS-1092 -0.422717   \n",
       "\n",
       "     NA18939   NA19036   NA19240   NA19650   NA19983   NA20509   NA20847  ...  \\\n",
       "4   0.475494 -0.078211 -0.445241 -0.698239 -2.578916  0.338158  1.013390  ...   \n",
       "11  0.996525  1.166925  1.740052 -1.491070  1.274219 -1.437013 -1.299856  ...   \n",
       "\n",
       "     HG02018   HG02492   HG02587   HG03009   HG03065   HG03371   HG03683  \\\n",
       "4  -0.391775  0.861487  0.718653 -0.177377 -0.359558 -0.607451  0.442949   \n",
       "11  0.340187 -1.421464 -1.307926 -1.419196 -0.705460  2.317070 -1.440027   \n",
       "\n",
       "     HG03732  pvalue_0_1    qvalue  \n",
       "4  -0.515916    0.000822  0.007402  \n",
       "11  2.429939    0.012233  0.036699  \n",
       "\n",
       "[2 rows x 30 columns]"
      ]
     },
     "execution_count": 126,
     "metadata": {},
     "output_type": "execute_result"
    }
   ],
   "source": [
    "sig_ins_sqtl = corrected_ins_sqtl[corrected_ins_sqtl['qvalue'] < 0.05]\n",
    "sig_ins_sqtl.to_csv('../data/sig_ins_sqtl.bed', index = False, sep='\\t', header=True)\n",
    "sig_ins_sqtl"
   ]
  },
  {
   "cell_type": "code",
   "execution_count": 127,
   "id": "varying-weight",
   "metadata": {},
   "outputs": [
    {
     "data": {
      "text/plain": [
       "2"
      ]
     },
     "execution_count": 127,
     "metadata": {},
     "output_type": "execute_result"
    }
   ],
   "source": [
    "len(sig_ins_sqtl['INFO_ID'].drop_duplicates())"
   ]
  },
  {
   "cell_type": "markdown",
   "id": "tested-silver",
   "metadata": {},
   "source": [
    "### visualization of chr8-644401-DEL-5014 and chr1-45497763-INS-354"
   ]
  },
  {
   "cell_type": "code",
   "execution_count": 100,
   "id": "executed-bible",
   "metadata": {},
   "outputs": [],
   "source": [
    "gene_splicing_list = splicing_DEL_boundary_sample_rename_new.iloc[5, 2:28].values.tolist()\n",
    "DEL_boundary_genotype[DEL_boundary_genotype.loc[:,'INFO_ID'] == splicing_DEL_boundary_sample_rename_new.loc[5,'INFO_ID']]\n",
    "DEL_boundary_genotype_all = DEL_boundary_genotype[DEL_boundary_genotype.loc[:,'INFO_ID'] == splicing_DEL_boundary_sample_rename_new.loc[5,'INFO_ID']].iloc[:,8:35]\n",
    "genotypes_list = DEL_boundary_genotype_all.iloc[0].values.tolist()\n",
    "df = pd.DataFrame({'genotypes' : genotypes_list,\n",
    "                   'gene_splicing' : gene_splicing_list})\n",
    "df_new = df.assign(splicing=df.groupby('genotypes').cumcount()).pivot('splicing','genotypes','gene_splicing')"
   ]
  },
  {
   "cell_type": "code",
   "execution_count": 101,
   "id": "macro-satisfaction",
   "metadata": {},
   "outputs": [
    {
     "data": {
      "image/png": "[encoded data removed]",
      "text/plain": [
       "<Figure size 288x288 with 1 Axes>"
      ]
     },
     "metadata": {},
     "output_type": "display_data"
    }
   ],
   "source": [
    "import matplotlib.pyplot as plt\n",
    "import seaborn as sns\n",
    "\n",
    "# Set Seaborn's default style and color palette\n",
    "sns.set_style(\"whitegrid\")\n",
    "sns.set_palette(\"pastel\")\n",
    "\n",
    "# Create the boxplot using Seaborn\n",
    "plt.figure(figsize=(4, 4))  # Adjust the figure size\n",
    "ax = sns.boxplot(data=df_new[['0', '1']], palette=\"pastel\", medianprops=dict(color='red'), width=0.5)\n",
    "\n",
    "# Set labels, titles, and other properties\n",
    "ax.set_ylabel('Gene splicing levels', fontsize=13, labelpad=20)\n",
    "ax.set_xlabel('Genotypes', fontsize=13)\n",
    "ax.set_title('8:664676:668598:clu_8652_- (ERICH1)', pad=20, fontsize=14, fontweight='bold', style='italic')\n",
    "\n",
    "# Display the plot\n",
    "plt.tight_layout()\n",
    "\n",
    "# statistical annotation\n",
    "x1, x2 = 0, 1\n",
    "y, h, col = df_new['1'].max() + 0.2, 0.1, 'k'\n",
    "\n",
    "plt.plot([x1, x1, x2, x2], [y, y+h, y+h, y], lw=1.1, c=col)\n",
    "plt.text((x1+x2)*.5, y+h, \"p-value = 0.0124\", ha='center', va='bottom', color=col)\n",
    "\n",
    "plt.show()"
   ]
  },
  {
   "cell_type": "code",
   "execution_count": 105,
   "id": "stuck-modern",
   "metadata": {},
   "outputs": [],
   "source": [
    "gene_splicing_list = splicing_INS_boundary_sample_rename_new.iloc[4, 2:28].values.tolist()\n",
    "INS_boundary_genotype[INS_boundary_genotype.loc[:,'INFO_ID'] == splicing_INS_boundary_sample_rename_new.loc[4,'INFO_ID']]\n",
    "INS_boundary_genotype_all = INS_boundary_genotype[INS_boundary_genotype.loc[:,'INFO_ID'] == splicing_INS_boundary_sample_rename_new.loc[4,'INFO_ID']].iloc[:,8:35]\n",
    "genotypes_list = INS_boundary_genotype_all.iloc[0].values.tolist()\n",
    "df = pd.DataFrame({'genotypes' : genotypes_list,\n",
    "                   'gene_splicing' : gene_splicing_list})\n",
    "df_new = df.assign(splicing=df.groupby('genotypes').cumcount()).pivot('splicing','genotypes','gene_splicing')"
   ]
  },
  {
   "cell_type": "code",
   "execution_count": 106,
   "id": "historic-insured",
   "metadata": {},
   "outputs": [
    {
     "data": {
      "image/png": "[encoded data removed]",
      "text/plain": [
       "<Figure size 288x288 with 1 Axes>"
      ]
     },
     "metadata": {},
     "output_type": "display_data"
    }
   ],
   "source": [
    "import matplotlib.pyplot as plt\n",
    "import seaborn as sns\n",
    "\n",
    "# Set Seaborn's default style and color palette\n",
    "sns.set_style(\"whitegrid\")\n",
    "sns.set_palette(\"pastel\")\n",
    "\n",
    "# Create the boxplot using Seaborn\n",
    "plt.figure(figsize=(4, 4))  # Adjust the figure size\n",
    "ax = sns.boxplot(data=df_new[['0', '1']], palette=\"pastel\", medianprops=dict(color='red'), width=0.5)\n",
    "\n",
    "# Set labels, titles, and other properties\n",
    "ax.set_ylabel('Gene splicing levels', fontsize=13, labelpad=20)\n",
    "ax.set_xlabel('Genotypes', fontsize=13)\n",
    "ax.set_title('1:45551155:45552436:clu_13870_+ (AKR1A1)', pad=20, fontsize=14, fontweight='bold', style='italic')\n",
    "\n",
    "# Display the plot\n",
    "plt.tight_layout()\n",
    "\n",
    "# statistical annotation\n",
    "x1, x2 = 0, 1\n",
    "y, h, col = df_new['1'].max() + 0.2, 0.1, 'k'\n",
    "\n",
    "plt.plot([x1, x1, x2, x2], [y, y+h, y+h, y], lw=1.1, c=col)\n",
    "plt.text((x1+x2)*.5, y+h, \"p-value = 0.0008\", ha='center', va='bottom', color=col)\n",
    "\n",
    "plt.show()"
   ]
  },
  {
   "cell_type": "code",
   "execution_count": 153,
   "id": "looking-playback",
   "metadata": {},
   "outputs": [],
   "source": [
    "total_overlapped_TAD_SV_QTL = (\n",
    "    list(pangenie_svs_sample_DEL_eqtl['snp_id'].drop_duplicates()) + \n",
    "    list(pangenie_svs_sample_INS_eqtl['snp_id'].drop_duplicates()) + \n",
    "    list(pangenie_svs_sample_DEL_sqtl['snp_id'].drop_duplicates()) +\n",
    "    list(pangenie_svs_sample_INS_sqtl['snp_id'].drop_duplicates())\n",
    ")"
   ]
  },
  {
   "cell_type": "code",
   "execution_count": 154,
   "id": "preliminary-alliance",
   "metadata": {},
   "outputs": [
    {
     "data": {
      "text/plain": [
       "30"
      ]
     },
     "execution_count": 154,
     "metadata": {},
     "output_type": "execute_result"
    }
   ],
   "source": [
    "len(total_overlapped_TAD_SV_QTL)"
   ]
  },
  {
   "cell_type": "code",
   "execution_count": 155,
   "id": "trying-shooting",
   "metadata": {},
   "outputs": [
    {
     "data": {
      "text/plain": [
       "22"
      ]
     },
     "execution_count": 155,
     "metadata": {},
     "output_type": "execute_result"
    }
   ],
   "source": [
    "# Remove duplicates and get the length of the unique snp_ids\n",
    "unique_overlapped_TAD_SV_QTL = list(set(total_overlapped_TAD_SV_QTL))\n",
    "length_unique_overlapped_TAD_SV_QTL = len(unique_overlapped_TAD_SV_QTL)\n",
    "length_unique_overlapped_TAD_SV_QTL"
   ]
  },
  {
   "cell_type": "code",
   "execution_count": 156,
   "id": "laughing-premises",
   "metadata": {},
   "outputs": [],
   "source": [
    "total_TAD_SV_QTL = (\n",
    "    list(sig_del_eqtl['INFO_ID'].drop_duplicates()) + \n",
    "    list(sig_ins_eqtl['INFO_ID'].drop_duplicates()) + \n",
    "    list(sig_del_sqtl['INFO_ID'].drop_duplicates()) +\n",
    "    list(sig_ins_sqtl['INFO_ID'].drop_duplicates())\n",
    ")"
   ]
  },
  {
   "cell_type": "code",
   "execution_count": 157,
   "id": "jewish-laundry",
   "metadata": {},
   "outputs": [
    {
     "data": {
      "text/plain": [
       "11"
      ]
     },
     "execution_count": 157,
     "metadata": {},
     "output_type": "execute_result"
    }
   ],
   "source": [
    "len(total_TAD_SV_QTL)"
   ]
  },
  {
   "cell_type": "code",
   "execution_count": 158,
   "id": "jewish-little",
   "metadata": {},
   "outputs": [
    {
     "data": {
      "text/plain": [
       "8"
      ]
     },
     "execution_count": 158,
     "metadata": {},
     "output_type": "execute_result"
    }
   ],
   "source": [
    "# Remove duplicates and get the length of the unique snp_ids\n",
    "unique_TAD_SV_QTL = list(set(total_TAD_SV_QTL))\n",
    "length_unique_TAD_SV_QTL = len(unique_TAD_SV_QTL)\n",
    "length_unique_TAD_SV_QTL"
   ]
  },
  {
   "cell_type": "code",
   "execution_count": 159,
   "id": "hundred-permit",
   "metadata": {},
   "outputs": [
    {
     "data": {
      "text/plain": [
       "['chr1-45497763-INS-354',\n",
       " 'chr8-644401-DEL-5014',\n",
       " 'chr15-76198866-INS-67',\n",
       " 'chr6-87408456-DEL-133',\n",
       " 'chr20-35960724-DEL-60',\n",
       " 'chr3-44510750-DEL-50',\n",
       " 'chr19-37789443-INS-1092',\n",
       " 'chr8-70671321-DEL-1088']"
      ]
     },
     "execution_count": 159,
     "metadata": {},
     "output_type": "execute_result"
    }
   ],
   "source": [
    "unique_TAD_SV_QTL"
   ]
  },
  {
   "cell_type": "code",
   "execution_count": null,
   "id": "opposite-daniel",
   "metadata": {},
   "outputs": [],
   "source": []
  }
 ],
 "metadata": {
  "kernelspec": {
   "display_name": "Python 3 (ipykernel)",
   "language": "python",
   "name": "python3"
  },
  "language_info": {
   "codemirror_mode": {
    "name": "ipython",
    "version": 3
   },
   "file_extension": ".py",
   "mimetype": "text/x-python",
   "name": "python",
   "nbconvert_exporter": "python",
   "pygments_lexer": "ipython3",
   "version": "3.7.3"
  }
 },
 "nbformat": 4,
 "nbformat_minor": 5
}
