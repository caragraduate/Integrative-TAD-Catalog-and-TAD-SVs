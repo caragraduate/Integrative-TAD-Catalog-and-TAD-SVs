{
 "cells": [
  {
   "cell_type": "code",
   "execution_count": 107,
   "id": "occupied-airplane",
   "metadata": {},
   "outputs": [],
   "source": [
    "import pandas as pd\n",
    "import io\n",
    "import scikit_posthocs as sp\n",
    "from scipy import stats\n",
    "from statsmodels.stats.multitest import multipletests\n",
    "import matplotlib.pyplot as plt\n",
    "import seaborn as sns"
   ]
  },
  {
   "cell_type": "code",
   "execution_count": 9,
   "id": "advanced-winner",
   "metadata": {},
   "outputs": [],
   "source": [
    "def read_vcf(path):\n",
    "    with open(path, 'r') as f:\n",
    "        lines = [l for l in f if not l.startswith('##')]\n",
    "    return pd.read_csv(\n",
    "        io.StringIO(''.join(lines)),\n",
    "        dtype={'#CHROM': str, 'POS': int, 'ID': str, 'REF': str, 'ALT': str,\n",
    "               'QUAL': str, 'FILTER': str, 'INFO': str},\n",
    "        sep='\\t'\n",
    "    ).rename(columns={'#CHROM': 'CHROM'})"
   ]
  },
  {
   "cell_type": "code",
   "execution_count": 10,
   "id": "spiritual-ecology",
   "metadata": {},
   "outputs": [],
   "source": [
    "pangenie_svs_sample = read_vcf(\"../data/pangenie_merged_bi_nosnvs_26sample.vcf\")"
   ]
  },
  {
   "cell_type": "code",
   "execution_count": 11,
   "id": "noticed-gazette",
   "metadata": {},
   "outputs": [
    {
     "data": {
      "text/plain": [
       "(1129810, 35)"
      ]
     },
     "execution_count": 11,
     "metadata": {},
     "output_type": "execute_result"
    }
   ],
   "source": [
    "pangenie_svs_sample.shape"
   ]
  },
  {
   "cell_type": "code",
   "execution_count": 12,
   "id": "packed-inflation",
   "metadata": {},
   "outputs": [],
   "source": [
    "pangenie_svs_sample[['INFO_ID']] = pangenie_svs_sample['INFO'].str.split(';', expand=True)[2]\n",
    "pangenie_svs_sample['INFO_ID'] = pangenie_svs_sample['INFO_ID'].str.lstrip('ID=')\n",
    "pangenie_DEL_sample = pangenie_svs_sample[pangenie_svs_sample['INFO_ID'].str.contains('DEL')]\n",
    "pangenie_INS_sample = pangenie_svs_sample[pangenie_svs_sample['INFO_ID'].str.contains('INS')]"
   ]
  },
  {
   "cell_type": "code",
   "execution_count": 13,
   "id": "likely-occupation",
   "metadata": {},
   "outputs": [],
   "source": [
    "all_DEL_boundary_sig = pd.read_csv('../data/all_DEL_boundary_3_sig_10kbflank.bed', sep='\\t', header=0)\n",
    "all_INS_boundary_sig = pd.read_csv('../data/all_INS_boundary_3_sig_10kbflank.bed', sep='\\t', header=0)\n",
    "all_DEL_boundary_3_sig_SV = all_DEL_boundary_sig['INFO_ID']\n",
    "all_INS_boundary_3_sig_SV = all_INS_boundary_sig['INFO_ID']"
   ]
  },
  {
   "cell_type": "markdown",
   "id": "taken-brave",
   "metadata": {},
   "source": [
    "### deletion "
   ]
  },
  {
   "cell_type": "code",
   "execution_count": 15,
   "id": "filled-gathering",
   "metadata": {},
   "outputs": [
    {
     "data": {
      "text/plain": [
       "(66, 36)"
      ]
     },
     "execution_count": 15,
     "metadata": {},
     "output_type": "execute_result"
    }
   ],
   "source": [
    "sig_pangenie_DEL_sample = pangenie_DEL_sample[pangenie_DEL_sample['INFO_ID'].isin(all_DEL_boundary_3_sig_SV)]\n",
    "sig_pangenie_DEL_sample.shape"
   ]
  },
  {
   "cell_type": "code",
   "execution_count": 16,
   "id": "complimentary-relaxation",
   "metadata": {},
   "outputs": [],
   "source": [
    "sig_pangenie_DEL_sample_new = sig_pangenie_DEL_sample[[\n",
    "'CHROM', 'FILTER', 'INFO_ID', 'FORMAT','NA18534','NA18939','NA19036','NA19240','NA19650','NA19983','NA20509','NA20847','HG00096','HG00171','HG00514','HG00733','HG00864','HG01114','HG01505','HG01573','HG01596','HG02011',\n",
    "    'HG02018','HG02492','HG02587','HG03009','HG03065','HG03371','HG03683','HG03732'\n",
    "    ]]\n",
    "# removed NA12329"
   ]
  },
  {
   "cell_type": "code",
   "execution_count": 17,
   "id": "passing-feelings",
   "metadata": {},
   "outputs": [],
   "source": [
    "sig_pangenie_DEL_sample_new = sig_pangenie_DEL_sample_new.copy()\n",
    "for col in sig_pangenie_DEL_sample_new.iloc[:, 4:]:\n",
    "    sig_pangenie_DEL_sample_new[col] = sig_pangenie_DEL_sample_new[col].str[:3]"
   ]
  },
  {
   "cell_type": "code",
   "execution_count": 18,
   "id": "smart-original",
   "metadata": {},
   "outputs": [],
   "source": [
    "for col in sig_pangenie_DEL_sample_new.columns:\n",
    "    sig_pangenie_DEL_sample_new.loc[sig_pangenie_DEL_sample_new[col].astype(str).str.startswith('0/0'), col] = '0'\n",
    "    sig_pangenie_DEL_sample_new.loc[sig_pangenie_DEL_sample_new[col].astype(str).str.startswith('0/1'), col] = '1'\n",
    "    sig_pangenie_DEL_sample_new.loc[sig_pangenie_DEL_sample_new[col].astype(str).str.startswith('1/0'), col] = '1'\n",
    "    sig_pangenie_DEL_sample_new.loc[sig_pangenie_DEL_sample_new[col].astype(str).str.startswith('1/1'), col] = '2'"
   ]
  },
  {
   "cell_type": "code",
   "execution_count": 20,
   "id": "rocky-georgia",
   "metadata": {},
   "outputs": [],
   "source": [
    "# Function to convert to integer if possible\n",
    "def convert_to_int(val):\n",
    "    try:\n",
    "        return int(val)\n",
    "    except ValueError:\n",
    "        return val"
   ]
  },
  {
   "cell_type": "code",
   "execution_count": 22,
   "id": "introductory-parliament",
   "metadata": {},
   "outputs": [],
   "source": [
    "# Function to count occurrences of missing genotype \".:.\"\n",
    "def count_dot_colon(row):\n",
    "    return (row == '.:.').sum()"
   ]
  },
  {
   "cell_type": "code",
   "execution_count": 23,
   "id": "competent-deputy",
   "metadata": {},
   "outputs": [
    {
     "data": {
      "text/plain": [
       "(66, 32)"
      ]
     },
     "execution_count": 23,
     "metadata": {},
     "output_type": "execute_result"
    }
   ],
   "source": [
    "# Apply the conversion function to each cell in the relevant columns to keep the original DataFrame unchanged\n",
    "sig_pangenie_DEL_sample_new.iloc[:, 4:] = sig_pangenie_DEL_sample_new.iloc[:, 4:].applymap(convert_to_int)\n",
    "# Create a separate DataFrame for numeric operations\n",
    "numeric_data = sig_pangenie_DEL_sample_new.iloc[:, 4:-1].apply(pd.to_numeric, errors='coerce').fillna(0).astype(int)\n",
    "# Calculate the sum of integer values\n",
    "sig_pangenie_DEL_sample_new['Sum'] = numeric_data.sum(axis=1)\n",
    "# Filter the DataFrame based on the sum condition\n",
    "sig_pangenie_DEL_sample_new_atleast5 = sig_pangenie_DEL_sample_new[sig_pangenie_DEL_sample_new['Sum'] >= 5]\n",
    "# Apply the function to each row starting from the 4th column\n",
    "sig_pangenie_DEL_sample_new_atleast5['missing_geno'] = sig_pangenie_DEL_sample_new_atleast5.iloc[:, 4:].apply(count_dot_colon, axis=1)\n",
    "sig_pangenie_DEL_sample_new_atleast5.shape"
   ]
  },
  {
   "cell_type": "code",
   "execution_count": 24,
   "id": "numerous-diagram",
   "metadata": {},
   "outputs": [],
   "source": [
    "# Slice the DataFrame to consider columns from the 5th one onwards\n",
    "sig_pangenie_DEL_sample_new_atleast5['count_zero'] = (sig_pangenie_DEL_sample_new_atleast5.iloc[:, 4:30] == 0).sum(axis=1)\n",
    "sig_pangenie_DEL_sample_new_atleast5['count_ones'] = (sig_pangenie_DEL_sample_new_atleast5.iloc[:, 4:30] == 1).sum(axis=1)\n",
    "sig_pangenie_DEL_sample_new_atleast5['count_twos'] = (sig_pangenie_DEL_sample_new_atleast5.iloc[:, 4:30] == 2).sum(axis=1)\n",
    "# Count the occurrences of 1 and 2 for each row|"
   ]
  },
  {
   "cell_type": "code",
   "execution_count": 25,
   "id": "satisfactory-infrastructure",
   "metadata": {},
   "outputs": [],
   "source": [
    "sig_pangenie_DEL_sample_new_filter = sig_pangenie_DEL_sample_new_atleast5[(sig_pangenie_DEL_sample_new_atleast5['count_zero'] >= 5) &\n",
    "                                                                (sig_pangenie_DEL_sample_new_atleast5['count_ones'] >= 5) &\n",
    "                                                                (sig_pangenie_DEL_sample_new_atleast5['count_twos'] >= 5)]"
   ]
  },
  {
   "cell_type": "code",
   "execution_count": 27,
   "id": "nuclear-substance",
   "metadata": {},
   "outputs": [],
   "source": [
    "sig_pangenie_DEL_sample_new_filter = sig_pangenie_DEL_sample_new_filter.copy()\n",
    "sig_pangenie_DEL_sample_new_filter['START_POS'] = sig_pangenie_DEL_sample_new_filter['INFO_ID'].str.split('-', expand=True)[1]\n",
    "sig_pangenie_DEL_sample_new_filter['TYPE'] = sig_pangenie_DEL_sample_new_filter['INFO_ID'].str.split('-', expand=True)[2]\n",
    "sig_pangenie_DEL_sample_new_filter['LEN'] = sig_pangenie_DEL_sample_new_filter['INFO_ID'].str.split('-', expand=True)[3]\n",
    "sig_pangenie_DEL_sample_new_filter.iloc[:,[32,34]] = sig_pangenie_DEL_sample_new_filter.iloc[:,[32,34]].astype(str).astype(int)\n",
    "# VCF files in fact are providing a single 1-based position for a variant, end = start + len -1\n",
    "sig_pangenie_DEL_sample_new_filter['END_POS'] = sig_pangenie_DEL_sample_new_filter['START_POS'].astype(int) + sig_pangenie_DEL_sample_new_filter['LEN'].astype(int) - 1\n",
    "sig_pangenie_DEL_sample_new_filter = sig_pangenie_DEL_sample_new_filter[[\n",
    "'CHROM', 'START_POS','END_POS', 'TYPE','LEN', 'FILTER', 'INFO_ID', 'FORMAT', 'NA18534','NA18939','NA19036','NA19240','NA19650','NA19983','NA20509','NA20847','HG00096','HG00171','HG00514','HG00733','HG00864','HG01114','HG01505','HG01573','HG01596','HG02011','HG02018','HG02492','HG02587','HG03009','HG03065','HG03371','HG03683','HG03732', 'Sum'\n",
    "    ]]"
   ]
  },
  {
   "cell_type": "code",
   "execution_count": 28,
   "id": "duplicate-memorabilia",
   "metadata": {},
   "outputs": [
    {
     "data": {
      "text/plain": [
       "(17, 35)"
      ]
     },
     "execution_count": 28,
     "metadata": {},
     "output_type": "execute_result"
    }
   ],
   "source": [
    "sig_pangenie_DEL_sample_new_filter.shape"
   ]
  },
  {
   "cell_type": "markdown",
   "id": "liquid-humanity",
   "metadata": {},
   "source": [
    "### insertion "
   ]
  },
  {
   "cell_type": "code",
   "execution_count": 30,
   "id": "numeric-network",
   "metadata": {},
   "outputs": [
    {
     "data": {
      "text/plain": [
       "(119, 36)"
      ]
     },
     "execution_count": 30,
     "metadata": {},
     "output_type": "execute_result"
    }
   ],
   "source": [
    "sig_pangenie_INS_sample = pangenie_INS_sample[pangenie_INS_sample['INFO_ID'].isin(all_INS_boundary_3_sig_SV)]\n",
    "sig_pangenie_INS_sample.shape"
   ]
  },
  {
   "cell_type": "code",
   "execution_count": 31,
   "id": "indirect-backup",
   "metadata": {},
   "outputs": [],
   "source": [
    "sig_pangenie_INS_sample_new = sig_pangenie_INS_sample[[\n",
    "'CHROM', 'FILTER', 'INFO_ID', 'FORMAT','NA18534','NA18939','NA19036','NA19240','NA19650','NA19983','NA20509','NA20847','HG00096','HG00171','HG00514','HG00733','HG00864','HG01114','HG01505','HG01573','HG01596','HG02011','HG02018','HG02492','HG02587','HG03009','HG03065','HG03371','HG03683','HG03732'\n",
    "    ]]\n",
    "# removed NA12329"
   ]
  },
  {
   "cell_type": "code",
   "execution_count": 32,
   "id": "adopted-examination",
   "metadata": {},
   "outputs": [],
   "source": [
    "sig_pangenie_INS_sample_new = sig_pangenie_INS_sample_new.copy()\n",
    "for col in sig_pangenie_INS_sample_new.iloc[:, 4:]:\n",
    "    sig_pangenie_INS_sample_new[col] = sig_pangenie_INS_sample_new[col].str[:3]"
   ]
  },
  {
   "cell_type": "code",
   "execution_count": 33,
   "id": "searching-moses",
   "metadata": {},
   "outputs": [],
   "source": [
    "for col in sig_pangenie_INS_sample_new.columns:\n",
    "    sig_pangenie_INS_sample_new.loc[sig_pangenie_INS_sample_new[col].astype(str).str.startswith('0/0'), col] = '0'\n",
    "    sig_pangenie_INS_sample_new.loc[sig_pangenie_INS_sample_new[col].astype(str).str.startswith('0/1'), col] = '1'\n",
    "    sig_pangenie_INS_sample_new.loc[sig_pangenie_INS_sample_new[col].astype(str).str.startswith('1/0'), col] = '1'\n",
    "    sig_pangenie_INS_sample_new.loc[sig_pangenie_INS_sample_new[col].astype(str).str.startswith('1/1'), col] = '2'"
   ]
  },
  {
   "cell_type": "code",
   "execution_count": 35,
   "id": "undefined-marijuana",
   "metadata": {},
   "outputs": [
    {
     "data": {
      "text/plain": [
       "(119, 32)"
      ]
     },
     "execution_count": 35,
     "metadata": {},
     "output_type": "execute_result"
    }
   ],
   "source": [
    "# Apply the conversion function to each cell in the relevant columns to keep the original DataFrame unchanged\n",
    "sig_pangenie_INS_sample_new.iloc[:, 4:] = sig_pangenie_INS_sample_new.iloc[:, 4:].applymap(convert_to_int)\n",
    "# Create a separate DataFrame for numeric operations\n",
    "numeric_data = sig_pangenie_INS_sample_new.iloc[:, 4:-1].apply(pd.to_numeric, errors='coerce').fillna(0).astype(int)\n",
    "# Calculate the sum of integer values\n",
    "sig_pangenie_INS_sample_new['Sum'] = numeric_data.sum(axis=1)\n",
    "# Filter the DataFrame based on the sum condition\n",
    "sig_pangenie_INS_sample_new_atleast5 = sig_pangenie_INS_sample_new[sig_pangenie_INS_sample_new['Sum'] >= 5]\n",
    "# Apply the function to each row starting from the 4th column\n",
    "sig_pangenie_INS_sample_new_atleast5['missing_geno'] = sig_pangenie_INS_sample_new_atleast5.iloc[:, 4:].apply(count_dot_colon, axis=1)\n",
    "sig_pangenie_INS_sample_new_atleast5.shape"
   ]
  },
  {
   "cell_type": "code",
   "execution_count": 36,
   "id": "deluxe-granny",
   "metadata": {},
   "outputs": [],
   "source": [
    "# Slice the DataFrame to consider columns from the 5th one onwards\n",
    "sig_pangenie_INS_sample_new_atleast5['count_zero'] = (sig_pangenie_INS_sample_new_atleast5.iloc[:, 4:30] == 0).sum(axis=1)\n",
    "sig_pangenie_INS_sample_new_atleast5['count_ones'] = (sig_pangenie_INS_sample_new_atleast5.iloc[:, 4:30] == 1).sum(axis=1)\n",
    "sig_pangenie_INS_sample_new_atleast5['count_twos'] = (sig_pangenie_INS_sample_new_atleast5.iloc[:, 4:30] == 2).sum(axis=1)\n",
    "# Count the occurrences of 1 and 2 for each row"
   ]
  },
  {
   "cell_type": "code",
   "execution_count": 37,
   "id": "economic-possible",
   "metadata": {},
   "outputs": [],
   "source": [
    "sig_pangenie_INS_sample_new_filter = sig_pangenie_INS_sample_new_atleast5[(sig_pangenie_INS_sample_new_atleast5['count_zero'] >= 5) &\n",
    "                                                                (sig_pangenie_INS_sample_new_atleast5['count_ones'] >= 5) &\n",
    "                                                                (sig_pangenie_INS_sample_new_atleast5['count_twos'] >= 5)]"
   ]
  },
  {
   "cell_type": "code",
   "execution_count": 39,
   "id": "aboriginal-disco",
   "metadata": {},
   "outputs": [],
   "source": [
    "sig_pangenie_INS_sample_new_filter = sig_pangenie_INS_sample_new_filter.copy()\n",
    "sig_pangenie_INS_sample_new_filter['START_POS'] = sig_pangenie_INS_sample_new_filter['INFO_ID'].str.split('-', expand=True)[1]\n",
    "sig_pangenie_INS_sample_new_filter['TYPE'] = sig_pangenie_INS_sample_new_filter['INFO_ID'].str.split('-', expand=True)[2]\n",
    "sig_pangenie_INS_sample_new_filter['LEN'] = sig_pangenie_INS_sample_new_filter['INFO_ID'].str.split('-', expand=True)[3]\n",
    "sig_pangenie_INS_sample_new_filter.iloc[:,[32,34]] = sig_pangenie_INS_sample_new_filter.iloc[:,[32,34]].astype(str).astype(int)\n",
    "sig_pangenie_INS_sample_new_filter['END_POS'] = sig_pangenie_INS_sample_new_filter['START_POS']\n",
    "sig_pangenie_INS_sample_new_filter = sig_pangenie_INS_sample_new_filter[[\n",
    "'CHROM', 'START_POS','END_POS', 'TYPE','LEN', 'FILTER', 'INFO_ID', 'FORMAT', 'NA18534','NA18939','NA19036','NA19240','NA19650','NA19983','NA20509','NA20847','HG00096','HG00171','HG00514','HG00733','HG00864','HG01114','HG01505','HG01573','HG01596','HG02011','HG02018','HG02492','HG02587','HG03009','HG03065','HG03371','HG03683','HG03732', 'Sum'\n",
    "    ]]"
   ]
  },
  {
   "cell_type": "code",
   "execution_count": 40,
   "id": "unable-female",
   "metadata": {},
   "outputs": [
    {
     "data": {
      "text/plain": [
       "(28, 35)"
      ]
     },
     "execution_count": 40,
     "metadata": {},
     "output_type": "execute_result"
    }
   ],
   "source": [
    "sig_pangenie_INS_sample_new_filter.shape"
   ]
  },
  {
   "cell_type": "markdown",
   "id": "superb-hollywood",
   "metadata": {},
   "source": [
    "### homo/heter SVs' impact on boundary strength "
   ]
  },
  {
   "cell_type": "code",
   "execution_count": 41,
   "id": "behavioral-might",
   "metadata": {},
   "outputs": [],
   "source": [
    "DEL_boundary_genotype = sig_pangenie_DEL_sample_new_filter[[\n",
    "'CHROM', 'START_POS', 'END_POS', 'TYPE', 'LEN', 'FILTER', 'INFO_ID','FORMAT','NA18534','NA18939','NA19036','NA19240','NA19650','NA19983','NA20509','NA20847','HG00096','HG00171','HG00514','HG00733','HG00864','HG01114','HG01505','HG01573','HG01596','HG02011','HG02018','HG02492','HG02587','HG03009','HG03065','HG03371','HG03683','HG03732'\n",
    "    ]]\n",
    "INS_boundary_genotype = sig_pangenie_INS_sample_new_filter[[\n",
    "'CHROM', 'START_POS', 'END_POS', 'TYPE', 'LEN', 'FILTER', 'INFO_ID','FORMAT','NA18534','NA18939','NA19036','NA19240','NA19650','NA19983','NA20509','NA20847','HG00096','HG00171','HG00514','HG00733','HG00864','HG01114','HG01505','HG01573','HG01596','HG02011','HG02018','HG02492','HG02587','HG03009','HG03065','HG03371','HG03683','HG03732'\n",
    "    ]]"
   ]
  },
  {
   "cell_type": "code",
   "execution_count": 42,
   "id": "miniature-installation",
   "metadata": {},
   "outputs": [
    {
     "data": {
      "text/plain": [
       "(17, 34)"
      ]
     },
     "execution_count": 42,
     "metadata": {},
     "output_type": "execute_result"
    }
   ],
   "source": [
    "DEL_boundary_genotype_1 = DEL_boundary_genotype.reset_index(drop=True)\n",
    "DEL_boundary_genotype_1.shape"
   ]
  },
  {
   "cell_type": "code",
   "execution_count": 43,
   "id": "exotic-vessel",
   "metadata": {},
   "outputs": [
    {
     "data": {
      "text/plain": [
       "(28, 34)"
      ]
     },
     "execution_count": 43,
     "metadata": {},
     "output_type": "execute_result"
    }
   ],
   "source": [
    "INS_boundary_genotype_1 = INS_boundary_genotype.reset_index(drop=True)\n",
    "INS_boundary_genotype_1.shape"
   ]
  },
  {
   "cell_type": "code",
   "execution_count": 44,
   "id": "determined-permit",
   "metadata": {},
   "outputs": [
    {
     "data": {
      "text/plain": [
       "17"
      ]
     },
     "execution_count": 44,
     "metadata": {},
     "output_type": "execute_result"
    }
   ],
   "source": [
    "all_DEL_boundary_id = list(sig_pangenie_DEL_sample_new_filter['INFO_ID'])\n",
    "DEL_list = list(set(all_DEL_boundary_id))\n",
    "len(DEL_list)"
   ]
  },
  {
   "cell_type": "code",
   "execution_count": 45,
   "id": "numeric-morning",
   "metadata": {},
   "outputs": [
    {
     "data": {
      "text/plain": [
       "28"
      ]
     },
     "execution_count": 45,
     "metadata": {},
     "output_type": "execute_result"
    }
   ],
   "source": [
    "all_INS_boundary_id = list(sig_pangenie_INS_sample_new_filter['INFO_ID'])\n",
    "INS_list = list(set(all_INS_boundary_id))\n",
    "len(INS_list)"
   ]
  },
  {
   "cell_type": "code",
   "execution_count": 48,
   "id": "center-brake",
   "metadata": {},
   "outputs": [
    {
     "data": {
      "text/plain": [
       "(17, 37)"
      ]
     },
     "execution_count": 48,
     "metadata": {},
     "output_type": "execute_result"
    }
   ],
   "source": [
    "sig_DEL_boundary = all_DEL_boundary_sig[all_DEL_boundary_sig['INFO_ID'].isin(all_DEL_boundary_id)].reset_index(drop=True)\n",
    "sig_DEL_boundary.shape"
   ]
  },
  {
   "cell_type": "code",
   "execution_count": 49,
   "id": "stunning-bottom",
   "metadata": {},
   "outputs": [
    {
     "data": {
      "text/plain": [
       "(28, 37)"
      ]
     },
     "execution_count": 49,
     "metadata": {},
     "output_type": "execute_result"
    }
   ],
   "source": [
    "sig_INS_boundary = all_INS_boundary_sig[all_INS_boundary_sig['INFO_ID'].isin(all_INS_boundary_id)].reset_index(drop=True)\n",
    "sig_INS_boundary.shape"
   ]
  },
  {
   "cell_type": "code",
   "execution_count": 52,
   "id": "acceptable-arlington",
   "metadata": {},
   "outputs": [
    {
     "name": "stdout",
     "output_type": "stream",
     "text": [
      "The num of SVs that do not have the homozygote: 0\n",
      "The num of SVs that do not have the heterozygote: 0\n"
     ]
    }
   ],
   "source": [
    "pvalue = []\n",
    "entries_without_1 = []\n",
    "entries_without_2 = []\n",
    "\n",
    "for i in range(len(sig_DEL_boundary)):\n",
    "    DEL_boundary_genotype_all = DEL_boundary_genotype_1[DEL_boundary_genotype_1['INFO_ID'] == sig_DEL_boundary.loc[i, 'INFO_ID']].iloc[:, 8:]\n",
    "    genotypes_list = DEL_boundary_genotype_all.iloc[0].values.tolist()\n",
    "    boundary_score_list = sig_DEL_boundary.iloc[i, 8:34].values.tolist()\n",
    "\n",
    "    df = pd.DataFrame({'genotypes': genotypes_list, 'boundary_score': boundary_score_list})\n",
    "    \n",
    "    # Convert the 'genotypes' column to string type\n",
    "    df['genotypes'] = df['genotypes'].astype(str)\n",
    "\n",
    "    df_new = df.assign(BS=df.groupby('genotypes').cumcount()).pivot('BS', 'genotypes', 'boundary_score')\n",
    "\n",
    "    if '1' not in df_new.columns:\n",
    "        entries_without_1.append(df_new)\n",
    "        p = 'NA'\n",
    "    elif '2' not in df_new.columns:\n",
    "        entries_without_2.append(df_new)\n",
    "        p = 'NA'\n",
    "    else:\n",
    "        try:\n",
    "            if all(genotype in df_new.columns for genotype in ['0', '1', '2']):\n",
    "                H, p = stats.kruskal(df_new['0'].dropna().tolist(),\n",
    "                                     df_new['1'].dropna().tolist(),\n",
    "                                     df_new['2'].dropna().tolist())\n",
    "            else:\n",
    "                p = 'NA'\n",
    "        except ValueError:\n",
    "            p = 'NA'\n",
    "\n",
    "    pvalue.append(p)\n",
    "\n",
    "sig_DEL_boundary['pvalue_0_1_2'] = pvalue\n",
    "\n",
    "# Display or process the entries without column [1]\n",
    "print(\"The num of SVs that do not have the homozygote:\", len(entries_without_1))\n",
    "for entry in entries_without_1:\n",
    "    print(entry)\n",
    "\n",
    "# Display or process the entries without column [2]\n",
    "print(\"The num of SVs that do not have the heterozygote:\", len(entries_without_2))\n",
    "for entry in entries_without_2:\n",
    "    print(entry)"
   ]
  },
  {
   "cell_type": "code",
   "execution_count": 54,
   "id": "realistic-jordan",
   "metadata": {},
   "outputs": [],
   "source": [
    "def fdr_correction_heter(group):\n",
    "    _, corrected_pvalues, _, _ = multipletests(group['pvalue_0_1_2'], method='fdr_bh')\n",
    "    group['qvalue_0_1_2'] = corrected_pvalues\n",
    "    return group"
   ]
  },
  {
   "cell_type": "code",
   "execution_count": 58,
   "id": "pregnant-mystery",
   "metadata": {},
   "outputs": [],
   "source": [
    "sig_DEL_boundary_fdr = sig_DEL_boundary.groupby('INFO_ID').apply(fdr_correction_heter)\n",
    "sig_DEL_boundary_fdr.to_csv('../data/final_homo_heter_TAD-DEL_qvalue.bed', index = False, sep='\\t', header=True)"
   ]
  },
  {
   "cell_type": "code",
   "execution_count": 61,
   "id": "architectural-commitment",
   "metadata": {},
   "outputs": [
    {
     "name": "stdout",
     "output_type": "stream",
     "text": [
      "The num of SVs that do not have the homozygote: 0\n",
      "The num of SVs that do not have the heterozygote: 0\n"
     ]
    }
   ],
   "source": [
    "pvalue = []\n",
    "entries_without_1 = []\n",
    "entries_without_2 = []\n",
    "\n",
    "for i in range(len(sig_INS_boundary)):\n",
    "    INS_boundary_genotype_all = INS_boundary_genotype_1[INS_boundary_genotype_1['INFO_ID'] == sig_INS_boundary.loc[i, 'INFO_ID']].iloc[:, 8:]\n",
    "    genotypes_list = INS_boundary_genotype_all.iloc[0].values.tolist()\n",
    "    boundary_score_list = sig_INS_boundary.iloc[i, 8:34].values.tolist()\n",
    "\n",
    "    df = pd.DataFrame({'genotypes': genotypes_list, 'boundary_score': boundary_score_list})\n",
    "    \n",
    "    # Convert the 'genotypes' column to string type\n",
    "    df['genotypes'] = df['genotypes'].astype(str)\n",
    "\n",
    "    df_new = df.assign(BS=df.groupby('genotypes').cumcount()).pivot('BS', 'genotypes', 'boundary_score')\n",
    "\n",
    "    if '1' not in df_new.columns:\n",
    "        entries_without_1.append(df_new)\n",
    "        p = 'NA'\n",
    "    elif '2' not in df_new.columns:\n",
    "        entries_without_2.append(df_new)\n",
    "        p = 'NA'\n",
    "    else:\n",
    "        try:\n",
    "            if all(genotype in df_new.columns for genotype in ['0', '1', '2']):\n",
    "                H, p = stats.kruskal(df_new['0'].dropna().tolist(),\n",
    "                                     df_new['1'].dropna().tolist(),\n",
    "                                     df_new['2'].dropna().tolist())\n",
    "            else:\n",
    "                p = 'NA'\n",
    "                \n",
    "        except ValueError:\n",
    "            p = 'NA'\n",
    "\n",
    "    pvalue.append(p)\n",
    "\n",
    "sig_INS_boundary['pvalue_0_1_2'] = pvalue\n",
    "\n",
    "# Display or process the entries without column [1]\n",
    "print(\"The num of SVs that do not have the homozygote:\", len(entries_without_1))\n",
    "for entry in entries_without_1:\n",
    "    print(entry)\n",
    "\n",
    "# Display or process the entries without column [2]\n",
    "print(\"The num of SVs that do not have the heterozygote:\", len(entries_without_2))\n",
    "for entry in entries_without_2:\n",
    "    print(entry)"
   ]
  },
  {
   "cell_type": "code",
   "execution_count": 62,
   "id": "detected-dragon",
   "metadata": {},
   "outputs": [],
   "source": [
    "sig_INS_boundary_fdr = sig_INS_boundary.groupby('INFO_ID').apply(fdr_correction_heter)\n",
    "sig_INS_boundary_fdr.to_csv('../data/final_homo_heter_TAD-INS_qvalue.bed', index = False, sep='\\t', header=True)"
   ]
  },
  {
   "cell_type": "code",
   "execution_count": 64,
   "id": "above-jumping",
   "metadata": {},
   "outputs": [
    {
     "data": {
      "text/plain": [
       "(11, 39)"
      ]
     },
     "execution_count": 64,
     "metadata": {},
     "output_type": "execute_result"
    }
   ],
   "source": [
    "all_DEL_boundary_3_sig_noNA = sig_DEL_boundary_fdr[sig_DEL_boundary_fdr['qvalue_0_1_2'] != 'NA']\n",
    "all_DEL_boundary_3_sig_KW = all_DEL_boundary_3_sig_noNA[all_DEL_boundary_3_sig_noNA['qvalue_0_1_2'].astype(float) < 0.05]\n",
    "all_DEL_boundary_3_sig_KW_new = all_DEL_boundary_3_sig_KW.reset_index(drop=True)\n",
    "all_DEL_boundary_3_sig_KW_new.shape"
   ]
  },
  {
   "cell_type": "code",
   "execution_count": 65,
   "id": "annual-parallel",
   "metadata": {},
   "outputs": [
    {
     "data": {
      "text/plain": [
       "11"
      ]
     },
     "execution_count": 65,
     "metadata": {},
     "output_type": "execute_result"
    }
   ],
   "source": [
    "len(all_DEL_boundary_3_sig_KW_new['INFO_ID'].drop_duplicates())"
   ]
  },
  {
   "cell_type": "code",
   "execution_count": 66,
   "id": "cardiac-expert",
   "metadata": {},
   "outputs": [
    {
     "data": {
      "text/plain": [
       "(21, 39)"
      ]
     },
     "execution_count": 66,
     "metadata": {},
     "output_type": "execute_result"
    }
   ],
   "source": [
    "all_INS_boundary_3_sig_noNA = sig_INS_boundary_fdr[sig_INS_boundary_fdr['qvalue_0_1_2'] != 'NA']\n",
    "all_INS_boundary_3_sig_KW = all_INS_boundary_3_sig_noNA[all_INS_boundary_3_sig_noNA['qvalue_0_1_2'].astype(float) < 0.05]\n",
    "all_INS_boundary_3_sig_KW_new = all_INS_boundary_3_sig_KW.reset_index(drop=True)\n",
    "all_INS_boundary_3_sig_KW_new.shape"
   ]
  },
  {
   "cell_type": "code",
   "execution_count": 67,
   "id": "vocal-politics",
   "metadata": {},
   "outputs": [
    {
     "data": {
      "text/plain": [
       "21"
      ]
     },
     "execution_count": 67,
     "metadata": {},
     "output_type": "execute_result"
    }
   ],
   "source": [
    "len(all_INS_boundary_3_sig_KW_new['INFO_ID'].drop_duplicates())"
   ]
  },
  {
   "cell_type": "markdown",
   "id": "breathing-yacht",
   "metadata": {},
   "source": [
    "### Post hoc analysis "
   ]
  },
  {
   "cell_type": "code",
   "execution_count": 69,
   "id": "processed-characterization",
   "metadata": {},
   "outputs": [],
   "source": [
    "pvalue_01 = []\n",
    "pvalue_02 = []\n",
    "pvalue_12 = []\n",
    "\n",
    "for i in range(len(all_DEL_boundary_3_sig_KW_new)):\n",
    "    DEL_boundary_genotype_all = DEL_boundary_genotype_1[DEL_boundary_genotype_1['INFO_ID'] == all_DEL_boundary_3_sig_KW_new.loc[i, 'INFO_ID']].iloc[:, 8:]\n",
    "    genotypes_list = DEL_boundary_genotype_all.iloc[0].values.tolist()\n",
    "    boundary_score_list = all_DEL_boundary_3_sig_KW_new.iloc[i, 8:34].values.tolist()\n",
    "\n",
    "    df = pd.DataFrame({'genotypes': genotypes_list, 'boundary_score': boundary_score_list})\n",
    "    \n",
    "    # Convert the 'genotypes' column to string type\n",
    "    df['genotypes'] = df['genotypes'].astype(str)\n",
    "\n",
    "    df_new = df.assign(BS=df.groupby('genotypes').cumcount()).pivot('BS', 'genotypes', 'boundary_score')\n",
    "\n",
    "\n",
    "    try:\n",
    "        p_values = sp.posthoc_conover([df_new['0'].dropna().tolist(), \n",
    "                                       df_new['1'].dropna().tolist(), \n",
    "                                       df_new['2'].dropna().tolist()], p_adjust='holm')\n",
    "        \n",
    "        # Extract the relevant p-values\n",
    "        p_01 = p_values.loc[1, 2] if (1 in p_values.columns and 2 in p_values.columns) else 'NA'\n",
    "        p_02 = p_values.loc[1, 3] if (1 in p_values.columns and 3 in p_values.columns) else 'NA'\n",
    "        p_12 = p_values.loc[2, 3] if (2 in p_values.columns and 3 in p_values.columns) else 'NA'\n",
    "\n",
    "    except ValueError:\n",
    "        p_01 = p_02 = p_12 = 'NA'\n",
    "\n",
    "    pvalue_01.append(p_01)\n",
    "    pvalue_02.append(p_02)\n",
    "    pvalue_12.append(p_12)\n",
    "\n",
    "all_DEL_boundary_3_sig_KW_new['pvalue_01'] = pvalue_01\n",
    "all_DEL_boundary_3_sig_KW_new['pvalue_02'] = pvalue_02\n",
    "all_DEL_boundary_3_sig_KW_new['pvalue_12'] = pvalue_12"
   ]
  },
  {
   "cell_type": "code",
   "execution_count": 71,
   "id": "southwest-coating",
   "metadata": {},
   "outputs": [
    {
     "data": {
      "text/html": [
       "<div>\n",
       "<style scoped>\n",
       "    .dataframe tbody tr th:only-of-type {\n",
       "        vertical-align: middle;\n",
       "    }\n",
       "\n",
       "    .dataframe tbody tr th {\n",
       "        vertical-align: top;\n",
       "    }\n",
       "\n",
       "    .dataframe thead th {\n",
       "        text-align: right;\n",
       "    }\n",
       "</style>\n",
       "<table border=\"1\" class=\"dataframe\">\n",
       "  <thead>\n",
       "    <tr style=\"text-align: right;\">\n",
       "      <th></th>\n",
       "      <th>CHROM</th>\n",
       "      <th>START_POS</th>\n",
       "      <th>END_POS</th>\n",
       "      <th>INFO_ID</th>\n",
       "      <th>BOUND_CHR</th>\n",
       "      <th>FLANK_START</th>\n",
       "      <th>FLANK_END</th>\n",
       "      <th>BOUND_SCORE</th>\n",
       "      <th>GM18534</th>\n",
       "      <th>GM18939</th>\n",
       "      <th>...</th>\n",
       "      <th>HG03683</th>\n",
       "      <th>HG03732</th>\n",
       "      <th>num_NaNs</th>\n",
       "      <th>pvalue_0_1</th>\n",
       "      <th>qvalue</th>\n",
       "      <th>pvalue_0_1_2</th>\n",
       "      <th>qvalue_0_1_2</th>\n",
       "      <th>pvalue_01</th>\n",
       "      <th>pvalue_02</th>\n",
       "      <th>pvalue_12</th>\n",
       "    </tr>\n",
       "  </thead>\n",
       "  <tbody>\n",
       "    <tr>\n",
       "      <th>9</th>\n",
       "      <td>chr7</td>\n",
       "      <td>149878840</td>\n",
       "      <td>149879003</td>\n",
       "      <td>chr7-149878840-DEL-164</td>\n",
       "      <td>chr7</td>\n",
       "      <td>149875001</td>\n",
       "      <td>149900000</td>\n",
       "      <td>0.620092</td>\n",
       "      <td>1.551176</td>\n",
       "      <td>0.719347</td>\n",
       "      <td>...</td>\n",
       "      <td>0.804217</td>\n",
       "      <td>1.405294</td>\n",
       "      <td>8</td>\n",
       "      <td>0.023057</td>\n",
       "      <td>0.023057</td>\n",
       "      <td>0.007835</td>\n",
       "      <td>0.007835</td>\n",
       "      <td>0.211861</td>\n",
       "      <td>0.002817</td>\n",
       "      <td>0.036733</td>\n",
       "    </tr>\n",
       "  </tbody>\n",
       "</table>\n",
       "<p>1 rows × 42 columns</p>\n",
       "</div>"
      ],
      "text/plain": [
       "  CHROM  START_POS    END_POS                 INFO_ID BOUND_CHR  FLANK_START  \\\n",
       "9  chr7  149878840  149879003  chr7-149878840-DEL-164      chr7    149875001   \n",
       "\n",
       "   FLANK_END  BOUND_SCORE   GM18534   GM18939  ...   HG03683   HG03732  \\\n",
       "9  149900000     0.620092  1.551176  0.719347  ...  0.804217  1.405294   \n",
       "\n",
       "   num_NaNs  pvalue_0_1    qvalue  pvalue_0_1_2  qvalue_0_1_2  pvalue_01  \\\n",
       "9         8    0.023057  0.023057      0.007835      0.007835   0.211861   \n",
       "\n",
       "   pvalue_02  pvalue_12  \n",
       "9   0.002817   0.036733  \n",
       "\n",
       "[1 rows x 42 columns]"
      ]
     },
     "execution_count": 71,
     "metadata": {},
     "output_type": "execute_result"
    }
   ],
   "source": [
    "all_DEL_boundary_3_sig_KW_new_sig_1 = all_DEL_boundary_3_sig_KW_new[all_DEL_boundary_3_sig_KW_new['pvalue_12'] < 0.05]\n",
    "all_DEL_boundary_3_sig_KW_new_sig_1"
   ]
  },
  {
   "cell_type": "code",
   "execution_count": 94,
   "id": "arctic-providence",
   "metadata": {},
   "outputs": [],
   "source": [
    "pvalue_01 = []\n",
    "pvalue_02 = []\n",
    "pvalue_12 = []\n",
    "\n",
    "for i in range(len(all_INS_boundary_3_sig_KW_new)):\n",
    "    INS_boundary_genotype_all = INS_boundary_genotype_1[INS_boundary_genotype_1['INFO_ID'] == all_INS_boundary_3_sig_KW_new.loc[i, 'INFO_ID']].iloc[:, 8:]\n",
    "    genotypes_list = INS_boundary_genotype_all.iloc[0].values.tolist()\n",
    "    boundary_score_list = all_INS_boundary_3_sig_KW_new.iloc[i, 8:34].values.tolist()\n",
    "\n",
    "    df = pd.DataFrame({'genotypes': genotypes_list, 'boundary_score': boundary_score_list})\n",
    "    \n",
    "    # Convert the 'genotypes' column to string type\n",
    "    df['genotypes'] = df['genotypes'].astype(str)\n",
    "    \n",
    "    df_new = df.assign(BS=df.groupby('genotypes').cumcount()).pivot('BS', 'genotypes', 'boundary_score')\n",
    "\n",
    "    try:\n",
    "        p_values = sp.posthoc_conover([df_new['0'].dropna().tolist(), \n",
    "                                       df_new['1'].dropna().tolist(), \n",
    "                                       df_new['2'].dropna().tolist()], p_adjust='holm')\n",
    "        \n",
    "        # Extract the relevant p-values\n",
    "        p_01 = p_values.loc[1, 2] if (1 in p_values.columns and 2 in p_values.columns) else 'NA'\n",
    "        p_02 = p_values.loc[1, 3] if (1 in p_values.columns and 3 in p_values.columns) else 'NA'\n",
    "        p_12 = p_values.loc[2, 3] if (2 in p_values.columns and 3 in p_values.columns) else 'NA'\n",
    "\n",
    "    except ValueError:\n",
    "        p_01 = p_02 = p_12 = 'NA'\n",
    "\n",
    "    pvalue_01.append(p_01)\n",
    "    pvalue_02.append(p_02)\n",
    "    pvalue_12.append(p_12)\n",
    "\n",
    "all_INS_boundary_3_sig_KW_new['pvalue_01'] = pvalue_01\n",
    "all_INS_boundary_3_sig_KW_new['pvalue_02'] = pvalue_02\n",
    "all_INS_boundary_3_sig_KW_new['pvalue_12'] = pvalue_12"
   ]
  },
  {
   "cell_type": "code",
   "execution_count": 95,
   "id": "fleet-ukraine",
   "metadata": {},
   "outputs": [
    {
     "data": {
      "text/html": [
       "<div>\n",
       "<style scoped>\n",
       "    .dataframe tbody tr th:only-of-type {\n",
       "        vertical-align: middle;\n",
       "    }\n",
       "\n",
       "    .dataframe tbody tr th {\n",
       "        vertical-align: top;\n",
       "    }\n",
       "\n",
       "    .dataframe thead th {\n",
       "        text-align: right;\n",
       "    }\n",
       "</style>\n",
       "<table border=\"1\" class=\"dataframe\">\n",
       "  <thead>\n",
       "    <tr style=\"text-align: right;\">\n",
       "      <th></th>\n",
       "      <th>CHROM</th>\n",
       "      <th>START_POS</th>\n",
       "      <th>END_POS</th>\n",
       "      <th>INFO_ID</th>\n",
       "      <th>BOUND_CHR</th>\n",
       "      <th>FLANK_START</th>\n",
       "      <th>FLANK_END</th>\n",
       "      <th>BOUND_SCORE</th>\n",
       "      <th>GM18534</th>\n",
       "      <th>GM18939</th>\n",
       "      <th>...</th>\n",
       "      <th>HG03683</th>\n",
       "      <th>HG03732</th>\n",
       "      <th>num_NaNs</th>\n",
       "      <th>pvalue_0_1</th>\n",
       "      <th>qvalue</th>\n",
       "      <th>pvalue_0_1_2</th>\n",
       "      <th>qvalue_0_1_2</th>\n",
       "      <th>pvalue_01</th>\n",
       "      <th>pvalue_02</th>\n",
       "      <th>pvalue_12</th>\n",
       "    </tr>\n",
       "  </thead>\n",
       "  <tbody>\n",
       "    <tr>\n",
       "      <th>11</th>\n",
       "      <td>chr3</td>\n",
       "      <td>84900406</td>\n",
       "      <td>84900406</td>\n",
       "      <td>chr3-84900406-INS-15193</td>\n",
       "      <td>chr3</td>\n",
       "      <td>84890001</td>\n",
       "      <td>84915000</td>\n",
       "      <td>0.245090</td>\n",
       "      <td>0.685173</td>\n",
       "      <td>0.0</td>\n",
       "      <td>...</td>\n",
       "      <td>0.219085</td>\n",
       "      <td>0.413103</td>\n",
       "      <td>8</td>\n",
       "      <td>0.005990</td>\n",
       "      <td>0.005990</td>\n",
       "      <td>0.000709</td>\n",
       "      <td>0.000709</td>\n",
       "      <td>0.099375</td>\n",
       "      <td>0.000103</td>\n",
       "      <td>0.001087</td>\n",
       "    </tr>\n",
       "    <tr>\n",
       "      <th>16</th>\n",
       "      <td>chr6</td>\n",
       "      <td>170399369</td>\n",
       "      <td>170399369</td>\n",
       "      <td>chr6-170399369-INS-349</td>\n",
       "      <td>chr6</td>\n",
       "      <td>170390001</td>\n",
       "      <td>170415000</td>\n",
       "      <td>0.247605</td>\n",
       "      <td>0.000000</td>\n",
       "      <td>0.0</td>\n",
       "      <td>...</td>\n",
       "      <td>0.403806</td>\n",
       "      <td>0.000000</td>\n",
       "      <td>12</td>\n",
       "      <td>0.015513</td>\n",
       "      <td>0.015513</td>\n",
       "      <td>0.000429</td>\n",
       "      <td>0.000429</td>\n",
       "      <td>0.237798</td>\n",
       "      <td>0.000018</td>\n",
       "      <td>0.000214</td>\n",
       "    </tr>\n",
       "  </tbody>\n",
       "</table>\n",
       "<p>2 rows × 42 columns</p>\n",
       "</div>"
      ],
      "text/plain": [
       "   CHROM  START_POS    END_POS                  INFO_ID BOUND_CHR  \\\n",
       "11  chr3   84900406   84900406  chr3-84900406-INS-15193      chr3   \n",
       "16  chr6  170399369  170399369   chr6-170399369-INS-349      chr6   \n",
       "\n",
       "    FLANK_START  FLANK_END  BOUND_SCORE   GM18534  GM18939  ...   HG03683  \\\n",
       "11     84890001   84915000     0.245090  0.685173      0.0  ...  0.219085   \n",
       "16    170390001  170415000     0.247605  0.000000      0.0  ...  0.403806   \n",
       "\n",
       "     HG03732  num_NaNs  pvalue_0_1    qvalue  pvalue_0_1_2  qvalue_0_1_2  \\\n",
       "11  0.413103         8    0.005990  0.005990      0.000709      0.000709   \n",
       "16  0.000000        12    0.015513  0.015513      0.000429      0.000429   \n",
       "\n",
       "    pvalue_01  pvalue_02  pvalue_12  \n",
       "11   0.099375   0.000103   0.001087  \n",
       "16   0.237798   0.000018   0.000214  \n",
       "\n",
       "[2 rows x 42 columns]"
      ]
     },
     "execution_count": 95,
     "metadata": {},
     "output_type": "execute_result"
    }
   ],
   "source": [
    "all_INS_boundary_3_sig_KW_new_sig_1 = all_INS_boundary_3_sig_KW_new[all_INS_boundary_3_sig_KW_new['pvalue_12'] < 0.05]\n",
    "all_INS_boundary_3_sig_KW_new_sig_1"
   ]
  },
  {
   "cell_type": "markdown",
   "id": "exciting-penetration",
   "metadata": {},
   "source": [
    "### visualization "
   ]
  },
  {
   "cell_type": "code",
   "execution_count": 142,
   "id": "developmental-opportunity",
   "metadata": {},
   "outputs": [],
   "source": [
    "boundary_score_list = all_DEL_boundary_3_sig_KW_new.loc[9][8:34].values.tolist()\n",
    "DEL_boundary_genotype_all = DEL_boundary_genotype_1[DEL_boundary_genotype_1.loc[:,'INFO_ID'] == all_DEL_boundary_3_sig_KW_new.loc[9]['INFO_ID']].iloc[:,8:]\n",
    "genotypes_list = DEL_boundary_genotype_all.iloc[0].values.tolist()\n",
    "df = pd.DataFrame({'genotypes' : genotypes_list,\n",
    "                   'boundary_score' : boundary_score_list})    \n",
    "df_new = df.assign(BS=df.groupby('genotypes').cumcount()).pivot('BS','genotypes','boundary_score')"
   ]
  },
  {
   "cell_type": "code",
   "execution_count": 148,
   "id": "amazing-punch",
   "metadata": {},
   "outputs": [
    {
     "data": {
      "image/png": "[encoded data removed]",
      "text/plain": [
       "<Figure size 288x288 with 1 Axes>"
      ]
     },
     "metadata": {},
     "output_type": "display_data"
    },
    {
     "data": {
      "text/plain": [
       "<Figure size 432x288 with 0 Axes>"
      ]
     },
     "metadata": {},
     "output_type": "display_data"
    }
   ],
   "source": [
    "# Set Seaborn's default style and color palette\n",
    "sns.set_style(\"whitegrid\")\n",
    "sns.set_palette(\"pastel\")\n",
    "\n",
    "# Create the boxplot using Seaborn\n",
    "plt.figure(figsize=(4, 4))  # Adjust the figure size\n",
    "ax = sns.boxplot(data=df_new[[0, 1, 2]], palette=\"pastel\", medianprops=dict(color='red'), width=0.5)\n",
    "\n",
    "# Set labels, titles, and other properties\n",
    "ax.set_ylabel('Boundary scores', fontsize=13, labelpad=20)\n",
    "ax.set_xlabel('Genotypes', fontsize=13)\n",
    "ax.set_title('chr7-149878840-DEL-164', pad=30, fontsize=14, fontweight='bold')\n",
    "# Add the secondary title as a separate text element\n",
    "ax.text(0.5, 1.07, '(Kruskal-Wallis test, p = 0.0078)', ha='center', va='bottom', transform=ax.transAxes, fontsize=10)\n",
    "\n",
    "# Display the plot\n",
    "plt.tight_layout()\n",
    "\n",
    "# statistical annotation\n",
    "x1, x2, x3 = 0, 1, 2   # columns 'Sat' and 'Sun' (first column: 0, see plt.xticks())\n",
    "y, h, col = df_new[1].max() + 0.2, 0.1, 'k'\n",
    "\n",
    "\n",
    "# group 1 vs 2\n",
    "plt.plot([x1, x1, x2, x2], [y+3*h, y+4*h, y+4*h, y+3*h], lw=1.1, c=col)\n",
    "plt.text((x1+x2)*.5, y+4*h, \"p = 0.2119\", ha='center', va='bottom', color=col)\n",
    "\n",
    "# group 1 vs 3\n",
    "plt.plot([x1, x1, x3, x3], [y+9*h, y+10*h, y+10*h, y+9*h], lw=1.1, c=col)\n",
    "plt.text((x1+x3)*.5, y+10*h, \"p = 0.0028\", ha='center', va='bottom', color=col)\n",
    "\n",
    "# group 2 vs 3\n",
    "plt.plot([x2, x2, x3, x3], [y+6*h,  y+7*h,  y+7*h, y+6*h], lw=1.1, c=col)\n",
    "plt.text((x2+x3)*.5, y+7*h, \"p = 0.0367\", ha='center', va='bottom', color=col)\n",
    "\n",
    "plt.show()\n",
    "# Adjust the layout to add extra space at the top\n",
    "plt.subplots_adjust(top=1.85)"
   ]
  },
  {
   "cell_type": "code",
   "execution_count": 149,
   "id": "behind-nirvana",
   "metadata": {},
   "outputs": [],
   "source": [
    "boundary_score_list = all_INS_boundary_3_sig_KW_new.loc[11][8:34].values.tolist()\n",
    "INS_boundary_genotype_all = INS_boundary_genotype_1[INS_boundary_genotype_1.loc[:,'INFO_ID'] == all_INS_boundary_3_sig_KW_new.loc[11]['INFO_ID']].iloc[:,8:]\n",
    "genotypes_list = INS_boundary_genotype_all.iloc[0].values.tolist()\n",
    "df = pd.DataFrame({'genotypes' : genotypes_list,\n",
    "                   'boundary_score' : boundary_score_list})    \n",
    "df_new = df.assign(BS=df.groupby('genotypes').cumcount()).pivot('BS','genotypes','boundary_score')"
   ]
  },
  {
   "cell_type": "code",
   "execution_count": 150,
   "id": "ruled-declaration",
   "metadata": {},
   "outputs": [
    {
     "data": {
      "image/png": "[encoded data removed]",
      "text/plain": [
       "<Figure size 288x288 with 1 Axes>"
      ]
     },
     "metadata": {},
     "output_type": "display_data"
    },
    {
     "data": {
      "text/plain": [
       "<Figure size 432x288 with 0 Axes>"
      ]
     },
     "metadata": {},
     "output_type": "display_data"
    }
   ],
   "source": [
    "# Set Seaborn's default style and color palette\n",
    "sns.set_style(\"whitegrid\")\n",
    "sns.set_palette(\"pastel\")\n",
    "\n",
    "# Create the boxplot using Seaborn\n",
    "plt.figure(figsize=(4, 4))  # Adjust the figure size\n",
    "ax = sns.boxplot(data=df_new[[0, 1, 2]], palette=\"pastel\", medianprops=dict(color='red'), width=0.5)\n",
    "\n",
    "# Set labels, titles, and other properties\n",
    "ax.set_ylabel('Boundary scores', fontsize=13, labelpad=20)\n",
    "ax.set_xlabel('Genotypes', fontsize=13)\n",
    "ax.set_title('chr3-84900406-INS-15193', pad=30, fontsize=14, fontweight='bold')\n",
    "# Add the secondary title as a separate text element\n",
    "ax.text(0.5, 1.07, '(Kruskal-Wallis test, p = 0.0007)', ha='center', va='bottom', transform=ax.transAxes, fontsize=10)\n",
    "\n",
    "# Display the plot\n",
    "plt.tight_layout()\n",
    "\n",
    "# statistical annotation\n",
    "x1, x2, x3 = 0, 1, 2   # columns 'Sat' and 'Sun' (first column: 0, see plt.xticks())\n",
    "y, h, col = df_new[1].max() + 0.2, 0.1, 'k'\n",
    "\n",
    "# group 1 vs 2\n",
    "plt.plot([x1, x1, x2, x2], [y+3*h, y+4*h, y+4*h, y+3*h], lw=1.1, c=col)\n",
    "plt.text((x1+x2)*.5, y+4*h, \"p = 0.0994\", ha='center', va='bottom', color=col)\n",
    "\n",
    "# group 1 vs 3\n",
    "plt.plot([x1, x1, x3, x3], [y+9*h, y+10*h, y+10*h, y+9*h], lw=1.1, c=col)\n",
    "plt.text((x1+x3)*.5, y+10*h, \"p = 0.0001\", ha='center', va='bottom', color=col)\n",
    "\n",
    "# group 2 vs 3\n",
    "plt.plot([x2, x2, x3, x3], [y+6*h,  y+7*h,  y+7*h, y+6*h], lw=1.1, c=col)\n",
    "plt.text((x2+x3)*.5, y+7*h, \"p = 0.0011\", ha='center', va='bottom', color=col)\n",
    "\n",
    "plt.show()\n",
    "# Adjust the layout to add extra space at the top\n",
    "plt.subplots_adjust(top=1.85)"
   ]
  },
  {
   "cell_type": "code",
   "execution_count": 151,
   "id": "boring-following",
   "metadata": {},
   "outputs": [],
   "source": [
    "boundary_score_list = all_INS_boundary_3_sig_KW_new.loc[16][8:34].values.tolist()\n",
    "INS_boundary_genotype_all = INS_boundary_genotype_1[INS_boundary_genotype_1.loc[:,'INFO_ID'] == all_INS_boundary_3_sig_KW_new.loc[16]['INFO_ID']].iloc[:,8:]\n",
    "genotypes_list = INS_boundary_genotype_all.iloc[0].values.tolist()\n",
    "df = pd.DataFrame({'genotypes' : genotypes_list,\n",
    "                   'boundary_score' : boundary_score_list})    \n",
    "df_new = df.assign(BS=df.groupby('genotypes').cumcount()).pivot('BS','genotypes','boundary_score')"
   ]
  },
  {
   "cell_type": "code",
   "execution_count": 152,
   "id": "cloudy-freeze",
   "metadata": {},
   "outputs": [
    {
     "data": {
      "image/png": "[encoded data removed]",
      "text/plain": [
       "<Figure size 288x288 with 1 Axes>"
      ]
     },
     "metadata": {},
     "output_type": "display_data"
    },
    {
     "data": {
      "text/plain": [
       "<Figure size 432x288 with 0 Axes>"
      ]
     },
     "metadata": {},
     "output_type": "display_data"
    }
   ],
   "source": [
    "# Set Seaborn's default style and color palette\n",
    "sns.set_style(\"whitegrid\")\n",
    "sns.set_palette(\"pastel\")\n",
    "\n",
    "# Create the boxplot using Seaborn\n",
    "plt.figure(figsize=(4, 4))  # Adjust the figure size\n",
    "ax = sns.boxplot(data=df_new[[0, 1, 2]], palette=\"pastel\", medianprops=dict(color='red'), width=0.5)\n",
    "\n",
    "# Set labels, titles, and other properties\n",
    "ax.set_ylabel('Boundary scores', fontsize=13, labelpad=20)\n",
    "ax.set_xlabel('Genotypes', fontsize=13)\n",
    "ax.set_title('chr6-170399369-INS-349', pad=30, fontsize=14, fontweight='bold')\n",
    "# Add the secondary title as a separate text element\n",
    "ax.text(0.5, 1.07, '(Kruskal-Wallis test, p = 0.0004)', ha='center', va='bottom', transform=ax.transAxes, fontsize=10)\n",
    "\n",
    "# Display the plot\n",
    "plt.tight_layout()\n",
    "\n",
    "# statistical annotation\n",
    "x1, x2, x3 = 0, 1, 2   # columns 'Sat' and 'Sun' (first column: 0, see plt.xticks())\n",
    "y, h, col = df_new[1].max() + 0.2, 0.1, 'k'\n",
    "\n",
    "# group 1 vs 2\n",
    "plt.plot([x1, x1, x2, x2], [y+3*h, y+4*h, y+4*h, y+3*h], lw=1.1, c=col)\n",
    "plt.text((x1+x2)*.5, y+4*h, \"p = 0.2378\", ha='center', va='bottom', color=col)\n",
    "\n",
    "# group 1 vs 3\n",
    "plt.plot([x1, x1, x3, x3], [y+9*h, y+10*h, y+10*h, y+9*h], lw=1.1, c=col)\n",
    "plt.text((x1+x3)*.5, y+10*h, \"p = 0.00001\", ha='center', va='bottom', color=col)\n",
    "\n",
    "# group 2 vs 3\n",
    "plt.plot([x2, x2, x3, x3], [y+6*h,  y+7*h,  y+7*h, y+6*h], lw=1.1, c=col)\n",
    "plt.text((x2+x3)*.5, y+7*h, \"p = 0.0002\", ha='center', va='bottom', color=col)\n",
    "\n",
    "plt.show()\n",
    "# Adjust the layout to add extra space at the top\n",
    "plt.subplots_adjust(top=1.85)"
   ]
  },
  {
   "cell_type": "code",
   "execution_count": null,
   "id": "impressive-austria",
   "metadata": {},
   "outputs": [],
   "source": []
  }
 ],
 "metadata": {
  "kernelspec": {
   "display_name": "Python 3 (ipykernel)",
   "language": "python",
   "name": "python3"
  },
  "language_info": {
   "codemirror_mode": {
    "name": "ipython",
    "version": 3
   },
   "file_extension": ".py",
   "mimetype": "text/x-python",
   "name": "python",
   "nbconvert_exporter": "python",
   "pygments_lexer": "ipython3",
   "version": "3.7.3"
  }
 },
 "nbformat": 4,
 "nbformat_minor": 5
}
