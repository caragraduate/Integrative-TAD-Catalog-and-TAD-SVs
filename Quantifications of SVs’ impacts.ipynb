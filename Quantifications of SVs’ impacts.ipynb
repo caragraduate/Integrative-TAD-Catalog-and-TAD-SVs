{
 "cells": [
  {
   "cell_type": "code",
   "execution_count": 1,
   "id": "assumed-opinion",
   "metadata": {},
   "outputs": [],
   "source": [
    "import pandas as pd\n",
    "import numpy as np\n",
    "from scipy.stats import chi2_contingency\n",
    "import matplotlib.pyplot as plt\n",
    "import io\n",
    "import os\n",
    "from scipy.stats import mannwhitneyu\n",
    "from statsmodels.stats.multitest import multipletests\n",
    "import matplotlib.pyplot as plt\n",
    "import seaborn as sns"
   ]
  },
  {
   "cell_type": "code",
   "execution_count": 2,
   "id": "advanced-winner",
   "metadata": {},
   "outputs": [],
   "source": [
    "def read_vcf(path):\n",
    "    with open(path, 'r') as f:\n",
    "        lines = [l for l in f if not l.startswith('##')]\n",
    "    return pd.read_csv(\n",
    "        io.StringIO(''.join(lines)),\n",
    "        dtype={'#CHROM': str, 'POS': int, 'ID': str, 'REF': str, 'ALT': str,\n",
    "               'QUAL': str, 'FILTER': str, 'INFO': str},\n",
    "        sep='\\t'\n",
    "    ).rename(columns={'#CHROM': 'CHROM'})"
   ]
  },
  {
   "cell_type": "code",
   "execution_count": 3,
   "id": "spiritual-ecology",
   "metadata": {},
   "outputs": [],
   "source": [
    "pangenie_svs_sample = read_vcf(\"pangenie_merged_bi_nosnvs_26sample.vcf\")\n",
    "pangenie_svs_sample[['INFO_ID']] = pangenie_svs_sample['INFO'].str.split(';', expand=True)[2]\n",
    "pangenie_svs_sample['INFO_ID'] = pangenie_svs_sample['INFO_ID'].str.lstrip('ID=')\n",
    "pangenie_svs_sample[['type']] = pangenie_svs_sample['INFO_ID'].str.split('-', expand=True)[2]"
   ]
  },
  {
   "cell_type": "code",
   "execution_count": 4,
   "id": "noticed-gazette",
   "metadata": {},
   "outputs": [
    {
     "data": {
      "text/plain": [
       "(1129810, 37)"
      ]
     },
     "execution_count": 4,
     "metadata": {},
     "output_type": "execute_result"
    }
   ],
   "source": [
    "pangenie_svs_sample.shape"
   ]
  },
  {
   "cell_type": "code",
   "execution_count": 5,
   "id": "under-victor",
   "metadata": {},
   "outputs": [
    {
     "data": {
      "text/plain": [
       "DEL    672432\n",
       "INS    457378\n",
       "dtype: int64"
      ]
     },
     "execution_count": 5,
     "metadata": {},
     "output_type": "execute_result"
    }
   ],
   "source": [
    "col_list = pangenie_svs_sample['type'].values.tolist()\n",
    "pd.Series(col_list).value_counts()"
   ]
  },
  {
   "cell_type": "code",
   "execution_count": 6,
   "id": "cheap-neighborhood",
   "metadata": {},
   "outputs": [],
   "source": [
    "pangenie_DEL_sample = pangenie_svs_sample[pangenie_svs_sample['INFO_ID'].str.contains('DEL')]\n",
    "pangenie_INS_sample = pangenie_svs_sample[pangenie_svs_sample['INFO_ID'].str.contains('INS')]"
   ]
  },
  {
   "cell_type": "markdown",
   "id": "complicated-catalyst",
   "metadata": {},
   "source": [
    "### deletions"
   ]
  },
  {
   "cell_type": "code",
   "execution_count": 7,
   "id": "australian-property",
   "metadata": {},
   "outputs": [],
   "source": [
    "pangenie_DEL_sample_new = pangenie_DEL_sample[[\n",
    "'CHROM', 'FILTER', 'INFO_ID', 'FORMAT','NA18534','NA18939','NA19036','NA19240','NA19650','NA19983','NA20509','NA20847','HG00096','HG00171','HG00514','HG00733','HG00864','HG01114','HG01505','HG01573','HG01596','HG02011','HG02018','HG02492','HG02587','HG03009','HG03065','HG03371','HG03683','HG03732'\n",
    "    ]]\n",
    "##### removed NA12329"
   ]
  },
  {
   "cell_type": "code",
   "execution_count": 9,
   "id": "packed-drilling",
   "metadata": {},
   "outputs": [],
   "source": [
    "for col in pangenie_DEL_sample_new.iloc[:, 4:]:\n",
    "    pangenie_DEL_sample_new[col] = pangenie_DEL_sample_new[col].str[:3]"
   ]
  },
  {
   "cell_type": "code",
   "execution_count": 11,
   "id": "stable-nomination",
   "metadata": {
    "scrolled": true
   },
   "outputs": [],
   "source": [
    "for col in pangenie_DEL_sample_new.columns:\n",
    "    pangenie_DEL_sample_new.loc[pangenie_DEL_sample_new[col].astype(str).str.startswith('0/0'), col] = '0'\n",
    "    pangenie_DEL_sample_new.loc[pangenie_DEL_sample_new[col].astype(str).str.startswith('.:.'), col] = '0'\n",
    "    pangenie_DEL_sample_new.loc[pangenie_DEL_sample_new[col].astype(str).str.startswith('0/1'), col] = '1'\n",
    "    pangenie_DEL_sample_new.loc[pangenie_DEL_sample_new[col].astype(str).str.startswith('1/0'), col] = '1'\n",
    "    pangenie_DEL_sample_new.loc[pangenie_DEL_sample_new[col].astype(str).str.startswith('1/1'), col] = '1'"
   ]
  },
  {
   "cell_type": "code",
   "execution_count": 13,
   "id": "configured-document",
   "metadata": {},
   "outputs": [],
   "source": [
    "pangenie_DEL_sample_new.iloc[:,4: ] = pangenie_DEL_sample_new.iloc[:,4: ].astype(str).astype(int)\n",
    "pangenie_DEL_sample_new['Sum']=pangenie_DEL_sample_new.iloc[:,4: ].sum(axis=1)\n",
    "pangenie_DEL_sample_new_atleast3 = pangenie_DEL_sample_new[pangenie_DEL_sample_new['Sum'].astype(int) >= 5]\n",
    "pangenie_DEL_sample_new_atleast3['START_POS'] = pangenie_DEL_sample_new_atleast3['INFO_ID'].str.split('-', expand=True)[1]\n",
    "pangenie_DEL_sample_new_atleast3['TYPE'] = pangenie_DEL_sample_new_atleast3['INFO_ID'].str.split('-', expand=True)[2]\n",
    "pangenie_DEL_sample_new_atleast3['LEN'] = pangenie_DEL_sample_new_atleast3['INFO_ID'].str.split('-', expand=True)[3]\n",
    "pangenie_DEL_sample_new_atleast3.iloc[:,[31,33]] = pangenie_DEL_sample_new_atleast3.iloc[:,[31,33]].astype(str).astype(int)\n",
    "# VCF files in fact are providing a single 1-based position for a variant, end = start + len -1\n",
    "pangenie_DEL_sample_new_atleast3['END_POS'] = pangenie_DEL_sample_new_atleast3['START_POS'] + pangenie_DEL_sample_new_atleast3['LEN']-1\n",
    "pangenie_DEL_sample_new_atleast3_new = pangenie_DEL_sample_new_atleast3[[\n",
    "'CHROM', 'START_POS','END_POS', 'TYPE','LEN', 'FILTER', 'INFO_ID', 'FORMAT', 'NA18534','NA18939','NA19036','NA19240','NA19650','NA19983','NA20509','NA20847','HG00096','HG00171','HG00514','HG00733','HG00864','HG01114','HG01505','HG01573','HG01596','HG02011','HG02018','HG02492','HG02587','HG03009','HG03065','HG03371','HG03683','HG03732', 'Sum'\n",
    "    ]]"
   ]
  },
  {
   "cell_type": "code",
   "execution_count": 14,
   "id": "external-truth",
   "metadata": {},
   "outputs": [
    {
     "data": {
      "text/plain": [
       "(13876, 35)"
      ]
     },
     "execution_count": 14,
     "metadata": {},
     "output_type": "execute_result"
    }
   ],
   "source": [
    "pangenie_DEL_sample_new_atleast3_50 = pangenie_DEL_sample_new_atleast3_new[pangenie_DEL_sample_new_atleast3_new['LEN'] >= 50]\n",
    "pangenie_DEL_sample_new_atleast3_50.shape"
   ]
  },
  {
   "cell_type": "code",
   "execution_count": 15,
   "id": "living-identifier",
   "metadata": {},
   "outputs": [
    {
     "data": {
      "text/plain": [
       "(12670, 4)"
      ]
     },
     "execution_count": 15,
     "metadata": {},
     "output_type": "execute_result"
    }
   ],
   "source": [
    "pangenie_DEL_sample_new_atleast3_50_zero = pangenie_DEL_sample_new_atleast3_50[pangenie_DEL_sample_new_atleast3_50.iloc[:, 8:].eq(0).any(1)]\n",
    "pangenie_DEL_sample_new_atleast3_50_start_end = pangenie_DEL_sample_new_atleast3_50_zero[['CHROM', 'START_POS', 'END_POS', 'INFO_ID']]\n",
    "pangenie_DEL_sample_new_atleast3_50_start_end.shape"
   ]
  },
  {
   "cell_type": "markdown",
   "id": "supported-image",
   "metadata": {},
   "source": [
    "### insertions"
   ]
  },
  {
   "cell_type": "code",
   "execution_count": 16,
   "id": "important-shape",
   "metadata": {},
   "outputs": [],
   "source": [
    "pangenie_INS_sample_new = pangenie_INS_sample[[\n",
    "'CHROM', 'FILTER', 'INFO_ID', 'FORMAT','NA18534','NA18939','NA19036','NA19240','NA19650','NA19983','NA20509','NA20847','HG00096','HG00171','HG00514','HG00733','HG00864','HG01114','HG01505','HG01573','HG01596','HG02011','HG02018','HG02492','HG02587','HG03009','HG03065','HG03371','HG03683','HG03732'\n",
    "    ]]\n",
    "##### removed NA12329"
   ]
  },
  {
   "cell_type": "code",
   "execution_count": 18,
   "id": "selective-slovenia",
   "metadata": {},
   "outputs": [],
   "source": [
    "for col in pangenie_INS_sample_new.iloc[:, 4:]:\n",
    "    pangenie_INS_sample_new[col] = pangenie_INS_sample_new[col].str[:3]"
   ]
  },
  {
   "cell_type": "code",
   "execution_count": 20,
   "id": "rental-plaza",
   "metadata": {},
   "outputs": [],
   "source": [
    "for col in pangenie_INS_sample_new.columns:\n",
    "    pangenie_INS_sample_new.loc[pangenie_INS_sample_new[col].astype(str).str.startswith('0/0'), col] = '0'\n",
    "    pangenie_INS_sample_new.loc[pangenie_INS_sample_new[col].astype(str).str.startswith('.:.'), col] = '0'\n",
    "    pangenie_INS_sample_new.loc[pangenie_INS_sample_new[col].astype(str).str.startswith('0/1'), col] = '1'\n",
    "    pangenie_INS_sample_new.loc[pangenie_INS_sample_new[col].astype(str).str.startswith('1/0'), col] = '1'\n",
    "    pangenie_INS_sample_new.loc[pangenie_INS_sample_new[col].astype(str).str.startswith('1/1'), col] = '1'"
   ]
  },
  {
   "cell_type": "code",
   "execution_count": 22,
   "id": "sharp-blake",
   "metadata": {},
   "outputs": [],
   "source": [
    "pangenie_INS_sample_new.iloc[:,4: ] = pangenie_INS_sample_new.iloc[:,4: ].astype(str).astype(int)\n",
    "pangenie_INS_sample_new['Sum']=pangenie_INS_sample_new.iloc[:,4: ].sum(axis=1)\n",
    "pangenie_INS_sample_new_atleast3 = pangenie_INS_sample_new[pangenie_INS_sample_new['Sum'].astype(int) >= 5]\n",
    "pangenie_INS_sample_new_atleast3['START_POS'] = pangenie_INS_sample_new_atleast3['INFO_ID'].str.split('-', expand=True)[1]\n",
    "pangenie_INS_sample_new_atleast3['TYPE'] = pangenie_INS_sample_new_atleast3['INFO_ID'].str.split('-', expand=True)[2]\n",
    "pangenie_INS_sample_new_atleast3['LEN'] = pangenie_INS_sample_new_atleast3['INFO_ID'].str.split('-', expand=True)[3]\n",
    "pangenie_INS_sample_new_atleast3.iloc[:,[31,33]] = pangenie_INS_sample_new_atleast3.iloc[:,[31,33]].astype(str).astype(int)\n",
    "pangenie_INS_sample_new_atleast3['END_POS'] = pangenie_INS_sample_new_atleast3['START_POS']\n",
    "pangenie_INS_sample_new_atleast3_new = pangenie_INS_sample_new_atleast3[[\n",
    "'CHROM', 'START_POS','END_POS', 'TYPE','LEN', 'FILTER', 'INFO_ID', 'FORMAT', 'NA18534','NA18939','NA19036','NA19240','NA19650','NA19983','NA20509','NA20847','HG00096','HG00171','HG00514','HG00733','HG00864','HG01114','HG01505','HG01573','HG01596','HG02011','HG02018','HG02492','HG02587','HG03009','HG03065','HG03371','HG03683','HG03732', 'Sum'\n",
    "    ]]"
   ]
  },
  {
   "cell_type": "code",
   "execution_count": 23,
   "id": "happy-syndicate",
   "metadata": {},
   "outputs": [
    {
     "data": {
      "text/plain": [
       "(19992, 35)"
      ]
     },
     "execution_count": 23,
     "metadata": {},
     "output_type": "execute_result"
    }
   ],
   "source": [
    "pangenie_INS_sample_new_atleast3_50 = pangenie_INS_sample_new_atleast3_new[pangenie_INS_sample_new_atleast3_new['LEN'] >= 50]\n",
    "pangenie_INS_sample_new_atleast3_50.shape"
   ]
  },
  {
   "cell_type": "code",
   "execution_count": 24,
   "id": "documentary-interval",
   "metadata": {},
   "outputs": [
    {
     "data": {
      "text/plain": [
       "(17279, 4)"
      ]
     },
     "execution_count": 24,
     "metadata": {},
     "output_type": "execute_result"
    }
   ],
   "source": [
    "pangenie_INS_sample_new_atleast3_50_zero = pangenie_INS_sample_new_atleast3_50[pangenie_INS_sample_new_atleast3_50.iloc[:, 8:].eq(0).any(1)]\n",
    "pangenie_INS_sample_new_atleast3_50_start_end = pangenie_INS_sample_new_atleast3_50_zero[['CHROM', 'START_POS', 'END_POS', 'INFO_ID']]\n",
    "pangenie_INS_sample_new_atleast3_50_start_end.shape"
   ]
  },
  {
   "cell_type": "markdown",
   "id": "pacific-anthropology",
   "metadata": {},
   "source": [
    "## SVs' impact on boundary strength"
   ]
  },
  {
   "cell_type": "code",
   "execution_count": 25,
   "id": "distinct-syndicate",
   "metadata": {},
   "outputs": [],
   "source": [
    "all_DEL_merged = pd.read_csv('all_DEL_26merged_cutoff_flank_inter30_5kb_boundaries_100kb_only01_new10kb.bed', sep='\\t', header=None)\n",
    "all_DEL_merged.columns =['CHROM', 'START_POS', 'END_POS', 'INFO_ID', 'BOUND_CHR', 'FLANK_START', 'FLANK_END', 'BOUND_SCORE']"
   ]
  },
  {
   "cell_type": "code",
   "execution_count": 26,
   "id": "innovative-writer",
   "metadata": {},
   "outputs": [
    {
     "data": {
      "text/plain": [
       "(12729, 8)"
      ]
     },
     "execution_count": 26,
     "metadata": {},
     "output_type": "execute_result"
    }
   ],
   "source": [
    "all_DEL_merged.shape"
   ]
  },
  {
   "cell_type": "code",
   "execution_count": 27,
   "id": "sorted-arrival",
   "metadata": {},
   "outputs": [],
   "source": [
    "all_INS_merged = pd.read_csv('all_INS_26merged_cutoff_flank_inter30_5kb_boundaries_100kb_only01_new10kb.bed', sep='\\t', header=None)\n",
    "all_INS_merged.columns =['CHROM', 'START_POS', 'END_POS', 'INFO_ID', 'BOUND_CHR', 'FLANK_START', 'FLANK_END', 'BOUND_SCORE']"
   ]
  },
  {
   "cell_type": "code",
   "execution_count": 28,
   "id": "interior-hearts",
   "metadata": {},
   "outputs": [
    {
     "data": {
      "text/plain": [
       "(17331, 8)"
      ]
     },
     "execution_count": 28,
     "metadata": {},
     "output_type": "execute_result"
    }
   ],
   "source": [
    "all_INS_merged.shape"
   ]
  },
  {
   "cell_type": "code",
   "execution_count": 29,
   "id": "hungarian-diagnosis",
   "metadata": {},
   "outputs": [],
   "source": [
    "all_DEL_boundary_1 = all_DEL_merged.loc[all_DEL_merged.iloc[:, 4] != '.']\n",
    "all_DEL_boundary_2 = all_DEL_boundary_1.reset_index(drop=True)"
   ]
  },
  {
   "cell_type": "code",
   "execution_count": 30,
   "id": "artistic-sunday",
   "metadata": {},
   "outputs": [
    {
     "data": {
      "text/plain": [
       "(1812, 8)"
      ]
     },
     "execution_count": 30,
     "metadata": {},
     "output_type": "execute_result"
    }
   ],
   "source": [
    "all_DEL_boundary_2.shape"
   ]
  },
  {
   "cell_type": "code",
   "execution_count": 31,
   "id": "norwegian-religious",
   "metadata": {},
   "outputs": [],
   "source": [
    "all_INS_boundary_1 = all_INS_merged.loc[all_INS_merged.iloc[:, 4] != '.']\n",
    "all_INS_boundary_2 = all_INS_boundary_1.reset_index(drop=True)"
   ]
  },
  {
   "cell_type": "code",
   "execution_count": 32,
   "id": "global-twelve",
   "metadata": {},
   "outputs": [
    {
     "data": {
      "text/plain": [
       "(2596, 8)"
      ]
     },
     "execution_count": 32,
     "metadata": {},
     "output_type": "execute_result"
    }
   ],
   "source": [
    "all_INS_boundary_2.shape"
   ]
  },
  {
   "cell_type": "code",
   "execution_count": 33,
   "id": "biological-mississippi",
   "metadata": {},
   "outputs": [],
   "source": [
    "sample_ids = ['GM18534','GM18939','GM19036','GM19240','GM19650','GM19833','GM20509','GM20847','HG00096','HG00171',\n",
    "              'HG00514','HG00733','HG00864','HG01114','HG01505','HG01573','HG01596','HG02011','HG02018','HG02492',\n",
    "              'HG02587','HG03009','HG03065','HG03371','HG03683','HG03732']\n",
    "file_directory = '/home/Hi-C'\n",
    "import glob\n",
    "for i in sample_ids:\n",
    "    file_pattern = os.path.join(file_directory, f\"experiment_{i}/aligned/fanc_insulation_SCALE/BS_cutoff_inter30_10kb.boundaries_100kb_new10kb.bed\")\n",
    "    sample_file = glob.glob(file_pattern)\n",
    "    sample_merged_BS = pd.read_csv(sample_file[0], sep='\\t', header=None)\n",
    "    sample_merged_BS =sample_merged_BS[[0, 1, 2, 3, 4, 5, 6, 8]]\n",
    "    sample_merged_BS.columns =['BOUND_CHR', 'FLANK_START', 'FLANK_END', 'BOUND_SCORE','BOUND_CHR_samp', 'BOUND_START_samp', 'BOUND_END_samp', 'BOUND_SCORE_samp']\n",
    "    sample_merged_BS_1 = sample_merged_BS.groupby(['BOUND_CHR', 'FLANK_START', 'FLANK_END'], as_index=False)['BOUND_SCORE_samp'].median()\n",
    "    all_DEL_boundary_2[i] = all_DEL_boundary_2.merge(sample_merged_BS_1, how=\"left\", left_on=[\"BOUND_CHR\", \"FLANK_START\", \"FLANK_END\"], right_on=[\"BOUND_CHR\", \"FLANK_START\", \"FLANK_END\"])['BOUND_SCORE_samp']\n",
    "    all_INS_boundary_2[i] = all_INS_boundary_2.merge(sample_merged_BS_1, how=\"left\", left_on=[\"BOUND_CHR\", \"FLANK_START\", \"FLANK_END\"], right_on=[\"BOUND_CHR\", \"FLANK_START\", \"FLANK_END\"])['BOUND_SCORE_samp']"
   ]
  },
  {
   "cell_type": "markdown",
   "id": "after-demographic",
   "metadata": {},
   "source": [
    "#### Mann-Whitney U test for genotypes and boundary scores"
   ]
  },
  {
   "cell_type": "code",
   "execution_count": 36,
   "id": "governmental-tulsa",
   "metadata": {},
   "outputs": [
    {
     "data": {
      "text/plain": [
       "(1812, 34)"
      ]
     },
     "execution_count": 36,
     "metadata": {},
     "output_type": "execute_result"
    }
   ],
   "source": [
    "all_DEL_boundary_2.shape"
   ]
  },
  {
   "cell_type": "code",
   "execution_count": 37,
   "id": "saving-interface",
   "metadata": {},
   "outputs": [
    {
     "data": {
      "text/plain": [
       "(2596, 34)"
      ]
     },
     "execution_count": 37,
     "metadata": {},
     "output_type": "execute_result"
    }
   ],
   "source": [
    "all_INS_boundary_2.shape"
   ]
  },
  {
   "cell_type": "code",
   "execution_count": 38,
   "id": "international-prison",
   "metadata": {},
   "outputs": [],
   "source": [
    "all_DEL_boundary_2['num_NaNs'] = all_DEL_boundary_2.iloc[:, 8:].isna().sum(1)\n",
    "all_INS_boundary_2['num_NaNs'] = all_INS_boundary_2.iloc[:, 8:].isna().sum(1)"
   ]
  },
  {
   "cell_type": "code",
   "execution_count": 39,
   "id": "productive-administration",
   "metadata": {},
   "outputs": [
    {
     "data": {
      "text/plain": [
       "26"
      ]
     },
     "execution_count": 39,
     "metadata": {},
     "output_type": "execute_result"
    }
   ],
   "source": [
    "all_DEL_boundary_2['num_NaNs'].max()"
   ]
  },
  {
   "cell_type": "code",
   "execution_count": 40,
   "id": "rubber-beach",
   "metadata": {},
   "outputs": [
    {
     "data": {
      "text/plain": [
       "26"
      ]
     },
     "execution_count": 40,
     "metadata": {},
     "output_type": "execute_result"
    }
   ],
   "source": [
    "all_INS_boundary_2['num_NaNs'].max()"
   ]
  },
  {
   "cell_type": "code",
   "execution_count": 41,
   "id": "finite-elephant",
   "metadata": {},
   "outputs": [
    {
     "data": {
      "text/plain": [
       "Int64Index([  12,   19,   76,  274,  275,  321,  331,  332,  370,  371,  420,\n",
       "             612,  615,  661,  662,  668,  669,  670,  755,  756,  818,  892,\n",
       "             905,  906, 1045, 1110, 1196, 1358, 1360, 1362, 1364, 1369, 1370,\n",
       "            1371, 1372, 1450, 1451, 1456, 1533, 1534, 1660, 1661, 1676, 1680,\n",
       "            1726],\n",
       "           dtype='int64')"
      ]
     },
     "execution_count": 41,
     "metadata": {},
     "output_type": "execute_result"
    }
   ],
   "source": [
    "all_DEL_boundary_2[all_DEL_boundary_2['num_NaNs'] == 26].index"
   ]
  },
  {
   "cell_type": "code",
   "execution_count": 42,
   "id": "featured-causing",
   "metadata": {},
   "outputs": [
    {
     "data": {
      "text/plain": [
       "Int64Index([ 128,  129,  386,  387,  417,  577,  642,  730,  933,  962,  963,\n",
       "             965,  966,  967,  981,  982,  983,  984,  985, 1017, 1020, 1100,\n",
       "            1123, 1170, 1171, 1172, 1312, 1333, 1338, 1339, 1343, 1541, 1542,\n",
       "            1548, 1583, 1786, 1925, 1926, 1928, 1937, 1938, 1939, 1940, 1988,\n",
       "            2082, 2086, 2171, 2183, 2184, 2518, 2555],\n",
       "           dtype='int64')"
      ]
     },
     "execution_count": 42,
     "metadata": {},
     "output_type": "execute_result"
    }
   ],
   "source": [
    "all_INS_boundary_2[all_INS_boundary_2['num_NaNs'] == 26].index"
   ]
  },
  {
   "cell_type": "code",
   "execution_count": 43,
   "id": "amino-bosnia",
   "metadata": {},
   "outputs": [],
   "source": [
    "all_DEL_boundary_2_noNA = all_DEL_boundary_2[all_DEL_boundary_2.num_NaNs < 26]\n",
    "all_INS_boundary_2_noNA = all_INS_boundary_2[all_INS_boundary_2.num_NaNs < 26]"
   ]
  },
  {
   "cell_type": "code",
   "execution_count": 46,
   "id": "parliamentary-concrete",
   "metadata": {},
   "outputs": [],
   "source": [
    "# Replace NaN Values with Zeros, because those NA boundary scores mean there is no boundary, so we can changed them to zero\n",
    "all_DEL_boundary_3 = all_DEL_boundary_2_noNA.fillna(0).drop_duplicates()\n",
    "all_INS_boundary_3 = all_INS_boundary_2_noNA.fillna(0).drop_duplicates()\n",
    "all_DEL_boundary_3 = all_DEL_boundary_3.reset_index(drop=True)\n",
    "all_INS_boundary_3 = all_INS_boundary_3.reset_index(drop=True)"
   ]
  },
  {
   "cell_type": "code",
   "execution_count": 47,
   "id": "missing-layout",
   "metadata": {},
   "outputs": [
    {
     "data": {
      "text/plain": [
       "(1767, 35)"
      ]
     },
     "execution_count": 47,
     "metadata": {},
     "output_type": "execute_result"
    }
   ],
   "source": [
    "all_DEL_boundary_3.shape"
   ]
  },
  {
   "cell_type": "code",
   "execution_count": 48,
   "id": "creative-lemon",
   "metadata": {},
   "outputs": [
    {
     "data": {
      "text/plain": [
       "(2545, 35)"
      ]
     },
     "execution_count": 48,
     "metadata": {},
     "output_type": "execute_result"
    }
   ],
   "source": [
    "all_INS_boundary_3.shape"
   ]
  },
  {
   "cell_type": "code",
   "execution_count": 49,
   "id": "digital-observer",
   "metadata": {},
   "outputs": [
    {
     "data": {
      "text/plain": [
       "1712"
      ]
     },
     "execution_count": 49,
     "metadata": {},
     "output_type": "execute_result"
    }
   ],
   "source": [
    "all_DEL_boundary_id = list(all_DEL_boundary_3['INFO_ID'])\n",
    "DEL_list = list(set(all_DEL_boundary_id))\n",
    "len(DEL_list)"
   ]
  },
  {
   "cell_type": "code",
   "execution_count": 50,
   "id": "rotary-meditation",
   "metadata": {},
   "outputs": [
    {
     "data": {
      "text/plain": [
       "2495"
      ]
     },
     "execution_count": 50,
     "metadata": {},
     "output_type": "execute_result"
    }
   ],
   "source": [
    "all_INS_boundary_id = list(all_INS_boundary_3['INFO_ID'])\n",
    "INS_list = list(set(all_INS_boundary_id))\n",
    "len(INS_list)"
   ]
  },
  {
   "cell_type": "code",
   "execution_count": 52,
   "id": "multiple-mouth",
   "metadata": {},
   "outputs": [],
   "source": [
    "DEL_genotype = pd.read_csv('pangenie_svs_26sample_ALL_DEL_atleast3_50_genotype_only01.bed', sep='\\t', header=0)\n",
    "INS_genotype = pd.read_csv('pangenie_svs_26sample_ALL_INS_atleast3_50_genotype_only01.bed', sep='\\t', header=0)\n",
    "DEL_genotype_1 = DEL_genotype.iloc[:, :-1]\n",
    "INS_genotype_1 = INS_genotype.iloc[:, :-1]\n",
    "DEL_boundary_genotype = DEL_genotype_1[DEL_genotype_1['INFO_ID'].isin(all_DEL_boundary_id)]\n",
    "INS_boundary_genotype = INS_genotype_1[INS_genotype_1['INFO_ID'].isin(all_INS_boundary_id)]\n",
    "DEL_boundary_genotype = DEL_boundary_genotype[[\n",
    "'CHROM', 'START_POS', 'END_POS', 'TYPE', 'LEN', 'FILTER', 'INFO_ID','FORMAT','NA18534','NA18939','NA19036','NA19240','NA19650','NA19983','NA20509','NA20847','HG00096','HG00171','HG00514','HG00733','HG00864','HG01114','HG01505','HG01573','HG01596','HG02011','HG02018','HG02492','HG02587','HG03009','HG03065','HG03371','HG03683','HG03732'\n",
    "    ]]\n",
    "INS_boundary_genotype = INS_boundary_genotype[[\n",
    "'CHROM', 'START_POS', 'END_POS', 'TYPE', 'LEN', 'FILTER', 'INFO_ID','FORMAT','NA18534','NA18939','NA19036','NA19240','NA19650','NA19983','NA20509','NA20847','HG00096','HG00171','HG00514','HG00733','HG00864','HG01114','HG01505','HG01573','HG01596','HG02011','HG02018','HG02492','HG02587','HG03009','HG03065','HG03371','HG03683','HG03732'\n",
    "    ]]"
   ]
  },
  {
   "cell_type": "code",
   "execution_count": 53,
   "id": "million-newsletter",
   "metadata": {},
   "outputs": [
    {
     "data": {
      "text/plain": [
       "(1712, 34)"
      ]
     },
     "execution_count": 53,
     "metadata": {},
     "output_type": "execute_result"
    }
   ],
   "source": [
    "DEL_boundary_genotype_1 = DEL_boundary_genotype.reset_index(drop=True)\n",
    "DEL_boundary_genotype_1.shape"
   ]
  },
  {
   "cell_type": "code",
   "execution_count": 54,
   "id": "marine-resolution",
   "metadata": {},
   "outputs": [
    {
     "data": {
      "text/plain": [
       "(2495, 34)"
      ]
     },
     "execution_count": 54,
     "metadata": {},
     "output_type": "execute_result"
    }
   ],
   "source": [
    "INS_boundary_genotype_1 = INS_boundary_genotype.reset_index(drop=True)\n",
    "INS_boundary_genotype_1.shape"
   ]
  },
  {
   "cell_type": "code",
   "execution_count": 57,
   "id": "surrounded-reviewer",
   "metadata": {},
   "outputs": [],
   "source": [
    "### test for genotypes 0 and 1 (binary genotypes, only 0/0 and others)\n",
    "pvalue= []\n",
    "\n",
    "for i in range(0, len(all_DEL_boundary_3)):\n",
    "    DEL_boundary_genotype_all = DEL_boundary_genotype_1[DEL_boundary_genotype_1.loc[:,'INFO_ID'] == all_DEL_boundary_3.loc[i,'INFO_ID']].iloc[:,8:]\n",
    "    genotypes_list = DEL_boundary_genotype_all.iloc[0].values.tolist()\n",
    "    boundary_score_list = all_DEL_boundary_3.iloc[i,8:34].values.tolist()\n",
    "\n",
    "    df = pd.DataFrame({'genotypes' : genotypes_list,\n",
    "                   'boundary_score' : boundary_score_list})\n",
    "    \n",
    "    df_new = df.assign(BS=df.groupby('genotypes').cumcount()).pivot('BS','genotypes','boundary_score')\n",
    "      \n",
    "    try:\n",
    "        U, p = mannwhitneyu(x=df_new[0].dropna().tolist(), y=df_new[1].dropna().tolist(), method=\"exact\", alternative = 'two-sided')\n",
    "        #print (p)\n",
    "        \n",
    "    except ValueError:\n",
    "        p = 'NA'\n",
    "        #print (p)\n",
    "    \n",
    "    pvalue.append(p)\n",
    "    \n",
    "all_DEL_boundary_3['pvalue_0_1'] = pvalue"
   ]
  },
  {
   "cell_type": "code",
   "execution_count": 58,
   "id": "metallic-equipment",
   "metadata": {
    "scrolled": false
   },
   "outputs": [],
   "source": [
    "### test for genotypes 0 and 1 (binary genotypes, only 0/0 and others)\n",
    "pvalue= []\n",
    "\n",
    "for i in range(0, len(all_INS_boundary_3)):\n",
    "    INS_boundary_genotype_all = INS_boundary_genotype_1[INS_boundary_genotype_1.loc[:,'INFO_ID'] == all_INS_boundary_3.loc[i,'INFO_ID']].iloc[:,8:]\n",
    "    genotypes_list = INS_boundary_genotype_all.iloc[0].values.tolist()\n",
    "    boundary_score_list = all_INS_boundary_3.iloc[i,8:34].values.tolist()\n",
    "\n",
    "    df = pd.DataFrame({'genotypes' : genotypes_list,\n",
    "                   'boundary_score' : boundary_score_list})\n",
    "    \n",
    "    df_new = df.assign(BS=df.groupby('genotypes').cumcount()).pivot('BS','genotypes','boundary_score')\n",
    "      \n",
    "    try:\n",
    "        U, p = mannwhitneyu(x=df_new[0].dropna().tolist(), y=df_new[1].dropna().tolist(), method=\"exact\", alternative = 'two-sided')\n",
    "        #print (p)\n",
    "        \n",
    "    except ValueError:\n",
    "        p = 'NA'\n",
    "        #print (p)\n",
    "    \n",
    "    pvalue.append(p)\n",
    "    \n",
    "all_INS_boundary_3['pvalue_0_1'] = pvalue"
   ]
  },
  {
   "cell_type": "code",
   "execution_count": 59,
   "id": "enhanced-increase",
   "metadata": {},
   "outputs": [],
   "source": [
    "def fdr_correction(group):\n",
    "    _, corrected_pvalues, _, _ = multipletests(group['pvalue_0_1'], method='fdr_bh')\n",
    "    group['qvalue'] = corrected_pvalues\n",
    "    return group"
   ]
  },
  {
   "cell_type": "code",
   "execution_count": 60,
   "id": "prescribed-breakdown",
   "metadata": {},
   "outputs": [
    {
     "data": {
      "text/plain": [
       "(1767, 37)"
      ]
     },
     "execution_count": 60,
     "metadata": {},
     "output_type": "execute_result"
    }
   ],
   "source": [
    "corrected_del = all_DEL_boundary_3.groupby('INFO_ID').apply(fdr_correction)\n",
    "corrected_del.shape"
   ]
  },
  {
   "cell_type": "code",
   "execution_count": 61,
   "id": "opponent-charter",
   "metadata": {},
   "outputs": [
    {
     "data": {
      "text/plain": [
       "(2545, 37)"
      ]
     },
     "execution_count": 61,
     "metadata": {},
     "output_type": "execute_result"
    }
   ],
   "source": [
    "corrected_ins = all_INS_boundary_3.groupby('INFO_ID').apply(fdr_correction)\n",
    "corrected_ins.shape"
   ]
  },
  {
   "cell_type": "code",
   "execution_count": 62,
   "id": "maritime-target",
   "metadata": {},
   "outputs": [
    {
     "data": {
      "text/plain": [
       "(65, 37)"
      ]
     },
     "execution_count": 62,
     "metadata": {},
     "output_type": "execute_result"
    }
   ],
   "source": [
    "all_DEL_boundary_3_sig = corrected_del[corrected_del['qvalue'] < 0.05]\n",
    "all_DEL_boundary_3_sig.shape"
   ]
  },
  {
   "cell_type": "code",
   "execution_count": 63,
   "id": "becoming-premises",
   "metadata": {},
   "outputs": [
    {
     "data": {
      "text/plain": [
       "(120, 37)"
      ]
     },
     "execution_count": 63,
     "metadata": {},
     "output_type": "execute_result"
    }
   ],
   "source": [
    "all_INS_boundary_3_sig = corrected_ins[corrected_ins['qvalue'] < 0.05]\n",
    "all_INS_boundary_3_sig.shape"
   ]
  },
  {
   "cell_type": "code",
   "execution_count": 64,
   "id": "illegal-occasions",
   "metadata": {},
   "outputs": [
    {
     "data": {
      "text/plain": [
       "64"
      ]
     },
     "execution_count": 64,
     "metadata": {},
     "output_type": "execute_result"
    }
   ],
   "source": [
    "len(all_DEL_boundary_3_sig['INFO_ID'].drop_duplicates())"
   ]
  },
  {
   "cell_type": "code",
   "execution_count": 65,
   "id": "demanding-collection",
   "metadata": {},
   "outputs": [
    {
     "data": {
      "text/plain": [
       "120"
      ]
     },
     "execution_count": 65,
     "metadata": {},
     "output_type": "execute_result"
    }
   ],
   "source": [
    "len(all_INS_boundary_3_sig['INFO_ID'].drop_duplicates())"
   ]
  },
  {
   "cell_type": "markdown",
   "id": "institutional-patent",
   "metadata": {},
   "source": [
    "#### Visualization of chr8-644401-DEL-5014 and chr19-37789443-INS-1092"
   ]
  },
  {
   "cell_type": "code",
   "execution_count": 66,
   "id": "photographic-clerk",
   "metadata": {},
   "outputs": [
    {
     "data": {
      "text/html": [
       "<div>\n",
       "<style scoped>\n",
       "    .dataframe tbody tr th:only-of-type {\n",
       "        vertical-align: middle;\n",
       "    }\n",
       "\n",
       "    .dataframe tbody tr th {\n",
       "        vertical-align: top;\n",
       "    }\n",
       "\n",
       "    .dataframe thead th {\n",
       "        text-align: right;\n",
       "    }\n",
       "</style>\n",
       "<table border=\"1\" class=\"dataframe\">\n",
       "  <thead>\n",
       "    <tr style=\"text-align: right;\">\n",
       "      <th></th>\n",
       "      <th>CHROM</th>\n",
       "      <th>START_POS</th>\n",
       "      <th>END_POS</th>\n",
       "      <th>INFO_ID</th>\n",
       "      <th>BOUND_CHR</th>\n",
       "      <th>FLANK_START</th>\n",
       "      <th>FLANK_END</th>\n",
       "      <th>BOUND_SCORE</th>\n",
       "      <th>GM18534</th>\n",
       "      <th>GM18939</th>\n",
       "      <th>...</th>\n",
       "      <th>HG02492</th>\n",
       "      <th>HG02587</th>\n",
       "      <th>HG03009</th>\n",
       "      <th>HG03065</th>\n",
       "      <th>HG03371</th>\n",
       "      <th>HG03683</th>\n",
       "      <th>HG03732</th>\n",
       "      <th>num_NaNs</th>\n",
       "      <th>pvalue_0_1</th>\n",
       "      <th>qvalue</th>\n",
       "    </tr>\n",
       "  </thead>\n",
       "  <tbody>\n",
       "    <tr>\n",
       "      <th>1625</th>\n",
       "      <td>chr8</td>\n",
       "      <td>644401</td>\n",
       "      <td>649414</td>\n",
       "      <td>chr8-644401-DEL-5014</td>\n",
       "      <td>chr8</td>\n",
       "      <td>640001</td>\n",
       "      <td>665000</td>\n",
       "      <td>0.2359586358070373</td>\n",
       "      <td>0.733518</td>\n",
       "      <td>0.0</td>\n",
       "      <td>...</td>\n",
       "      <td>0.0</td>\n",
       "      <td>1.323045</td>\n",
       "      <td>0.953547</td>\n",
       "      <td>1.064899</td>\n",
       "      <td>0.0</td>\n",
       "      <td>0.0</td>\n",
       "      <td>0.0</td>\n",
       "      <td>14</td>\n",
       "      <td>0.002524</td>\n",
       "      <td>0.002524</td>\n",
       "    </tr>\n",
       "    <tr>\n",
       "      <th>1626</th>\n",
       "      <td>chr8</td>\n",
       "      <td>644401</td>\n",
       "      <td>649414</td>\n",
       "      <td>chr8-644401-DEL-5014</td>\n",
       "      <td>chr8</td>\n",
       "      <td>645001</td>\n",
       "      <td>670000</td>\n",
       "      <td>0.2359586358070373</td>\n",
       "      <td>0.733518</td>\n",
       "      <td>0.0</td>\n",
       "      <td>...</td>\n",
       "      <td>0.0</td>\n",
       "      <td>1.323045</td>\n",
       "      <td>0.953547</td>\n",
       "      <td>1.064899</td>\n",
       "      <td>0.0</td>\n",
       "      <td>0.0</td>\n",
       "      <td>0.0</td>\n",
       "      <td>14</td>\n",
       "      <td>0.002524</td>\n",
       "      <td>0.002524</td>\n",
       "    </tr>\n",
       "  </tbody>\n",
       "</table>\n",
       "<p>2 rows × 37 columns</p>\n",
       "</div>"
      ],
      "text/plain": [
       "     CHROM  START_POS  END_POS               INFO_ID BOUND_CHR  FLANK_START  \\\n",
       "1625  chr8     644401   649414  chr8-644401-DEL-5014      chr8       640001   \n",
       "1626  chr8     644401   649414  chr8-644401-DEL-5014      chr8       645001   \n",
       "\n",
       "      FLANK_END         BOUND_SCORE   GM18534  GM18939  ...  HG02492  \\\n",
       "1625     665000  0.2359586358070373  0.733518      0.0  ...      0.0   \n",
       "1626     670000  0.2359586358070373  0.733518      0.0  ...      0.0   \n",
       "\n",
       "       HG02587   HG03009   HG03065  HG03371  HG03683  HG03732  num_NaNs  \\\n",
       "1625  1.323045  0.953547  1.064899      0.0      0.0      0.0        14   \n",
       "1626  1.323045  0.953547  1.064899      0.0      0.0      0.0        14   \n",
       "\n",
       "      pvalue_0_1    qvalue  \n",
       "1625    0.002524  0.002524  \n",
       "1626    0.002524  0.002524  \n",
       "\n",
       "[2 rows x 37 columns]"
      ]
     },
     "execution_count": 66,
     "metadata": {},
     "output_type": "execute_result"
    }
   ],
   "source": [
    "all_DEL_boundary_3_sig[all_DEL_boundary_3_sig['INFO_ID'] == 'chr8-644401-DEL-5014']"
   ]
  },
  {
   "cell_type": "code",
   "execution_count": 86,
   "id": "trying-permission",
   "metadata": {},
   "outputs": [],
   "source": [
    "boundary_score_list = all_DEL_boundary_3_sig.loc[1625][8:34].values.tolist()\n",
    "DEL_boundary_genotype_all = DEL_boundary_genotype_1[DEL_boundary_genotype_1.loc[:,'INFO_ID'] == all_DEL_boundary_3_sig.loc[1625]['INFO_ID']].iloc[:,8:]\n",
    "genotypes_list = DEL_boundary_genotype_all.iloc[0].values.tolist()\n",
    "df_DEL = pd.DataFrame({'genotypes' : genotypes_list,\n",
    "                   'boundary_score' : boundary_score_list})    \n",
    "df_DEL_new = df_DEL.assign(BS=df_DEL.groupby('genotypes').cumcount()).pivot('BS','genotypes','boundary_score')"
   ]
  },
  {
   "cell_type": "code",
   "execution_count": 197,
   "id": "spatial-bearing",
   "metadata": {},
   "outputs": [
    {
     "data": {
      "image/png": "[encoded data removed]",
      "text/plain": [
       "<Figure size 288x288 with 1 Axes>"
      ]
     },
     "metadata": {},
     "output_type": "display_data"
    }
   ],
   "source": [
    "# Set Seaborn's default style and color palette\n",
    "sns.set_style(\"whitegrid\")\n",
    "sns.set_palette(\"pastel\")\n",
    "\n",
    "# Create the boxplot using Seaborn\n",
    "plt.figure(figsize=(4, 4))  # Adjust the figure size\n",
    "ax = sns.boxplot(data=df_DEL_new[[0, 1]], palette=\"pastel\", medianprops=dict(color='red'), width=0.5)\n",
    "\n",
    "# Set labels, titles, and other properties\n",
    "ax.set_ylabel('Boundary scores', fontsize=13, labelpad=20)\n",
    "ax.set_xlabel('Genotypes', fontsize=13)\n",
    "ax.set_title('chr8-644401-DEL-5014', pad=20, fontsize=14, fontweight='bold')\n",
    "\n",
    "# Display the plot\n",
    "plt.tight_layout()\n",
    "\n",
    "# statistical annotation\n",
    "x1, x2 = 0, 1   # columns 'Sat' and 'Sun' (first column: 0, see plt.xticks())\n",
    "y, h, col = df_DEL_new[1].max() + 0.2, 0.1, 'k'\n",
    "\n",
    "plt.plot([x1, x1, x2, x2], [y, y+h, y+h, y], lw=1.1, c=col)\n",
    "plt.text((x1+x2)*.5, y+h, \"p-value = 0.0025\", ha='center', va='bottom', color=col)\n",
    "\n",
    "plt.show()"
   ]
  },
  {
   "cell_type": "code",
   "execution_count": 94,
   "id": "collected-kitchen",
   "metadata": {},
   "outputs": [
    {
     "data": {
      "text/html": [
       "<div>\n",
       "<style scoped>\n",
       "    .dataframe tbody tr th:only-of-type {\n",
       "        vertical-align: middle;\n",
       "    }\n",
       "\n",
       "    .dataframe tbody tr th {\n",
       "        vertical-align: top;\n",
       "    }\n",
       "\n",
       "    .dataframe thead th {\n",
       "        text-align: right;\n",
       "    }\n",
       "</style>\n",
       "<table border=\"1\" class=\"dataframe\">\n",
       "  <thead>\n",
       "    <tr style=\"text-align: right;\">\n",
       "      <th></th>\n",
       "      <th>CHROM</th>\n",
       "      <th>START_POS</th>\n",
       "      <th>END_POS</th>\n",
       "      <th>INFO_ID</th>\n",
       "      <th>BOUND_CHR</th>\n",
       "      <th>FLANK_START</th>\n",
       "      <th>FLANK_END</th>\n",
       "      <th>BOUND_SCORE</th>\n",
       "      <th>GM18534</th>\n",
       "      <th>GM18939</th>\n",
       "      <th>...</th>\n",
       "      <th>HG02492</th>\n",
       "      <th>HG02587</th>\n",
       "      <th>HG03009</th>\n",
       "      <th>HG03065</th>\n",
       "      <th>HG03371</th>\n",
       "      <th>HG03683</th>\n",
       "      <th>HG03732</th>\n",
       "      <th>num_NaNs</th>\n",
       "      <th>pvalue_0_1</th>\n",
       "      <th>qvalue</th>\n",
       "    </tr>\n",
       "  </thead>\n",
       "  <tbody>\n",
       "    <tr>\n",
       "      <th>1194</th>\n",
       "      <td>chr19</td>\n",
       "      <td>37789443</td>\n",
       "      <td>37789443</td>\n",
       "      <td>chr19-37789443-INS-1092</td>\n",
       "      <td>chr19</td>\n",
       "      <td>37780001</td>\n",
       "      <td>37805000</td>\n",
       "      <td>0.2639830112457275</td>\n",
       "      <td>1.533405</td>\n",
       "      <td>0.289078</td>\n",
       "      <td>...</td>\n",
       "      <td>0.373349</td>\n",
       "      <td>0.765727</td>\n",
       "      <td>0.34978</td>\n",
       "      <td>0.0</td>\n",
       "      <td>0.340655</td>\n",
       "      <td>0.0</td>\n",
       "      <td>0.61169</td>\n",
       "      <td>6</td>\n",
       "      <td>0.001807</td>\n",
       "      <td>0.001807</td>\n",
       "    </tr>\n",
       "  </tbody>\n",
       "</table>\n",
       "<p>1 rows × 37 columns</p>\n",
       "</div>"
      ],
      "text/plain": [
       "      CHROM  START_POS   END_POS                  INFO_ID BOUND_CHR  \\\n",
       "1194  chr19   37789443  37789443  chr19-37789443-INS-1092     chr19   \n",
       "\n",
       "      FLANK_START  FLANK_END         BOUND_SCORE   GM18534   GM18939  ...  \\\n",
       "1194     37780001   37805000  0.2639830112457275  1.533405  0.289078  ...   \n",
       "\n",
       "       HG02492   HG02587  HG03009  HG03065   HG03371  HG03683  HG03732  \\\n",
       "1194  0.373349  0.765727  0.34978      0.0  0.340655      0.0  0.61169   \n",
       "\n",
       "      num_NaNs  pvalue_0_1    qvalue  \n",
       "1194         6    0.001807  0.001807  \n",
       "\n",
       "[1 rows x 37 columns]"
      ]
     },
     "execution_count": 94,
     "metadata": {},
     "output_type": "execute_result"
    }
   ],
   "source": [
    "all_INS_boundary_3_sig[all_INS_boundary_3_sig['INFO_ID'] == 'chr19-37789443-INS-1092']"
   ]
  },
  {
   "cell_type": "code",
   "execution_count": 95,
   "id": "creative-stevens",
   "metadata": {},
   "outputs": [],
   "source": [
    "boundary_score_list = all_INS_boundary_3_sig.loc[1194][8:34].values.tolist()\n",
    "INS_boundary_genotype_all = INS_boundary_genotype_1[INS_boundary_genotype_1.loc[:,'INFO_ID'] == all_INS_boundary_3_sig.loc[1194]['INFO_ID']].iloc[:,8:]\n",
    "genotypes_list = INS_boundary_genotype_all.iloc[0].values.tolist()\n",
    "df_INS = pd.DataFrame({'genotypes' : genotypes_list,\n",
    "                   'boundary_score' : boundary_score_list})    \n",
    "df_INS_new = df_INS.assign(BS=df_INS.groupby('genotypes').cumcount()).pivot('BS','genotypes','boundary_score')"
   ]
  },
  {
   "cell_type": "code",
   "execution_count": 196,
   "id": "clinical-cooper",
   "metadata": {},
   "outputs": [
    {
     "data": {
      "image/png": "[encoded data removed]",
      "text/plain": [
       "<Figure size 288x288 with 1 Axes>"
      ]
     },
     "metadata": {},
     "output_type": "display_data"
    }
   ],
   "source": [
    "# Set Seaborn's default style and color palette\n",
    "sns.set_style(\"whitegrid\")\n",
    "sns.set_palette(\"pastel\")\n",
    "\n",
    "# Create the boxplot using Seaborn\n",
    "plt.figure(figsize=(4, 4))  # Adjust the figure size\n",
    "ax = sns.boxplot(data=df_INS_new[[0, 1]], palette=\"pastel\", medianprops=dict(color='red'), width=0.5)\n",
    "\n",
    "# Set labels, titles, and other properties\n",
    "ax.set_ylabel('Boundary scores', fontsize=13, labelpad=20)\n",
    "ax.set_xlabel('Genotypes', fontsize=13)\n",
    "ax.set_title('chr19-37789443-INS-1092', pad=20, fontsize=14, fontweight='bold')\n",
    "\n",
    "# Display the plot\n",
    "plt.tight_layout()\n",
    "\n",
    "# statistical annotation\n",
    "x1, x2 = 0, 1   # columns 'Sat' and 'Sun' (first column: 0, see plt.xticks())\n",
    "y, h, col = df_INS_new[1].max() + 0.2, 0.1, 'k'\n",
    "\n",
    "plt.plot([x1, x1, x2, x2], [y, y+h, y+h, y], lw=1.1, c=col)\n",
    "plt.text((x1+x2)*.5, y+h, \"p-value = 0.0018\", ha='center', va='bottom', color=col)\n",
    "\n",
    "plt.show()"
   ]
  },
  {
   "cell_type": "markdown",
   "id": "subjective-specialist",
   "metadata": {},
   "source": [
    "## SVs that significantly disrupt the TAD boundaries are also eQTLs"
   ]
  },
  {
   "cell_type": "code",
   "execution_count": 103,
   "id": "considerable-retailer",
   "metadata": {},
   "outputs": [],
   "source": [
    "eqtl = pd.read_csv('qtl_results_all_v4_fdr0.05.txt', sep='\\t')"
   ]
  },
  {
   "cell_type": "code",
   "execution_count": 104,
   "id": "demonstrated-labor",
   "metadata": {},
   "outputs": [
    {
     "data": {
      "text/plain": [
       "(850482, 29)"
      ]
     },
     "execution_count": 104,
     "metadata": {},
     "output_type": "execute_result"
    }
   ],
   "source": [
    "eqtl.shape"
   ]
  },
  {
   "cell_type": "code",
   "execution_count": 105,
   "id": "concrete-highland",
   "metadata": {},
   "outputs": [],
   "source": [
    "pangenie_svs_sample_DEL_eqtl = eqtl[(eqtl['snp_id'].isin(all_DEL_boundary_3_sig['INFO_ID']))]"
   ]
  },
  {
   "cell_type": "code",
   "execution_count": 106,
   "id": "mighty-warren",
   "metadata": {},
   "outputs": [
    {
     "data": {
      "text/plain": [
       "(15, 29)"
      ]
     },
     "execution_count": 106,
     "metadata": {},
     "output_type": "execute_result"
    }
   ],
   "source": [
    "pangenie_svs_sample_DEL_eqtl.shape"
   ]
  },
  {
   "cell_type": "code",
   "execution_count": 108,
   "id": "fuzzy-pitch",
   "metadata": {},
   "outputs": [
    {
     "data": {
      "text/plain": [
       "10"
      ]
     },
     "execution_count": 108,
     "metadata": {},
     "output_type": "execute_result"
    }
   ],
   "source": [
    "# number of unique deletions\n",
    "len(pangenie_svs_sample_DEL_eqtl['snp_id'].drop_duplicates())"
   ]
  },
  {
   "cell_type": "code",
   "execution_count": 109,
   "id": "elementary-lemon",
   "metadata": {},
   "outputs": [
    {
     "data": {
      "text/plain": [
       "15"
      ]
     },
     "execution_count": 109,
     "metadata": {},
     "output_type": "execute_result"
    }
   ],
   "source": [
    "# number of unique eGenes\n",
    "len(pangenie_svs_sample_DEL_eqtl['feature_id'].drop_duplicates())"
   ]
  },
  {
   "cell_type": "code",
   "execution_count": 110,
   "id": "graphic-offense",
   "metadata": {},
   "outputs": [],
   "source": [
    "pangenie_svs_sample_INS_eqtl = eqtl[(eqtl['snp_id'].isin(all_INS_boundary_3_sig['INFO_ID']))]"
   ]
  },
  {
   "cell_type": "code",
   "execution_count": 111,
   "id": "cross-touch",
   "metadata": {},
   "outputs": [
    {
     "data": {
      "text/plain": [
       "(20, 29)"
      ]
     },
     "execution_count": 111,
     "metadata": {},
     "output_type": "execute_result"
    }
   ],
   "source": [
    "pangenie_svs_sample_INS_eqtl.shape"
   ]
  },
  {
   "cell_type": "code",
   "execution_count": 112,
   "id": "casual-spain",
   "metadata": {},
   "outputs": [
    {
     "data": {
      "text/plain": [
       "10"
      ]
     },
     "execution_count": 112,
     "metadata": {},
     "output_type": "execute_result"
    }
   ],
   "source": [
    "# number of unique insertions\n",
    "len(pangenie_svs_sample_INS_eqtl['snp_id'].drop_duplicates())"
   ]
  },
  {
   "cell_type": "code",
   "execution_count": 113,
   "id": "specific-timeline",
   "metadata": {},
   "outputs": [
    {
     "data": {
      "text/plain": [
       "20"
      ]
     },
     "execution_count": 113,
     "metadata": {},
     "output_type": "execute_result"
    }
   ],
   "source": [
    "# number of unique eGenes\n",
    "len(pangenie_svs_sample_INS_eqtl['feature_id'].drop_duplicates())"
   ]
  },
  {
   "cell_type": "code",
   "execution_count": 115,
   "id": "organized-harassment",
   "metadata": {},
   "outputs": [],
   "source": [
    "eqtl_DEL_boundary_gene = list(pangenie_svs_sample_DEL_eqtl['feature_id'])\n",
    "eqtl_INS_boundary_gene = list(pangenie_svs_sample_INS_eqtl['feature_id'])"
   ]
  },
  {
   "cell_type": "code",
   "execution_count": 116,
   "id": "automotive-equity",
   "metadata": {},
   "outputs": [],
   "source": [
    "gene_expression = pd.read_csv('featureCounts_v2.genes.counts.edgeR.log.txt', sep='\\t', header=0)\n",
    "gene_expression_DEL_boundary = gene_expression.filter(items = eqtl_DEL_boundary_gene, axis=0)\n",
    "gene_expression_INS_boundary = gene_expression.filter(items = eqtl_INS_boundary_gene, axis=0)\n",
    "sample = ['NA18534','NA18939','NA19036','NA19240','NA19650','NA19983','NA20509','NA20847','HG00096','HG00171','HG00514','HG00733','HG00864','HG01114','HG01505','HG01573','HG01596','HG02011','HG02018','HG02492','HG02587','HG03009','HG03065','HG03371','HG03683','HG03732']\n",
    "gene_expression_DEL_boundary_sample = gene_expression_DEL_boundary.filter(regex='|'.join(sample), axis=1)\n",
    "gene_expression_INS_boundary_sample = gene_expression_INS_boundary.filter(regex='|'.join(sample), axis=1)\n",
    "## only keep the first 7 characters of the columns name\n",
    "gene_DEL_boundary_sample_rename = gene_expression_DEL_boundary_sample.rename(columns = lambda x : str(x)[:7])\n",
    "gene_INS_boundary_sample_rename = gene_expression_INS_boundary_sample.rename(columns = lambda x : str(x)[:7])\n",
    "gene_DEL_boundary_sample_rename_new =  gene_DEL_boundary_sample_rename.reset_index().rename(columns={'index': 'gene'})\n",
    "gene_INS_boundary_sample_rename_new =  gene_INS_boundary_sample_rename.reset_index().rename(columns={'index': 'gene'})"
   ]
  },
  {
   "cell_type": "code",
   "execution_count": 118,
   "id": "attended-ghost",
   "metadata": {},
   "outputs": [],
   "source": [
    "INFO_ID = list(pangenie_svs_sample_DEL_eqtl.iloc[:, 1])\n",
    "gene_DEL_boundary_sample_rename_new['INFO_ID'] = INFO_ID \n",
    "gene_DEL_boundary_sample_rename_new = gene_DEL_boundary_sample_rename_new[[\n",
    "'gene','INFO_ID', 'NA18534','NA18939','NA19036','NA19240','NA19650','NA19983','NA20509','NA20847','HG00096','HG00171','HG00514','HG00733','HG00864','HG01114','HG01505','HG01573','HG01596','HG02011','HG02018','HG02492','HG02587','HG03009','HG03065','HG03371','HG03683','HG03732'\n",
    "    ]]"
   ]
  },
  {
   "cell_type": "code",
   "execution_count": 119,
   "id": "corporate-palestine",
   "metadata": {},
   "outputs": [
    {
     "data": {
      "text/plain": [
       "(15, 28)"
      ]
     },
     "execution_count": 119,
     "metadata": {},
     "output_type": "execute_result"
    }
   ],
   "source": [
    "gene_DEL_boundary_sample_rename_new.shape"
   ]
  },
  {
   "cell_type": "code",
   "execution_count": 120,
   "id": "helpful-absorption",
   "metadata": {},
   "outputs": [],
   "source": [
    "INFO_ID = list(pangenie_svs_sample_INS_eqtl.iloc[:, 1])\n",
    "gene_INS_boundary_sample_rename_new['INFO_ID'] = INFO_ID \n",
    "gene_INS_boundary_sample_rename_new = gene_INS_boundary_sample_rename_new[[\n",
    "'gene','INFO_ID', 'NA18534','NA18939','NA19036','NA19240','NA19650','NA19983','NA20509','NA20847','HG00096','HG00171','HG00514','HG00733','HG00864','HG01114','HG01505','HG01573','HG01596','HG02011','HG02018','HG02492','HG02587','HG03009','HG03065','HG03371','HG03683','HG03732'\n",
    "    ]]"
   ]
  },
  {
   "cell_type": "code",
   "execution_count": 121,
   "id": "nutritional-driver",
   "metadata": {},
   "outputs": [
    {
     "data": {
      "text/plain": [
       "(20, 28)"
      ]
     },
     "execution_count": 121,
     "metadata": {},
     "output_type": "execute_result"
    }
   ],
   "source": [
    "gene_INS_boundary_sample_rename_new.shape"
   ]
  },
  {
   "cell_type": "code",
   "execution_count": 122,
   "id": "ruled-original",
   "metadata": {},
   "outputs": [],
   "source": [
    "### test for genotypes 0 and 1\n",
    "pvalue= []\n",
    "\n",
    "for i in range(0, len(gene_DEL_boundary_sample_rename_new)):\n",
    "    DEL_boundary_genotype_all = DEL_boundary_genotype[DEL_boundary_genotype.loc[:,'INFO_ID'] == gene_DEL_boundary_sample_rename_new.loc[i,'INFO_ID']].iloc[:,8:35]\n",
    "    genotypes_list = DEL_boundary_genotype_all.iloc[0].values.tolist()\n",
    "    gene_expression_list = gene_DEL_boundary_sample_rename_new.iloc[i, 2:28].values.tolist()\n",
    "\n",
    "    df = pd.DataFrame({'genotypes' : genotypes_list,\n",
    "                   'gene_expression' : gene_expression_list})\n",
    "    \n",
    "    df_new = df.assign(expression=df.groupby('genotypes').cumcount()).pivot('expression','genotypes','gene_expression')\n",
    "    \n",
    "    try:\n",
    "        U, p = mannwhitneyu(x=df_new[0].dropna().tolist(), y=df_new[1].dropna().tolist(), method=\"exact\", alternative = 'two-sided')\n",
    "        #print (p)\n",
    "        \n",
    "    except KeyError:\n",
    "        p = 'NA'\n",
    "        #print (p)\n",
    "    \n",
    "    pvalue.append(p)\n",
    "    \n",
    "gene_DEL_boundary_sample_rename_new['pvalue_0_1'] = pvalue"
   ]
  },
  {
   "cell_type": "code",
   "execution_count": 124,
   "id": "arctic-effects",
   "metadata": {},
   "outputs": [
    {
     "data": {
      "text/html": [
       "<div>\n",
       "<style scoped>\n",
       "    .dataframe tbody tr th:only-of-type {\n",
       "        vertical-align: middle;\n",
       "    }\n",
       "\n",
       "    .dataframe tbody tr th {\n",
       "        vertical-align: top;\n",
       "    }\n",
       "\n",
       "    .dataframe thead th {\n",
       "        text-align: right;\n",
       "    }\n",
       "</style>\n",
       "<table border=\"1\" class=\"dataframe\">\n",
       "  <thead>\n",
       "    <tr style=\"text-align: right;\">\n",
       "      <th></th>\n",
       "      <th>gene</th>\n",
       "      <th>INFO_ID</th>\n",
       "      <th>NA18534</th>\n",
       "      <th>NA18939</th>\n",
       "      <th>NA19036</th>\n",
       "      <th>NA19240</th>\n",
       "      <th>NA19650</th>\n",
       "      <th>NA19983</th>\n",
       "      <th>NA20509</th>\n",
       "      <th>NA20847</th>\n",
       "      <th>...</th>\n",
       "      <th>HG02011</th>\n",
       "      <th>HG02018</th>\n",
       "      <th>HG02492</th>\n",
       "      <th>HG02587</th>\n",
       "      <th>HG03009</th>\n",
       "      <th>HG03065</th>\n",
       "      <th>HG03371</th>\n",
       "      <th>HG03683</th>\n",
       "      <th>HG03732</th>\n",
       "      <th>pvalue_0_1</th>\n",
       "    </tr>\n",
       "  </thead>\n",
       "  <tbody>\n",
       "    <tr>\n",
       "      <th>1</th>\n",
       "      <td>ZNF502</td>\n",
       "      <td>chr3-44510750-DEL-50</td>\n",
       "      <td>0.505437</td>\n",
       "      <td>0.711072</td>\n",
       "      <td>1.169339</td>\n",
       "      <td>0.680864</td>\n",
       "      <td>0.703322</td>\n",
       "      <td>0.658127</td>\n",
       "      <td>0.429553</td>\n",
       "      <td>0.838574</td>\n",
       "      <td>...</td>\n",
       "      <td>0.409951</td>\n",
       "      <td>0.584878</td>\n",
       "      <td>0.825207</td>\n",
       "      <td>0.906216</td>\n",
       "      <td>1.278297</td>\n",
       "      <td>0.618792</td>\n",
       "      <td>0.891358</td>\n",
       "      <td>1.553150</td>\n",
       "      <td>0.709216</td>\n",
       "      <td>0.001468</td>\n",
       "    </tr>\n",
       "    <tr>\n",
       "      <th>2</th>\n",
       "      <td>LOC105377056</td>\n",
       "      <td>chr3-44510750-DEL-50</td>\n",
       "      <td>0.051585</td>\n",
       "      <td>0.259984</td>\n",
       "      <td>0.248820</td>\n",
       "      <td>0.200549</td>\n",
       "      <td>0.133223</td>\n",
       "      <td>0.102748</td>\n",
       "      <td>0.153295</td>\n",
       "      <td>0.211812</td>\n",
       "      <td>...</td>\n",
       "      <td>0.109707</td>\n",
       "      <td>0.112703</td>\n",
       "      <td>0.189359</td>\n",
       "      <td>0.349621</td>\n",
       "      <td>0.228916</td>\n",
       "      <td>0.091698</td>\n",
       "      <td>0.161873</td>\n",
       "      <td>0.339314</td>\n",
       "      <td>0.184628</td>\n",
       "      <td>0.003371</td>\n",
       "    </tr>\n",
       "    <tr>\n",
       "      <th>7</th>\n",
       "      <td>XKR9</td>\n",
       "      <td>chr8-70671321-DEL-1088</td>\n",
       "      <td>0.230725</td>\n",
       "      <td>0.078901</td>\n",
       "      <td>0.301779</td>\n",
       "      <td>0.267848</td>\n",
       "      <td>0.270861</td>\n",
       "      <td>0.136379</td>\n",
       "      <td>0.530737</td>\n",
       "      <td>0.218365</td>\n",
       "      <td>...</td>\n",
       "      <td>0.446265</td>\n",
       "      <td>0.214502</td>\n",
       "      <td>0.225182</td>\n",
       "      <td>0.273766</td>\n",
       "      <td>0.139141</td>\n",
       "      <td>0.287291</td>\n",
       "      <td>0.175466</td>\n",
       "      <td>0.463090</td>\n",
       "      <td>0.130936</td>\n",
       "      <td>0.000040</td>\n",
       "    </tr>\n",
       "    <tr>\n",
       "      <th>8</th>\n",
       "      <td>ERICH1</td>\n",
       "      <td>chr8-644401-DEL-5014</td>\n",
       "      <td>1.748027</td>\n",
       "      <td>2.397384</td>\n",
       "      <td>1.672566</td>\n",
       "      <td>2.079122</td>\n",
       "      <td>1.959391</td>\n",
       "      <td>1.973457</td>\n",
       "      <td>2.233838</td>\n",
       "      <td>2.596048</td>\n",
       "      <td>...</td>\n",
       "      <td>1.900657</td>\n",
       "      <td>1.929456</td>\n",
       "      <td>1.850300</td>\n",
       "      <td>1.798068</td>\n",
       "      <td>2.061475</td>\n",
       "      <td>1.680383</td>\n",
       "      <td>1.861537</td>\n",
       "      <td>2.319171</td>\n",
       "      <td>2.234540</td>\n",
       "      <td>0.000122</td>\n",
       "    </tr>\n",
       "  </tbody>\n",
       "</table>\n",
       "<p>4 rows × 29 columns</p>\n",
       "</div>"
      ],
      "text/plain": [
       "           gene                 INFO_ID   NA18534   NA18939   NA19036  \\\n",
       "1        ZNF502    chr3-44510750-DEL-50  0.505437  0.711072  1.169339   \n",
       "2  LOC105377056    chr3-44510750-DEL-50  0.051585  0.259984  0.248820   \n",
       "7          XKR9  chr8-70671321-DEL-1088  0.230725  0.078901  0.301779   \n",
       "8        ERICH1    chr8-644401-DEL-5014  1.748027  2.397384  1.672566   \n",
       "\n",
       "    NA19240   NA19650   NA19983   NA20509   NA20847  ...   HG02011   HG02018  \\\n",
       "1  0.680864  0.703322  0.658127  0.429553  0.838574  ...  0.409951  0.584878   \n",
       "2  0.200549  0.133223  0.102748  0.153295  0.211812  ...  0.109707  0.112703   \n",
       "7  0.267848  0.270861  0.136379  0.530737  0.218365  ...  0.446265  0.214502   \n",
       "8  2.079122  1.959391  1.973457  2.233838  2.596048  ...  1.900657  1.929456   \n",
       "\n",
       "    HG02492   HG02587   HG03009   HG03065   HG03371   HG03683   HG03732  \\\n",
       "1  0.825207  0.906216  1.278297  0.618792  0.891358  1.553150  0.709216   \n",
       "2  0.189359  0.349621  0.228916  0.091698  0.161873  0.339314  0.184628   \n",
       "7  0.225182  0.273766  0.139141  0.287291  0.175466  0.463090  0.130936   \n",
       "8  1.850300  1.798068  2.061475  1.680383  1.861537  2.319171  2.234540   \n",
       "\n",
       "   pvalue_0_1  \n",
       "1    0.001468  \n",
       "2    0.003371  \n",
       "7    0.000040  \n",
       "8    0.000122  \n",
       "\n",
       "[4 rows x 29 columns]"
      ]
     },
     "execution_count": 124,
     "metadata": {},
     "output_type": "execute_result"
    }
   ],
   "source": [
    "gene_DEL_boundary_sample_rename_new[gene_DEL_boundary_sample_rename_new['pvalue_0_1'] < 0.05]"
   ]
  },
  {
   "cell_type": "code",
   "execution_count": 125,
   "id": "played-belly",
   "metadata": {},
   "outputs": [],
   "source": [
    "### test for genotypes 0 and 1\n",
    "pvalue= []\n",
    "\n",
    "for i in range(0, len(gene_INS_boundary_sample_rename_new)):\n",
    "    INS_boundary_genotype_all = INS_boundary_genotype[INS_boundary_genotype.loc[:,'INFO_ID'] == gene_INS_boundary_sample_rename_new.loc[i,'INFO_ID']].iloc[:,8:35]\n",
    "    genotypes_list = INS_boundary_genotype_all.iloc[0].values.tolist()\n",
    "    gene_expression_list = gene_INS_boundary_sample_rename_new.iloc[i, 2:28].values.tolist()\n",
    "\n",
    "    df = pd.DataFrame({'genotypes' : genotypes_list,\n",
    "                   'gene_expression' : gene_expression_list})\n",
    "    \n",
    "    df_new = df.assign(expression=df.groupby('genotypes').cumcount()).pivot('expression','genotypes','gene_expression')\n",
    "    \n",
    "    try:\n",
    "        U, p = mannwhitneyu(x=df_new[0].dropna().tolist(), y=df_new[1].dropna().tolist(), method=\"exact\", alternative = 'two-sided')\n",
    "        #print (p)\n",
    "        \n",
    "    except KeyError:\n",
    "        p = 'NA'\n",
    "        #print (p)\n",
    "    \n",
    "    pvalue.append(p)\n",
    "    \n",
    "gene_INS_boundary_sample_rename_new['pvalue_0_1'] = pvalue"
   ]
  },
  {
   "cell_type": "code",
   "execution_count": 126,
   "id": "senior-enough",
   "metadata": {},
   "outputs": [
    {
     "data": {
      "text/html": [
       "<div>\n",
       "<style scoped>\n",
       "    .dataframe tbody tr th:only-of-type {\n",
       "        vertical-align: middle;\n",
       "    }\n",
       "\n",
       "    .dataframe tbody tr th {\n",
       "        vertical-align: top;\n",
       "    }\n",
       "\n",
       "    .dataframe thead th {\n",
       "        text-align: right;\n",
       "    }\n",
       "</style>\n",
       "<table border=\"1\" class=\"dataframe\">\n",
       "  <thead>\n",
       "    <tr style=\"text-align: right;\">\n",
       "      <th></th>\n",
       "      <th>gene</th>\n",
       "      <th>INFO_ID</th>\n",
       "      <th>NA18534</th>\n",
       "      <th>NA18939</th>\n",
       "      <th>NA19036</th>\n",
       "      <th>NA19240</th>\n",
       "      <th>NA19650</th>\n",
       "      <th>NA19983</th>\n",
       "      <th>NA20509</th>\n",
       "      <th>NA20847</th>\n",
       "      <th>...</th>\n",
       "      <th>HG02011</th>\n",
       "      <th>HG02018</th>\n",
       "      <th>HG02492</th>\n",
       "      <th>HG02587</th>\n",
       "      <th>HG03009</th>\n",
       "      <th>HG03065</th>\n",
       "      <th>HG03371</th>\n",
       "      <th>HG03683</th>\n",
       "      <th>HG03732</th>\n",
       "      <th>pvalue_0_1</th>\n",
       "    </tr>\n",
       "  </thead>\n",
       "  <tbody>\n",
       "    <tr>\n",
       "      <th>0</th>\n",
       "      <td>CCDC163</td>\n",
       "      <td>chr1-45497763-INS-354</td>\n",
       "      <td>2.451951</td>\n",
       "      <td>2.138003</td>\n",
       "      <td>2.807306</td>\n",
       "      <td>1.613811</td>\n",
       "      <td>2.671173</td>\n",
       "      <td>2.302246</td>\n",
       "      <td>2.088805</td>\n",
       "      <td>2.481762</td>\n",
       "      <td>...</td>\n",
       "      <td>2.629090</td>\n",
       "      <td>2.677383</td>\n",
       "      <td>2.596948</td>\n",
       "      <td>2.678364</td>\n",
       "      <td>2.705544</td>\n",
       "      <td>1.964997</td>\n",
       "      <td>2.047240</td>\n",
       "      <td>2.476094</td>\n",
       "      <td>2.718013</td>\n",
       "      <td>0.012772</td>\n",
       "    </tr>\n",
       "    <tr>\n",
       "      <th>1</th>\n",
       "      <td>TESK2</td>\n",
       "      <td>chr1-45497763-INS-354</td>\n",
       "      <td>3.727556</td>\n",
       "      <td>3.232982</td>\n",
       "      <td>3.776108</td>\n",
       "      <td>2.972572</td>\n",
       "      <td>2.959789</td>\n",
       "      <td>2.984399</td>\n",
       "      <td>3.070232</td>\n",
       "      <td>3.653215</td>\n",
       "      <td>...</td>\n",
       "      <td>3.431179</td>\n",
       "      <td>3.117390</td>\n",
       "      <td>3.183825</td>\n",
       "      <td>3.841491</td>\n",
       "      <td>3.130307</td>\n",
       "      <td>2.863411</td>\n",
       "      <td>3.244661</td>\n",
       "      <td>3.323535</td>\n",
       "      <td>3.269226</td>\n",
       "      <td>0.041446</td>\n",
       "    </tr>\n",
       "    <tr>\n",
       "      <th>10</th>\n",
       "      <td>TAS2R43</td>\n",
       "      <td>chr12-11098150-INS-32251</td>\n",
       "      <td>1.041778</td>\n",
       "      <td>1.504056</td>\n",
       "      <td>1.211492</td>\n",
       "      <td>1.665189</td>\n",
       "      <td>1.402555</td>\n",
       "      <td>1.936103</td>\n",
       "      <td>0.124258</td>\n",
       "      <td>1.741826</td>\n",
       "      <td>...</td>\n",
       "      <td>1.237809</td>\n",
       "      <td>1.042197</td>\n",
       "      <td>0.834883</td>\n",
       "      <td>1.567028</td>\n",
       "      <td>1.628760</td>\n",
       "      <td>1.742193</td>\n",
       "      <td>0.706350</td>\n",
       "      <td>1.972775</td>\n",
       "      <td>1.480993</td>\n",
       "      <td>0.036227</td>\n",
       "    </tr>\n",
       "    <tr>\n",
       "      <th>13</th>\n",
       "      <td>TMEM255B</td>\n",
       "      <td>chr13-113803920-INS-76</td>\n",
       "      <td>0.131326</td>\n",
       "      <td>0.101067</td>\n",
       "      <td>0.033817</td>\n",
       "      <td>0.054191</td>\n",
       "      <td>0.003788</td>\n",
       "      <td>0.022192</td>\n",
       "      <td>0.205124</td>\n",
       "      <td>0.067153</td>\n",
       "      <td>...</td>\n",
       "      <td>0.026093</td>\n",
       "      <td>0.026827</td>\n",
       "      <td>0.099954</td>\n",
       "      <td>0.187906</td>\n",
       "      <td>0.015201</td>\n",
       "      <td>0.096131</td>\n",
       "      <td>0.006865</td>\n",
       "      <td>0.057738</td>\n",
       "      <td>0.055779</td>\n",
       "      <td>0.024615</td>\n",
       "    </tr>\n",
       "  </tbody>\n",
       "</table>\n",
       "<p>4 rows × 29 columns</p>\n",
       "</div>"
      ],
      "text/plain": [
       "        gene                   INFO_ID   NA18534   NA18939   NA19036  \\\n",
       "0    CCDC163     chr1-45497763-INS-354  2.451951  2.138003  2.807306   \n",
       "1      TESK2     chr1-45497763-INS-354  3.727556  3.232982  3.776108   \n",
       "10   TAS2R43  chr12-11098150-INS-32251  1.041778  1.504056  1.211492   \n",
       "13  TMEM255B    chr13-113803920-INS-76  0.131326  0.101067  0.033817   \n",
       "\n",
       "     NA19240   NA19650   NA19983   NA20509   NA20847  ...   HG02011   HG02018  \\\n",
       "0   1.613811  2.671173  2.302246  2.088805  2.481762  ...  2.629090  2.677383   \n",
       "1   2.972572  2.959789  2.984399  3.070232  3.653215  ...  3.431179  3.117390   \n",
       "10  1.665189  1.402555  1.936103  0.124258  1.741826  ...  1.237809  1.042197   \n",
       "13  0.054191  0.003788  0.022192  0.205124  0.067153  ...  0.026093  0.026827   \n",
       "\n",
       "     HG02492   HG02587   HG03009   HG03065   HG03371   HG03683   HG03732  \\\n",
       "0   2.596948  2.678364  2.705544  1.964997  2.047240  2.476094  2.718013   \n",
       "1   3.183825  3.841491  3.130307  2.863411  3.244661  3.323535  3.269226   \n",
       "10  0.834883  1.567028  1.628760  1.742193  0.706350  1.972775  1.480993   \n",
       "13  0.099954  0.187906  0.015201  0.096131  0.006865  0.057738  0.055779   \n",
       "\n",
       "    pvalue_0_1  \n",
       "0     0.012772  \n",
       "1     0.041446  \n",
       "10    0.036227  \n",
       "13    0.024615  \n",
       "\n",
       "[4 rows x 29 columns]"
      ]
     },
     "execution_count": 126,
     "metadata": {},
     "output_type": "execute_result"
    }
   ],
   "source": [
    "gene_INS_boundary_sample_rename_new[gene_INS_boundary_sample_rename_new['pvalue_0_1'] < 0.05]"
   ]
  },
  {
   "cell_type": "markdown",
   "id": "valuable-fiction",
   "metadata": {},
   "source": [
    "#### Visualization of chr8-644401-DEL-5014 and chr1-45497763-INS-354"
   ]
  },
  {
   "cell_type": "code",
   "execution_count": 135,
   "id": "coastal-structure",
   "metadata": {},
   "outputs": [],
   "source": [
    "gene_DEL_boundary_sample_rename_new.iloc[8, :]\n",
    "gene_expression_list = gene_DEL_boundary_sample_rename_new.iloc[8, 2:28].values.tolist()\n",
    "DEL_boundary_genotype_all = DEL_boundary_genotype[DEL_boundary_genotype.loc[:,'INFO_ID'] == gene_DEL_boundary_sample_rename_new.loc[8,'INFO_ID']].iloc[:,8:35]\n",
    "genotypes_list = DEL_boundary_genotype_all.iloc[0].values.tolist()\n",
    "df_del = pd.DataFrame({'genotypes' : genotypes_list,\n",
    "                   'gene_expression' : gene_expression_list})\n",
    "df_del_new = df_del.assign(expression=df_del.groupby('genotypes').cumcount()).pivot('expression','genotypes','gene_expression')"
   ]
  },
  {
   "cell_type": "code",
   "execution_count": 195,
   "id": "likely-protection",
   "metadata": {},
   "outputs": [
    {
     "data": {
      "image/png": "[encoded data removed]",
      "text/plain": [
       "<Figure size 288x288 with 1 Axes>"
      ]
     },
     "metadata": {},
     "output_type": "display_data"
    }
   ],
   "source": [
    "# Set Seaborn's default style and color palette\n",
    "sns.set_style(\"whitegrid\")\n",
    "sns.set_palette(\"pastel\")\n",
    "\n",
    "# Create the boxplot using Seaborn\n",
    "plt.figure(figsize=(4, 4))  # Adjust the figure size\n",
    "ax = sns.boxplot(data=df_del_new[[0, 1]], palette=\"pastel\", medianprops=dict(color='red'), width=0.5)\n",
    "\n",
    "# Set labels, titles, and other properties\n",
    "ax.set_ylabel('Gene expression levels', fontsize=13, labelpad=20)\n",
    "ax.set_xlabel('Genotypes', fontsize=13)\n",
    "ax.set_title('ERICH1', pad=20, fontsize=14, fontweight='bold', style='italic')\n",
    "\n",
    "# Display the plot\n",
    "plt.tight_layout()\n",
    "\n",
    "# statistical annotation\n",
    "x1, x2 = 0, 1   # columns 'Sat' and 'Sun' (first column: 0, see plt.xticks())\n",
    "y, h, col = df_del_new[1].max() + 0.2, 0.1, 'k'\n",
    "\n",
    "plt.plot([x1, x1, x2, x2], [y, y+h, y+h, y], lw=1.1, c=col)\n",
    "plt.text((x1+x2)*.5, y+h, \"p-value = 0.0001\", ha='center', va='bottom', color=col)\n",
    "\n",
    "plt.show()"
   ]
  },
  {
   "cell_type": "code",
   "execution_count": 158,
   "id": "productive-airplane",
   "metadata": {},
   "outputs": [],
   "source": [
    "gene_expression_list = gene_INS_boundary_sample_rename_new.iloc[0, 2:28].values.tolist()\n",
    "INS_boundary_genotype_all = INS_boundary_genotype[INS_boundary_genotype.loc[:,'INFO_ID'] == gene_INS_boundary_sample_rename_new.loc[0,'INFO_ID']].iloc[:,8:34]\n",
    "genotypes_list = INS_boundary_genotype_all.iloc[0].values.tolist()\n",
    "df_ins = pd.DataFrame({'genotypes' : genotypes_list,\n",
    "                   'gene_expression' : gene_expression_list})\n",
    "df_ins_new = df_ins.assign(expression=df_ins.groupby('genotypes').cumcount()).pivot('expression','genotypes','gene_expression')"
   ]
  },
  {
   "cell_type": "code",
   "execution_count": 193,
   "id": "coordinated-conditioning",
   "metadata": {},
   "outputs": [
    {
     "data": {
      "image/png": "[encoded data removed]",
      "text/plain": [
       "<Figure size 288x288 with 1 Axes>"
      ]
     },
     "metadata": {},
     "output_type": "display_data"
    }
   ],
   "source": [
    "import matplotlib.pyplot as plt\n",
    "import seaborn as sns\n",
    "\n",
    "# Set Seaborn's default style and color palette\n",
    "sns.set_style(\"whitegrid\")\n",
    "sns.set_palette(\"pastel\")\n",
    "\n",
    "# Create the boxplot using Seaborn\n",
    "plt.figure(figsize=(4, 4))  # Adjust the figure size\n",
    "ax = sns.boxplot(data=df_ins_new[[0, 1]], palette=\"pastel\", medianprops=dict(color='red'), width=0.5)\n",
    "\n",
    "# Set labels, titles, and other properties\n",
    "ax.set_ylabel('Gene expression levels', fontsize=13, labelpad=20)\n",
    "ax.set_xlabel('Genotypes', fontsize=13)\n",
    "ax.set_title('CCDC163', pad=20, fontsize=14, fontweight='bold', style='italic')\n",
    "\n",
    "# Display the plot\n",
    "plt.tight_layout()\n",
    "\n",
    "# statistical annotation\n",
    "x1, x2 = 0, 1   # columns 'Sat' and 'Sun' (first column: 0, see plt.xticks())\n",
    "y, h, col = df_ins_new[1].max() + 0.2, 0.1, 'k'\n",
    "\n",
    "plt.plot([x1, x1, x2, x2], [y, y+h, y+h, y], lw=1.1, c=col)\n",
    "plt.text((x1+x2)*.5, y+h, \"p-value = 0.0128\", ha='center', va='bottom', color=col)\n",
    "\n",
    "plt.show()"
   ]
  },
  {
   "cell_type": "markdown",
   "id": "subtle-palmer",
   "metadata": {},
   "source": [
    "## SVs that significantly disrupt the TAD boundaries are also sQTLs"
   ]
  },
  {
   "cell_type": "code",
   "execution_count": 160,
   "id": "concrete-comparison",
   "metadata": {},
   "outputs": [],
   "source": [
    "sqtl = pd.read_csv('qtl_results_all_v2_fdr0.05.txt', sep = '\\t')"
   ]
  },
  {
   "cell_type": "code",
   "execution_count": 161,
   "id": "young-merchandise",
   "metadata": {},
   "outputs": [
    {
     "data": {
      "text/plain": [
       "(1103872, 22)"
      ]
     },
     "execution_count": 161,
     "metadata": {},
     "output_type": "execute_result"
    }
   ],
   "source": [
    "sqtl.shape"
   ]
  },
  {
   "cell_type": "code",
   "execution_count": 162,
   "id": "designed-choir",
   "metadata": {},
   "outputs": [],
   "source": [
    "pangenie_svs_sample_DEL_sqtl = sqtl[(sqtl['snp_id'].isin(all_DEL_boundary_3_sig['INFO_ID']))]"
   ]
  },
  {
   "cell_type": "code",
   "execution_count": 163,
   "id": "massive-absence",
   "metadata": {},
   "outputs": [
    {
     "data": {
      "text/plain": [
       "(15, 22)"
      ]
     },
     "execution_count": 163,
     "metadata": {},
     "output_type": "execute_result"
    }
   ],
   "source": [
    "pangenie_svs_sample_DEL_sqtl.shape"
   ]
  },
  {
   "cell_type": "code",
   "execution_count": 164,
   "id": "known-selection",
   "metadata": {},
   "outputs": [
    {
     "data": {
      "text/plain": [
       "6"
      ]
     },
     "execution_count": 164,
     "metadata": {},
     "output_type": "execute_result"
    }
   ],
   "source": [
    "# number of unique deletions\n",
    "len(pangenie_svs_sample_DEL_sqtl['snp_id'].drop_duplicates())"
   ]
  },
  {
   "cell_type": "code",
   "execution_count": 165,
   "id": "superior-contact",
   "metadata": {},
   "outputs": [
    {
     "data": {
      "text/plain": [
       "15"
      ]
     },
     "execution_count": 165,
     "metadata": {},
     "output_type": "execute_result"
    }
   ],
   "source": [
    "# number of unique splice junctions\n",
    "len(pangenie_svs_sample_DEL_sqtl['feature_id'].drop_duplicates())"
   ]
  },
  {
   "cell_type": "code",
   "execution_count": 166,
   "id": "compound-membership",
   "metadata": {},
   "outputs": [],
   "source": [
    "pangenie_svs_sample_INS_sqtl = sqtl[(sqtl['snp_id'].isin(all_INS_boundary_3_sig['INFO_ID']))]"
   ]
  },
  {
   "cell_type": "code",
   "execution_count": 167,
   "id": "alike-jungle",
   "metadata": {},
   "outputs": [
    {
     "data": {
      "text/plain": [
       "(19, 22)"
      ]
     },
     "execution_count": 167,
     "metadata": {},
     "output_type": "execute_result"
    }
   ],
   "source": [
    "pangenie_svs_sample_INS_sqtl.shape"
   ]
  },
  {
   "cell_type": "code",
   "execution_count": 168,
   "id": "fancy-investigator",
   "metadata": {},
   "outputs": [
    {
     "data": {
      "text/plain": [
       "5"
      ]
     },
     "execution_count": 168,
     "metadata": {},
     "output_type": "execute_result"
    }
   ],
   "source": [
    "# number of unique insertions\n",
    "len(pangenie_svs_sample_INS_sqtl['snp_id'].drop_duplicates())"
   ]
  },
  {
   "cell_type": "code",
   "execution_count": 169,
   "id": "binary-calgary",
   "metadata": {},
   "outputs": [
    {
     "data": {
      "text/plain": [
       "19"
      ]
     },
     "execution_count": 169,
     "metadata": {},
     "output_type": "execute_result"
    }
   ],
   "source": [
    "# number of unique splice junctions\n",
    "len(pangenie_svs_sample_INS_sqtl['feature_id'].drop_duplicates())"
   ]
  },
  {
   "cell_type": "code",
   "execution_count": 170,
   "id": "textile-cincinnati",
   "metadata": {},
   "outputs": [],
   "source": [
    "sqtl_DEL_boundary_feature = list(pangenie_svs_sample_DEL_sqtl['feature_id'])\n",
    "sqtl_INS_boundary_feature = list(pangenie_svs_sample_INS_sqtl['feature_id'])"
   ]
  },
  {
   "cell_type": "code",
   "execution_count": 171,
   "id": "manual-beginning",
   "metadata": {},
   "outputs": [],
   "source": [
    "splicing_ratio = pd.read_csv('LCL_perind.counts.qqnorm.CovariatesRemoved.cs.txt', sep='\\t', header = 0, index_col=0)"
   ]
  },
  {
   "cell_type": "code",
   "execution_count": 172,
   "id": "thrown-basin",
   "metadata": {},
   "outputs": [
    {
     "data": {
      "text/plain": [
       "(143713, 444)"
      ]
     },
     "execution_count": 172,
     "metadata": {},
     "output_type": "execute_result"
    }
   ],
   "source": [
    "splicing_ratio.shape"
   ]
  },
  {
   "cell_type": "code",
   "execution_count": 173,
   "id": "bound-camping",
   "metadata": {},
   "outputs": [],
   "source": [
    "splicing_DEL_boundary = splicing_ratio.filter(items = sqtl_DEL_boundary_feature, axis=0)\n",
    "splicing_INS_boundary = splicing_ratio.filter(items = sqtl_INS_boundary_feature, axis=0)"
   ]
  },
  {
   "cell_type": "code",
   "execution_count": 174,
   "id": "mechanical-malta",
   "metadata": {},
   "outputs": [],
   "source": [
    "sample = ['NA18534','NA18939','NA19036','NA19240','NA19650','NA19983','NA20509','NA20847','HG00096','HG00171','HG00514','HG00733','HG00864','HG01114','HG01505','HG01573','HG01596','HG02011','HG02018','HG02492','HG02587','HG03009','HG03065','HG03371','HG03683','HG03732']\n",
    "splicing_DEL_boundary_sample = splicing_DEL_boundary.filter(regex='|'.join(sample), axis=1)\n",
    "splicing_INS_boundary_sample = splicing_INS_boundary.filter(regex='|'.join(sample), axis=1)\n",
    "## only keep the first 7 characters of the columns name\n",
    "splicing_DEL_boundary_sample_rename = splicing_DEL_boundary_sample.rename(columns = lambda x : str(x)[:7])\n",
    "splicing_INS_boundary_sample_rename = splicing_INS_boundary_sample.rename(columns = lambda x : str(x)[:7])\n",
    "splicing_DEL_boundary_sample_rename_new = splicing_DEL_boundary_sample_rename.reset_index().rename(columns={'index': 'feature_id'})\n",
    "splicing_INS_boundary_sample_rename_new = splicing_INS_boundary_sample_rename.reset_index().rename(columns={'index': 'feature_id'})"
   ]
  },
  {
   "cell_type": "code",
   "execution_count": 177,
   "id": "challenging-capacity",
   "metadata": {},
   "outputs": [
    {
     "data": {
      "text/plain": [
       "15"
      ]
     },
     "execution_count": 177,
     "metadata": {},
     "output_type": "execute_result"
    }
   ],
   "source": [
    "INFO_ID = list(pangenie_svs_sample_DEL_sqtl.iloc[:, 1])\n",
    "len(INFO_ID)"
   ]
  },
  {
   "cell_type": "code",
   "execution_count": 179,
   "id": "assumed-medicare",
   "metadata": {},
   "outputs": [],
   "source": [
    "splicing_DEL_boundary_sample_rename_new['INFO_ID'] = INFO_ID \n",
    "splicing_DEL_boundary_sample_rename_new = splicing_DEL_boundary_sample_rename_new[[\n",
    "'feature_id','INFO_ID', 'NA18534','NA18939','NA19036','NA19240','NA19650','NA19983','NA20509','NA20847','HG00096','HG00171','HG00514','HG00733','HG00864','HG01114','HG01505','HG01573','HG01596','HG02011','HG02018','HG02492','HG02587','HG03009','HG03065','HG03371','HG03683','HG03732'\n",
    "    ]]"
   ]
  },
  {
   "cell_type": "code",
   "execution_count": 180,
   "id": "subsequent-valley",
   "metadata": {},
   "outputs": [
    {
     "data": {
      "text/plain": [
       "19"
      ]
     },
     "execution_count": 180,
     "metadata": {},
     "output_type": "execute_result"
    }
   ],
   "source": [
    "INFO_ID = list(pangenie_svs_sample_INS_sqtl.iloc[:, 1])\n",
    "len(INFO_ID)"
   ]
  },
  {
   "cell_type": "code",
   "execution_count": 181,
   "id": "coupled-activation",
   "metadata": {},
   "outputs": [],
   "source": [
    "splicing_INS_boundary_sample_rename_new['INFO_ID'] = INFO_ID \n",
    "splicing_INS_boundary_sample_rename_new = splicing_INS_boundary_sample_rename_new[[\n",
    "'feature_id','INFO_ID', 'NA18534','NA18939','NA19036','NA19240','NA19650','NA19983','NA20509','NA20847','HG00096','HG00171','HG00514','HG00733','HG00864','HG01114','HG01505','HG01573','HG01596','HG02011','HG02018','HG02492','HG02587','HG03009','HG03065','HG03371','HG03683','HG03732'\n",
    "    ]]"
   ]
  },
  {
   "cell_type": "code",
   "execution_count": 184,
   "id": "actual-strength",
   "metadata": {},
   "outputs": [],
   "source": [
    "### test for genotypes 0 and 1\n",
    "pvalue= []\n",
    "for i in range(0, len(splicing_DEL_boundary_sample_rename_new)):\n",
    "    DEL_boundary_genotype_all = DEL_boundary_genotype[DEL_boundary_genotype.loc[:,'INFO_ID'] == splicing_DEL_boundary_sample_rename_new.loc[i,'INFO_ID']].iloc[:,8:35]\n",
    "    genotypes_list = DEL_boundary_genotype_all.iloc[0].values.tolist()\n",
    "    splicing_ratio_list = splicing_DEL_boundary_sample_rename_new.iloc[i, 2:28].values.tolist()\n",
    "\n",
    "    df = pd.DataFrame({'genotypes' : genotypes_list,\n",
    "                   'splicing_ratio' : splicing_ratio_list})\n",
    "    \n",
    "    df_new = df.assign(splicing=df.groupby('genotypes').cumcount()).pivot('splicing','genotypes','splicing_ratio')\n",
    "    \n",
    "    try:\n",
    "        U, p = mannwhitneyu(x=df_new[0].dropna().tolist(), y=df_new[1].dropna().tolist(), method=\"exact\", alternative = 'two-sided')\n",
    "        #print (p)\n",
    "        \n",
    "    except KeyError:\n",
    "        p = 'NA'\n",
    "        #print (p)\n",
    "    \n",
    "    pvalue.append(p)\n",
    "    \n",
    "splicing_DEL_boundary_sample_rename_new['pvalue_0_1'] = pvalue"
   ]
  },
  {
   "cell_type": "code",
   "execution_count": 185,
   "id": "accessible-covering",
   "metadata": {},
   "outputs": [
    {
     "data": {
      "text/html": [
       "<div>\n",
       "<style scoped>\n",
       "    .dataframe tbody tr th:only-of-type {\n",
       "        vertical-align: middle;\n",
       "    }\n",
       "\n",
       "    .dataframe tbody tr th {\n",
       "        vertical-align: top;\n",
       "    }\n",
       "\n",
       "    .dataframe thead th {\n",
       "        text-align: right;\n",
       "    }\n",
       "</style>\n",
       "<table border=\"1\" class=\"dataframe\">\n",
       "  <thead>\n",
       "    <tr style=\"text-align: right;\">\n",
       "      <th></th>\n",
       "      <th>feature_id</th>\n",
       "      <th>INFO_ID</th>\n",
       "      <th>NA18534</th>\n",
       "      <th>NA18939</th>\n",
       "      <th>NA19036</th>\n",
       "      <th>NA19240</th>\n",
       "      <th>NA19650</th>\n",
       "      <th>NA19983</th>\n",
       "      <th>NA20509</th>\n",
       "      <th>NA20847</th>\n",
       "      <th>...</th>\n",
       "      <th>HG02011</th>\n",
       "      <th>HG02018</th>\n",
       "      <th>HG02492</th>\n",
       "      <th>HG02587</th>\n",
       "      <th>HG03009</th>\n",
       "      <th>HG03065</th>\n",
       "      <th>HG03371</th>\n",
       "      <th>HG03683</th>\n",
       "      <th>HG03732</th>\n",
       "      <th>pvalue_0_1</th>\n",
       "    </tr>\n",
       "  </thead>\n",
       "  <tbody>\n",
       "    <tr>\n",
       "      <th>1</th>\n",
       "      <td>6:87391835:87392725:clu_24429_+</td>\n",
       "      <td>chr6-87408456-DEL-133</td>\n",
       "      <td>-0.936184</td>\n",
       "      <td>0.012348</td>\n",
       "      <td>1.076310</td>\n",
       "      <td>2.158304</td>\n",
       "      <td>-0.932265</td>\n",
       "      <td>0.412867</td>\n",
       "      <td>-0.841126</td>\n",
       "      <td>-0.767154</td>\n",
       "      <td>...</td>\n",
       "      <td>-0.708359</td>\n",
       "      <td>0.036234</td>\n",
       "      <td>-1.040756</td>\n",
       "      <td>-1.141381</td>\n",
       "      <td>0.385166</td>\n",
       "      <td>-0.996222</td>\n",
       "      <td>-1.159694</td>\n",
       "      <td>0.681233</td>\n",
       "      <td>-0.554325</td>\n",
       "      <td>0.014847</td>\n",
       "    </tr>\n",
       "    <tr>\n",
       "      <th>4</th>\n",
       "      <td>8:70669538:70674818:clu_22301_+</td>\n",
       "      <td>chr8-70671321-DEL-1088</td>\n",
       "      <td>-0.005980</td>\n",
       "      <td>-0.950419</td>\n",
       "      <td>-0.399550</td>\n",
       "      <td>-0.929802</td>\n",
       "      <td>2.013419</td>\n",
       "      <td>-1.227758</td>\n",
       "      <td>2.069432</td>\n",
       "      <td>-1.077835</td>\n",
       "      <td>...</td>\n",
       "      <td>-0.780188</td>\n",
       "      <td>-1.215290</td>\n",
       "      <td>-0.646946</td>\n",
       "      <td>1.773509</td>\n",
       "      <td>-1.187269</td>\n",
       "      <td>0.009941</td>\n",
       "      <td>1.334757</td>\n",
       "      <td>0.612355</td>\n",
       "      <td>-0.937157</td>\n",
       "      <td>0.000244</td>\n",
       "    </tr>\n",
       "    <tr>\n",
       "      <th>5</th>\n",
       "      <td>8:664676:668598:clu_8652_-</td>\n",
       "      <td>chr8-644401-DEL-5014</td>\n",
       "      <td>1.245457</td>\n",
       "      <td>-0.414052</td>\n",
       "      <td>1.217779</td>\n",
       "      <td>-0.759694</td>\n",
       "      <td>1.209294</td>\n",
       "      <td>1.131286</td>\n",
       "      <td>-0.186955</td>\n",
       "      <td>0.427311</td>\n",
       "      <td>...</td>\n",
       "      <td>0.134623</td>\n",
       "      <td>0.345217</td>\n",
       "      <td>1.370163</td>\n",
       "      <td>1.423127</td>\n",
       "      <td>0.506337</td>\n",
       "      <td>1.393303</td>\n",
       "      <td>0.331152</td>\n",
       "      <td>0.336981</td>\n",
       "      <td>0.661554</td>\n",
       "      <td>0.012405</td>\n",
       "    </tr>\n",
       "    <tr>\n",
       "      <th>6</th>\n",
       "      <td>8:70652752:70653695:clu_22301_+</td>\n",
       "      <td>chr8-70671321-DEL-1088</td>\n",
       "      <td>0.704935</td>\n",
       "      <td>1.305387</td>\n",
       "      <td>0.883035</td>\n",
       "      <td>0.859624</td>\n",
       "      <td>-1.808690</td>\n",
       "      <td>0.580523</td>\n",
       "      <td>-2.483752</td>\n",
       "      <td>0.948607</td>\n",
       "      <td>...</td>\n",
       "      <td>-0.185246</td>\n",
       "      <td>0.328117</td>\n",
       "      <td>0.560184</td>\n",
       "      <td>-1.196977</td>\n",
       "      <td>0.807123</td>\n",
       "      <td>-0.060676</td>\n",
       "      <td>-0.594006</td>\n",
       "      <td>0.057426</td>\n",
       "      <td>0.818711</td>\n",
       "      <td>0.000140</td>\n",
       "    </tr>\n",
       "    <tr>\n",
       "      <th>7</th>\n",
       "      <td>8:640834:668598:clu_8652_-</td>\n",
       "      <td>chr8-644401-DEL-5014</td>\n",
       "      <td>-1.331250</td>\n",
       "      <td>1.221957</td>\n",
       "      <td>-1.475604</td>\n",
       "      <td>0.898362</td>\n",
       "      <td>-1.557109</td>\n",
       "      <td>-1.498409</td>\n",
       "      <td>0.061330</td>\n",
       "      <td>0.288855</td>\n",
       "      <td>...</td>\n",
       "      <td>0.414936</td>\n",
       "      <td>0.447919</td>\n",
       "      <td>-1.577237</td>\n",
       "      <td>-1.630796</td>\n",
       "      <td>-0.181406</td>\n",
       "      <td>-1.552799</td>\n",
       "      <td>-0.199111</td>\n",
       "      <td>-0.010256</td>\n",
       "      <td>-0.255825</td>\n",
       "      <td>0.040924</td>\n",
       "    </tr>\n",
       "    <tr>\n",
       "      <th>10</th>\n",
       "      <td>20:35632923:35664760:clu_21372_-</td>\n",
       "      <td>chr20-35960724-DEL-60</td>\n",
       "      <td>1.746169</td>\n",
       "      <td>0.529841</td>\n",
       "      <td>0.298889</td>\n",
       "      <td>-0.216541</td>\n",
       "      <td>-0.391229</td>\n",
       "      <td>0.191113</td>\n",
       "      <td>0.014453</td>\n",
       "      <td>-0.368097</td>\n",
       "      <td>...</td>\n",
       "      <td>1.366691</td>\n",
       "      <td>-0.306092</td>\n",
       "      <td>-0.028003</td>\n",
       "      <td>-0.167166</td>\n",
       "      <td>-0.169622</td>\n",
       "      <td>-0.432385</td>\n",
       "      <td>-0.916697</td>\n",
       "      <td>-0.475933</td>\n",
       "      <td>-0.963485</td>\n",
       "      <td>0.020419</td>\n",
       "    </tr>\n",
       "    <tr>\n",
       "      <th>11</th>\n",
       "      <td>20:35655344:35658930:clu_21372_-</td>\n",
       "      <td>chr20-35960724-DEL-60</td>\n",
       "      <td>-2.666742</td>\n",
       "      <td>-0.113100</td>\n",
       "      <td>-0.047915</td>\n",
       "      <td>0.324691</td>\n",
       "      <td>0.682168</td>\n",
       "      <td>0.111165</td>\n",
       "      <td>0.232633</td>\n",
       "      <td>0.199351</td>\n",
       "      <td>...</td>\n",
       "      <td>-0.019236</td>\n",
       "      <td>0.522568</td>\n",
       "      <td>0.629328</td>\n",
       "      <td>0.722698</td>\n",
       "      <td>0.518111</td>\n",
       "      <td>0.397488</td>\n",
       "      <td>0.963883</td>\n",
       "      <td>0.527364</td>\n",
       "      <td>1.150455</td>\n",
       "      <td>0.031556</td>\n",
       "    </tr>\n",
       "    <tr>\n",
       "      <th>12</th>\n",
       "      <td>20:35632923:35658930:clu_21372_-</td>\n",
       "      <td>chr20-35960724-DEL-60</td>\n",
       "      <td>0.152098</td>\n",
       "      <td>0.418184</td>\n",
       "      <td>0.353582</td>\n",
       "      <td>0.031710</td>\n",
       "      <td>-0.009831</td>\n",
       "      <td>1.008811</td>\n",
       "      <td>0.817291</td>\n",
       "      <td>-0.411666</td>\n",
       "      <td>...</td>\n",
       "      <td>1.039998</td>\n",
       "      <td>0.128767</td>\n",
       "      <td>0.239788</td>\n",
       "      <td>-0.015342</td>\n",
       "      <td>0.578768</td>\n",
       "      <td>-0.050955</td>\n",
       "      <td>-2.056413</td>\n",
       "      <td>-0.244741</td>\n",
       "      <td>-1.089664</td>\n",
       "      <td>0.007701</td>\n",
       "    </tr>\n",
       "    <tr>\n",
       "      <th>13</th>\n",
       "      <td>20:35626381:35626735:clu_21369_-</td>\n",
       "      <td>chr20-35960724-DEL-60</td>\n",
       "      <td>-0.432567</td>\n",
       "      <td>0.036543</td>\n",
       "      <td>-0.758824</td>\n",
       "      <td>0.380615</td>\n",
       "      <td>0.448366</td>\n",
       "      <td>-0.411455</td>\n",
       "      <td>0.123351</td>\n",
       "      <td>0.158921</td>\n",
       "      <td>...</td>\n",
       "      <td>0.118498</td>\n",
       "      <td>-0.012096</td>\n",
       "      <td>0.846607</td>\n",
       "      <td>0.066323</td>\n",
       "      <td>0.321752</td>\n",
       "      <td>0.041438</td>\n",
       "      <td>0.769644</td>\n",
       "      <td>0.496257</td>\n",
       "      <td>0.992429</td>\n",
       "      <td>0.007701</td>\n",
       "    </tr>\n",
       "    <tr>\n",
       "      <th>14</th>\n",
       "      <td>20:35626381:35626567:clu_21369_-</td>\n",
       "      <td>chr20-35960724-DEL-60</td>\n",
       "      <td>0.548644</td>\n",
       "      <td>0.026216</td>\n",
       "      <td>0.522271</td>\n",
       "      <td>-0.070876</td>\n",
       "      <td>-0.411626</td>\n",
       "      <td>0.380335</td>\n",
       "      <td>-0.271860</td>\n",
       "      <td>-0.091484</td>\n",
       "      <td>...</td>\n",
       "      <td>0.172651</td>\n",
       "      <td>0.484570</td>\n",
       "      <td>-0.176643</td>\n",
       "      <td>0.101298</td>\n",
       "      <td>-0.041055</td>\n",
       "      <td>-0.358616</td>\n",
       "      <td>-0.959188</td>\n",
       "      <td>0.294405</td>\n",
       "      <td>-1.346577</td>\n",
       "      <td>0.012772</td>\n",
       "    </tr>\n",
       "  </tbody>\n",
       "</table>\n",
       "<p>10 rows × 29 columns</p>\n",
       "</div>"
      ],
      "text/plain": [
       "                          feature_id                 INFO_ID   NA18534  \\\n",
       "1    6:87391835:87392725:clu_24429_+   chr6-87408456-DEL-133 -0.936184   \n",
       "4    8:70669538:70674818:clu_22301_+  chr8-70671321-DEL-1088 -0.005980   \n",
       "5         8:664676:668598:clu_8652_-    chr8-644401-DEL-5014  1.245457   \n",
       "6    8:70652752:70653695:clu_22301_+  chr8-70671321-DEL-1088  0.704935   \n",
       "7         8:640834:668598:clu_8652_-    chr8-644401-DEL-5014 -1.331250   \n",
       "10  20:35632923:35664760:clu_21372_-   chr20-35960724-DEL-60  1.746169   \n",
       "11  20:35655344:35658930:clu_21372_-   chr20-35960724-DEL-60 -2.666742   \n",
       "12  20:35632923:35658930:clu_21372_-   chr20-35960724-DEL-60  0.152098   \n",
       "13  20:35626381:35626735:clu_21369_-   chr20-35960724-DEL-60 -0.432567   \n",
       "14  20:35626381:35626567:clu_21369_-   chr20-35960724-DEL-60  0.548644   \n",
       "\n",
       "     NA18939   NA19036   NA19240   NA19650   NA19983   NA20509   NA20847  ...  \\\n",
       "1   0.012348  1.076310  2.158304 -0.932265  0.412867 -0.841126 -0.767154  ...   \n",
       "4  -0.950419 -0.399550 -0.929802  2.013419 -1.227758  2.069432 -1.077835  ...   \n",
       "5  -0.414052  1.217779 -0.759694  1.209294  1.131286 -0.186955  0.427311  ...   \n",
       "6   1.305387  0.883035  0.859624 -1.808690  0.580523 -2.483752  0.948607  ...   \n",
       "7   1.221957 -1.475604  0.898362 -1.557109 -1.498409  0.061330  0.288855  ...   \n",
       "10  0.529841  0.298889 -0.216541 -0.391229  0.191113  0.014453 -0.368097  ...   \n",
       "11 -0.113100 -0.047915  0.324691  0.682168  0.111165  0.232633  0.199351  ...   \n",
       "12  0.418184  0.353582  0.031710 -0.009831  1.008811  0.817291 -0.411666  ...   \n",
       "13  0.036543 -0.758824  0.380615  0.448366 -0.411455  0.123351  0.158921  ...   \n",
       "14  0.026216  0.522271 -0.070876 -0.411626  0.380335 -0.271860 -0.091484  ...   \n",
       "\n",
       "     HG02011   HG02018   HG02492   HG02587   HG03009   HG03065   HG03371  \\\n",
       "1  -0.708359  0.036234 -1.040756 -1.141381  0.385166 -0.996222 -1.159694   \n",
       "4  -0.780188 -1.215290 -0.646946  1.773509 -1.187269  0.009941  1.334757   \n",
       "5   0.134623  0.345217  1.370163  1.423127  0.506337  1.393303  0.331152   \n",
       "6  -0.185246  0.328117  0.560184 -1.196977  0.807123 -0.060676 -0.594006   \n",
       "7   0.414936  0.447919 -1.577237 -1.630796 -0.181406 -1.552799 -0.199111   \n",
       "10  1.366691 -0.306092 -0.028003 -0.167166 -0.169622 -0.432385 -0.916697   \n",
       "11 -0.019236  0.522568  0.629328  0.722698  0.518111  0.397488  0.963883   \n",
       "12  1.039998  0.128767  0.239788 -0.015342  0.578768 -0.050955 -2.056413   \n",
       "13  0.118498 -0.012096  0.846607  0.066323  0.321752  0.041438  0.769644   \n",
       "14  0.172651  0.484570 -0.176643  0.101298 -0.041055 -0.358616 -0.959188   \n",
       "\n",
       "     HG03683   HG03732  pvalue_0_1  \n",
       "1   0.681233 -0.554325    0.014847  \n",
       "4   0.612355 -0.937157    0.000244  \n",
       "5   0.336981  0.661554    0.012405  \n",
       "6   0.057426  0.818711    0.000140  \n",
       "7  -0.010256 -0.255825    0.040924  \n",
       "10 -0.475933 -0.963485    0.020419  \n",
       "11  0.527364  1.150455    0.031556  \n",
       "12 -0.244741 -1.089664    0.007701  \n",
       "13  0.496257  0.992429    0.007701  \n",
       "14  0.294405 -1.346577    0.012772  \n",
       "\n",
       "[10 rows x 29 columns]"
      ]
     },
     "execution_count": 185,
     "metadata": {},
     "output_type": "execute_result"
    }
   ],
   "source": [
    "splicing_DEL_boundary_sample_rename_new[splicing_DEL_boundary_sample_rename_new['pvalue_0_1'] < 0.05]"
   ]
  },
  {
   "cell_type": "code",
   "execution_count": 186,
   "id": "virgin-alias",
   "metadata": {},
   "outputs": [],
   "source": [
    "### test for genotypes 0 and 1\n",
    "pvalue= []\n",
    "for i in range(0, len(splicing_INS_boundary_sample_rename_new)):\n",
    "    INS_boundary_genotype_all = INS_boundary_genotype[INS_boundary_genotype.loc[:,'INFO_ID'] == splicing_INS_boundary_sample_rename_new.loc[i,'INFO_ID']].iloc[:,8:35]\n",
    "    genotypes_list = INS_boundary_genotype_all.iloc[0].values.tolist()\n",
    "    splicing_ratio_list = splicing_INS_boundary_sample_rename_new.iloc[i, 2:28].values.tolist()\n",
    "\n",
    "    df = pd.DataFrame({'genotypes' : genotypes_list,\n",
    "                   'splicing_ratio' : splicing_ratio_list})\n",
    "    \n",
    "    df_new = df.assign(splicing=df.groupby('genotypes').cumcount()).pivot('splicing','genotypes','splicing_ratio')\n",
    "    \n",
    "    try:\n",
    "        U, p = mannwhitneyu(x=df_new[0].dropna().tolist(), y=df_new[1].dropna().tolist(), method=\"exact\", alternative = 'two-sided')\n",
    "        #print (p)\n",
    "        \n",
    "    except KeyError:\n",
    "        p = 'NA'\n",
    "        #print (p)\n",
    "    \n",
    "    pvalue.append(p)\n",
    "    \n",
    "splicing_INS_boundary_sample_rename_new['pvalue_0_1'] = pvalue"
   ]
  },
  {
   "cell_type": "code",
   "execution_count": 187,
   "id": "arctic-change",
   "metadata": {},
   "outputs": [
    {
     "data": {
      "text/html": [
       "<div>\n",
       "<style scoped>\n",
       "    .dataframe tbody tr th:only-of-type {\n",
       "        vertical-align: middle;\n",
       "    }\n",
       "\n",
       "    .dataframe tbody tr th {\n",
       "        vertical-align: top;\n",
       "    }\n",
       "\n",
       "    .dataframe thead th {\n",
       "        text-align: right;\n",
       "    }\n",
       "</style>\n",
       "<table border=\"1\" class=\"dataframe\">\n",
       "  <thead>\n",
       "    <tr style=\"text-align: right;\">\n",
       "      <th></th>\n",
       "      <th>feature_id</th>\n",
       "      <th>INFO_ID</th>\n",
       "      <th>NA18534</th>\n",
       "      <th>NA18939</th>\n",
       "      <th>NA19036</th>\n",
       "      <th>NA19240</th>\n",
       "      <th>NA19650</th>\n",
       "      <th>NA19983</th>\n",
       "      <th>NA20509</th>\n",
       "      <th>NA20847</th>\n",
       "      <th>...</th>\n",
       "      <th>HG02011</th>\n",
       "      <th>HG02018</th>\n",
       "      <th>HG02492</th>\n",
       "      <th>HG02587</th>\n",
       "      <th>HG03009</th>\n",
       "      <th>HG03065</th>\n",
       "      <th>HG03371</th>\n",
       "      <th>HG03683</th>\n",
       "      <th>HG03732</th>\n",
       "      <th>pvalue_0_1</th>\n",
       "    </tr>\n",
       "  </thead>\n",
       "  <tbody>\n",
       "    <tr>\n",
       "      <th>2</th>\n",
       "      <td>1:45495166:45496556:clu_28892_-</td>\n",
       "      <td>chr1-45497763-INS-354</td>\n",
       "      <td>-0.097358</td>\n",
       "      <td>0.798389</td>\n",
       "      <td>0.295351</td>\n",
       "      <td>-0.274953</td>\n",
       "      <td>0.299073</td>\n",
       "      <td>0.053754</td>\n",
       "      <td>-0.131064</td>\n",
       "      <td>-0.416363</td>\n",
       "      <td>...</td>\n",
       "      <td>-0.276865</td>\n",
       "      <td>0.627438</td>\n",
       "      <td>-0.162830</td>\n",
       "      <td>-1.278557</td>\n",
       "      <td>-0.814071</td>\n",
       "      <td>0.670716</td>\n",
       "      <td>0.499751</td>\n",
       "      <td>-1.262515</td>\n",
       "      <td>0.616364</td>\n",
       "      <td>0.031556</td>\n",
       "    </tr>\n",
       "    <tr>\n",
       "      <th>4</th>\n",
       "      <td>1:45551155:45552436:clu_13870_+</td>\n",
       "      <td>chr1-45497763-INS-354</td>\n",
       "      <td>-1.746480</td>\n",
       "      <td>0.475494</td>\n",
       "      <td>-0.078211</td>\n",
       "      <td>-0.445241</td>\n",
       "      <td>-0.698239</td>\n",
       "      <td>-2.578916</td>\n",
       "      <td>0.338158</td>\n",
       "      <td>1.013390</td>\n",
       "      <td>...</td>\n",
       "      <td>0.299322</td>\n",
       "      <td>-0.391775</td>\n",
       "      <td>0.861487</td>\n",
       "      <td>0.718653</td>\n",
       "      <td>-0.177377</td>\n",
       "      <td>-0.359558</td>\n",
       "      <td>-0.607451</td>\n",
       "      <td>0.442949</td>\n",
       "      <td>-0.515916</td>\n",
       "      <td>0.000822</td>\n",
       "    </tr>\n",
       "    <tr>\n",
       "      <th>10</th>\n",
       "      <td>12:11121180:11171422:clu_25806_-</td>\n",
       "      <td>chr12-11098150-INS-32251</td>\n",
       "      <td>0.657314</td>\n",
       "      <td>1.166145</td>\n",
       "      <td>-0.626568</td>\n",
       "      <td>-0.257784</td>\n",
       "      <td>0.235310</td>\n",
       "      <td>0.604133</td>\n",
       "      <td>-1.745503</td>\n",
       "      <td>-0.246276</td>\n",
       "      <td>...</td>\n",
       "      <td>0.128154</td>\n",
       "      <td>0.020220</td>\n",
       "      <td>-0.308632</td>\n",
       "      <td>0.563973</td>\n",
       "      <td>1.268727</td>\n",
       "      <td>-0.284257</td>\n",
       "      <td>-0.566251</td>\n",
       "      <td>0.857297</td>\n",
       "      <td>1.300180</td>\n",
       "      <td>0.000130</td>\n",
       "    </tr>\n",
       "    <tr>\n",
       "      <th>13</th>\n",
       "      <td>12:10895329:10973655:clu_25805_-</td>\n",
       "      <td>chr12-11098150-INS-32251</td>\n",
       "      <td>-1.100388</td>\n",
       "      <td>0.981214</td>\n",
       "      <td>-1.552212</td>\n",
       "      <td>-1.182824</td>\n",
       "      <td>-1.558485</td>\n",
       "      <td>0.654225</td>\n",
       "      <td>-1.506281</td>\n",
       "      <td>0.645814</td>\n",
       "      <td>...</td>\n",
       "      <td>-1.222811</td>\n",
       "      <td>1.019522</td>\n",
       "      <td>-1.421757</td>\n",
       "      <td>-1.519987</td>\n",
       "      <td>0.796199</td>\n",
       "      <td>1.639152</td>\n",
       "      <td>-0.034894</td>\n",
       "      <td>-1.230914</td>\n",
       "      <td>0.878924</td>\n",
       "      <td>0.003681</td>\n",
       "    </tr>\n",
       "    <tr>\n",
       "      <th>16</th>\n",
       "      <td>19:37507047:37508265:clu_27679_+</td>\n",
       "      <td>chr19-37789443-INS-1092</td>\n",
       "      <td>-0.422717</td>\n",
       "      <td>0.996525</td>\n",
       "      <td>1.166925</td>\n",
       "      <td>1.740052</td>\n",
       "      <td>-1.491070</td>\n",
       "      <td>1.274219</td>\n",
       "      <td>-1.437013</td>\n",
       "      <td>-1.299856</td>\n",
       "      <td>...</td>\n",
       "      <td>1.308221</td>\n",
       "      <td>0.340187</td>\n",
       "      <td>-1.421464</td>\n",
       "      <td>-1.307926</td>\n",
       "      <td>-1.419196</td>\n",
       "      <td>-0.705460</td>\n",
       "      <td>2.317070</td>\n",
       "      <td>-1.440027</td>\n",
       "      <td>2.429939</td>\n",
       "      <td>0.012233</td>\n",
       "    </tr>\n",
       "    <tr>\n",
       "      <th>18</th>\n",
       "      <td>19:37506966:37508265:clu_27679_+</td>\n",
       "      <td>chr19-37789443-INS-1092</td>\n",
       "      <td>-0.979127</td>\n",
       "      <td>-0.070640</td>\n",
       "      <td>-0.223306</td>\n",
       "      <td>0.464992</td>\n",
       "      <td>-0.226925</td>\n",
       "      <td>-1.221188</td>\n",
       "      <td>0.261882</td>\n",
       "      <td>0.507532</td>\n",
       "      <td>...</td>\n",
       "      <td>-0.273729</td>\n",
       "      <td>-0.429555</td>\n",
       "      <td>0.628614</td>\n",
       "      <td>0.699270</td>\n",
       "      <td>0.069109</td>\n",
       "      <td>-1.075881</td>\n",
       "      <td>-1.017312</td>\n",
       "      <td>2.135377</td>\n",
       "      <td>-0.967641</td>\n",
       "      <td>0.035602</td>\n",
       "    </tr>\n",
       "  </tbody>\n",
       "</table>\n",
       "<p>6 rows × 29 columns</p>\n",
       "</div>"
      ],
      "text/plain": [
       "                          feature_id                   INFO_ID   NA18534  \\\n",
       "2    1:45495166:45496556:clu_28892_-     chr1-45497763-INS-354 -0.097358   \n",
       "4    1:45551155:45552436:clu_13870_+     chr1-45497763-INS-354 -1.746480   \n",
       "10  12:11121180:11171422:clu_25806_-  chr12-11098150-INS-32251  0.657314   \n",
       "13  12:10895329:10973655:clu_25805_-  chr12-11098150-INS-32251 -1.100388   \n",
       "16  19:37507047:37508265:clu_27679_+   chr19-37789443-INS-1092 -0.422717   \n",
       "18  19:37506966:37508265:clu_27679_+   chr19-37789443-INS-1092 -0.979127   \n",
       "\n",
       "     NA18939   NA19036   NA19240   NA19650   NA19983   NA20509   NA20847  ...  \\\n",
       "2   0.798389  0.295351 -0.274953  0.299073  0.053754 -0.131064 -0.416363  ...   \n",
       "4   0.475494 -0.078211 -0.445241 -0.698239 -2.578916  0.338158  1.013390  ...   \n",
       "10  1.166145 -0.626568 -0.257784  0.235310  0.604133 -1.745503 -0.246276  ...   \n",
       "13  0.981214 -1.552212 -1.182824 -1.558485  0.654225 -1.506281  0.645814  ...   \n",
       "16  0.996525  1.166925  1.740052 -1.491070  1.274219 -1.437013 -1.299856  ...   \n",
       "18 -0.070640 -0.223306  0.464992 -0.226925 -1.221188  0.261882  0.507532  ...   \n",
       "\n",
       "     HG02011   HG02018   HG02492   HG02587   HG03009   HG03065   HG03371  \\\n",
       "2  -0.276865  0.627438 -0.162830 -1.278557 -0.814071  0.670716  0.499751   \n",
       "4   0.299322 -0.391775  0.861487  0.718653 -0.177377 -0.359558 -0.607451   \n",
       "10  0.128154  0.020220 -0.308632  0.563973  1.268727 -0.284257 -0.566251   \n",
       "13 -1.222811  1.019522 -1.421757 -1.519987  0.796199  1.639152 -0.034894   \n",
       "16  1.308221  0.340187 -1.421464 -1.307926 -1.419196 -0.705460  2.317070   \n",
       "18 -0.273729 -0.429555  0.628614  0.699270  0.069109 -1.075881 -1.017312   \n",
       "\n",
       "     HG03683   HG03732  pvalue_0_1  \n",
       "2  -1.262515  0.616364    0.031556  \n",
       "4   0.442949 -0.515916    0.000822  \n",
       "10  0.857297  1.300180    0.000130  \n",
       "13 -1.230914  0.878924    0.003681  \n",
       "16 -1.440027  2.429939    0.012233  \n",
       "18  2.135377 -0.967641    0.035602  \n",
       "\n",
       "[6 rows x 29 columns]"
      ]
     },
     "execution_count": 187,
     "metadata": {},
     "output_type": "execute_result"
    }
   ],
   "source": [
    "splicing_INS_boundary_sample_rename_new[splicing_INS_boundary_sample_rename_new['pvalue_0_1'] < 0.05]"
   ]
  },
  {
   "cell_type": "markdown",
   "id": "fiscal-selection",
   "metadata": {},
   "source": [
    "#### Visualization of chr8-644401-DEL-5014 and chr1-45497763-INS-354"
   ]
  },
  {
   "cell_type": "code",
   "execution_count": 188,
   "id": "mediterranean-mayor",
   "metadata": {},
   "outputs": [],
   "source": [
    "gene_splicing_list = splicing_DEL_boundary_sample_rename_new.iloc[5, 2:28].values.tolist()\n",
    "DEL_boundary_genotype_all = DEL_boundary_genotype[DEL_boundary_genotype.loc[:,'INFO_ID'] == splicing_DEL_boundary_sample_rename_new.loc[5,'INFO_ID']].iloc[:,8:35]\n",
    "genotypes_list = DEL_boundary_genotype_all.iloc[0].values.tolist()\n",
    "df_Del = pd.DataFrame({'genotypes' : genotypes_list,\n",
    "                   'gene_splicing' : gene_splicing_list})\n",
    "df_Del_new = df_Del.assign(splicing=df_Del.groupby('genotypes').cumcount()).pivot('splicing','genotypes','gene_splicing')"
   ]
  },
  {
   "cell_type": "code",
   "execution_count": 190,
   "id": "infinite-liechtenstein",
   "metadata": {},
   "outputs": [
    {
     "data": {
      "image/png": "[encoded data removed]",
      "text/plain": [
       "<Figure size 288x288 with 1 Axes>"
      ]
     },
     "metadata": {},
     "output_type": "display_data"
    }
   ],
   "source": [
    "# Set Seaborn's default style and color palette\n",
    "sns.set_style(\"whitegrid\")\n",
    "sns.set_palette(\"pastel\")\n",
    "\n",
    "# Create the boxplot using Seaborn\n",
    "plt.figure(figsize=(4, 4))  # Adjust the figure size\n",
    "ax = sns.boxplot(data=df_Del_new[[0, 1]], palette=\"pastel\", medianprops=dict(color='red'), width=0.5)\n",
    "\n",
    "# Set labels, titles, and other properties\n",
    "ax.set_ylabel('Gene splicing levels', fontsize=13, labelpad=20)\n",
    "ax.set_xlabel('Genotypes', fontsize=13)\n",
    "ax.set_title('8:664676:668598:clu_8652_- (ERICH1)', pad=20, fontsize=14, fontweight='bold', style='italic')\n",
    "\n",
    "# Display the plot\n",
    "plt.tight_layout()\n",
    "\n",
    "# statistical annotation\n",
    "x1, x2 = 0, 1   # columns 'Sat' and 'Sun' (first column: 0, see plt.xticks())\n",
    "y, h, col = df_Del_new[1].max() + 0.2, 0.1, 'k'\n",
    "\n",
    "plt.plot([x1, x1, x2, x2], [y, y+h, y+h, y], lw=1.1, c=col)\n",
    "plt.text((x1+x2)*.5, y+h, \"p-value = 0.0124\", ha='center', va='bottom', color=col)\n",
    "\n",
    "plt.show()"
   ]
  },
  {
   "cell_type": "code",
   "execution_count": 201,
   "id": "indirect-tower",
   "metadata": {},
   "outputs": [],
   "source": [
    "gene_splicing_list = splicing_INS_boundary_sample_rename_new.iloc[2, 2:28].values.tolist()\n",
    "INS_boundary_genotype_all = INS_boundary_genotype[INS_boundary_genotype.loc[:,'INFO_ID'] == splicing_INS_boundary_sample_rename_new.loc[2,'INFO_ID']].iloc[:,8:35]\n",
    "genotypes_list = INS_boundary_genotype_all.iloc[0].values.tolist()\n",
    "df_Ins = pd.DataFrame({'genotypes' : genotypes_list,\n",
    "                   'gene_splicing' : gene_splicing_list})\n",
    "df_Ins_new = df_Ins.assign(splicing=df_Ins.groupby('genotypes').cumcount()).pivot('splicing','genotypes','gene_splicing')"
   ]
  },
  {
   "cell_type": "code",
   "execution_count": 202,
   "id": "invalid-hydrogen",
   "metadata": {},
   "outputs": [
    {
     "data": {
      "image/png": "[encoded data removed]",
      "text/plain": [
       "<Figure size 288x288 with 1 Axes>"
      ]
     },
     "metadata": {},
     "output_type": "display_data"
    }
   ],
   "source": [
    "# Set Seaborn's default style and color palette\n",
    "sns.set_style(\"whitegrid\")\n",
    "sns.set_palette(\"pastel\")\n",
    "\n",
    "# Create the boxplot using Seaborn\n",
    "plt.figure(figsize=(4, 4))  # Adjust the figure size\n",
    "ax = sns.boxplot(data=df_Ins_new[[0, 1]], palette=\"pastel\", medianprops=dict(color='red'), width=0.5)\n",
    "\n",
    "# Set labels, titles, and other properties\n",
    "ax.set_ylabel('Gene splicing levels', fontsize=13, labelpad=20)\n",
    "ax.set_xlabel('Genotypes', fontsize=13)\n",
    "ax.set_title('1:45495166:45496556:clu_28892_- (CCDC163)', pad=20, fontsize=14, fontweight='bold', style='italic')\n",
    "\n",
    "# Display the plot\n",
    "plt.tight_layout()\n",
    "\n",
    "# statistical annotation\n",
    "x1, x2 = 0, 1   # columns 'Sat' and 'Sun' (first column: 0, see plt.xticks())\n",
    "y, h, col = df_Ins_new[1].max() + 0.2, 0.1, 'k'\n",
    "\n",
    "plt.plot([x1, x1, x2, x2], [y, y+h, y+h, y], lw=1.1, c=col)\n",
    "plt.text((x1+x2)*.5, y+h, \"p-value = 0.0316\", ha='center', va='bottom', color=col)\n",
    "\n",
    "plt.show()"
   ]
  }
 ],
 "metadata": {
  "kernelspec": {
   "display_name": "Python 3 (ipykernel)",
   "language": "python",
   "name": "python3"
  },
  "language_info": {
   "codemirror_mode": {
    "name": "ipython",
    "version": 3
   },
   "file_extension": ".py",
   "mimetype": "text/x-python",
   "name": "python",
   "nbconvert_exporter": "python",
   "pygments_lexer": "ipython3",
   "version": "3.7.3"
  }
 },
 "nbformat": 4,
 "nbformat_minor": 5
}
